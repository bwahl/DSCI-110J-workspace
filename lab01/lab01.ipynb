{
 "cells": [
  {
   "cell_type": "markdown",
   "id": "78c02a16-36d0-4237-bb32-45948095bb23",
   "metadata": {},
   "source": [
    "# Lab 1: Expressions\n",
    "\n",
    "Welcome to DSCI 110: *Introduction to Data Science*!  You can't learn technical subjects without hands-on practice, so labs are an important part of the course.\n",
    "\n",
    "Collaborating on labs is more than okay -- it's encouraged! You should rarely remain stuck for more than a few minutes on questions in labs, so ask your instructor or a classmate for help. Explaining things is beneficial, too -- the best way to solidify your knowledge of a subject is to explain it. Please don't just share answers, though.\n",
    "\n",
    "\n",
    "#### Today's lab\n",
    "\n",
    "In today's lab, you'll learn how to:\n",
    "\n",
    "1. navigate Jupyter notebooks (like this one);\n",
    "2. write and evaluate some basic *expressions* in Python, the computer language of the course;\n",
    "3. call *functions* to use code other people have written; and\n",
    "4. break down Python code into smaller parts to understand it.\n",
    "\n",
    "This lab covers parts of [Chapter 3](http://www.inferentialthinking.com/chapters/03/programming-in-python.html) of the online textbook. You should read the examples in the book, but not right now. Instead, let's get started!"
   ]
  },
  {
   "cell_type": "markdown",
   "id": "28007447",
   "metadata": {},
   "source": [
    "# 1. Jupyter Notebooks\n",
    "This webpage is called a Jupyter Notebook. A notebook is a place to write programs and view their results, and also to write text.\n",
    "\n",
    "## 1.1. Text cells\n",
    "In a notebook, each rectangle containing text or code is called a *cell*.\n",
    "\n",
    "Text cells (like this one) can be edited by double-clicking on them. They're written in a simple format called [Markdown](http://daringfireball.net/projects/markdown/syntax) to add formatting and section headings.  You don't need to learn Markdown, but you might want to.\n",
    "\n",
    "After you edit a text cell, click the \"run cell\" button at the top that looks like ▶| or hold down `shift` + `return` to confirm any changes. (Try not to delete the instructions of the lab.)"
   ]
  },
  {
   "cell_type": "markdown",
   "id": "d9e447d6",
   "metadata": {},
   "source": [
    "**Question 1.1.1.** This paragraph is in its own text cell.  Try editing it so that this sentence is the last sentence in the paragraph, and then click the \"run cell\" ▶| button or hold down `shift` + `return`.  This sentence, for example, should be deleted. And so should this one!"
   ]
  },
  {
   "cell_type": "markdown",
   "id": "6358550b",
   "metadata": {},
   "source": [
    "## 1.2. Code cells\n",
    "Other cells contain code in the Python 3 language. Running a code cell will execute all of the code it contains.\n",
    "\n",
    "To run the code in a code cell, first click on that cell to activate it.  It'll be highlighted with a little green or blue rectangle.  Next, either press ▶| or hold down `shift` + `return`.\n",
    "\n",
    "Try running the following code cell:"
   ]
  },
  {
   "cell_type": "code",
   "execution_count": 1,
   "id": "d1c3be10",
   "metadata": {},
   "outputs": [
    {
     "name": "stdout",
     "output_type": "stream",
     "text": [
      "Hello, World!\n"
     ]
    }
   ],
   "source": [
    "print(\"Hello, World!\")"
   ]
  },
  {
   "cell_type": "markdown",
   "id": "b779901e",
   "metadata": {},
   "source": [
    "And this one, which uses the syntax `\"\\N{official unicode name here}\"`:"
   ]
  },
  {
   "cell_type": "code",
   "execution_count": 2,
   "id": "8bc8afaa",
   "metadata": {},
   "outputs": [
    {
     "name": "stdout",
     "output_type": "stream",
     "text": [
      "👋, 🌏!\n"
     ]
    }
   ],
   "source": [
    "print(\"\\N{WAVING HAND SIGN}, \\N{EARTH GLOBE ASIA-AUSTRALIA}!\")"
   ]
  },
  {
   "cell_type": "markdown",
   "id": "cc919727",
   "metadata": {},
   "source": [
    "The fundamental building block of Python code is an expression. Cells can contain multiple lines with multiple expressions. When you run a cell, the lines of code are executed in the order in which they appear. Every `print` expression prints a line. Run the next cell and notice the order of the output."
   ]
  },
  {
   "cell_type": "code",
   "execution_count": null,
   "id": "eaea409c",
   "metadata": {},
   "outputs": [],
   "source": [
    "print(\"First this line is printed,\")\n",
    "print(\"and then this one.\")"
   ]
  },
  {
   "cell_type": "markdown",
   "id": "07022d9a",
   "metadata": {},
   "source": [
    "**Question 1.2.1.** Change the cell above so that it prints out:\n",
    "\n",
    "    First this line,\n",
    "    then the whole 🌏,\n",
    "    and then this one.\n",
    "\n",
    "*Hint:* If you're stuck on the Earth symbol for more than a few minutes, try talking to a neighbor or a staff member. That's a good idea for any lab problem."
   ]
  },
  {
   "cell_type": "markdown",
   "id": "3b2b0b41",
   "metadata": {},
   "source": [
    "## 1.3. Writing Jupyter notebooks\n",
    "You can use Jupyter notebooks for your own projects or documents.  When you make your own notebook, you'll need to create your own cells for text and code.\n",
    "\n",
    "To add a cell, click the + button in the menu bar.  It will start out as a code cell.  You can change it to a Markdown cell (for displaying text) by clicking inside it so it's highlighted, clicking the drop-down box next to the restart button in the menu bar, and choosing \"Markdown\". \n",
    "\n",
    "**Question 1.3.1.** Add a code cell below this one. For practice, use the drop-down to change the new cell's mode from Code to Markdown, then back to Code. Write code in the new cell that prints out:\n",
    "   \n",
    "    A whole new cell! ♪🌏♪\n",
    "\n",
    "(That musical note symbol is like the Earth symbol.  Its long-form name is `\\N{EIGHTH NOTE}`.)\n",
    "\n",
    "Run your cell to verify that it works.\n",
    "\n",
    "### Saving Your Work\n",
    "Every few minutes, pause to save your work. Select **Save Notebook** from the `File` menu below the Jupyter logo, or use the keyboard shortcut `ctrl` + `S`."
   ]
  },
  {
   "cell_type": "markdown",
   "id": "f3adca7a",
   "metadata": {},
   "source": [
    "## 1.4. Errors\n",
    "Python is a language, and like natural human languages, it has rules.  It differs from natural language in two important ways:\n",
    "1. The rules are *simple*.  You can learn most of them in a few weeks and gain reasonable proficiency with the language in a semester.\n",
    "2. The rules are *rigid*.  If you're proficient in a natural language, you can understand a non-proficient speaker, glossing over small mistakes.  A computer running Python code is not smart enough to do that.\n",
    "\n",
    "Whenever you write code, you'll make mistakes.  When you run a code cell that has errors, Python will sometimes produce error messages to tell you what you did wrong.\n",
    "\n",
    "Errors are okay; even experienced programmers make many errors.  When you make an error, you just have to find the source of the problem, fix it, and move on."
   ]
  },
  {
   "cell_type": "markdown",
   "id": "7ddba0b8",
   "metadata": {},
   "source": [
    "We have made an error in the next cell.  Run it and see what happens."
   ]
  },
  {
   "cell_type": "code",
   "execution_count": null,
   "id": "d859a934",
   "metadata": {
    "tags": [
     "raises-exception"
    ]
   },
   "outputs": [],
   "source": [
    "print(\"This line is missing something.\""
   ]
  },
  {
   "cell_type": "markdown",
   "id": "00c8e01d",
   "metadata": {},
   "source": [
    "**Note:** In the toolbar, there is the option to click `Run > Run All Cells`, which will run all the code cells in this notebook in order from top to bottom. However, the notebook stops running code cells if it hits an error, like the one in the cell above."
   ]
  },
  {
   "cell_type": "markdown",
   "id": "9b801512",
   "metadata": {},
   "source": [
    "The last line of the error message attempts to tell you what went wrong.  The *syntax* of a language is its structure, and a `SyntaxError` means you have created an illegal syntactical structure. In this case, the line of code is missing a closing parenthesis.\n",
    "\n",
    "To do: Fix the error in the code cell so that it displays the intended message without creating an error."
   ]
  },
  {
   "cell_type": "markdown",
   "id": "cbe86642",
   "metadata": {},
   "source": [
    "## 1.5. The Kernel\n",
    "The *kernel* is a program that executes the code inside your notebook and outputs the results. In the top right of your window, you can see a circle that indicates the status of your kernel. If the circle is empty (⚪), the kernel is idle and ready to execute code. If the circle is filled in (⚫), the kernel is busy running some code. \n",
    "\n",
    "Next to every code cell, you'll see some text that says `[ ]`. Before you run the cell, you'll see `[ ]`. When the cell is running, you'll see `[*]`. If you see an asterisk (\\*) next to a cell that doesn't go away, it's likely that the code inside the cell is taking too long to run, and it might be a good time to interrupt the kernel (discussed below). When a cell is finished running, you'll see a number inside the brackets, like so: `[1]`. The number corresponds to the order in which you run the cells; so, the first cell you run will show a 1 when it's finished running, the second will show a 2, and so on. \n",
    "\n",
    "You may run into problems where your kernel is stuck for an excessive amount of time, your notebook is very slow and unresponsive, or your kernel loses its connection. If this happens, try the following steps:\n",
    "1. At the top of your screen, click **Kernel**, then **Interrupt**.\n",
    "2. If that doesn't help, click **Kernel**, then **Restart**. If you do this, you will have to run your code cells from the start of your notebook up until where you paused your work."
   ]
  },
  {
   "cell_type": "markdown",
   "id": "c6be255a",
   "metadata": {},
   "source": [
    "# 2. Numbers\n",
    "\n",
    "Quantitative information arises everywhere in data science. In addition to representing commands to print out lines, expressions can represent numbers and methods of combining numbers. The expression `3.2500` evaluates to the number 3.25. (Run the cell and see.)"
   ]
  },
  {
   "cell_type": "code",
   "execution_count": null,
   "id": "d30d2325",
   "metadata": {},
   "outputs": [],
   "source": [
    "3.2500"
   ]
  },
  {
   "cell_type": "markdown",
   "id": "d023d89a",
   "metadata": {},
   "source": [
    "Notice that we didn't have to call the `print` function. When you run a code cell, if the last line has a value then Jupyter helpfully prints out that value for you. However, it won't print out prior lines automatically."
   ]
  },
  {
   "cell_type": "code",
   "execution_count": null,
   "id": "7c3aac6f",
   "metadata": {
    "tags": []
   },
   "outputs": [],
   "source": [
    "print(2)\n",
    "3\n",
    "4"
   ]
  },
  {
   "cell_type": "markdown",
   "id": "6256de70",
   "metadata": {},
   "source": [
    "Above, you should see that 4 is the value of the last expression, 2 is printed, but 3 is lost forever because it was neither printed nor last.\n",
    "\n",
    "You don't want to print everything all the time anyway.  But if you feel sorry for 3, change the cell above to print it."
   ]
  },
  {
   "cell_type": "markdown",
   "id": "33770b9d",
   "metadata": {},
   "source": [
    "## 2.1. Arithmetic\n",
    "The line in the next cell subtracts.  Its value is what you'd expect.  Run it."
   ]
  },
  {
   "cell_type": "code",
   "execution_count": null,
   "id": "e08b1aaf",
   "metadata": {},
   "outputs": [],
   "source": [
    "3.25 - 1.5"
   ]
  },
  {
   "cell_type": "markdown",
   "id": "88f5a221",
   "metadata": {},
   "source": [
    "Many basic arithmetic operations are built into Python.  The textbook section on [Expressions](http://www.inferentialthinking.com/chapters/03/1/Expressions.html) describes all the arithmetic operators used in this course.  A common operator that *differs* from typical math notation is the double-asterisk, `**`, which is used for exponentiation. So, `2**3` (\"two to the third\") stands for $2^3$ and evaluates to 8. \n",
    "\n",
    "The order of operations in Python is the same as what you learned in elementary school: PEMDAS.  For example, compare the outputs of the cells below. The second cell uses parentheses for a happy new year!"
   ]
  },
  {
   "cell_type": "code",
   "execution_count": null,
   "id": "bf580a86",
   "metadata": {},
   "outputs": [],
   "source": [
    "9+6*5-6*3**2*2**3/4*7"
   ]
  },
  {
   "cell_type": "code",
   "execution_count": null,
   "id": "dfc34085",
   "metadata": {},
   "outputs": [],
   "source": [
    "9+(6*5-(6*3))**2*((2**3)/4*7)"
   ]
  },
  {
   "cell_type": "markdown",
   "id": "758af0bd",
   "metadata": {},
   "source": [
    "In standard math notation, the first expression is\n",
    "\n",
    "$$9 + 6 \\times 5 - 6 \\times 3^2 \\times \\frac{2^3}{4} \\times 7,$$\n",
    "\n",
    "while the second expression is\n",
    "\n",
    "$$9 + (6 \\times 5 - (6 \\times 3))^2 \\times \\left(\\frac{\\left(2^3\\right)}{4} \\times 7\\right).$$\n",
    "\n",
    "**Question 2.1.1.** Write a Python expression in this next cell that's equal to $\\displaystyle 5 \\times \\left(3 \\frac{10}{11}\\right) - 50 \\frac{1}{3} + 2^{0.5 \\times 22} - \\frac{7}{33} + 8$.  That's five times three and ten elevenths, minus fifty and a third, plus two to the power of half twenty-two, minus seven thirty-thirds plus eight.  By \"$\\displaystyle 3 \\frac{10}{11}$\" we mean $\\displaystyle 3+\\frac{10}{11},$ not $\\displaystyle 3 \\times \\frac{10}{11}$.\n",
    "\n",
    "Replace the ellipsis (`...`) with your expression.  Try to use parentheses only when necessary.\n",
    "\n",
    "*Hint:* The correct output should be a familiar number."
   ]
  },
  {
   "cell_type": "code",
   "execution_count": null,
   "id": "0f232d0e",
   "metadata": {},
   "outputs": [],
   "source": [
    "..."
   ]
  },
  {
   "cell_type": "markdown",
   "id": "cbcfb5ff",
   "metadata": {},
   "source": [
    "# 3. Names\n",
    "In natural language, we have terminology that lets us quickly reference very complicated concepts.  We don't say, \"That's a large mammal with brown fur and sharp teeth!\"  Instead, we just say, \"Bear!\"\n",
    "\n",
    "In Python, we do this with *assignment statements*. An assignment statement has a name on the left side of an equals sign (`=`) and an expression to be evaluated on the right. The line of code below assigns a value to the name `ten`:"
   ]
  },
  {
   "cell_type": "code",
   "execution_count": null,
   "id": "95a10c1e",
   "metadata": {},
   "outputs": [],
   "source": [
    "ten = 3 * 2 + 4"
   ]
  },
  {
   "cell_type": "markdown",
   "id": "590e4a2d",
   "metadata": {},
   "source": [
    "When you run that cell, Python first computes the value of the expression on the right-hand side, `3 * 2 + 4`, which is the number 10.  Then it assigns that value to the name `ten`.  At that point, the code in the cell is done running.\n",
    "\n",
    "After you run that cell, the value 10 is **bound** to the name `ten`:"
   ]
  },
  {
   "cell_type": "code",
   "execution_count": null,
   "id": "0193f53b",
   "metadata": {},
   "outputs": [],
   "source": [
    "ten"
   ]
  },
  {
   "cell_type": "markdown",
   "id": "b4f1fa2c",
   "metadata": {},
   "source": [
    "The statement `ten = 3 * 2 + 4` is not asserting that `ten` is already equal to `3 * 2 + 4`, as we might expect by analogy with math notation.  Rather, that line of code assigns a meaning (a value) to the name `ten`; it now refers to the value 10, whereas before it meant nothing at all (in Python).\n",
    "\n",
    "If the designers of Python had been ruthlessly pedantic, they might have made us write\n",
    "\n",
    "    Define the name ten to hereafter have the value of 3 * 2 + 4, until I tell you to change it!\n",
    "\n",
    "instead.  You will probably appreciate the brevity of the assignment operator, \"`=`\".  But keep in mind that the wordier sentence above is the real meaning of assignment.\n",
    "\n",
    "**Question 3.1.** Run the following cell which uses a variable name `eleven` that hasn't been assigned to anything. You'll see an error!"
   ]
  },
  {
   "cell_type": "code",
   "execution_count": null,
   "id": "29763724",
   "metadata": {
    "tags": [
     "raises-exception"
    ]
   },
   "outputs": [],
   "source": [
    "eleven + 8"
   ]
  },
  {
   "cell_type": "markdown",
   "id": "9a3f890a",
   "metadata": {},
   "source": [
    "A common pattern in Jupyter notebooks is to assign a value to a name and then immediately evaluate the name in the last line in the cell so that the value is displayed as output. "
   ]
  },
  {
   "cell_type": "code",
   "execution_count": null,
   "id": "068ddcfa",
   "metadata": {},
   "outputs": [],
   "source": [
    "close_to_pi = 355/113\n",
    "close_to_pi"
   ]
  },
  {
   "cell_type": "markdown",
   "id": "d657e369",
   "metadata": {},
   "source": [
    "Another common pattern is that a series of lines in a single cell will build up a complex computation in stages, naming the intermediate results."
   ]
  },
  {
   "cell_type": "code",
   "execution_count": null,
   "id": "71a933f7",
   "metadata": {},
   "outputs": [],
   "source": [
    "semimonthly_salary = 842.5\n",
    "monthly_salary = 2 * semimonthly_salary\n",
    "number_of_months_in_a_year = 12\n",
    "yearly_salary = number_of_months_in_a_year * monthly_salary\n",
    "yearly_salary"
   ]
  },
  {
   "cell_type": "markdown",
   "id": "9054a0c5",
   "metadata": {},
   "source": [
    "Names in Python can have letters (upper- and lower-case letters are both okay and count as different letters), underscores, and numbers (i.e., digits).  The first character can't be a digit (otherwise a name might be confused with a number).  And names can't contain spaces, since spaces are used to separate pieces of code from each other.\n",
    "\n",
    "Other than those rules, what you name something doesn't matter *to Python*.  For example, the following cell does the same thing as the above cell, except everything has a different name:"
   ]
  },
  {
   "cell_type": "code",
   "execution_count": null,
   "id": "e30c65f2",
   "metadata": {},
   "outputs": [],
   "source": [
    "a = 842.5\n",
    "b = 2 * a\n",
    "c = 12\n",
    "d = c * b\n",
    "d"
   ]
  },
  {
   "cell_type": "markdown",
   "id": "a74a3d1f",
   "metadata": {},
   "source": [
    "**However**, names are very important for making your code *readable* to yourself and others.  The cell above is shorter, but it's totally useless without an explanation of what it does. When we write code, it needs to communicate clearly to **humans**, expressing our solution to some problem. And, of course, it needs to communicate clearly with the computer as well."
   ]
  },
  {
   "cell_type": "markdown",
   "id": "26913c15",
   "metadata": {},
   "source": [
    "**Question 3.2.** <br /> Assign the name `seconds_in_a_decade` to the number of seconds between midnight January 1, 2010 and midnight January 1, 2020. Use Python to perform any required arithmetic. **Use a single line of code.**\n",
    "\n",
    "*Hints:*\n",
    "  - The decade in question has two leap years; a leap year has 366 days but a non-leap year has only 365 days.\n",
    "  - Find the total number of days, then multiply by 24 to get the total number of hours.\n",
    "  - Multiply the total number of hours by 60 to get the total number of minutes.\n",
    "  - Multiply the total number of minutes by 60 to get the total number of seconds.\n",
    "  - The result should be `315532800`.\n"
   ]
  },
  {
   "cell_type": "code",
   "execution_count": null,
   "id": "b1256779",
   "metadata": {},
   "outputs": [],
   "source": [
    "# Change the next line \n",
    "# so that it computes the number of seconds in a decade \n",
    "# and assigns that number the name, seconds_in_a_decade.\n",
    "seconds_in_a_decade = ...\n",
    "\n",
    "# We've put this line in this cell \n",
    "# so that it will print the value you've given to seconds_in_a_decade when you run it.  \n",
    "# You don't need to change this.\n",
    "seconds_in_a_decade"
   ]
  },
  {
   "cell_type": "markdown",
   "id": "37d4cf53",
   "metadata": {},
   "source": [
    "# 3.2. Comments\n",
    "You may have noticed these lines in the cell in which you answered Question 3.2:\n",
    "\n",
    "    # Change the next line \n",
    "    # so that it computes the number of seconds in a decade \n",
    "    # and assigns that number the name, seconds_in_a_decade.\n",
    "    \n",
    "This is called a *comment*. It doesn't make anything happen in Python; Python ignores anything on a line after a `#`.  Instead, it's there to communicate something about the code to you, the human reader. Comments can be extremely useful, but are not a substitute for clearly-written code. \n",
    "\n",
    "<img src=\"http://imgs.xkcd.com/comics/future_self.png\">\n",
    "Source: http://imgs.xkcd.com/comics/future_self.png"
   ]
  },
  {
   "cell_type": "markdown",
   "id": "d4c62ccf",
   "metadata": {},
   "source": [
    "## 3.3. Application: A Physics Experiment\n",
    "\n",
    "On the Apollo 15 mission to the Moon, astronaut David Scott famously replicated Galileo's physics experiment in which he showed that gravity accelerates objects of different masses at the same rate. \n",
    "\n",
    "<img src=\"data:image/jpeg;base64,/9j/4AAQSkZJRgABAQAAAQABAAD/2wCEAAoHCBYWFRgWFhYYGBgYHBwcHBoaGhocGhohGhoaGhwaHBwcIS4lHB4rIRoaJjgmKy8xNTU1GiQ7QDs0Py40NTEBDAwMEA8QHxISHjQhJCs0NjQ2NDQ0NDQ0NjQ0NDQ0NDQ0NDQ0NDQ0NDQ0NDQ0NDQ0NDQ0NDQ0NDQ0NDQ0NDQ0NP/AABEIAPsAyQMBIgACEQEDEQH/xAAcAAABBQEBAQAAAAAAAAAAAAAFAQIDBAYHAAj/xAA9EAACAQIEAwUGBAQGAgMAAAABAhEAAwQSITEFQVEGImFxkRMygaGxwUJS0fBygrLhBxQjYpLCovEkc4P/xAAZAQADAQEBAAAAAAAAAAAAAAAAAQIDBAX/xAApEQACAgEEAQQCAQUAAAAAAAAAAQIRAxIhMUFRBBMiMmFxgQUzkaHw/9oADAMBAAIRAxEAPwDnuK4zcvKyu0qlpQAY3BtqWmJBJn5UHOIbMrTJQDLPIKZA8qN2uDOhUu1tUuhCjOwVGUtbcsZ2AEA+JjWrvEuzCjGJYTMUcMxfSFDFsoHUL3ZkyZ8qtUmyekDeJ2jcRsSznMcgKhSZZ1DTOyrq3yHOqeAOhHQ1Y4/aexcNgsdERWA91ioGoB3Gg130qvw8zmHiD46/bT50l9BvkvhB41HiHmp8mlRX0qBlRlp7wVE7ikZaaaAFOtJptTetIiE60BZLl5UpWn2xUpTwoGVAtLFTPbpuQ0yUiIikqaOtI6Aa0DoiFOZaciyakKxTQMjNrSKS1bqYnWnWrdAiNbfhTygPLYVKopLi6HypWFEStHKnMw2pqGldDuKYEbTFNg1MTIpvsz1ooVk3FON3MQgVzIRFB0US2c96QNJWBG3doacc/tlvEy4cXNdswbNt8APIUW4LwBrly0Hj2V2DmzKu6sIWTLOG/CAdulWD2RdsRcw6Ek27YbOwyozEgwN4WCwG5lD5DTZN/sW+wA4reZmTMxbuIdSTuoJ9TS8Mbv8Amv3FW8Vw4vfW0rbKBmYRog1OXeYHu1rMZwxLWHyooEQSfxMZGrHnuahfUp8gGo7wG1SxULrUDIIqvcaTVlxVdLZJ8KAEy6UqHXwpXSpLVuaYiSxbzeVWUFMtAipWQtoB4aenzMD41LLSGss7ax0qxgMAHYgkqY58/Dzo7g+Au6hQMp0zHaTzPjV5+yhA1vMJ3CiB+p86zc0bRwt9GO4phUtnVt+o+4oc3hrWt4pwFMuSXPiTJHrtQF7KW1CFTMSHneCQQR5j6VcZJkTxuJSCka1MVmp1taVKlmfIVVmbRRy+FTqkGrH+X5npTVWaLFQwp051DeqZk1HhXr+80IGVGOk032sxXn2iKS1anlQ7FsOtxUmbxpFtEUsHoKaELf41cZbUkZrDhgcqgSO8migAAZSI8ao4Lidy07lWbMyMk5jK5yCzDod/iZorwHg5xF97Ldw5W1JAKMqsF7pMtruBymlvdl29reVSVWxlzO4yhlylmuKBOmgIAnRhWzq6/JKur/BUONK4izdYljlQsSSScygNJ5mCa3fEADZJ3BggjpIj5VznHb2+mRPv+lbHgWK9phmQnvII/l95fuvwrG6dfg6dGqDkumDjaqveXWiEff61Xvp0pGQOdNaeiU9k1NOsrOtArImwpiamw2HjXwq0GJEVJkgaUAU2tGTVjgrgX0V9n0H8QKsPmB6UmQzV3DcPLsjg6o6NEHUAgNrEfiB8YqZPbc0gm5bHQcEOQipr40O1BH4GWbNmCw092czDqSTEzJ2qTit3uKoMScpPOP1rn4O9Sb6B3FLiQYZSddiJrAdprwGQDf8A9Qa6Fd4Qg1Q90gaMASNNSH94H5eFYjj3Cs2IVC0DXXnG/ruK0hSZjlUpLghtOYWegnzir1s9350zHKpbugLO41gH4kmmltIrRO1ZzSi4umeV/SoyYqTLFNYaVRIzNUTTSka140AxiJJq0qRUKLr8Kso2nWkxURslR5KsspB2p2UUxMtdrz7K+t1O67ZlLDxRlnzhiJ8B0rN4Hi96zmW27LmyiZ2C5jlAOkEtr5eNaTtz71sxpLa+JGn0PoazdnhbPbe/IVULBp8lyhRzLMxHhFbxrTv5IkvlS8EXE3n2Z01VdgANS2wGgHhRHg+M9m6t+E91vJo38jB+FDeIe6n8C/1tUloStc+Xan+z0fRrUpRZqhbiZ339dfoap3Wj4mpOFXM9sHnsfMACvX7QmhHFNU2iqw60qjTSvEUoWrIJbY2qwwmorQqwu1QykRgfGinCLvfyHTPoD0blQ9QakC0mrVGkJaXaN7h75giN+fmKHcSwtx0WAmjZpJIOh0+O1P4file2FbfLlOsHaOVSJhVVMmQGNAxAbTTctqTpua50umd6lqVoprcLWYPeZBqfp5msnjrJ9orMfw9084YafKtHkFpHn3n9BrpA2HPagPE7odzGyKAP5Sq0R5FOVL9Ai+upNeU6VZYTSXLcCuhKjibt2yvcc/GvJqKla360oSB41RJQdDJNeUVbdBUTpQJsZkqe2YqJB409daKJsnD03KahJpv+YanQrNrh7FvEh1bvI6Ag8wQdCOjA1gMXevYV7mGDDKGJbQEOrKIBUiIjWOp8K13YE6uPH7Csz2usE466euU+QChf+tVjnaTfB0ZsLWRwjuytYwQutaVmCqUEsfB37o8TEfGorHu1YuiEtgck/wC7167ZKhDycZh6kEeenzFc8smo9P0/p1h5e7X+y/2bcZHU8iD6iP8ArRDEwRQns+e+69V+hNGWt9auL2PM9THTkaB7LrUoSldNakVYFVZgOyQKcEpymvRQA8DkKlSImoBUOJ4klvQ6t+Ub+Z6CgcU26QYwTHNoYkaee9EbnHHQZWtOdPeUSDWXwWJusyOYRZEgqSSJ0AYEySPAfetlavHLl0gc+UHWsckXFptcnXhaaaTuvBlMbjmuNsQOlRWbDOWRAMzKyrO2bdRPmBR7G8UwlsHO6M/Qd4/Las7f7TBSr2rWusFtB025/Cs1b4Rv7bZmsZdxCEBmKkkgAdQYIkCJBBETOlR4fG3AwBYsxIAWSdSY1j6b1p8BwDiGOukkMiXGBuNAtqBABbLE6qOnegTNbfB9g8JhgpCvduLP+oWKxO8Kv36100mcjk4PmzDvbIJHMEg/DTemPqKM9osIlq+62wQhAZAZ0kagTuAQwHgKBuY0pmAgMVE9S5qYxoAiUU9hTTS5vWnQhGFR5vGvFiDSa0yTUdh1yu45z9hTeOcGN03Liauh2/ON4HiNY+NCsNiHw1/MB3kLAryYHLInoYBB8jWw4XiA4d1nKxBHXWKyik46WepkuGRZl2c5vDu2/wCE/wBb0cTCe0wKEDvoXYeIDHMPTX+UVd7T8FLF7lse4O8gHWWLD4kyKd2TacOo6O4+U1GOO7TN8+dOEZrpmR4Zdy3VP5pHzH2mtKbnWs3x3DewvxyDBlj8p1j6j4VoJBjoa0iqVHn+palLUuySBXiKVEipUFBzEQWlVYFPYzVrh+Ae84S2mZj6AcyTyFUAJx1tijZCQ0aaxOu08p2mgV7gGLDAmyyMyhwCQCRMZiGbbx8Nq7jwXspbsDO4Fy4P+CnooO5B/EfhFHbVkhsxgk79THiPjSrsuMqVHAMNwriL5RkfKNO66g/Egk/+qMYHsLxC6QXuMo//AFn/AMgo+ddyUjqw+M08Oo/F+voKH8uWVHJp+qo5bwz/AApVYNxmY85YKvosn/yrX8M7I4axsokflEH4t759a0hYnZfidPlv9Kcq0KKG8spbNle3YAXKqhV6AR8qb7JRyBPU6mrMyajGpPh9aaMmA+L8Is3zFxFZts0Qw/mGsVz/AI/2Sa2S1qWX8p94eR/F5b+db7tDi7tpc6KsagsQWKzt3ef3iNyKxnFOJ3m1DsCZESsctdo/EBzGqHaa0UHJWiHJIxdy16ioiaMY1DcXP+KADAEkxOw16ax4HUUJdaj8MtxrcYRrXmWnBakRKYirlr0VNlpMtBIW7UKPap42xP8AyaiHY181iOjx9WoT2puH2qf/AFD+pqp9luMewchvccif9p2DeXI/2rJySkez7bngSXJ0BD33/lPyNCOHYVUe5l0GcsANhmUf3q1hMWGdwCCCgII55SRp4a1FhG/1H/hQ+pf9KeNqSteWcE7jaMp21w3cW4OTsh9O7P8AxPrXuFvmtoTyGU/y6fSr/alJsXF6EN6UC4Fe7rL0M/8AIf2NOX2Jfyx/oPlp0pwNVrJnXpVuxaLEAAkkwANSSeQHM0jEn4XgHvuETfcnko5sa6xwThCYa2FUakSzH3mOm/gOlCOyPCRatiR33GZzz8F+G3mTWovtVUBEE0+dQ4tTAVfeYwvnuW+Ak1YzCByG58AOdMsJJznciAPyrv6nQn4DlSfgaLPzpM/7FItCu0GPNpJE6+ZmZ003906cyV5SKdByFswmOfzinTWPwjZEBfRg2ZwMuZATmAOXRHCch01JmtThbkqs7iQfNSVMeEihlNUODQwHUfTX9acoqEt3h5x8v71YoJK+IsK4KsJBEEedYbjuF9k0DKiDUNmw9tRropa6HckeAA1rc4i5sq7kx5VVuYFXYMyKSsgEgExpO40kgego36LxyjF21ZzS7cVwRnRhGuW492fCFw8UAx+EKyx7oH5syz5Z7aeig12V7ADRECJofxWxzAGmo/SjS/JpPNGSqqOPZdalCb0e7QYBFVbqADMxV1HI7z8ZoKwEeJoOcr5aj9nU5YRUU0AaDFYRMZZLoe8gBQ+OxRun6xWDVSrEEEESCDuCNCK6F2HSLD+LE/v0rIdobWXEOfzjN9j8wfWsp7xUj2PTz05Xj6TdBbhmJFkWs/dDoyEmIUscwJ8NN+U0TGKC4tUB0e3HmUMj5FqA8bHcHgR+/nQVMW4ZDOtv3T0gyB5fasPS5Ho/lk5MKnLV5tGu7QrnS4P9sfKslwRoYjmV+jR961eMxC3MO1xfxiY6QO8PMGgCYYpetP8AhuK3qAQfmAfia63vTOFKk4v/AKgtbMCi3AboXEWidg6fMx96Es2tS27sEEaEQR5jUUznOyYQFQBziCOsaHzq2zyonmNfTX6UK4ZxBL9v2iEqQdZGxjmOnKR0q1cuMAAwgn4j4HpVAN4th3uW/ZJp7SFdvyoPf+JEgedW3uZFUBWaNBzO3M1HZY5mM6TlHSE0P/lm+VVeNcYSyyIblq2z5jmunuwsaBcylmJOgB2DHlUpb2O+gnZuFgCRB6UP45hM8MQCugZWjL3SxBJ5e8ddNQKt8OxiXUDqykbZkPdMdKsOnx+XzoBbGSXCEq2Y5iZ7xGoX/c34io0zbkDWeej4evckghiWaD0ZiwMctDVOEDhVVc+4EaacwQIBHlRBHzb+h+eo0NVJPklSi9k+PyedxMc9/TQ/UUtzEiJG52qtiXKFZUkGRmmIkafMCocNLAN+WfWTA+lSMuW01/h+p3P761YmoLWoAmD6TzO9PNnqzUAQcRQNbbXKQMwPQgfsUFXFZ1UnkIYePIj9Ku8fvAJ7MHVt/Lf5mqACW7auVILQPOOYppgzD8baLZB3LD1B1oG/Ki/aS/meOZYn4Tp9vSghflSfILghLQD51HnHQ0t56rZqANx2UTLaYeE+oobxLhft85HvoMy+I1lT5xp417B8VFi+9t/cZVWfytJAJ8DpNFrQhnH+wetZ4qnBJnbNyxz1rvdGI4pjVfuhWBG8iIIOoM86Dfirb8b4N7VTdT3xuPziP6h86xLL3teX7isliWJUuDuxzU4przuFOGYshXtcisr4Se9Hwj50bxWGzYaww3RlPqdfqayIfK6nxg+REfet5ZSbDp+T9Jrohujg9Uqm6BTJ3qfbFeR5FF+z/DvbXQpEourwYMeH760zkDPYntNbj2D9x1LBSTo4JOx/N4fsbEXlJULMSCRyAE7c/tXOO0fYG4hL4fvpqSn4x/D+YfPzqLspxy6twpeuMLdtHZhcM5YXTVhmWD41iskk9LR6eT0eKeN5MUuFumdL4OmRAJLZ2dyW2m45uQPAZoHlQntXZuG8hWy7qyasi5srKW0I3gh9DpGu+gqtgu0yApaRWdzYz20XT2hRC2RSeoUxGnnQfsf26v3sS63hNsW3uQqj/SCKTExLZo/EeYroj8la6PLmnB0+za9mLbpbIuKUJYkK28acvXxo1ckqxA1AMDmTGmlcTxPbS7jLyrdc2LGcd1GYQrMq99lIZyJnkN9q2nYbjbHFX8K132qKoe0xaSBMMBOuXmJ2+NXLHKKtmayJvSY7jj+y9pfuZuYs5kDEEklW7ynKx0J1gnNvpW8/w+xT3LLF80nLmzLHeIYnmdcuQmdiedTdouMYa2Tby3HIOZvZBMqmY7xfSZGwnxonwTiGHcNbsFQUMsumYZtc0gkMDO4NVOT0vZ7mMIx1JWtvHZfu2+XI6a7VVSzkJA2O3rr9KuXhpVDHlyFZNSp7y9fKudnYlZZJkEsQFH5tvjQ7E8RwxEHEAAGIW6CCToFiTr4VyXjJxN+8UY3Lr5j3ACQkEroo0UaUV4T2VxWV1a2yK4A0e3rBBggnTbpMgVj7zbpI9Zf07FCKlkyJPwbUcS4ex0v258bgE+pp3EuJJlyoVbT8MGAdN/3vXOMV2NxaahFMbQ6g/CSPrWbxuAv2TLo6Gfe1j/kNPnTjlkuUTk9Dgf8AbyX/AINHxxpeZ1I1+FCnNQ4DEu6y7FtSATqY0589ZqW4a1u9zzJR0tx8FPEMYiq2c1ZdpqPLTJsJcftEXnVt9PjOs0X7MYoujgkkrK69AJA9PpQztQ3/AMlvFE+4+1CuFcSay5P4W0YeokeImso1GVLg9acXPAvJ0PAtKVj+0OAJvO67QS3mBP0B9K1vC2BTQyCJBGxB5iqN1Abu0gmD8ZX71rJaonFim4TOd4nett2exWfDuTvAB8xp89DWO4nhmR2Rt1MecbH4iDV/s7jcj5Ce68DyI2P29Kzi6Z0Z467aDdpCdACTMADck7AV1HgHB1s2wIljDFjvP2HSs32U4emcO7DNJyKSJ3IzQfiPhW/tJpWqPNfIhauS/wCKeBuf5hbqW2Nr2ChyshZF3WSNzrb7u+kxpNdbvKPI0H4s59m4IBWP3I5iplwXCbi7RyzsZd/+dgoJb3tCD3B7NiwBI1Gprs6cKsqXZbVsNekO6ooLSD7xAlq5P2jxy8O9g1oF3vI796FyBlCrlyiR7x5j3eU0V/w57QP7cYd2dkuqWTOWbvIJLKzGdgwPIkToZLEccnFtdFZ86lJKQB7VdhMRYcNatviLRIJ9mksuslYzFjqN8u25mtX/AIY9lLuHa5ir6G29wFVttEopbMS0czA6HfSuhI+p6VJFXrk1TZjpj0fNOIsX714qS+dXYOZgIQzZmbXfczWm7BY5Fx2HCFi7B0uHXLlI7rDXm4HXltXQu1XYGxjWDlmtv+Jl1zDpDSBr0jnVnsv2Mw2BlkzO5EF3ILR0AAhR4CtXluNeTNY6afg0bGq9xI7w+NOe70E1C2IkxB8Sdq52bJ0Ms4JFZiq++cxgbk6knrV0adPif7U20vSnMaaSQOTbtlTGOF1kfagHFO8NCAD0H18KNY15325VlOIuVPUHpoR4dCOXwqhGV7Q2/cJ1Oon7fWgLitBxq4GhQZMz9d6DXLWvSkxWUGSky1adDO2nOovgaNg3LuNtHEWv8wo7yDK69QPxL1gz8PKssDW27MPFm6OhPzA/WsrxLCG250hWMp0IO4Hlt6VlJbKR60Z/J4+ldBfs5xr2cI5/02O/5df6T8q0Y99PFl/qFc9s1puy+J7twuWK2QHVR7zHvHIP+JPkD0ojPpkeoxLTrX8jO22El1uAdFb/AKn7elZYtG3rXTuM27VxDkeQ6rtM7gEEHmDqPKg/AuylpVF3EhmXOysgMKoBKhmg5mkgGNNG50pNPdcGePLUdL5Nb2axWHt2bbO6n26qZ94AgAFSQNpJ5aSZraWUWAyNoRIIOZSPKYjyrlt3g1lUyIg9mXdgO8VzQi5lLEkSF60/A8Xu4FgVbPZJ76OdVnnI/r1I5zS93cy9nVG73Ol43EGADof3sawva/jjWciArNxiCSTlUAc2AiSeW1HcVxZbqJctEMp8Rodipg71l+0dr2ty2iZCynN31zrqIgqQQa1tSjsZQSUlq4AZ4Pe4jYa5Km5YYDxa2beZRpPekAQOTHQwJJf4d9n3/wAyuIKsq2g6jMrLLlAhKhh3lhnE8iu2tH+wXCXwyXA4ILsGiAIyqBsp2ma2NpANtP76mri5KNE5VGU20WUep1J8arkVJPjSZJNrTWWd9f351HkPJiPn9aSHHMHz0oAS9bAGk1Hgy0vm0UQFncwJZvKTl/kPWnXs2+ojyI/WheJuPDoHUZwQpLBcs7nXXT40gCeBuZ0zwBnJKxp3ZhT8QAfjTrlz4UtlBkGQqQBAjbTTxqtiZiIjX1oTTAqY68Ygn5VlOI4oGddRRjjLgbHQ9eVYni+K1gHTnVElW5czMWPw+frVdnBOteY8xyqve61JR7Ek5TFDoqa5cqDN4D1p0Kw52fkW7wOhDKCOn7irOIwS3bLhuUZT+UidvWkwF9CbiHRyFM/mAkeo+9PxF8rbKIyhmaCx1CKFLO5E8gsebCoxPVBNnVmk1kcuDEhCrFTuDFdO7FNhrGF9pcdVzvqz5V1MKoGp00PPqaw97Do651cuBpniCI5MAB+zRfC8MFzDoHTPABKAgE5WcgZ11HvHT6SahL5NGmbMpYVXk6CEQquW2gDmAy5Y0nvaDwMedV8BjEa0oRFLd4OrzIIaGGWNWzDnG9D8Fx7Dph7ahgWQKvsswZwF0GknNEA6cteVWMb7PD2TdtIBmlyoO8wSRm93UiY69aukcVskfidvEWyLRSMs5dmDCYBWOURpNYjiPEDlLW0NwRHdhgfTceU1NwTEYdS+JS538xbJLBSXLZiQR0YaSAIB1NHu1BthbDwqPd2AHvEgGNNzrUaU2aKbiqQE7JYcWggVro9oqs6OBlDgPOXmFgr490a9Db3VS4GKu53ADAGeXLXyoXxTEmyyOVAYKpyAkERyMzl56eBorZuI+IQhhGXOBDBuZHKND9K0TV0JptWabA3HGrIdPyw3yGtObjqLc9mZDgZipGoB5kdNRrTFtrM5mHkYI/fSsFxnA3Uvm4Wcl2GdikRChQyuPfzCTH4duVaUZHShxlCVUtlL+6CIzRqYneI5VZXHM0wh8yVAPkZP0rH9jsIXdbrmTZDqh3k3IJYEjMIAiP8AcegrbhV86TKK5xNzaAPiW+wr2W627N8FA+bMfpVr2gXYa/Oobi5vezEdPdH6mpoEBeLPlAi+4edlNtp8CMkelYni2Fu3rocX3Vk2JXbl7p0Gmm1bPjePFsZEChjvHIee5NZnOAJP9zWM51sjoxY73YFxOGxdsTbxPMEZc1pjAjVkOvxEUmD/AMRsTab2eJX2q7T3Q/mGHdfyIB8afxLGHUcz8qFXuDtdtnM2Rd4yyx8ddh9arHJtU1sLLCMd1sabEcat3ree22YGYBnMp5qRyImgjuG33qngsALIYZsxYgkxGwgc/P1pwYg1ozBHg+tQ4hxr0pzoZNMZYE6eNAFIPMimRUwTfT9KZ7M1RBIxiRXuEIGZ1mC1t1B9DHxiosQ+tVPaMplWysNiOVSuTon9WFbnEH9kAltEAPsxGgbumX1Ousa1Lc4sVw5tIoRiMsqzEDOYf3iTsxG/SgtvFs7gu2bSAdo+A0qPGvBI6/v61TSuzFfXc0vC0DG4BaKIhZVdIGaJBBPM6Zp6AjnWh4BddmIdyXBCKre6Yg92dyYWfKs9wRy161dQkJBZlzaByArd3lMT0oX2j4zcXGO1p4yFcpAWQQqhoMT7wNTKO9oadqma7F3LuHbP/lkcM7lpQAnvFVhtdIjkRRS3xqNrRJ5SRpyhYTSuS3uK32MteuN5ux3351bw2KBAzEk+JJqdL6Y9S7RueLcDOJhwxsFYRUjMsIInUjQSB8DvNScFwVxwgDgnDuLZcmNveUDcmSD5zvWQtYz2feQkET7s6zoRp1/StVwLjCBURFdSTmYuI7x8tI29KaxprcNbT2N1ZttoCfXf40SzZU3mgqXwiF3aB1/Sm4bHpcIyE6GtGQHcIsD9NBJ3q0GA3oU2JybI7HyMVQx3E7irmICdAdyfBfvpUuSRUYtujQPjI91SfHl61n+KcfJlVPoQfmJoJiMa9z33J8OXpVZ9KwnlfR0wwpcnmclixMk6mqvEcVlXxOwrz348B++VWcBgpIuOMx/CDsvQnx+n0iMXJms5KCK3DeFyfaXZ6hT9W/SpsZJVmOg5eP8AaimIUkHu68tftQDiWboY2PnXVFaUcUpOT3BrnUVDdJBp7iNarO+tIVEpqvdSnq+1ec0ARxST415jrXstMCtfXWqlxabcxjTsPQ/rUT4pp5elJFykmqPBNjTr9mRNRC8fD0pRfYiOXkKoz2ofhrYDKNdeYMGnX8BDEAaVCl5hsfkP0qRcU8++flTYkhrYIjlUtrDbUx8Q+ksfWvG6wPvH1NTRQdw2E0k0QwKR8Kya3mk95vU0ouGdz606FZusWjXEVM8AEaHaJ1+MbVatYsYddGMloAB5DX0rnLnTeth2MwCXrq5ySqgNl6xyPhtTGbrBXbjpnmR5/s1nbuON1mMnNJH8IGw8NCNPGt9byj3QAAIA8qG47BI4iADrBGkE86zlG+zTHNRfBkFYTABIUCTrA6A+POmnEgqTE9D5aUUfskDJFwFoZczDUZjMEAwQIHoKt4Ps4je+8xGiSBptJI28qy9t2b+8qM/gME9whmEJvJ5xyA5jxrXYPDgqWaTHLYfL9agXDwzKCO6T5xtt8KntAqd4nkNj4joa1jHSc85uTKWNKrt6VnuMciNm38x+/lRzijjNlA5TPj+/rQTHkFK06MgDfadBUAt1M5qEzO9RRdiuQKru01NcHKoitAhyrzpcteU0uaiwoz7/AH+1Mc60rNTWpknl3rymkG4r00WAoNKp19aZOlezb0WBIdj5CvFtvKmhvpSDYUWUSI2tKDrUc60ofWmSOZtK33YzDFLWfUM5n+UCF/X41z4tpXU+z9icLYIGptrv5UNjRo8HjARlO451bTedvgflJoHbIUjUSP3NX3xOwJH0BPKaVjLntS5gDQaEmJNV3v5DoYPXpp9aRsQF7q6k7ka78qistv1n6AaRQBPYytL7f7upqK2/dynYzr5SZq4ACu2hG3LXpQrE3cpg6hdj58qoClxC5mCtz2I8qz2JeSedE8c+UHoCYPpp86BG5UyYkrGMnOql1TV3NUdxRSKZTrymlfSoyIoAmA0ps+VeWl+FAGcO4+P1pGFOTf1r1zn5UCIzuK8+9KeVK/2NBJHSHnS9aTrQA8bmkXalFe5HzNBQgOtenWm147/vwpkj2NdO4NcS3hLDPdKyimMwHLbUaVzFq13Zy0GVWYSUChSdYEsIE0ijV4XiNkjvXkn+NfTSrtoI/uXCf4bhP3pEtiNuVWEwNspJtqT1yiaBklu0YhjMAz1PQ6dakS3qW5ka+Y2+v0obwpibl9CSVttCgkmASuknU/GjKbN++QoQmestppsaE41tSPE0Rw/4h4iheN981aEwNxhoQeL/AGP6CgrUV43+Hzb7UK51L5GIxprN8qnfaq3WkAjmRpyplxCdqtAaVHyPnQhMaE0pMtTjakpiP//Z\" alt=\"photo of David Scott\">\n",
    "\n",
    "Because there is no air resistance for a falling object near the surface of the Moon, even two objects with very different masses and densities should fall at the same rate. David Scott compared a feather and a hammer.\n",
    "\n",
    "You can run the following cell to watch a video of the experiment."
   ]
  },
  {
   "cell_type": "code",
   "execution_count": null,
   "id": "40f4410d",
   "metadata": {},
   "outputs": [],
   "source": [
    "from IPython.display import YouTubeVideo\n",
    "# The original URL is: \n",
    "# https://www.youtube.com/watch?v=U7db6ZeLR5s\n",
    "\n",
    "YouTubeVideo(\"U7db6ZeLR5s\")"
   ]
  },
  {
   "cell_type": "markdown",
   "id": "33b024f6",
   "metadata": {},
   "source": [
    "Here's the transcript of the video:\n",
    "\n",
    "**167:22:06 Scott**: Well, in my left hand, I have a feather; in my right hand, a hammer. And I guess one of the reasons we got here today was because of a gentleman named Galileo, a long time ago, who made a rather significant discovery about falling objects in gravity fields. And we thought where would be a better place to confirm his findings than on the Moon. And so we thought we'd try it here for you. The feather happens to be, appropriately, a falcon feather for our Falcon. And I'll drop the two of them here and, hopefully, they'll hit the ground at the same time. \n",
    "\n",
    "**167:22:43 Scott**: How about that!\n",
    "\n",
    "**167:22:45 Allen**: How about that! (Applause in Houston)\n",
    "\n",
    "**167:22:46 Scott**: Which proves that Mr. Galileo was correct in his findings."
   ]
  },
  {
   "cell_type": "markdown",
   "id": "9e02dfa8",
   "metadata": {},
   "source": [
    "**Newton's Law.** Using this footage, we can also attempt to confirm another famous bit of physics: Newton's law of universal gravitation. Newton's laws predict that any object dropped near the surface of the Moon should fall\n",
    "\n",
    "$$\\frac{1}{2} G \\frac{M}{R^2} t^2 \\text{ meters}$$\n",
    "\n",
    "after $t$ seconds, where $G$ is the Newtonian Constant of Gravitation, $M$ is the moon's the mass in kilograms, and $R$ is the moon's radius in meters.  So if we know $G$, $M$, and $R$, then Newton's laws let us predict how far an object will fall over any amount of time.\n",
    "\n",
    "To verify the accuracy of this law, we will calculate the difference between the predicted distance the hammer drops and the actual distance.  (If they are different, it might be because Newton's laws are wrong, or because our measurements are imprecise, or because there are other factors affecting the hammer for which we haven't accounted.)\n",
    "\n",
    "Someone studied the video and estimated that the hammer was dropped 113 cm from the surface. Counting frames in the video, the hammer falls for 1.2 seconds (36 frames)."
   ]
  },
  {
   "cell_type": "markdown",
   "id": "2998633a",
   "metadata": {},
   "source": [
    "**Question 3.3.1.** Complete the code in the next cell to fill in the data from the experiment.\n",
    "\n",
    "*Hint:* No computation required; just fill in data from the paragraph above.\n"
   ]
  },
  {
   "cell_type": "code",
   "execution_count": null,
   "id": "fd453122",
   "metadata": {},
   "outputs": [],
   "source": [
    "# t, the duration of the fall in the experiment, in seconds.\n",
    "# Fill this in.\n",
    "time = 1.2\n",
    "\n",
    "# The estimated distance the hammer actually fell, in meters.\n",
    "# Hint: Convert 113 cm to the equivalent number of meters.\n",
    "# Fill this in.\n",
    "estimated_distance_m = 1.13"
   ]
  },
  {
   "cell_type": "markdown",
   "id": "2c0012ca",
   "metadata": {},
   "source": [
    "**Question 3.3.2.** Now, complete the code in the next cell to compute the difference between the estimated distance the hammer fell (1.13 m) and the prediction for that distance using Newton's Law.\n",
    "\n",
    "This just means translating the formula given above ($\\frac{1}{2}G\\frac{M}{R^2}t^2$) into Python code.  You'll have to replace each variable in the math formula with the name we gave that number in Python code.\n",
    "\n",
    "*Hint:* Try to use variables you've already defined in question 3.3.1\n"
   ]
  },
  {
   "cell_type": "code",
   "execution_count": null,
   "id": "b12247a7",
   "metadata": {},
   "outputs": [],
   "source": [
    "# First, we've assigned values for the three constants \n",
    "# that show up in Newton's formula.\n",
    "\n",
    "# G, the universal constant measuring the strength of gravity.\n",
    "gravity_constant = 6.674 * 10**-11\n",
    "\n",
    "# M, the moon's mass, in kilograms.\n",
    "moon_mass_kg = 7.34767309 * 10**22\n",
    "\n",
    "# R, the radius of the moon, in meters.\n",
    "moon_radius_m = 1.737 * 10**6\n",
    "\n",
    "# The distance the hammer should have fallen \n",
    "# over the duration of the fall, in meters, \n",
    "# according to Newton's law of gravity.  \n",
    "# The text above describes the formula\n",
    "# for this distance given by Newton's law.\n",
    "# **YOU FILL THIS PART IN.**\n",
    "predicted_distance_m = (1/2)*gravity_constant*moon_mass_kg/(moon_radius_m)**2*time**2\n",
    "\n",
    "# Here we've computed the difference \n",
    "# between the predicted fall distance and the distance we actually measured.\n",
    "# If you've filled in the above code, this should just work.\n",
    "difference = predicted_distance_m - estimated_distance_m\n",
    "difference"
   ]
  },
  {
   "cell_type": "markdown",
   "id": "6b43b6f1",
   "metadata": {},
   "source": [
    "If you did everything correctly, you should get an answer of around `0.04` meters, or 4 cm."
   ]
  },
  {
   "cell_type": "markdown",
   "id": "b2a7df43",
   "metadata": {},
   "source": [
    "## 4. Calling Functions\n",
    "\n",
    "The most common way to combine or manipulate values in Python is by calling functions. Python comes with many built-in functions that perform common operations.\n",
    "\n",
    "For example, the `abs` function takes a single number as its argument and returns the absolute value of that number. Run the next two cells and see if you understand the output."
   ]
  },
  {
   "cell_type": "code",
   "execution_count": null,
   "id": "9b1b91af",
   "metadata": {},
   "outputs": [],
   "source": [
    "abs(5)"
   ]
  },
  {
   "cell_type": "code",
   "execution_count": null,
   "id": "0d3f8841",
   "metadata": {},
   "outputs": [],
   "source": [
    "abs(-5)"
   ]
  },
  {
   "cell_type": "markdown",
   "id": "e26f2c1d",
   "metadata": {},
   "source": [
    "## 4.1. Application: Computing Walking Distances\n",
    "Tatiana is on the corner of 7th Avenue and 42nd Street in Midtown Manhattan, and she wants to know far she'd have to walk to get to Gramercy School on the corner of 10th Avenue and 34th Street.\n",
    "\n",
    "She can't cut across blocks diagonally, since there are buildings in the way.  She has to walk along the sidewalks.  Using the map below, she sees she'd have to walk 3 avenues (long blocks) and 8 streets (short blocks).  In terms of the given numbers, she computed 3 as the difference between 7 and 10, *in absolute value*, and 8 similarly.  \n",
    "\n",
    "Tatiana also knows that blocks in Manhattan are all about 80m by 274m (avenues are farther apart than streets).  So in total, she'd have to walk $(80 \\times |42 - 34| + 274 \\times |7 - 10|)$ meters to get to the school.\n",
    "\n",
    "<img src=\"https://ontheworldmap.com/usa/city/new-york-city/map-of-midtown-west-times-square-max.jpg\" alt=\"visual map about distance calculation\"/>\n",
    "\n",
    "**Question 4.1.1.** <br /> Finish the line `num_avenues = ...` in the next cell so that the cell calculates the distance Tatiana must walk and gives it the name `manhattan_distance`.  Everything else has been filled in for you.  **Use the `abs` function.**\n"
   ]
  },
  {
   "cell_type": "code",
   "execution_count": null,
   "id": "b9fd0598",
   "metadata": {},
   "outputs": [],
   "source": [
    "# Here's the number of streets away:\n",
    "num_streets = abs(42-34)\n",
    "\n",
    "# Compute the number of avenues away in a similar way:\n",
    "num_avenues = abs(10-7)\n",
    "\n",
    "street_length_m = 80\n",
    "avenue_length_m = 274\n",
    "\n",
    "# Now we compute the total distance Tatiana must walk.\n",
    "manhattan_distance = street_length_m * num_streets + avenue_length_m * num_avenues\n",
    "\n",
    "# We've included this line so that you see the distance you've computed \n",
    "# when you run this cell.  \n",
    "# You don't need to change it, but you can if you want.\n",
    "manhattan_distance"
   ]
  },
  {
   "cell_type": "markdown",
   "id": "d69059f8",
   "metadata": {},
   "source": [
    "If you did this correctly, you should get an answer of 1462 meters, which is about 1.5 km."
   ]
  },
  {
   "cell_type": "markdown",
   "id": "37d3f4a4",
   "metadata": {},
   "source": [
    "##### Multiple arguments\n",
    "Some functions take multiple arguments, separated by commas. For example, the built-in `max` function returns the maximum argument passed to it."
   ]
  },
  {
   "cell_type": "code",
   "execution_count": null,
   "id": "b479fdfa",
   "metadata": {},
   "outputs": [],
   "source": [
    "max(2, -3, 4, -5)"
   ]
  },
  {
   "cell_type": "markdown",
   "id": "b0d9587c",
   "metadata": {},
   "source": [
    "# 5. Understanding Nested Expressions\n",
    "Function calls and arithmetic expressions can themselves contain expressions.  You saw an example in the last question: `abs(42 - 34)` has two number expressions (`42`, `34`) in a subtraction expression (`42 - 34`) in a function call expression.  And you probably wrote something like `abs(7 - 10)` to compute `num_avenues`.\n",
    "\n",
    "Nested expressions can turn into complicated-looking code. However, the way in which complicated expressions break down is very regular.\n",
    "\n",
    "<img src=\"https://encrypted-tbn0.gstatic.com/images?q=tbn:ANd9GcTHZSqK9-_yKNU19hrWhlo8d9imvZXtt1PSKg&usqp=CAU\">\n",
    "\n",
    "Suppose we are interested in lengths of cats that are very unusual.  We'll say that a length is unusual to the extent that it's far away on the number line from the average cat length.  An estimate of the average cat length (found by averaging, we hope, over all cats on Earth today) is 18.2 inches.\n",
    "\n",
    "So if Ravioli is 21.7 inches long, then her length is $|21.7 - 18.2|$, or $3.5$, inches away from the average.\n",
    "Here's how we'd write that in one line of Python code:"
   ]
  },
  {
   "cell_type": "code",
   "execution_count": null,
   "id": "005b84fc",
   "metadata": {},
   "outputs": [],
   "source": [
    "abs(21.7 - 18.2)"
   ]
  },
  {
   "cell_type": "markdown",
   "id": "92bd2a67",
   "metadata": {},
   "source": [
    "What's going on here?  `abs` takes just one argument, so the stuff inside the parentheses is all part of that *single argument*.  Specifically, the argument is the **value** of the expression `21.7 - 18.2`.  The value of that expression is `3.5`.  That value is the argument to `abs`.  The absolute value of that is `3.5`, so `3.5` is the value of the full expression `abs(21.7 - 18.2)`.\n",
    "\n",
    "Picture simplifying the expression in several steps:\n",
    "\n",
    "1. `abs(21.7 - 18.2)`\n",
    "2. `abs(3.5)`\n",
    "3. `3.5`\n",
    "\n",
    "In fact, that's basically what Python does to compute the value of the expression."
   ]
  },
  {
   "cell_type": "markdown",
   "id": "6b2c0fb5",
   "metadata": {},
   "source": [
    "**Question 5.1.** Say that Genghis's length is 16.7 inches.  In the next cell, use `abs` to compute the absolute value of the difference between Genghis's length and the average cat length.  Give that value the name `genghis_distance_from_average_in`.\n"
   ]
  },
  {
   "cell_type": "code",
   "execution_count": null,
   "id": "144efa6d",
   "metadata": {},
   "outputs": [],
   "source": [
    "# Replace the ... with an expression \n",
    "# to compute the absolute value \n",
    "# of the difference between Genghis's length (16.7 in) and the average cat length.\n",
    "genghis_distance_from_average_in = abs(16.7 - 18.2)\n",
    "\n",
    "# Again, we've written this here \n",
    "# so that the distance you compute will get printed \n",
    "# when you run this cell.\n",
    "genghis_distance_from_average_in"
   ]
  },
  {
   "cell_type": "markdown",
   "id": "d346950a",
   "metadata": {},
   "source": [
    "## 5.1. More Nesting\n",
    "Now say that we want to compute the more unusual of the two cat lengths.  We'll use the function `max`, which takes two numbers as arguments and returns the larger of the two.  Combining that with the `abs` function, we can compute the larger distance from average between the two cat lengths:"
   ]
  },
  {
   "cell_type": "code",
   "execution_count": null,
   "id": "ba020569",
   "metadata": {},
   "outputs": [],
   "source": [
    "# Just read and run this cell.\n",
    "\n",
    "ravioli_length_in = 21.7\n",
    "genghis_length_in = 16.7\n",
    "average_cat_length = 18.2\n",
    "\n",
    "# The larger distance from the average cat length, between the two lengths:\n",
    "larger_distance_in = max( abs(ravioli_length_in - average_cat_length), abs(genghis_length_in - average_cat_length) )\n",
    "\n",
    "# Print out our results in a nice readable format:\n",
    "print(\"The larger distance from the average length is\", larger_distance_in, \"inches.\")"
   ]
  },
  {
   "cell_type": "markdown",
   "id": "e25b5032",
   "metadata": {},
   "source": [
    "The line where `larger_distance_in` is computed looks complicated, but we can break it down into simpler components just like we did before.\n",
    "\n",
    "The basic recipe is to repeatedly simplify small parts of the expression:\n",
    "* **Basic expressions:** Start with expressions whose values we know, like names or numbers.\n",
    "    - Examples: `genghis_length_in` or `16.7`.\n",
    "* **Find the next simplest group of expressions:** Look for basic expressions that are directly connected to each other. This can be by arithmetic or as arguments to a function call. \n",
    "    - Example: `genghis_length_in - average_cat_length`.\n",
    "* **Evaluate that group:** Evaluate the arithmetic expression or function call. Use the value computed to replace the group of expressions.  \n",
    "    - Example: `genghis_length_in - average_cat_length` becomes `-1.3`.\n",
    "* **Repeat:** Continue this process, using the value of the previously-evaluated expression as a new basic expression. Stop when we've evaluated the entire expression.\n",
    "    - Example: `abs(-1.3)` becomes `1.3`, and `max(3.5, 1.3)` becomes `3.5`."
   ]
  },
  {
   "cell_type": "markdown",
   "id": "d4d5b380",
   "metadata": {},
   "source": [
    "Ok, your turn. \n",
    "\n",
    "**Question 5.1.1.** Given the lengths of Yanay's cats Hummus, Gatkes, and Zeepty, write an expression that computes the smallest difference between any of the three lengths. Your expression shouldn't have any numbers in it, only function calls and the names `hummus`, `gatkes`, and `zeepty`. Give the value of your expression the name `min_length_difference`.\n"
   ]
  },
  {
   "cell_type": "code",
   "execution_count": null,
   "id": "4ee762d3",
   "metadata": {},
   "outputs": [],
   "source": [
    "# The three cats' lengths, in inches:\n",
    "hummus =  24.5 # Hummus is 24.5 inches long\n",
    "gatkes = 19.7 # Gatkes is 19.7 inches long\n",
    "zeepty = 15.8 # Zeepty is 15.8 inches long\n",
    "             \n",
    "# We'd like to look at all 3 pairs of lengths, \n",
    "# compute the absolute difference between each pair, \n",
    "# and then find the smallest of those 3 absolute differences.  \n",
    "# This is left to you!  \n",
    "# If you're stuck, try computing the value for each step of the process \n",
    "# (like the difference between Hummus's length and Gatkes's length) \n",
    "# on a separate line and giving it a name (like hummus_gatkes_length_diff or HG_diff)\n",
    "HG_diff = abs(hummus - gatkes)\n",
    "GZ_diff = abs(gatkes - zeepty)\n",
    "ZH_diff = abs(zeepty - hummus)\n",
    "\n",
    "min_length_difference = min(HG_diff, GZ_diff, ZH_diff)\n",
    "min_length_difference"
   ]
  },
  {
   "cell_type": "markdown",
   "id": "e8ca170b",
   "metadata": {},
   "source": [
    "Double-check that your expressions contain only function calls and names, no numbers. The result should be about `3.9` inches."
   ]
  },
  {
   "cell_type": "markdown",
   "id": "95f5d62c",
   "metadata": {},
   "source": [
    "## 6. Completion"
   ]
  },
  {
   "cell_type": "markdown",
   "id": "925020d8",
   "metadata": {},
   "source": [
    "Congratulations, you're finished lab 1! \n",
    "![Relaxing Cat](https://encrypted-tbn0.gstatic.com/images?q=tbn:ANd9GcSiT3JBcVnBImxB7vMsScz7doc1l2nPAFX7ig&usqp=CAU)\n",
    "\n",
    "\n",
    "Time to submit your work:\n",
    "\n",
    "  - Expand the `File` menu below the Jupyter logo\n",
    "  - Select **Save and Download Notebook As HTML** to download an HTML version of your work.\n",
    "  - Submit your work to the lab assignment on Moodle:\n",
    "      - Upload the code file itself (file extension .ipynb) \n",
    "      - Upload the HTML version of your notebook (file extension .html)\n"
   ]
  },
  {
   "cell_type": "markdown",
   "id": "f5cbba28",
   "metadata": {},
   "source": [
    " "
   ]
  }
 ],
 "metadata": {
  "kernelspec": {
   "display_name": "Python 3",
   "language": "python",
   "name": "python3"
  },
  "language_info": {
   "codemirror_mode": {
    "name": "ipython",
    "version": 3
   },
   "file_extension": ".py",
   "mimetype": "text/x-python",
   "name": "python",
   "nbconvert_exporter": "python",
   "pygments_lexer": "ipython3",
   "version": "3.12.1"
  },
  "otter": {
   "OK_FORMAT": true,
   "tests": {
    "q3_1_2": {
     "name": "q3_1_2",
     "points": null,
     "suites": [
      {
       "cases": [
        {
         "code": ">>> # It looks like you didn't give anything the name\n>>> # seconds_in_a_decade.  Maybe there's a typo, or maybe you\n>>> # just need to run the cell below Question 3.2 where you defined\n>>> # seconds_in_a_decade.  (Click that cell and then click the \"run\n>>> # cell\" button in the menu bar above.)\n>>> 'seconds_in_a_decade' in vars()\nTrue",
         "hidden": false,
         "locked": false
        },
        {
         "code": ">>> # It looks like you didn't change the cell to define\n>>> # seconds_in_a_decade appropriately.  It should be a number,\n>>> # computed using Python's arithmetic.  For example, this is\n>>> # almost right:\n>>> #   seconds_in_a_decade = 10*365*24*60*60\n>>> seconds_in_a_decade != ...\nTrue",
         "hidden": false,
         "locked": false
        },
        {
         "code": ">>> # It looks like you didn't account for leap years.\n>>> # There were 2 leap years and 8 non-leap years in this period.\n>>> # Leap years have 366 days instead of 365.\n>>> seconds_in_a_decade != 315360000\nTrue",
         "hidden": false,
         "locked": false
        },
        {
         "code": ">>> seconds_in_a_decade == 315532800\nTrue",
         "hidden": false,
         "locked": false
        }
       ],
       "scored": true,
       "setup": "",
       "teardown": "",
       "type": "doctest"
      }
     ]
    },
    "q3_3_1": {
     "name": "q3_3_1",
     "points": null,
     "suites": [
      {
       "cases": [
        {
         "code": ">>> # Fill in the row\n>>> #   time = ...\n>>> # with something like:\n>>> #   time = 4.567\n>>> # (except with the right number).\n>>> time != ...\nTrue",
         "hidden": false,
         "locked": false
        },
        {
         "code": ">>> # Read the text above the question to see what\n>>> # time should be. \n>>> round(time, 5)\n1.2",
         "hidden": false,
         "locked": false
        },
        {
         "code": ">>> # Fill in the row\n>>> #   estimated_distance_m = ...\n>>> # with something like:\n>>> #   estimated_distance_m = 4.567\n>>> # (except with the right number). \n>>> estimated_distance_m != ...\nTrue",
         "hidden": false,
         "locked": false
        },
        {
         "code": ">>> # Note that the units are meters, but the text used\n>>> # centimeters.\n>>> estimated_distance_m != 113\nTrue",
         "hidden": false,
         "locked": false
        },
        {
         "code": ">>> # Read the text above the question to see what\n>>> # estimated_distance_m should be.\n>>> round(estimated_distance_m, 5)\n1.13",
         "hidden": false,
         "locked": false
        }
       ],
       "scored": true,
       "setup": "",
       "teardown": "",
       "type": "doctest"
      }
     ]
    },
    "q3_3_2": {
     "name": "q3_3_2",
     "points": null,
     "suites": [
      {
       "cases": [
        {
         "code": ">>> # Fill in the line that currently says\n>>> #   predicted_distance_m = ...\n>>> # in the cell above.\n>>> predicted_distance_m != ...\nTrue",
         "hidden": false,
         "locked": false
        },
        {
         "code": ">>> # Compute predicted_distance_m using the formula in the text\n>>> # above.  Hint: it should start with something like this:\n>>> #   predicted_distance_m = (1/2) * gravity_constant ...\n>>> round(predicted_distance_m, 5)\n1.17022",
         "hidden": false,
         "locked": false
        },
        {
         "code": ">>> round(difference, 5)\n0.04022",
         "hidden": false,
         "locked": false
        }
       ],
       "scored": true,
       "setup": "",
       "teardown": "",
       "type": "doctest"
      }
     ]
    },
    "q4_1_1": {
     "name": "q4_1_1",
     "points": null,
     "suites": [
      {
       "cases": [
        {
         "code": ">>> # Fill in the line\n>>> #   num_avenues_away = ...\n>>> # in the cell above. \n>>> num_avenues_away != ...\nTrue",
         "hidden": false,
         "locked": false
        },
        {
         "code": ">>> # Remember to compute the absolute value of 7-10.  Traveling \n>>> # \"-3 blocks\" doesn't really make sense!\n>>> num_avenues_away != -3\nTrue",
         "hidden": false,
         "locked": false
        },
        {
         "code": ">>> num_avenues_away\n3",
         "hidden": false,
         "locked": false
        },
        {
         "code": ">>> manhattan_distance\n1462",
         "hidden": false,
         "locked": false
        }
       ],
       "scored": true,
       "setup": "",
       "teardown": "",
       "type": "doctest"
      }
     ]
    },
    "q51": {
     "name": "q51",
     "points": null,
     "suites": [
      {
       "cases": [
        {
         "code": ">>> round(genghis_distance_from_average_in, 3)\n1.5",
         "hidden": false,
         "locked": false
        }
       ],
       "scored": true,
       "setup": "",
       "teardown": "",
       "type": "doctest"
      }
     ]
    },
    "q5_1_1": {
     "name": "q5_1_1",
     "points": null,
     "suites": [
      {
       "cases": [
        {
         "code": ">>> round(min_length_difference, 5)\n3.9",
         "hidden": false,
         "locked": false
        }
       ],
       "scored": true,
       "setup": "",
       "teardown": "",
       "type": "doctest"
      }
     ]
    }
   }
  }
 },
 "nbformat": 4,
 "nbformat_minor": 5
}
