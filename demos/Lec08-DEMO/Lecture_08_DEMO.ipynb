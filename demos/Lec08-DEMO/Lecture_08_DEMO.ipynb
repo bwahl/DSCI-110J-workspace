{
 "cells": [
  {
   "cell_type": "markdown",
   "id": "d600fe1f",
   "metadata": {},
   "source": [
    "# Lecture 8: More Charts!"
   ]
  },
  {
   "cell_type": "code",
   "execution_count": null,
   "id": "e5a690e7",
   "metadata": {
    "scrolled": true
   },
   "outputs": [],
   "source": [
    "from datascience import *\n",
    "import numpy as np\n",
    "\n",
    "%matplotlib inline\n",
    "import matplotlib.pyplot as plots\n",
    "plots.style.use('fivethirtyeight')"
   ]
  },
  {
   "attachments": {},
   "cell_type": "markdown",
   "id": "ed4e0cb8-c4ca-4c31-ad81-2354559bb2c3",
   "metadata": {},
   "source": [
    "## Top Movies Data\n",
    "\n",
    "Make a horizontal bar chart showing number of years since release for each movie in the top 10 movies dataset."
   ]
  },
  {
   "cell_type": "code",
   "execution_count": null,
   "id": "db7ad010",
   "metadata": {},
   "outputs": [],
   "source": [
    "# Read a table about the 200 top-grossing movies of all time (as of 2017)\n",
    "# The fourth column has gross revenue adjusted for inflation\n",
    "top_movies = Table.read_table('top_movies_2017.csv')\n",
    "\n",
    "# We'll focus in on the rows for the top 10 movies\n",
    "top10 = top_movies.take(np.arange(10))\n",
    "\n",
    "# Add a column, 'MILLIONS', showing 'Gross (Adjusted)' rescaled to millions of dollars\n",
    "# The first line below computes the array of values for the new column\n",
    "millions = np.round(top10.column('Gross (Adjusted)') / 1000000, 3)\n",
    "top10 = top10.with_column('Millions', millions)\n",
    "top10"
   ]
  },
  {
   "cell_type": "code",
   "execution_count": null,
   "id": "c0b06665",
   "metadata": {},
   "outputs": [],
   "source": [
    "# Draw a horizontal bar chart showing 'Title' and 'Millions'\n",
    "top10.barh('Title', 'Millions')\n",
    "plots.title('Adjusted Gross Revenue (Millions), by Title');"
   ]
  },
  {
   "cell_type": "markdown",
   "id": "dac116e4",
   "metadata": {},
   "source": [
    "### Plot Challenge\n",
    "\n",
    "Workflow advice for drawing complex charts in JupyterLab: \n",
    "\n",
    "  - Make a step-by-step plan for the required table manipulations. \n",
    "  - Record your plan in comments in a sequence of new code cells. \n",
    "  - Add a final cell with a comment describing the chart to be drawn. \n",
    "  - Fill in the codes, generating output for checking each step as you go."
   ]
  },
  {
   "cell_type": "code",
   "execution_count": null,
   "id": "3dee92dd",
   "metadata": {},
   "outputs": [],
   "source": [
    "# Calculate an array of values for the 'Age' (difference between 2025 and 'Year')\n"
   ]
  },
  {
   "cell_type": "code",
   "execution_count": null,
   "id": "a53fe65e",
   "metadata": {},
   "outputs": [],
   "source": [
    "# Modify the top10 table by adding an 'Age' column\n"
   ]
  },
  {
   "cell_type": "code",
   "execution_count": null,
   "id": "1776e3d8",
   "metadata": {},
   "outputs": [],
   "source": [
    "# Modify the top10 table by sorting the rows in descending order by age\n"
   ]
  },
  {
   "cell_type": "code",
   "execution_count": null,
   "id": "92693589",
   "metadata": {},
   "outputs": [],
   "source": [
    "# Draw a horizontal barchart, showing 'Title' and 'Age'; include a plot title\n"
   ]
  },
  {
   "cell_type": "markdown",
   "id": "67b4f737",
   "metadata": {},
   "source": [
    "**Back to lecture slides...**"
   ]
  },
  {
   "cell_type": "code",
   "execution_count": null,
   "id": "e356866b",
   "metadata": {},
   "outputs": [],
   "source": []
  },
  {
   "cell_type": "code",
   "execution_count": null,
   "id": "04a559a2",
   "metadata": {},
   "outputs": [],
   "source": []
  },
  {
   "cell_type": "code",
   "execution_count": null,
   "id": "d7f57471",
   "metadata": {},
   "outputs": [],
   "source": []
  },
  {
   "cell_type": "markdown",
   "id": "5c02c4b8",
   "metadata": {},
   "source": [
    "## Categorical Distributions"
   ]
  },
  {
   "cell_type": "code",
   "execution_count": null,
   "id": "11cdac3a",
   "metadata": {},
   "outputs": [],
   "source": [
    "# Here is the top_movies table (5 attributes, 200 entities)\n",
    "# Each attribute is a \"variable\" in the statistical sense\n",
    "# 'Title' is nominal, 'Studio' is categorical, and the others are numerical\n",
    "top_movies"
   ]
  },
  {
   "cell_type": "code",
   "execution_count": null,
   "id": "152fb572",
   "metadata": {},
   "outputs": [],
   "source": [
    "# Let's focus on the 'Studio' variable\n",
    "studios = top_movies.select('Studio')   # a new, 1-column table\n",
    "studios"
   ]
  },
  {
   "cell_type": "markdown",
   "id": "2115d289",
   "metadata": {},
   "source": [
    "The `group` method will let us calculate the distribution of the `Studios` column with just one line of code."
   ]
  },
  {
   "cell_type": "code",
   "execution_count": null,
   "id": "56bb245d",
   "metadata": {},
   "outputs": [],
   "source": [
    "studios_distribution = studios.group('Studio')\n",
    "studios_distribution"
   ]
  },
  {
   "cell_type": "markdown",
   "id": "0bb392bd",
   "metadata": {},
   "source": [
    "Notice that `t.group(column_label)` includes a `count` column automatically, to show the frequency for each different value of the variable. We'll learn more about the `group` method next week."
   ]
  },
  {
   "cell_type": "code",
   "execution_count": null,
   "id": "26c40468",
   "metadata": {},
   "outputs": [],
   "source": [
    "# Visualize this table with a bar chart\n",
    "# Because we used `group` first, each studio name appears just once \n",
    "studios_distribution.barh('Studio', 'count')"
   ]
  },
  {
   "cell_type": "code",
   "execution_count": null,
   "id": "0b8d6d9a",
   "metadata": {},
   "outputs": [],
   "source": [
    "# The chart looks a bit chaotic; to make visual comparisons easier, we should\n",
    "# SORT the table into descending order by `count` before making the chart\n",
    "studios_distribution.sort('count', descending=True).barh('Studio', 'count')\n",
    "plots.title('Distribution of Studios (frequencies) for Top-Grossing Movies');"
   ]
  },
  {
   "cell_type": "markdown",
   "id": "a925f835",
   "metadata": {},
   "source": [
    "**Back to lecture slides...**"
   ]
  },
  {
   "cell_type": "code",
   "execution_count": null,
   "id": "3379f0cb",
   "metadata": {},
   "outputs": [],
   "source": []
  },
  {
   "cell_type": "code",
   "execution_count": null,
   "id": "2c2c370f",
   "metadata": {},
   "outputs": [],
   "source": []
  },
  {
   "cell_type": "code",
   "execution_count": null,
   "id": "a4a7c796",
   "metadata": {},
   "outputs": [],
   "source": []
  },
  {
   "cell_type": "markdown",
   "id": "9203a27e",
   "metadata": {},
   "source": [
    "## Numerical Distributions"
   ]
  },
  {
   "cell_type": "code",
   "execution_count": null,
   "id": "6c38c2ef",
   "metadata": {},
   "outputs": [],
   "source": [
    "# Let's work with the ages of ALL the 200 top movies\n",
    "ages = 2025 - top_movies.column('Year')\n",
    "top_movies = top_movies.with_column('Age', ages)\n",
    "top_movies"
   ]
  },
  {
   "cell_type": "code",
   "execution_count": null,
   "id": "663adf71",
   "metadata": {},
   "outputs": [],
   "source": [
    "# To help inform our ranges for \"binning\" the ages, scope out the minimum and maximum age\n",
    "min(ages), max(ages)"
   ]
  },
  {
   "cell_type": "code",
   "execution_count": null,
   "id": "55aa686b",
   "metadata": {},
   "outputs": [],
   "source": [
    "## Most often we'll use equal-width ranges for our bins, but let's try\n",
    "# a set of unequal bins first\n",
    "# Make an array of all the left endpoints, plus an extra number to be the \n",
    "# right end of the last bin\n",
    "my_bins = make_array(0, 5, 10, 20, 30, 70, 110)\n",
    "my_bins\n"
   ]
  },
  {
   "cell_type": "code",
   "execution_count": null,
   "id": "271caa31",
   "metadata": {},
   "outputs": [],
   "source": [
    "binned_data = top_movies.bin('Age', bins=my_bins)\n",
    "binned_data"
   ]
  },
  {
   "cell_type": "markdown",
   "id": "22e9f845",
   "metadata": {},
   "source": [
    "How do we interpret this new table?"
   ]
  },
  {
   "cell_type": "code",
   "execution_count": null,
   "id": "ca9aea20",
   "metadata": {},
   "outputs": [],
   "source": [
    "# More usually, we would use `np.arange(...)` to make equal-width bins\n",
    "top_movies.bin('Age', bins=np.arange(0,121,20))"
   ]
  },
  {
   "cell_type": "markdown",
   "id": "5f16e918",
   "metadata": {},
   "source": [
    "**Question**: Are there 6 bins, or 7, or 8?"
   ]
  },
  {
   "cell_type": "markdown",
   "id": "8a009ecc",
   "metadata": {},
   "source": [
    "**Back to lecture slides...**"
   ]
  },
  {
   "cell_type": "code",
   "execution_count": null,
   "id": "0ffac47b",
   "metadata": {},
   "outputs": [],
   "source": []
  },
  {
   "cell_type": "code",
   "execution_count": null,
   "id": "0813ffe5",
   "metadata": {},
   "outputs": [],
   "source": []
  },
  {
   "cell_type": "markdown",
   "id": "c526f03c",
   "metadata": {},
   "source": [
    "## Histograms"
   ]
  },
  {
   "cell_type": "code",
   "execution_count": null,
   "id": "805fafc8",
   "metadata": {},
   "outputs": [],
   "source": [
    "# recall the my_bins variable\n",
    "my_bins"
   ]
  },
  {
   "cell_type": "markdown",
   "id": "6cc07932",
   "metadata": {},
   "source": [
    "**Question**: If we use these bins for a visualization of the 'Age' distribution, how wide will each bar in the histogram be?"
   ]
  },
  {
   "cell_type": "code",
   "execution_count": null,
   "id": "843e7877",
   "metadata": {},
   "outputs": [],
   "source": [
    "binned_data = top_movies.bin('Age', bins=my_bins)\n",
    "binned_data"
   ]
  },
  {
   "cell_type": "code",
   "execution_count": null,
   "id": "a7a9c479",
   "metadata": {},
   "outputs": [],
   "source": [
    "# We know the histogram bar areas should show the percentage for each bin\n",
    "# Let's calculate the percentages (i.e., bar AREAS) before drawing the histogram\n",
    "num_movies = 200\n",
    "binned_data.column('Age count') / num_movies * 100"
   ]
  },
  {
   "cell_type": "code",
   "execution_count": null,
   "id": "8d83cb3c",
   "metadata": {},
   "outputs": [],
   "source": [
    "top_movies.hist('Age', bins=my_bins, unit='Year')\n"
   ]
  },
  {
   "cell_type": "markdown",
   "id": "d8759daa",
   "metadata": {},
   "source": [
    "**Question**: What is the vertical axis label? How does that make sense, keeping the Area Principle in mind?"
   ]
  },
  {
   "cell_type": "code",
   "execution_count": null,
   "id": "80c232bb",
   "metadata": {},
   "outputs": [],
   "source": [
    "# Draw another histogram, but now use equal-width bins\n",
    "top_movies.hist('Age', bins=np.arange(0,111,10), unit='Year')"
   ]
  },
  {
   "cell_type": "markdown",
   "id": "ff538db2",
   "metadata": {},
   "source": [
    "The bar for the [10, 20) bin appears to have height 1.75 Percent per Year, and width 10 Years. What is its area? What does that tell us?"
   ]
  },
  {
   "cell_type": "markdown",
   "id": "b2466f07",
   "metadata": {},
   "source": [
    "**Type answer here:**"
   ]
  },
  {
   "cell_type": "code",
   "execution_count": null,
   "id": "dbd5f46f",
   "metadata": {},
   "outputs": [],
   "source": [
    "# We can also use \"default\" bins, but it's unsatisfying to not know \n",
    "# the exact bin ranges\n",
    "top_movies.hist('Age', unit='Year')"
   ]
  },
  {
   "cell_type": "markdown",
   "id": "5efe525f",
   "metadata": {},
   "source": [
    "**Back to lecture slides...**"
   ]
  }
 ],
 "metadata": {
  "kernelspec": {
   "display_name": "Python 3 (ipykernel)",
   "language": "python",
   "name": "python3"
  },
  "language_info": {
   "codemirror_mode": {
    "name": "ipython",
    "version": 3
   },
   "file_extension": ".py",
   "mimetype": "text/x-python",
   "name": "python",
   "nbconvert_exporter": "python",
   "pygments_lexer": "ipython3",
   "version": "3.12.1"
  }
 },
 "nbformat": 4,
 "nbformat_minor": 5
}
