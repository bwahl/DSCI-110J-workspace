{
 "cells": [
  {
   "cell_type": "code",
   "execution_count": null,
   "metadata": {},
   "outputs": [],
   "source": [
    "from datascience import *\n",
    "import numpy as np\n",
    "\n",
    "%matplotlib inline\n",
    "import matplotlib.pyplot as plots\n",
    "plots.style.use('fivethirtyeight')"
   ]
  },
  {
   "cell_type": "markdown",
   "metadata": {},
   "source": [
    "# Lecture 15: Probability, Sampling, and Practice with Simulation "
   ]
  },
  {
   "cell_type": "markdown",
   "metadata": {},
   "source": [
    "## Probability"
   ]
  },
  {
   "cell_type": "markdown",
   "metadata": {},
   "source": [
    "### Question:\n",
    "\n",
    "Rick and Morty are two people in a group of 100 people. Suppose a sample of size 2 is chosen, **without replacement**. \n",
    "\n",
    "(a) What is the probability that neither Rick nor Morty appears in the sample?\n",
    "\n",
    "(b) What is the probability that both Rick and Morty appear in the sample?"
   ]
  },
  {
   "cell_type": "code",
   "execution_count": null,
   "metadata": {},
   "outputs": [],
   "source": [
    "# Using a simulation, how would we estimate the answer to (a)?\n",
    "people = np.arange(100)  # 0 represents Rick, 1 represents Morty\n",
    "np.random.choice(people, 2, replace=False)  # one random sample, without replacement"
   ]
  },
  {
   "cell_type": "code",
   "execution_count": null,
   "metadata": {},
   "outputs": [],
   "source": [
    "# The result from one random sample\n",
    "my_sample = np.random.choice(people, 2, replace=False)  \n",
    "if sum(my_sample == 0) > 0:\n",
    "    print(\"Rick was chosen\")\n",
    "else: print(\"Rick was not chosen\")\n",
    "if sum(my_sample == 1) > 0:\n",
    "    print(\"Morty was chosen\")\n",
    "else: print(\"Morty was not chosen\")\n",
    "    "
   ]
  },
  {
   "cell_type": "code",
   "execution_count": null,
   "metadata": {},
   "outputs": [],
   "source": [
    "# Simulate one iteration with a custom function\n",
    "def run_one_iteration():\n",
    "    '''if neither Rick nor Morty is chosen, return True; otherwise, False'''\n",
    "    people = np.arange(100)  # 0 represents Rick, 1 represents Morty\n",
    "    my_sample = np.random.choice(people, 2, replace=False)  \n",
    "    if 0 not in my_sample and 1 not in my_sample:\n",
    "        return True\n",
    "    else:\n",
    "        return False\n",
    "\n",
    "run_one_iteration()"
   ]
  },
  {
   "cell_type": "code",
   "execution_count": null,
   "metadata": {},
   "outputs": [],
   "source": [
    "# Now use a for loop to run 10,000 iterations\n",
    "num_iters = 10000\n",
    "results = make_array()  # to accumulate the results\n",
    "for i in range(num_iters):\n",
    "    neither_chosen = run_one_iteration()\n",
    "    results = np.append(results, neither_chosen)\n",
    "\n",
    "results"
   ]
  },
  {
   "cell_type": "code",
   "execution_count": null,
   "metadata": {},
   "outputs": [],
   "source": [
    "# The only problem starting with an empty array is, we ended up with the wrong data type\n",
    "# `astype()` lets us convert the values in an array to a different type\n",
    "results = results.astype('bool')  \n",
    "results"
   ]
  },
  {
   "cell_type": "code",
   "execution_count": null,
   "metadata": {},
   "outputs": [],
   "source": [
    "results_tbl = Table().with_column('Neither Chosen', results).group('Neither Chosen')\n",
    "results_tbl.show()"
   ]
  },
  {
   "cell_type": "code",
   "execution_count": null,
   "metadata": {},
   "outputs": [],
   "source": [
    "neither_chosen_proportion = (\n",
    "    results_tbl.where('Neither Chosen', True)\n",
    "    .column('count').item(0) / num_iters\n",
    ")\n",
    "print(\"Estimated Probability:\", neither_chosen_proportion)"
   ]
  },
  {
   "cell_type": "markdown",
   "metadata": {},
   "source": [
    "**The theoretical calculation**:\n",
    "\n",
    "  - If we want to get neither Rick nor Morty, then we need the first person chosen to be one of 98 other possible people. That has a probability of 98 / 100\n",
    "  - Given that the first person chosen was neither Rick nor Morty, the probability that the second person chosen is neither Rick nor Morty is 97 / 99 (why?).\n",
    "  - By the Multiplication Rule, the probability that the sample includes neither Rick nor Morty is $(98/100)(97/99)$."
   ]
  },
  {
   "cell_type": "code",
   "execution_count": null,
   "metadata": {},
   "outputs": [],
   "source": [
    "(98/100) * (97/99)"
   ]
  },
  {
   "cell_type": "code",
   "execution_count": null,
   "metadata": {},
   "outputs": [],
   "source": [
    "# Using a simulation, how would we estimate the answer to (b)?\n",
    "\n",
    "# Recall, we are wondering about the probability that both Rick and Morty are chosen\n",
    "# Redefine run_one_iteration to return True only when both are chosen\n",
    "\n",
    "def run_one_iteration():\n",
    "    '''if both Rick and Morty are chosen, return True; otherwise, False'''\n",
    "    people = np.arange(100)  # 0 represents Rick, 1 represents Morty\n",
    "    my_sample = np.random.choice(people, 2, replace=False)  \n",
    "    if 0 in my_sample and 1 in my_sample:\n",
    "        return True\n",
    "    else:\n",
    "        return False\n",
    "\n",
    "run_one_iteration()\n"
   ]
  },
  {
   "cell_type": "code",
   "execution_count": null,
   "metadata": {},
   "outputs": [],
   "source": [
    "# Now use a for loop to run 10,000 iterations\n",
    "num_iters = 10000\n",
    "results = make_array()  # to accumulate the results\n",
    "for i in range(num_iters):\n",
    "    neither_chosen = run_one_iteration()\n",
    "    results = np.append(results, neither_chosen)\n",
    "\n",
    "results = results.astype('bool')  \n",
    "results"
   ]
  },
  {
   "cell_type": "code",
   "execution_count": null,
   "metadata": {},
   "outputs": [],
   "source": [
    "# Make a table to show the results, and group by 'Both Chosen'\n",
    "results_tbl = Table().with_column('Both Chosen', results).group('Both Chosen')\n",
    "results_tbl.show()\n",
    "neither_chosen_proportion = results_tbl.where('Both Chosen', True).column('count').item(0) / num_iters\n",
    "print(\"Estimated Probability:\", neither_chosen_proportion)"
   ]
  },
  {
   "cell_type": "markdown",
   "metadata": {},
   "source": [
    "**The theoretical calculation**:\n",
    "\n",
    "  - If we want to get *both* Rick and Morty, then we need the first person chosen to be Rick or Morty; that probability is 2/100.\n",
    "  - Given that the first person chosen was Rick or Morty, what is the probability that the second person is also Rick or Morty? 1/99 (why?).\n",
    "  - By the Multiplication Rule, the probability that both Rick and Morty are chosen is  $(2/100)(1/99)$."
   ]
  },
  {
   "cell_type": "code",
   "execution_count": null,
   "metadata": {},
   "outputs": [],
   "source": [
    "(2/100)*(1/99)"
   ]
  },
  {
   "cell_type": "markdown",
   "metadata": {},
   "source": [
    "## Random Sampling ##"
   ]
  },
  {
   "cell_type": "markdown",
   "metadata": {},
   "source": [
    "We load in a dataset of all nation United flights out of San Francisco from 6/1/15 to 8/9/15, their destination, and how long the departure was delayed (in minutes)."
   ]
  },
  {
   "cell_type": "code",
   "execution_count": null,
   "metadata": {},
   "outputs": [],
   "source": [
    "united = Table.read_table('united.csv')\n",
    "\n",
    "# Notice how we label each row with its index using `np.arange`\n",
    "united = united.with_column('Row', np.arange(united.num_rows)).move_to_start('Row')\n",
    "united\n",
    "\n",
    "# Note: Delay is measured in minutes"
   ]
  },
  {
   "cell_type": "markdown",
   "metadata": {},
   "source": [
    "Some deterministic samples:"
   ]
  },
  {
   "cell_type": "code",
   "execution_count": null,
   "metadata": {},
   "outputs": [],
   "source": [
    "# Here is a deterministic sample\n",
    "# If we use this sampling method again, we get the exact same result\n",
    "united.where('Destination', 'JFK') "
   ]
  },
  {
   "cell_type": "code",
   "execution_count": null,
   "metadata": {},
   "outputs": [],
   "source": [
    "# Here is another deterministic sample\n",
    "united.take(np.arange(0, united.num_rows, 1000))"
   ]
  },
  {
   "cell_type": "code",
   "execution_count": null,
   "metadata": {},
   "outputs": [],
   "source": [
    "# And another deterministic sample\n",
    "united.take(make_array(34, 6321, 10040, 12345, 175))"
   ]
  },
  {
   "cell_type": "markdown",
   "metadata": {},
   "source": [
    "A **random sample** is chosen with the help of a random process."
   ]
  },
  {
   "cell_type": "code",
   "execution_count": null,
   "metadata": {},
   "outputs": [],
   "source": [
    "# Here's a random sample\n",
    "# It is \"systematic\", not \"simple\": from a random starting point, take every 1000th flight\n",
    "# Notice that resampling gives a different sample\n",
    "start = np.random.choice(np.arange(1000))\n",
    "systematic_sample = united.take(np.arange(start, united.num_rows, 1000))\n",
    "systematic_sample.show()"
   ]
  },
  {
   "cell_type": "markdown",
   "metadata": {},
   "source": [
    "## Distributions ##"
   ]
  },
  {
   "cell_type": "code",
   "execution_count": null,
   "metadata": {},
   "outputs": [],
   "source": [
    "# Start with a simpler example than plane flights\n",
    "die = Table().with_column('Face', np.arange(1, 7))\n",
    "die"
   ]
  },
  {
   "cell_type": "code",
   "execution_count": null,
   "metadata": {},
   "outputs": [],
   "source": [
    "# When the unique values are in a 1-column table, we can use the `sample()` method\n",
    "die.sample(10)"
   ]
  },
  {
   "cell_type": "code",
   "execution_count": null,
   "metadata": {},
   "outputs": [],
   "source": [
    "# The theoretical distribution for one die roll\n",
    "my_bins = np.arange(-0.5, 6.6, 1)\n",
    "die.hist(bins=my_bins)"
   ]
  },
  {
   "cell_type": "code",
   "execution_count": null,
   "metadata": {},
   "outputs": [],
   "source": [
    "# Here's an empirical histogram, based on 10 trials\n",
    "die.sample(10).hist(bins=my_bins)"
   ]
  },
  {
   "cell_type": "code",
   "execution_count": null,
   "metadata": {},
   "outputs": [],
   "source": [
    "# Here's an empirical histogram, based on 100 trials\n",
    "die.sample(100).hist(bins=my_bins)"
   ]
  },
  {
   "cell_type": "code",
   "execution_count": null,
   "metadata": {},
   "outputs": [],
   "source": [
    "# And 10000 samples\n",
    "die.sample(10000).hist(bins=my_bins)"
   ]
  },
  {
   "cell_type": "markdown",
   "metadata": {},
   "source": [
    "## Large Random Samples ##"
   ]
  },
  {
   "cell_type": "code",
   "execution_count": null,
   "metadata": {},
   "outputs": [],
   "source": [
    "# Recall our population of plane flights from San Francisco\n",
    "united "
   ]
  },
  {
   "cell_type": "code",
   "execution_count": null,
   "metadata": {},
   "outputs": [],
   "source": [
    "# Distribution of the population\n",
    "united_bins = np.arange(-20, 201, 5)\n",
    "united.hist('Delay', bins = united_bins)"
   ]
  },
  {
   "cell_type": "code",
   "execution_count": null,
   "metadata": {},
   "outputs": [],
   "source": [
    "# What is the smallest delay?\n",
    "min(united.column('Delay'))"
   ]
  },
  {
   "cell_type": "markdown",
   "metadata": {},
   "source": [
    "Note: A negative delay means the flight actually departed early"
   ]
  },
  {
   "cell_type": "code",
   "execution_count": null,
   "metadata": {
    "scrolled": true
   },
   "outputs": [],
   "source": [
    "# What is the largest delay?\n",
    "max(united.column('Delay'))"
   ]
  },
  {
   "cell_type": "markdown",
   "metadata": {},
   "source": [
    "580 minutes is almost 10 hours late. Sad."
   ]
  },
  {
   "cell_type": "code",
   "execution_count": null,
   "metadata": {},
   "outputs": [],
   "source": [
    "# Population mean delay?\n",
    "np.average(united.column('Delay'))"
   ]
  },
  {
   "cell_type": "code",
   "execution_count": null,
   "metadata": {},
   "outputs": [],
   "source": [
    "# Now we take a simple random sample of size 10 and visualize it\n",
    "united.sample(10).hist('Delay', bins = united_bins)"
   ]
  },
  {
   "cell_type": "code",
   "execution_count": null,
   "metadata": {},
   "outputs": [],
   "source": [
    "# A larger sample size\n",
    "united.sample(1000).hist('Delay', bins = united_bins)"
   ]
  },
  {
   "cell_type": "markdown",
   "metadata": {},
   "source": [
    "## Simulating Statistics ##"
   ]
  },
  {
   "cell_type": "code",
   "execution_count": null,
   "metadata": {},
   "outputs": [],
   "source": [
    "# The median of an array is the middle number (after sorting)\n",
    "# A summary value computed from the entire population is called a **parameter** \n",
    "# (Not a statistic.)\n",
    "# Notice the value of a parameter does not depend on sampling.\n",
    "np.median(united.column('Delay'))"
   ]
  },
  {
   "cell_type": "code",
   "execution_count": null,
   "metadata": {},
   "outputs": [],
   "source": [
    "# Here's the median as a statistic\n",
    "# Notice the value of a statistic varies each time we take a new random sample:\n",
    "np.median(united.sample(10).column('Delay'))"
   ]
  },
  {
   "cell_type": "code",
   "execution_count": null,
   "metadata": {},
   "outputs": [],
   "source": [
    "# As sample size increases, the median becomes more stable; it settles in near the \n",
    "# median of the population\n",
    "# Here's the median as a statistic\n",
    "# Notice the value of a statistic varies each time we take a new random sample:\n",
    "for sample_size in np.arange(1,10000,1000):\n",
    "    print(np.median(united.sample(sample_size).column('Delay')))\n",
    "    print(np.median(united.sample(sample_size).column('Delay')))\n",
    "    print(np.median(united.sample(sample_size).column('Delay')))"
   ]
  },
  {
   "cell_type": "code",
   "execution_count": null,
   "metadata": {},
   "outputs": [],
   "source": [
    "# a helper function\n",
    "def sample_median(size):\n",
    "    return np.median(united.sample(size).column('Delay'))\n",
    "\n",
    "# collect up the statistics \n",
    "sample_size = make_array()\n",
    "results = make_array()\n",
    "for size in [1, 2, 4, 8, 16, 32, 64, 100, 200, 300, 400, 500, 600, 700]:\n",
    "    for rep in [1, 2, 3]:\n",
    "        sample_size = np.append(sample_size, size)\n",
    "        median = sample_median(size)\n",
    "        results = np.append(results, median)\n",
    "    \n",
    "# visualize with a scatterplot\n",
    "# how does the sample median vary under repeated sampling, compared to sample size?\n",
    "medians_tbl = Table().with_columns('Sample Size', sample_size, 'Median', results)\n",
    "medians_tbl.scatter('Sample Size', 'Median')"
   ]
  },
  {
   "cell_type": "code",
   "execution_count": null,
   "metadata": {},
   "outputs": [],
   "source": []
  }
 ],
 "metadata": {
  "anaconda-cloud": {},
  "kernelspec": {
   "display_name": "Python 3 (ipykernel)",
   "language": "python",
   "name": "python3"
  },
  "language_info": {
   "codemirror_mode": {
    "name": "ipython",
    "version": 3
   },
   "file_extension": ".py",
   "mimetype": "text/x-python",
   "name": "python",
   "nbconvert_exporter": "python",
   "pygments_lexer": "ipython3",
   "version": "3.12.1"
  }
 },
 "nbformat": 4,
 "nbformat_minor": 4
}
