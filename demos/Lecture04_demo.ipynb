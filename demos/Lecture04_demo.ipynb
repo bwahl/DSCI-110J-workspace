{
 "cells": [
  {
   "cell_type": "markdown",
   "id": "668600e1",
   "metadata": {},
   "source": [
    "# Demos for Lecture 04: Data Types"
   ]
  },
  {
   "cell_type": "code",
   "execution_count": null,
   "id": "383d8804",
   "metadata": {},
   "outputs": [],
   "source": [
    "import datascience\n",
    "import numpy as np"
   ]
  },
  {
   "cell_type": "markdown",
   "id": "841271f7",
   "metadata": {},
   "source": [
    "## Names"
   ]
  },
  {
   "cell_type": "code",
   "execution_count": null,
   "id": "5c1be8b9",
   "metadata": {},
   "outputs": [],
   "source": [
    "(6.862 - 6.755)/6.755"
   ]
  },
  {
   "cell_type": "markdown",
   "id": "3f339b0c",
   "metadata": {},
   "source": [
    "If we make a calculation without using names to document the meanings, it can get very confusing! Compare the previous cell with the following:"
   ]
  },
  {
   "cell_type": "markdown",
   "id": "ee98e6f8",
   "metadata": {},
   "source": [
    "Indiana's population in 2020 was 6.755 million. In 2023 it was 6.862 million. What was the growth rate of Indiana's population over this 3-year period?"
   ]
  },
  {
   "cell_type": "code",
   "execution_count": null,
   "id": "303b6c0d",
   "metadata": {},
   "outputs": [],
   "source": [
    "IN_pop_millions_2020 = 6.755\n",
    "IN_pop_millions_2023 = 6.862\n",
    "growth_rate_over_3_years = IN_pop_millions_2023 / IN_pop_millions_2020 - 1\n",
    "growth_rate_over_3_years"
   ]
  },
  {
   "cell_type": "markdown",
   "id": "6208e34e",
   "metadata": {},
   "source": [
    "Descriptive names are important in code, because they help us communicate our ideas."
   ]
  },
  {
   "cell_type": "code",
   "execution_count": null,
   "id": "ea0b0bb9",
   "metadata": {},
   "outputs": [],
   "source": []
  },
  {
   "cell_type": "markdown",
   "id": "6c108651",
   "metadata": {},
   "source": [
    "## Numbers"
   ]
  },
  {
   "cell_type": "code",
   "execution_count": null,
   "id": "3d7f6de3",
   "metadata": {},
   "outputs": [],
   "source": [
    "# 10 * 3 is an integer (data type is int)\n",
    "print(type(10 * 3))\n",
    "10 * 3"
   ]
  },
  {
   "cell_type": "code",
   "execution_count": null,
   "id": "a48cc200",
   "metadata": {},
   "outputs": [],
   "source": [
    "# 10 / 3 is a floating-point number (data type is float)\n",
    "print(type(10 / 3))\n",
    "10 / 3"
   ]
  },
  {
   "cell_type": "markdown",
   "id": "e7cc1845",
   "metadata": {},
   "source": [
    "Is it a mathematical fact that 10 divided by 3 equals 3.3333333333333335?\n",
    "\n",
    "What's going on here? \n",
    "\n",
    "  - How many significant figures does Python use when storing a floating-point number?\n",
    "  - What does \"floating\" mean in this context?\n",
    "  - Is it a problem that Python can't represent 10 / 3 exactly? Would another programming language do a better job?\n",
    "  - Do integers also suffer from finite precision and rounding errors?"
   ]
  },
  {
   "cell_type": "code",
   "execution_count": null,
   "id": "28616b1a",
   "metadata": {},
   "outputs": [],
   "source": [
    "# Pi is a float in Python; does Python know the EXACT value of Pi?\n",
    "import math\n",
    "math.pi"
   ]
  },
  {
   "cell_type": "code",
   "execution_count": null,
   "id": "8e4fab32",
   "metadata": {},
   "outputs": [],
   "source": [
    "# Notice Pi Squared has the same number of significant digits as Pi\n",
    "math.pi**2"
   ]
  },
  {
   "cell_type": "code",
   "execution_count": null,
   "id": "9e5de3ac",
   "metadata": {},
   "outputs": [],
   "source": [
    "# But when we raise an integer to an integer power, it picks up extra digits ...\n",
    "12345**67"
   ]
  },
  {
   "cell_type": "markdown",
   "id": "482333c9",
   "metadata": {},
   "source": [
    "Explain what's happening in this next calculation:"
   ]
  },
  {
   "cell_type": "code",
   "execution_count": null,
   "id": "72a4d69c",
   "metadata": {},
   "outputs": [],
   "source": [
    "123456789.111111111111111111111111111111111 - 123456789.1111111"
   ]
  },
  {
   "cell_type": "code",
   "execution_count": null,
   "id": "d124f42c",
   "metadata": {},
   "outputs": [],
   "source": [
    "# What about this one? Notice the use of scientific notation:\n",
    "5e-30 + 5e30"
   ]
  },
  {
   "cell_type": "markdown",
   "id": "932dec96",
   "metadata": {},
   "source": [
    "Takeaway: If we need to make **exact** calculations in a Python program, we should use integers."
   ]
  },
  {
   "cell_type": "code",
   "execution_count": null,
   "id": "b30af886",
   "metadata": {},
   "outputs": [],
   "source": []
  },
  {
   "cell_type": "markdown",
   "id": "1f3b2f71",
   "metadata": {},
   "source": [
    "## Strings"
   ]
  },
  {
   "cell_type": "code",
   "execution_count": null,
   "id": "f5b958ca",
   "metadata": {},
   "outputs": [],
   "source": [
    "# A string represents text\n",
    "print(type(\"Flavor\"))\n",
    "\"Flavor\""
   ]
  },
  {
   "cell_type": "code",
   "execution_count": null,
   "id": "74a4dad6",
   "metadata": {},
   "outputs": [],
   "source": [
    "Flavor"
   ]
  },
  {
   "cell_type": "code",
   "execution_count": null,
   "id": "e74a148d",
   "metadata": {},
   "outputs": [],
   "source": [
    "# The text can have spaces\n",
    "\"Vanilla Flavor\""
   ]
  },
  {
   "cell_type": "code",
   "execution_count": null,
   "id": "f6389b20",
   "metadata": {},
   "outputs": [],
   "source": [
    "# or digits\n",
    "\"12345\""
   ]
  },
  {
   "cell_type": "code",
   "execution_count": null,
   "id": "97f6041e",
   "metadata": {},
   "outputs": [],
   "source": [
    "# or an apostrophe\n",
    "\"Don't forget to brush your teeth\""
   ]
  },
  {
   "cell_type": "code",
   "execution_count": null,
   "id": "4964547e",
   "metadata": {},
   "outputs": [],
   "source": [
    "# or quotation marks\n",
    "'She said, \"For sure!\"'"
   ]
  },
  {
   "cell_type": "code",
   "execution_count": null,
   "id": "298a5f52",
   "metadata": {},
   "outputs": [],
   "source": [
    "# we can assign a string value to a variable\n",
    "greeting = \"hello\"\n",
    "greeting"
   ]
  },
  {
   "cell_type": "code",
   "execution_count": null,
   "id": "da3dacaf",
   "metadata": {},
   "outputs": [],
   "source": [
    "# we can concatenate strings with +\n",
    "greeting + \" \" + greeting"
   ]
  },
  {
   "cell_type": "code",
   "execution_count": null,
   "id": "f9c304d8",
   "metadata": {},
   "outputs": [],
   "source": [
    "greeting + \" students\""
   ]
  },
  {
   "cell_type": "code",
   "execution_count": null,
   "id": "469e24a5",
   "metadata": {},
   "outputs": [],
   "source": [
    "# we can concatenate a string with itself three times\n",
    "greeting * 3"
   ]
  },
  {
   "cell_type": "code",
   "execution_count": null,
   "id": "511a502b",
   "metadata": {},
   "outputs": [],
   "source": [
    "# we can convert an integer to a string with the str() function\n",
    "str(123)"
   ]
  },
  {
   "cell_type": "code",
   "execution_count": null,
   "id": "7243a619",
   "metadata": {},
   "outputs": [],
   "source": [
    "# and we can convert a string of digits to an integer\n",
    "int('123') + 456"
   ]
  },
  {
   "cell_type": "code",
   "execution_count": null,
   "id": "cf16549b",
   "metadata": {},
   "outputs": [],
   "source": [
    "# or to a float\n",
    "float(\"3.14\")"
   ]
  },
  {
   "cell_type": "code",
   "execution_count": null,
   "id": "21bb9aea",
   "metadata": {},
   "outputs": [],
   "source": []
  },
  {
   "cell_type": "markdown",
   "id": "f5d6a5a6",
   "metadata": {},
   "source": [
    "## Types"
   ]
  },
  {
   "cell_type": "code",
   "execution_count": null,
   "id": "9b14e5ec",
   "metadata": {},
   "outputs": [],
   "source": [
    "# what is the data type of 10?\n",
    "type(10)"
   ]
  },
  {
   "cell_type": "code",
   "execution_count": null,
   "id": "ab6c6fcb",
   "metadata": {},
   "outputs": [],
   "source": [
    "# mathematically, 10.0 is an integer. But Python stores it as a float, \n",
    "# because it has a decimal point\n",
    "type(10.0)"
   ]
  },
  {
   "cell_type": "code",
   "execution_count": null,
   "id": "8bf04509",
   "metadata": {},
   "outputs": [],
   "source": [
    "# What is the type of \"hi\"?\n",
    "type(\"hi\")"
   ]
  },
  {
   "cell_type": "code",
   "execution_count": null,
   "id": "ae9c45af",
   "metadata": {},
   "outputs": [],
   "source": [
    "# What type of data is returned by Table.read_table(...)?\n",
    "\n",
    "from datascience import *\n",
    "t = Table.read_table('nba_salaries.csv')\n",
    "type(t)"
   ]
  },
  {
   "cell_type": "code",
   "execution_count": null,
   "id": "d3b5ba7e-3713-488b-80e0-be9e37848365",
   "metadata": {},
   "outputs": [],
   "source": [
    "# A Boolean value in Python is either True or False\n",
    "type(True)"
   ]
  },
  {
   "cell_type": "code",
   "execution_count": null,
   "id": "7d0b0fa3-e739-4922-a16b-2f8c0d813d40",
   "metadata": {},
   "outputs": [],
   "source": [
    "type(False)"
   ]
  },
  {
   "cell_type": "code",
   "execution_count": null,
   "id": "08112c75",
   "metadata": {},
   "outputs": [],
   "source": [
    "# What type of data is enclosed by square brackets?\n",
    "type(['cat', 3, True])  "
   ]
  },
  {
   "cell_type": "markdown",
   "id": "da3a823e-e20a-4e80-98bf-42e67257c196",
   "metadata": {},
   "source": [
    "Notice that the values in a list do not need to all be of the same data type. The list in the previous cell has a string, an integer, and a boolean."
   ]
  },
  {
   "cell_type": "code",
   "execution_count": null,
   "id": "4f071a36",
   "metadata": {},
   "outputs": [],
   "source": [
    "# What type is abs?\n",
    "type(abs)"
   ]
  },
  {
   "cell_type": "code",
   "execution_count": null,
   "id": "0c8efa6d",
   "metadata": {},
   "outputs": [],
   "source": [
    "# What type is datascience?\n",
    "type(datascience)"
   ]
  },
  {
   "cell_type": "code",
   "execution_count": null,
   "id": "8d2721e7-6688-46ff-8258-5a2196bcf957",
   "metadata": {},
   "outputs": [],
   "source": []
  },
  {
   "cell_type": "markdown",
   "id": "9ae35c1f",
   "metadata": {},
   "source": [
    "## Arrays"
   ]
  },
  {
   "cell_type": "markdown",
   "id": "6f8f4bd3",
   "metadata": {},
   "source": [
    "An array is a sequence of values, all of the same type."
   ]
  },
  {
   "cell_type": "code",
   "execution_count": null,
   "id": "086bf954",
   "metadata": {},
   "outputs": [],
   "source": [
    "first_four = make_array(1, 2, 3, 4)\n",
    "first_four"
   ]
  },
  {
   "cell_type": "code",
   "execution_count": null,
   "id": "f5ac3f12",
   "metadata": {},
   "outputs": [],
   "source": [
    "type(first_four)"
   ]
  },
  {
   "cell_type": "markdown",
   "id": "684d2121",
   "metadata": {},
   "source": [
    "When you have an array, you can perform Numpy operations on it:"
   ]
  },
  {
   "cell_type": "code",
   "execution_count": null,
   "id": "678328d0",
   "metadata": {},
   "outputs": [],
   "source": [
    "np.average(first_four)"
   ]
  },
  {
   "cell_type": "code",
   "execution_count": null,
   "id": "48ecac41",
   "metadata": {},
   "outputs": [],
   "source": [
    "np.max(first_four)"
   ]
  },
  {
   "cell_type": "code",
   "execution_count": null,
   "id": "5898498f",
   "metadata": {},
   "outputs": [],
   "source": [
    "np.sum(first_four)"
   ]
  },
  {
   "cell_type": "code",
   "execution_count": null,
   "id": "da01d15c",
   "metadata": {},
   "outputs": [],
   "source": [
    "first_four + 3"
   ]
  },
  {
   "cell_type": "code",
   "execution_count": null,
   "id": "fd598728",
   "metadata": {},
   "outputs": [],
   "source": [
    "first_four * 10"
   ]
  },
  {
   "cell_type": "code",
   "execution_count": null,
   "id": "622c436d",
   "metadata": {},
   "outputs": [],
   "source": [
    "first_four ** 2"
   ]
  },
  {
   "cell_type": "code",
   "execution_count": null,
   "id": "0335810e",
   "metadata": {},
   "outputs": [],
   "source": [
    "second_four = make_array(5, 6, 7, 8)\n",
    "print(first_four)\n",
    "print(second_four)"
   ]
  },
  {
   "cell_type": "code",
   "execution_count": null,
   "id": "6343292e",
   "metadata": {},
   "outputs": [],
   "source": [
    "first_four + second_four"
   ]
  },
  {
   "cell_type": "code",
   "execution_count": null,
   "id": "61034295",
   "metadata": {},
   "outputs": [],
   "source": [
    "first_four * second_four"
   ]
  },
  {
   "cell_type": "code",
   "execution_count": null,
   "id": "5c2b1b6b",
   "metadata": {},
   "outputs": [],
   "source": [
    "# Use array.item() to index into an array\n",
    "# Indexing starts at 0 in Python, so the item at index 1 is \n",
    "# the SECOND item in the array\n",
    "animals = make_array('cat', 'dog', 'monkey')\n",
    "animals.item(1)"
   ]
  },
  {
   "cell_type": "code",
   "execution_count": null,
   "id": "dfb7c88f",
   "metadata": {},
   "outputs": [],
   "source": []
  }
 ],
 "metadata": {
  "kernelspec": {
   "display_name": "Python 3 (ipykernel)",
   "language": "python",
   "name": "python3"
  },
  "language_info": {
   "codemirror_mode": {
    "name": "ipython",
    "version": 3
   },
   "file_extension": ".py",
   "mimetype": "text/x-python",
   "name": "python",
   "nbconvert_exporter": "python",
   "pygments_lexer": "ipython3",
   "version": "3.12.1"
  }
 },
 "nbformat": 4,
 "nbformat_minor": 5
}
