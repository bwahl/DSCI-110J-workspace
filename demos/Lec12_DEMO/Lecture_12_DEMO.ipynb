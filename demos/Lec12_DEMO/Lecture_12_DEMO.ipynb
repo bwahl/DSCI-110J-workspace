{
 "cells": [
  {
   "cell_type": "code",
   "execution_count": null,
   "metadata": {},
   "outputs": [],
   "source": [
    "from datascience import *\n",
    "%matplotlib inline\n",
    "path_data = '../../../assets/data/'\n",
    "import matplotlib.pyplot as plt\n",
    "plt.style.use('fivethirtyeight')\n",
    "import numpy as np\n"
   ]
  },
  {
   "cell_type": "markdown",
   "metadata": {},
   "source": [
    "# Lecture 12: Table Examples"
   ]
  },
  {
   "cell_type": "markdown",
   "metadata": {},
   "source": [
    "## A Join Example ##"
   ]
  },
  {
   "cell_type": "code",
   "execution_count": null,
   "metadata": {},
   "outputs": [],
   "source": [
    "# Here are the census data we saw previously\n",
    "full = Table.read_table('nc-est2019-agesex-res.csv')\n",
    "full.show(3)\n",
    "\n",
    "# Select the columns for age, sex, and population estimate 2019\n",
    "census = full.select('SEX', 'AGE', 'POPESTIMATE2019')\n",
    "census.show(3)"
   ]
  },
  {
   "cell_type": "code",
   "execution_count": null,
   "metadata": {},
   "outputs": [],
   "source": [
    "# The values in the SEX column are codes, and need some explanation\n",
    "sex_codes = Table().with_columns(\n",
    "    'SEX CODE', make_array(0, 1, 2),\n",
    "    'CODE DEFINITION', make_array('All', 'Selected Male', 'Selected Female')\n",
    ")\n",
    "sex_codes"
   ]
  },
  {
   "cell_type": "code",
   "execution_count": null,
   "metadata": {},
   "outputs": [],
   "source": [
    "# Joining the tables lets us add annotations to the census table rows\n",
    "sex_codes.join('SEX CODE', census, 'SEX').sort('AGE').show(9)"
   ]
  },
  {
   "cell_type": "code",
   "execution_count": null,
   "metadata": {},
   "outputs": [],
   "source": [
    "# How would the result be different if we used the tables in the opposite order?\n",
    "census.join('SEX', sex_codes, 'SEX CODE').sort('AGE').show(9)"
   ]
  },
  {
   "cell_type": "markdown",
   "metadata": {},
   "source": [
    "**Back to Slides...**"
   ]
  },
  {
   "cell_type": "code",
   "execution_count": null,
   "metadata": {},
   "outputs": [],
   "source": []
  },
  {
   "cell_type": "code",
   "execution_count": null,
   "metadata": {},
   "outputs": [],
   "source": []
  },
  {
   "cell_type": "code",
   "execution_count": null,
   "metadata": {},
   "outputs": [],
   "source": []
  },
  {
   "cell_type": "code",
   "execution_count": null,
   "metadata": {},
   "outputs": [],
   "source": []
  },
  {
   "cell_type": "markdown",
   "metadata": {},
   "source": [
    "## Bike Sharing ##"
   ]
  },
  {
   "cell_type": "code",
   "execution_count": null,
   "metadata": {},
   "outputs": [],
   "source": [
    "# Load the data on hourly bike sharing in the Bay Area -- over 243,000 bike trips!\n",
    "trip = Table.read_table('trip.csv')\n",
    "trip.show(3)"
   ]
  },
  {
   "cell_type": "markdown",
   "metadata": {},
   "source": [
    "The trip begins when the rider checks the bike out from the start station, and the trip ends when they check the bike in at the end station."
   ]
  },
  {
   "cell_type": "markdown",
   "metadata": {},
   "source": [
    "## Distribution of Durations ##"
   ]
  },
  {
   "cell_type": "code",
   "execution_count": null,
   "metadata": {},
   "outputs": [],
   "source": [
    "# To investigate the distribution of trip durations, we make a histogram\n",
    "trip.hist('Duration')"
   ]
  },
  {
   "cell_type": "markdown",
   "metadata": {},
   "source": [
    "This often happens -- we plot a histogram for unfamiliar data, and the result is strange. \n",
    "\n",
    "We need to investigate: Why is the x-axis being scaled out to 2 million? Are there some extremely large 'Duration' values? What is the unit label for Duration, anyway?"
   ]
  },
  {
   "cell_type": "code",
   "execution_count": null,
   "metadata": {},
   "outputs": [],
   "source": [
    "# To get a peek at the largest duration values, we sort into descending order by Duration\n",
    "trip.sort('Duration', descending=True)"
   ]
  },
  {
   "cell_type": "code",
   "execution_count": null,
   "metadata": {},
   "outputs": [],
   "source": [
    "# How many seconds in a month?\n",
    "seconds_per_month = 30 * 24 * 60 * 60\n",
    "print(seconds_per_month, \"seconds per month\")\n",
    "\n",
    "# How many seconds in a 30-minute trip?\n",
    "print(60*30, \"seconds per half hour\")"
   ]
  },
  {
   "cell_type": "code",
   "execution_count": null,
   "metadata": {},
   "outputs": [],
   "source": [
    "# In fact, most of the trips were below 30 minutes because subscribers could\n",
    "# get a free trip as long as it was not more than 30 minutes.\n",
    "\n",
    "# Let's view the part of the distribution for short trips: less than 30 minutes.\n",
    "commute = trip.where('Duration', are.below(1800))\n",
    "commute.hist('Duration')\n",
    "\n",
    "plt.title(\"Duration in Seconds for Trips of Less than 30 Minutes\");"
   ]
  },
  {
   "cell_type": "code",
   "execution_count": null,
   "metadata": {},
   "outputs": [],
   "source": [
    "# What percentage of all the trips were \"short\"?\n",
    "..."
   ]
  },
  {
   "cell_type": "code",
   "execution_count": null,
   "metadata": {},
   "outputs": [],
   "source": [
    "# Custom bins can make a clearer histogram; let's make the bins 250 seconds wide\n",
    "# And using the `unit` keyword can help, too\n",
    "commute.hist('Duration', bins=np.arange(0, 1800, 250), unit='Second')\n",
    "plt.title(\"Duration in Seconds for Trips of Less than 30 Minutes\");"
   ]
  },
  {
   "cell_type": "markdown",
   "metadata": {},
   "source": [
    "The rectangle for bin \\[250, 500) is about 0.15 in height. How do we find the area of that rectangle, and how do we interpret that area?"
   ]
  },
  {
   "cell_type": "code",
   "execution_count": null,
   "metadata": {},
   "outputs": [],
   "source": [
    "base = 500 - 250\n",
    "height = 0.15\n",
    "area = base * height\n",
    "# area units: percent\n",
    "print(\"About\", area, \"percent of short trips last between 250 and 500 seconds.\")"
   ]
  },
  {
   "cell_type": "code",
   "execution_count": null,
   "metadata": {},
   "outputs": [],
   "source": [
    "# We can check this by computing the exact percentage.\n",
    "# Remember, `commute` is the table of short trips only.\n",
    "bin_count = (\n",
    "    commute.where('Duration', are.between(250, 500))\n",
    "    .num_rows\n",
    ")\n",
    "bin_count"
   ]
  },
  {
   "cell_type": "code",
   "execution_count": null,
   "metadata": {},
   "outputs": [],
   "source": [
    "bin_count / commute.num_rows * 100"
   ]
  },
  {
   "cell_type": "markdown",
   "metadata": {},
   "source": [
    "In fact, 37.95% of short trips are at least 250 seconds long and less than 300 seconds long. Our estimate was pretty close.\n",
    "\n",
    "Why is our histogram so ugly and \"blocky\" looking? Can we show more detail of the distribution?"
   ]
  },
  {
   "cell_type": "code",
   "execution_count": null,
   "metadata": {},
   "outputs": [],
   "source": [
    "# We can set bins to 60, and we'll get 60 bins/rectangles.\n",
    "print(\"Width of each bin is\", 1800/60, \"seconds\")\n",
    "commute.hist('Duration', bins=60, unit='Second')"
   ]
  },
  {
   "cell_type": "markdown",
   "metadata": {},
   "source": [
    "Notice that the y-scale is unchanged, because it's scaled by density."
   ]
  },
  {
   "cell_type": "markdown",
   "metadata": {},
   "source": [
    "## Start and End Stations ##"
   ]
  },
  {
   "cell_type": "markdown",
   "metadata": {},
   "source": [
    "Discuss with your neighbor: How can we find the most common starting station?"
   ]
  },
  {
   "cell_type": "code",
   "execution_count": null,
   "metadata": {},
   "outputs": [],
   "source": []
  },
  {
   "cell_type": "code",
   "execution_count": null,
   "metadata": {},
   "outputs": [],
   "source": []
  },
  {
   "cell_type": "code",
   "execution_count": null,
   "metadata": {},
   "outputs": [],
   "source": []
  },
  {
   "cell_type": "code",
   "execution_count": null,
   "metadata": {},
   "outputs": [],
   "source": [
    "# Use `group` to find the most common start station among all trips\n",
    "starts = trip.group('Start Station').sort('count', descending=True)\n",
    "starts"
   ]
  },
  {
   "cell_type": "code",
   "execution_count": null,
   "metadata": {},
   "outputs": [],
   "source": [
    "# Use `column` and `item` to get the name of the most frequent start station\n",
    "starts.column('Start Station').item(0)"
   ]
  },
  {
   "cell_type": "markdown",
   "metadata": {},
   "source": [
    "If we go to Google Maps and search on 'San Franciso Caltrain Townsend at 4th' we can see it on a map of San Francisco."
   ]
  },
  {
   "cell_type": "code",
   "execution_count": null,
   "metadata": {},
   "outputs": [],
   "source": [
    "# Numbers of trips between pairs of stations -- a natural use of `pivot`\n",
    "trip.pivot('Start Station', 'End Station')"
   ]
  },
  {
   "cell_type": "code",
   "execution_count": null,
   "metadata": {},
   "outputs": [],
   "source": [
    "# Average durations of trips between stations\n",
    "trip.pivot('Start Station', 'End Station', values='Duration', collect=np.average)"
   ]
  },
  {
   "cell_type": "markdown",
   "metadata": {},
   "source": [
    "Question: Does it make sense to use average trip duration as a \"proxy\" for the actual distance between the starting and ending stations? Why or why not?"
   ]
  },
  {
   "cell_type": "code",
   "execution_count": null,
   "metadata": {},
   "outputs": [],
   "source": []
  },
  {
   "cell_type": "code",
   "execution_count": null,
   "metadata": {},
   "outputs": [],
   "source": []
  },
  {
   "cell_type": "code",
   "execution_count": null,
   "metadata": {},
   "outputs": [],
   "source": []
  },
  {
   "cell_type": "markdown",
   "metadata": {},
   "source": [
    "A better proxy might be the time for the *fastest* trip between each pair of stations."
   ]
  },
  {
   "cell_type": "markdown",
   "metadata": {},
   "source": [
    "## Fastest Trips between Stations ##"
   ]
  },
  {
   "cell_type": "markdown",
   "metadata": {},
   "source": [
    "How can we find the fastest trip ever between each pair of stations?"
   ]
  },
  {
   "cell_type": "code",
   "execution_count": null,
   "metadata": {},
   "outputs": [],
   "source": [
    "# We'll do this with group (other methods would also work)\n",
    "# Choose the columns of interest\n",
    "duration = trip.select('Start Station', 'End Station', 'Duration')\n",
    "duration"
   ]
  },
  {
   "cell_type": "code",
   "execution_count": null,
   "metadata": {},
   "outputs": [],
   "source": [
    "# We're doing a cross-tabulation\n",
    "# Get one row per pair of stations, start-and-end, and find the minimum duration for each pair\n",
    "shortest = duration.group(['Start Station', 'End Station'], min)\n",
    "shortest.show(5)"
   ]
  },
  {
   "cell_type": "code",
   "execution_count": null,
   "metadata": {},
   "outputs": [],
   "source": [
    "# Let's see a few more rows\n",
    "shortest.show(12)"
   ]
  },
  {
   "cell_type": "markdown",
   "metadata": {},
   "source": [
    "The pivot table we drew previously had lots of 0s. Now they have disappeared. Why?"
   ]
  },
  {
   "cell_type": "markdown",
   "metadata": {},
   "source": [
    "## Discussion question"
   ]
  },
  {
   "cell_type": "markdown",
   "metadata": {},
   "source": [
    "BART is the \"Bay Area Rapid Transit\" system. Find the 5 stations closest to Civic Center BART by minimum trip time."
   ]
  },
  {
   "cell_type": "code",
   "execution_count": null,
   "metadata": {},
   "outputs": [],
   "source": [
    "cc = 'Civic Center BART (7th at Market)'\n",
    "from_cc = (shortest.where('Start Station', cc)\n",
    "    .sort('Duration min'))\n",
    "from_cc.take(np.arange(5))"
   ]
  },
  {
   "cell_type": "markdown",
   "metadata": {},
   "source": [
    "Here's another fun thing we can do: use maps to visualize data! "
   ]
  },
  {
   "cell_type": "markdown",
   "metadata": {},
   "source": [
    "## Maps ##"
   ]
  },
  {
   "cell_type": "code",
   "execution_count": null,
   "metadata": {},
   "outputs": [],
   "source": [
    "# Geographical data on the stations\n",
    "stations = Table.read_table('station.csv').drop(4, 6)\n",
    "stations"
   ]
  },
  {
   "cell_type": "code",
   "execution_count": null,
   "metadata": {},
   "outputs": [],
   "source": [
    "# Maybe we want to find all the bike share stations in San Francisco\n",
    "sf_stations = stations.where('landmark', are.equal_to('San Francisco'))\n",
    "sf_stations.show(5)"
   ]
  },
  {
   "cell_type": "code",
   "execution_count": null,
   "metadata": {},
   "outputs": [],
   "source": [
    "# To use this table as \"map data\", we select latitude, longitude, and name columns,\n",
    "# and relabel the 'name' column as 'labels'\n",
    "sf_stations_map_data = (sf_stations\n",
    " .select('lat', 'long', 'name')\n",
    " .relabeled('name', 'labels'))\n",
    "\n",
    "sf_stations_map_data.show(5)"
   ]
  },
  {
   "cell_type": "code",
   "execution_count": null,
   "metadata": {},
   "outputs": [],
   "source": [
    "# The Marker object is defined in the datascience module\n",
    "# We call `map_table` on it and provide our map data\n",
    "Marker.map_table(sf_stations_map_data)"
   ]
  },
  {
   "cell_type": "code",
   "execution_count": null,
   "metadata": {},
   "outputs": [],
   "source": [
    "# We can use `Circle` instead of `Marker`\n",
    "Circle.map_table(sf_stations_map_data)"
   ]
  },
  {
   "cell_type": "markdown",
   "metadata": {},
   "source": [
    "### Discussion question"
   ]
  },
  {
   "cell_type": "markdown",
   "metadata": {},
   "source": [
    "Map all stations within 4 minutes (minimum ride time) of Civic Center BART."
   ]
  },
  {
   "cell_type": "code",
   "execution_count": null,
   "metadata": {},
   "outputs": [],
   "source": [
    "# from_cc is our table showing stations that are a quick bike trip \n",
    "# away from Civic Center\n",
    "from_cc.show(4)"
   ]
  },
  {
   "cell_type": "code",
   "execution_count": null,
   "metadata": {},
   "outputs": [],
   "source": [
    "# The map_data table holds the information needed to put markers on the map\n",
    "sf_stations_map_data.show(4)"
   ]
  },
  {
   "cell_type": "code",
   "execution_count": null,
   "metadata": {},
   "outputs": [],
   "source": [
    "# We'll need to join the tables somehow to get all the information in one table\n",
    "\n",
    "# Start by limiting the rows of the first table where the end station is\n",
    "# less than 4 minutes bike ride from Civic Center\n",
    "close_cc = from_cc.where('Duration min', are.below(4 * 60))\n",
    "close_cc.show(4)"
   ]
  },
  {
   "cell_type": "code",
   "execution_count": null,
   "metadata": {},
   "outputs": [],
   "source": [
    "# We can join tables by maching up \"End Station\" and \"labels\"\n",
    "# Save the result as a new table, close_markers\n",
    "close_markers = (sf_stations_map_data.join('labels', close_cc, 'End Station')\n",
    "      .select('lat', 'long', 'labels'))\n",
    "\n",
    "# Notice that after joining, we kept only the columns needed for putting markers on a map\n",
    "Marker.map_table(close_markers)"
   ]
  },
  {
   "cell_type": "code",
   "execution_count": null,
   "metadata": {},
   "outputs": [],
   "source": [
    "# To help understand how the map was made, check out the join result\n",
    "sf_stations_map_data.join('labels', close_cc, 'End Station')"
   ]
  },
  {
   "cell_type": "code",
   "execution_count": null,
   "metadata": {},
   "outputs": [],
   "source": []
  }
 ],
 "metadata": {
  "kernelspec": {
   "display_name": "Python 3 (ipykernel)",
   "language": "python",
   "name": "python3"
  },
  "language_info": {
   "codemirror_mode": {
    "name": "ipython",
    "version": 3
   },
   "file_extension": ".py",
   "mimetype": "text/x-python",
   "name": "python",
   "nbconvert_exporter": "python",
   "pygments_lexer": "ipython3",
   "version": "3.12.1"
  }
 },
 "nbformat": 4,
 "nbformat_minor": 4
}
