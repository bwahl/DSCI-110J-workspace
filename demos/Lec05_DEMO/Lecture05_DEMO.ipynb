{
 "cells": [
  {
   "cell_type": "markdown",
   "id": "1063175d",
   "metadata": {
    "editable": true,
    "slideshow": {
     "slide_type": ""
    },
    "tags": []
   },
   "source": [
    "# Lecture 5 Demo: Building Tables"
   ]
  },
  {
   "cell_type": "code",
   "execution_count": 1,
   "id": "2883fb50",
   "metadata": {},
   "outputs": [],
   "source": [
    "from datascience import *\n",
    "import numpy as np"
   ]
  },
  {
   "cell_type": "markdown",
   "id": "5b68c3cf",
   "metadata": {},
   "source": [
    "## Columns of Tables are Arrays"
   ]
  },
  {
   "cell_type": "code",
   "execution_count": null,
   "id": "9ac79ce6",
   "metadata": {},
   "outputs": [],
   "source": [
    "# read the nba_salaries data from local directory\n",
    "nba = Table.read_table('nba_salaries.csv')\n",
    "nba"
   ]
  },
  {
   "cell_type": "code",
   "execution_count": null,
   "id": "abdc5e45",
   "metadata": {},
   "outputs": [],
   "source": [
    "nba.column(3)"
   ]
  },
  {
   "cell_type": "code",
   "execution_count": null,
   "id": "57792e8f",
   "metadata": {},
   "outputs": [],
   "source": [
    "nba.column('team')"
   ]
  },
  {
   "cell_type": "code",
   "execution_count": null,
   "id": "e27cc4fd",
   "metadata": {},
   "outputs": [],
   "source": [
    "# Find the maximum season (year) in the data\n",
    "np.max(nba.column('season'))"
   ]
  },
  {
   "cell_type": "code",
   "execution_count": null,
   "id": "fafeb7e9",
   "metadata": {},
   "outputs": [],
   "source": [
    "# Restrict our table rows to the 2020 season\n",
    "nba = nba.where('season', 2020)\n",
    "nba"
   ]
  },
  {
   "cell_type": "code",
   "execution_count": null,
   "id": "d70bda16",
   "metadata": {},
   "outputs": [],
   "source": [
    "# Now we can drop the season; every row is for the 2020 season\n",
    "nba = nba.drop('season')\n",
    "nba"
   ]
  },
  {
   "cell_type": "code",
   "execution_count": null,
   "id": "ee06467a",
   "metadata": {},
   "outputs": [],
   "source": [
    "# Our table has a number of rows\n",
    "nba.num_rows"
   ]
  },
  {
   "cell_type": "code",
   "execution_count": null,
   "id": "372c3957",
   "metadata": {},
   "outputs": [],
   "source": [
    "# And a number of columns\n",
    "nba.num_columns"
   ]
  },
  {
   "cell_type": "code",
   "execution_count": null,
   "id": "bf818af3",
   "metadata": {},
   "outputs": [],
   "source": [
    "# And a sequence of column labels\n",
    "nba.labels"
   ]
  },
  {
   "cell_type": "code",
   "execution_count": null,
   "id": "27e4b211",
   "metadata": {},
   "outputs": [],
   "source": [
    "# Make a new table just for the Pacers (2020 season)\n",
    "pacers = nba.where('team', 'Indiana Pacers')\n",
    "pacers.show()"
   ]
  },
  {
   "cell_type": "code",
   "execution_count": null,
   "id": "4056fc8d",
   "metadata": {},
   "outputs": [],
   "source": [
    "# We can make a new table with the 'salary' column relabeled as '$'\n",
    "pacers.relabeled('salary', '$')"
   ]
  },
  {
   "cell_type": "code",
   "execution_count": null,
   "id": "d9dc494c",
   "metadata": {},
   "outputs": [],
   "source": [
    "# But notice, the value of pacers is unchanged\n",
    "pacers"
   ]
  },
  {
   "cell_type": "code",
   "execution_count": null,
   "id": "cb73ed57",
   "metadata": {},
   "outputs": [],
   "source": [
    "# A common coding pattern when working with tables is to chain together multiple \n",
    "# method calls in a single statement\n",
    "# Let's make a table for the Detroit Pistons, 2019 season, from the original csv file\n",
    "pistons = Table.read_table('nba_salaries.csv').where('season', 2019).drop('season').where('team', 'Detroit Pistons').relabeled('salary', '$')\n",
    "          \n",
    "pistons"
   ]
  },
  {
   "cell_type": "code",
   "execution_count": null,
   "id": "15cfbc75",
   "metadata": {},
   "outputs": [],
   "source": [
    "# Having such a long line of code makes it hard to read\n",
    "# Here's a trick for splitting the line of code over multiple notebook lines \n",
    "# (introduce parentheses around the expression on the right-hand side, then add line breaks)\n",
    "pistons = (\n",
    "    Table.read_table('nba_salaries.csv')\n",
    "    .where('season', 2019)\n",
    "    .drop('season')\n",
    "    .where('team', 'Detroit Pistons')\n",
    "    .relabeled('salary', '$')\n",
    ")\n",
    "pistons"
   ]
  },
  {
   "cell_type": "code",
   "execution_count": null,
   "id": "c3888c9f",
   "metadata": {},
   "outputs": [],
   "source": [
    "# Let's select one column of the pistons table\n",
    "pistons_salaries_2019 = pistons.select('$')\n",
    "pistons_salaries_2019"
   ]
  },
  {
   "cell_type": "code",
   "execution_count": null,
   "id": "8bfd3bd9",
   "metadata": {},
   "outputs": [],
   "source": [
    "# What type of thing is this?\n",
    "type(pistons_salaries_2019)"
   ]
  },
  {
   "cell_type": "code",
   "execution_count": null,
   "id": "e6fda5a3",
   "metadata": {},
   "outputs": [],
   "source": [
    "# select returns a new Table object, not an array\n",
    "# If we try to add up the salary numbers using np.sum(), what happens?\n",
    "np.sum(pistons.select('$'))"
   ]
  },
  {
   "cell_type": "code",
   "execution_count": null,
   "id": "aec98098",
   "metadata": {},
   "outputs": [],
   "source": [
    "# Since np.sum is meant to take an array as its argument, it's better to \n",
    "# find the sum like this:\n",
    "np.sum(pistons.column('$'))"
   ]
  },
  {
   "cell_type": "code",
   "execution_count": null,
   "id": "2319dc64",
   "metadata": {},
   "outputs": [],
   "source": [
    "# Takeaway: t.select('some_label') returns a new table\n",
    "#           t.column('some_label') returns an array\n",
    "pistons.column('name')"
   ]
  },
  {
   "cell_type": "code",
   "execution_count": null,
   "id": "2d560ec7",
   "metadata": {},
   "outputs": [],
   "source": [
    "pistons.column('rank')"
   ]
  },
  {
   "cell_type": "code",
   "execution_count": null,
   "id": "5d715c24",
   "metadata": {},
   "outputs": [],
   "source": [
    "# What was the average Phoenix Suns salary in the 2020 season \n",
    "# (for players in this nba table)\n",
    "nba"
   ]
  },
  {
   "cell_type": "code",
   "execution_count": null,
   "id": "12830ed0",
   "metadata": {},
   "outputs": [],
   "source": [
    "nba.where('team', 'Phoenix Suns')\n"
   ]
  },
  {
   "cell_type": "code",
   "execution_count": null,
   "id": "7483f52a",
   "metadata": {},
   "outputs": [],
   "source": [
    "phoenix_salaries_2020 = nba.where('team', 'Phoenix Suns').select('name', 'salary')\n",
    "phoenix_salaries_2020.show()"
   ]
  },
  {
   "cell_type": "code",
   "execution_count": null,
   "id": "f0832722",
   "metadata": {},
   "outputs": [],
   "source": [
    "suns_avg_salary_2020 = np.mean(phoenix_salaries_2020.column('salary'))\n",
    "round(suns_avg_salary_2020)"
   ]
  },
  {
   "cell_type": "markdown",
   "id": "56147559-521a-4837-b92e-237b256bc143",
   "metadata": {},
   "source": [
    "Back to slides..."
   ]
  },
  {
   "cell_type": "code",
   "execution_count": null,
   "id": "e2646604",
   "metadata": {},
   "outputs": [],
   "source": []
  },
  {
   "cell_type": "code",
   "execution_count": null,
   "id": "cced8aa8",
   "metadata": {},
   "outputs": [],
   "source": []
  },
  {
   "cell_type": "markdown",
   "id": "3c856e71",
   "metadata": {},
   "source": [
    "## Ranges (np.arange)"
   ]
  },
  {
   "cell_type": "code",
   "execution_count": null,
   "id": "cf60f419",
   "metadata": {},
   "outputs": [],
   "source": [
    "# One way to get an array of numbers is to use np.arange\n",
    "np.arange(7)"
   ]
  },
  {
   "cell_type": "code",
   "execution_count": null,
   "id": "de18aeae",
   "metadata": {},
   "outputs": [],
   "source": [
    "print(np.arange(7))"
   ]
  },
  {
   "cell_type": "code",
   "execution_count": null,
   "id": "c59c15ec",
   "metadata": {},
   "outputs": [],
   "source": [
    "type(np.arange(7))"
   ]
  },
  {
   "cell_type": "code",
   "execution_count": null,
   "id": "589dd116",
   "metadata": {},
   "outputs": [],
   "source": [
    "# np.arange call with two arguments: np.arange(start, end)\n",
    "# The number of values is end minus start (when start and end are integers)\n",
    "np.arange(5, 12)  # 12 - 5 = 7; 7 values in this range"
   ]
  },
  {
   "cell_type": "code",
   "execution_count": null,
   "id": "34c85359",
   "metadata": {},
   "outputs": [],
   "source": [
    "# np.arange call with three arguments: np.arange(start, end, stepsize)\n",
    "# Generates the sequence: start; start + stepsize; start + stepsize + stepsize; etc.\n",
    "# end is NOT included \n",
    "np.arange(0, 20, 5)"
   ]
  },
  {
   "cell_type": "code",
   "execution_count": null,
   "id": "aebba72a",
   "metadata": {},
   "outputs": [],
   "source": [
    "np.arange(0, 19, 5)"
   ]
  },
  {
   "cell_type": "code",
   "execution_count": null,
   "id": "47b34c43",
   "metadata": {},
   "outputs": [],
   "source": [
    "np.arange(0, 21, 5)"
   ]
  },
  {
   "cell_type": "code",
   "execution_count": null,
   "id": "2c8a76be",
   "metadata": {},
   "outputs": [],
   "source": [
    "# stepsize can be negative\n",
    "np.arange(10, -10, -2)"
   ]
  },
  {
   "cell_type": "code",
   "execution_count": null,
   "id": "b5f6a1e3",
   "metadata": {},
   "outputs": [],
   "source": [
    "# stepsize can be a float\n",
    "np.arange(0, 2, .3)"
   ]
  },
  {
   "cell_type": "code",
   "execution_count": null,
   "id": "148824a8",
   "metadata": {},
   "outputs": [],
   "source": [
    "# start and end can be floats\n",
    "np.arange(1.5, 7.3)"
   ]
  },
  {
   "cell_type": "code",
   "execution_count": null,
   "id": "9935a9b4",
   "metadata": {},
   "outputs": [],
   "source": [
    "np.arange(1.5, 7.3, 0.4)"
   ]
  },
  {
   "cell_type": "markdown",
   "id": "37a440f5-1f27-426a-8370-b2898c79ffb3",
   "metadata": {},
   "source": [
    "Back to slides..."
   ]
  },
  {
   "cell_type": "code",
   "execution_count": null,
   "id": "ede822fb-eb17-436b-8d6b-cd218031b9db",
   "metadata": {},
   "outputs": [],
   "source": []
  },
  {
   "cell_type": "code",
   "execution_count": null,
   "id": "6827c13e-6414-451b-ae99-b296c8ee64b6",
   "metadata": {},
   "outputs": [],
   "source": []
  },
  {
   "cell_type": "code",
   "execution_count": null,
   "id": "bd22fc8d-0fc8-4e64-bde0-32b381f23ed2",
   "metadata": {},
   "outputs": [],
   "source": []
  },
  {
   "cell_type": "markdown",
   "id": "9b5b7586",
   "metadata": {},
   "source": [
    "## Creating Tables"
   ]
  },
  {
   "cell_type": "code",
   "execution_count": null,
   "id": "9338dd30",
   "metadata": {},
   "outputs": [],
   "source": [
    "pistons"
   ]
  },
  {
   "cell_type": "code",
   "execution_count": null,
   "id": "7cb099ac",
   "metadata": {},
   "outputs": [],
   "source": [
    "pistons.take(0)"
   ]
  },
  {
   "cell_type": "code",
   "execution_count": null,
   "id": "4f2c3c83",
   "metadata": {},
   "outputs": [],
   "source": [
    "# take makes a table using a sequence of row indexes\n",
    "pistons.take(5, 3, 0, 2)"
   ]
  },
  {
   "cell_type": "code",
   "execution_count": null,
   "id": "9c178d6a",
   "metadata": {},
   "outputs": [],
   "source": [
    "pistons.take(np.arange(5))  # same as pistons.take(0, 1, 2, 3, 4)"
   ]
  },
  {
   "cell_type": "code",
   "execution_count": null,
   "id": "2eadc34a",
   "metadata": {},
   "outputs": [],
   "source": [
    "pistons.take(np.arange(0, pistons.num_rows + 1, 3))  # same as pistons.take(0, 4, 7, 10, 13)"
   ]
  },
  {
   "cell_type": "code",
   "execution_count": null,
   "id": "b1008c8b",
   "metadata": {},
   "outputs": [],
   "source": [
    "# Compare and constrast: t.take() versus t.select()\n",
    "pistons.take(0, 1, 2)"
   ]
  },
  {
   "cell_type": "code",
   "execution_count": null,
   "id": "5db56ca9-db32-4608-abf9-b36f85aeb5d5",
   "metadata": {},
   "outputs": [],
   "source": [
    "pistons.select(0, 1, 2)"
   ]
  },
  {
   "cell_type": "code",
   "execution_count": null,
   "id": "c7a299d7-a11b-45ea-a2b6-8d8c784728d9",
   "metadata": {},
   "outputs": [],
   "source": [
    "pistons.select('rank', 'name', 'position')"
   ]
  },
  {
   "cell_type": "code",
   "execution_count": null,
   "id": "70fb7130",
   "metadata": {},
   "outputs": [],
   "source": [
    "# Compare and constrast: t.take() versus t.where()\n",
    "pistons.sort('$', descending=True).take(np.arange(5))"
   ]
  },
  {
   "cell_type": "code",
   "execution_count": null,
   "id": "f566f458-59a5-49ce-9c66-8b2a122f5fed",
   "metadata": {},
   "outputs": [],
   "source": [
    "pistons.where('$', are.above_or_equal_to(7e6))"
   ]
  },
  {
   "cell_type": "code",
   "execution_count": null,
   "id": "f729ed7f",
   "metadata": {},
   "outputs": [],
   "source": [
    "# Compare and constrast: t.take(0, 1, 2) versus t.show(3)\n",
    "pistons.take(0, 1, 2).sort('position')"
   ]
  },
  {
   "cell_type": "code",
   "execution_count": null,
   "id": "7e31a43d-4c07-4095-a033-31caaf01b8b3",
   "metadata": {},
   "outputs": [],
   "source": [
    "pistons.show(3).sort('position')"
   ]
  },
  {
   "cell_type": "markdown",
   "id": "9766fa94",
   "metadata": {},
   "source": [
    "## More Ways to Create Tables"
   ]
  },
  {
   "cell_type": "code",
   "execution_count": null,
   "id": "1c1afd4d",
   "metadata": {},
   "outputs": [],
   "source": [
    "# At the top of this notebook, we saw how to create a table using Table.read_csv(filename)\n",
    "nba = Table.read_table('nba_salaries.csv')\n",
    "nba.show(3)"
   ]
  },
  {
   "cell_type": "code",
   "execution_count": null,
   "id": "b7e655b5",
   "metadata": {},
   "outputs": [],
   "source": [
    "# Another way to make a new table from scratch is to start with an empty\n",
    "# table, then add one or more columns of values\n",
    "# The values for a column can be collected up in an arry.\n",
    "\n",
    "last = make_array('Abu', 'Berry', 'Boyles', 'Denton', 'King')\n",
    "first = make_array('Peter', 'Lydia', 'Zach', 'Spencer', 'Kaela')\n",
    "year = make_array(2026, 2026, 2025, 2025, 2027)\n",
    "units = make_array(13, 15.5, 22.25, 23.5, 4.5)\n",
    "\n",
    "students = (\n",
    "    Table().with_column('last name', last)\n",
    "    .with_column('first name', first)\n",
    "    .with_column('grad year', year)\n",
    "    .with_column('units earned', units)\n",
    ")\n",
    "\n",
    "students"
   ]
  },
  {
   "cell_type": "markdown",
   "id": "d05bc78d",
   "metadata": {},
   "source": [
    "Clearly, if we have more than a few rows of data, it's much easier to create the table in a spreadsheet program, save it in .csv format, and then bring it into the Jupyter Notebook environment using `Table.read_csv(filename)`"
   ]
  },
  {
   "cell_type": "code",
   "execution_count": null,
   "id": "ebefc948",
   "metadata": {},
   "outputs": [],
   "source": [
    "# What is the length of a table?\n",
    "len(students)"
   ]
  },
  {
   "cell_type": "markdown",
   "id": "0dcf09bb",
   "metadata": {},
   "source": [
    "The students table is a sequence of length 4, i.e., a sequence of four columns. Each column is an array of values. The length of a the array for a column equals the number of rows in the table."
   ]
  },
  {
   "cell_type": "code",
   "execution_count": null,
   "id": "32873303",
   "metadata": {},
   "outputs": [],
   "source": [
    "students.num_rows"
   ]
  },
  {
   "cell_type": "code",
   "execution_count": null,
   "id": "e0543000",
   "metadata": {},
   "outputs": [],
   "source": [
    "len(students.column('last name'))"
   ]
  },
  {
   "cell_type": "code",
   "execution_count": null,
   "id": "bca48764",
   "metadata": {},
   "outputs": [],
   "source": [
    "# Notice we could rearrange the columns\n",
    "students.select(1, 0, 3, 2)"
   ]
  },
  {
   "cell_type": "code",
   "execution_count": null,
   "id": "6f48989a",
   "metadata": {},
   "outputs": [],
   "source": [
    "# We can sort the rows based on one of the columns, such as 'units earned'\n",
    "students.sort('units earned')"
   ]
  },
  {
   "cell_type": "code",
   "execution_count": null,
   "id": "0968108c",
   "metadata": {},
   "outputs": [],
   "source": [
    "# Can sort into descending order as well\n",
    "students.sort('last name', descending=True)"
   ]
  },
  {
   "cell_type": "markdown",
   "id": "b9981436-f927-4d59-b4d5-1e6ecd67dea3",
   "metadata": {},
   "source": [
    "Back to slides..."
   ]
  },
  {
   "cell_type": "code",
   "execution_count": null,
   "id": "5444ffe3-eedb-4c0b-91d2-0e1e1a06200b",
   "metadata": {},
   "outputs": [],
   "source": []
  },
  {
   "cell_type": "code",
   "execution_count": null,
   "id": "dace1d45-2e43-4210-b99d-da9e804cd8e9",
   "metadata": {},
   "outputs": [],
   "source": []
  },
  {
   "cell_type": "code",
   "execution_count": null,
   "id": "dd3a41cd-90ce-422d-93f8-6c1952e5a731",
   "metadata": {},
   "outputs": [],
   "source": []
  },
  {
   "cell_type": "markdown",
   "id": "86053f20",
   "metadata": {},
   "source": [
    "# An Example"
   ]
  },
  {
   "cell_type": "markdown",
   "id": "e3d18d1d",
   "metadata": {},
   "source": [
    "Discussion Question: Use the table functions we learned this week, and the W.E.B. DuBois data, to find the income bracket (“class”) that spent the highest proportion of their income on food."
   ]
  },
  {
   "cell_type": "code",
   "execution_count": 2,
   "id": "a4d2d36e",
   "metadata": {},
   "outputs": [
    {
     "data": {
      "text/html": [
       "<table border=\"1\" class=\"dataframe\">\n",
       "    <thead>\n",
       "        <tr>\n",
       "            <th>CLASS</th> <th>ACTUAL AVERAGE</th> <th>RENT</th> <th>FOOD</th> <th>CLOTHES</th> <th>TAXES</th> <th>OTHER</th> <th>STATUS</th>\n",
       "        </tr>\n",
       "    </thead>\n",
       "    <tbody>\n",
       "        <tr>\n",
       "            <td>100-200      </td> <td>139.1         </td> <td>0.19</td> <td>0.43</td> <td>0.28   </td> <td>0.001</td> <td>0.099</td> <td>POOR       </td>\n",
       "        </tr>\n",
       "        <tr>\n",
       "            <td>200-300      </td> <td>249.45        </td> <td>0.22</td> <td>0.47</td> <td>0.23   </td> <td>0.04 </td> <td>0.04 </td> <td>POOR       </td>\n",
       "        </tr>\n",
       "        <tr>\n",
       "            <td>300-400      </td> <td>335.66        </td> <td>0.23</td> <td>0.43</td> <td>0.18   </td> <td>0.045</td> <td>0.115</td> <td>FAIR       </td>\n",
       "        </tr>\n",
       "        <tr>\n",
       "            <td>400-500      </td> <td>433.82        </td> <td>0.18</td> <td>0.37</td> <td>0.15   </td> <td>0.055</td> <td>0.245</td> <td>FAIR       </td>\n",
       "        </tr>\n",
       "        <tr>\n",
       "            <td>500-750      </td> <td>547           </td> <td>0.13</td> <td>0.31</td> <td>0.17   </td> <td>0.05 </td> <td>0.34 </td> <td>COMFORTABLE</td>\n",
       "        </tr>\n",
       "        <tr>\n",
       "            <td>750-1000     </td> <td>880           </td> <td>0   </td> <td>0.37</td> <td>0.19   </td> <td>0.08 </td> <td>0.36 </td> <td>COMFORTABLE</td>\n",
       "        </tr>\n",
       "        <tr>\n",
       "            <td>1000 and over</td> <td>1125          </td> <td>0   </td> <td>0.29</td> <td>0.16   </td> <td>0.045</td> <td>0.505</td> <td>WELL-TO-DO </td>\n",
       "        </tr>\n",
       "    </tbody>\n",
       "</table>"
      ],
      "text/plain": [
       "CLASS         | ACTUAL AVERAGE | RENT | FOOD | CLOTHES | TAXES | OTHER | STATUS\n",
       "100-200       | 139.1          | 0.19 | 0.43 | 0.28    | 0.001 | 0.099 | POOR\n",
       "200-300       | 249.45         | 0.22 | 0.47 | 0.23    | 0.04  | 0.04  | POOR\n",
       "300-400       | 335.66         | 0.23 | 0.43 | 0.18    | 0.045 | 0.115 | FAIR\n",
       "400-500       | 433.82         | 0.18 | 0.37 | 0.15    | 0.055 | 0.245 | FAIR\n",
       "500-750       | 547            | 0.13 | 0.31 | 0.17    | 0.05  | 0.34  | COMFORTABLE\n",
       "750-1000      | 880            | 0    | 0.37 | 0.19    | 0.08  | 0.36  | COMFORTABLE\n",
       "1000 and over | 1125           | 0    | 0.29 | 0.16    | 0.045 | 0.505 | WELL-TO-DO"
      ]
     },
     "execution_count": 2,
     "metadata": {},
     "output_type": "execute_result"
    }
   ],
   "source": [
    "du_bois = Table.read_table('du_bois.csv')\n",
    "du_bois"
   ]
  },
  {
   "cell_type": "code",
   "execution_count": 3,
   "id": "2453dbe4",
   "metadata": {},
   "outputs": [
    {
     "data": {
      "text/plain": [
       "array([  139.1 ,   249.45,   335.66,   433.82,   547.  ,   880.  ,  1125.  ])"
      ]
     },
     "execution_count": 3,
     "metadata": {},
     "output_type": "execute_result"
    }
   ],
   "source": [
    "# We need to consider the actual average income for each class\n",
    "du_bois.column('ACTUAL AVERAGE')"
   ]
  },
  {
   "cell_type": "code",
   "execution_count": 4,
   "id": "cfa253d9",
   "metadata": {},
   "outputs": [
    {
     "data": {
      "text/plain": [
       "array([ 0.43,  0.47,  0.43,  0.37,  0.31,  0.37,  0.29])"
      ]
     },
     "execution_count": 4,
     "metadata": {},
     "output_type": "execute_result"
    }
   ],
   "source": [
    "# We also need to consider the proportion of income spent on food for each class\n",
    "du_bois.column('FOOD')"
   ]
  },
  {
   "cell_type": "code",
   "execution_count": 5,
   "id": "ad88f66a",
   "metadata": {},
   "outputs": [
    {
     "data": {
      "text/plain": [
       "array([  139.1 ,   249.45,   335.66,   433.82,   547.  ,   880.  ,  1125.  ])"
      ]
     },
     "execution_count": 5,
     "metadata": {},
     "output_type": "execute_result"
    }
   ],
   "source": [
    "# Name those arrays to communicate more clearly in our codes-to-come\n",
    "income_avg = du_bois.column('ACTUAL AVERAGE')\n",
    "income_avg"
   ]
  },
  {
   "cell_type": "code",
   "execution_count": 6,
   "id": "596b7302",
   "metadata": {},
   "outputs": [
    {
     "data": {
      "text/plain": [
       "array([ 0.43,  0.47,  0.43,  0.37,  0.31,  0.37,  0.29])"
      ]
     },
     "execution_count": 6,
     "metadata": {},
     "output_type": "execute_result"
    }
   ],
   "source": [
    "food_proportion = du_bois.column('FOOD')\n",
    "food_proportion"
   ]
  },
  {
   "cell_type": "code",
   "execution_count": 7,
   "id": "6595364e",
   "metadata": {},
   "outputs": [
    {
     "data": {
      "text/plain": [
       "array([  59.813 ,  117.2415,  144.3338,  160.5134,  169.57  ,  325.6   ,\n",
       "        326.25  ])"
      ]
     },
     "execution_count": 7,
     "metadata": {},
     "output_type": "execute_result"
    }
   ],
   "source": [
    "# Multiply each class's income_average with their food_proportion to learn total \n",
    "# dollars spent on food each year (on average). \n",
    "food_dollars = income_avg * food_proportion\n",
    "food_dollars"
   ]
  },
  {
   "cell_type": "code",
   "execution_count": 8,
   "id": "c0226423",
   "metadata": {},
   "outputs": [
    {
     "data": {
      "text/html": [
       "<table border=\"1\" class=\"dataframe\">\n",
       "    <thead>\n",
       "        <tr>\n",
       "            <th>CLASS</th> <th>FOOD</th> <th>STATUS</th> <th>FOOD (DOLLARS)</th>\n",
       "        </tr>\n",
       "    </thead>\n",
       "    <tbody>\n",
       "        <tr>\n",
       "            <td>100-200      </td> <td>0.43</td> <td>POOR       </td> <td>59.813        </td>\n",
       "        </tr>\n",
       "        <tr>\n",
       "            <td>200-300      </td> <td>0.47</td> <td>POOR       </td> <td>117.241       </td>\n",
       "        </tr>\n",
       "        <tr>\n",
       "            <td>300-400      </td> <td>0.43</td> <td>FAIR       </td> <td>144.334       </td>\n",
       "        </tr>\n",
       "        <tr>\n",
       "            <td>400-500      </td> <td>0.37</td> <td>FAIR       </td> <td>160.513       </td>\n",
       "        </tr>\n",
       "        <tr>\n",
       "            <td>500-750      </td> <td>0.31</td> <td>COMFORTABLE</td> <td>169.57        </td>\n",
       "        </tr>\n",
       "        <tr>\n",
       "            <td>750-1000     </td> <td>0.37</td> <td>COMFORTABLE</td> <td>325.6         </td>\n",
       "        </tr>\n",
       "        <tr>\n",
       "            <td>1000 and over</td> <td>0.29</td> <td>WELL-TO-DO </td> <td>326.25        </td>\n",
       "        </tr>\n",
       "    </tbody>\n",
       "</table>"
      ],
      "text/plain": [
       "CLASS         | FOOD | STATUS      | FOOD (DOLLARS)\n",
       "100-200       | 0.43 | POOR        | 59.813\n",
       "200-300       | 0.47 | POOR        | 117.241\n",
       "300-400       | 0.43 | FAIR        | 144.334\n",
       "400-500       | 0.37 | FAIR        | 160.513\n",
       "500-750       | 0.31 | COMFORTABLE | 169.57\n",
       "750-1000      | 0.37 | COMFORTABLE | 325.6\n",
       "1000 and over | 0.29 | WELL-TO-DO  | 326.25"
      ]
     },
     "execution_count": 8,
     "metadata": {},
     "output_type": "execute_result"
    }
   ],
   "source": [
    "# Add food_dollars info to the table to see those figures in context\n",
    "# Make a table with four columns: class, food (proportion), status, and food (dollars)\n",
    "du_bois.select(0, 3, 7).with_column('FOOD (DOLLARS)', food_dollars)"
   ]
  },
  {
   "cell_type": "code",
   "execution_count": 9,
   "id": "41ffa6eb",
   "metadata": {},
   "outputs": [
    {
     "data": {
      "text/html": [
       "<table border=\"1\" class=\"dataframe\">\n",
       "    <thead>\n",
       "        <tr>\n",
       "            <th>CLASS</th> <th>FOOD (PROPORTION)</th> <th>STATUS</th> <th>FOOD (DOLLARS)</th>\n",
       "        </tr>\n",
       "    </thead>\n",
       "    <tbody>\n",
       "        <tr>\n",
       "            <td>100-200      </td> <td>0.43             </td> <td>POOR       </td> <td>59.813        </td>\n",
       "        </tr>\n",
       "        <tr>\n",
       "            <td>200-300      </td> <td>0.47             </td> <td>POOR       </td> <td>117.241       </td>\n",
       "        </tr>\n",
       "        <tr>\n",
       "            <td>300-400      </td> <td>0.43             </td> <td>FAIR       </td> <td>144.334       </td>\n",
       "        </tr>\n",
       "        <tr>\n",
       "            <td>400-500      </td> <td>0.37             </td> <td>FAIR       </td> <td>160.513       </td>\n",
       "        </tr>\n",
       "        <tr>\n",
       "            <td>500-750      </td> <td>0.31             </td> <td>COMFORTABLE</td> <td>169.57        </td>\n",
       "        </tr>\n",
       "        <tr>\n",
       "            <td>750-1000     </td> <td>0.37             </td> <td>COMFORTABLE</td> <td>325.6         </td>\n",
       "        </tr>\n",
       "        <tr>\n",
       "            <td>1000 and over</td> <td>0.29             </td> <td>WELL-TO-DO </td> <td>326.25        </td>\n",
       "        </tr>\n",
       "    </tbody>\n",
       "</table>"
      ],
      "text/plain": [
       "CLASS         | FOOD (PROPORTION) | STATUS      | FOOD (DOLLARS)\n",
       "100-200       | 0.43              | POOR        | 59.813\n",
       "200-300       | 0.47              | POOR        | 117.241\n",
       "300-400       | 0.43              | FAIR        | 144.334\n",
       "400-500       | 0.37              | FAIR        | 160.513\n",
       "500-750       | 0.31              | COMFORTABLE | 169.57\n",
       "750-1000      | 0.37              | COMFORTABLE | 325.6\n",
       "1000 and over | 0.29              | WELL-TO-DO  | 326.25"
      ]
     },
     "execution_count": 9,
     "metadata": {},
     "output_type": "execute_result"
    }
   ],
   "source": [
    "# fix up the second column's label and assign a name\n",
    "du_bois_2 = (du_bois.select(0, 3, 7)\n",
    "             .with_column('FOOD (DOLLARS)', food_dollars)\n",
    "             .relabeled('FOOD', 'FOOD (PROPORTION)')\n",
    ")\n",
    "du_bois_2"
   ]
  },
  {
   "cell_type": "code",
   "execution_count": 10,
   "id": "0ded5bbb",
   "metadata": {},
   "outputs": [
    {
     "data": {
      "text/html": [
       "<table border=\"1\" class=\"dataframe\">\n",
       "    <thead>\n",
       "        <tr>\n",
       "            <th>CLASS</th> <th>STATUS</th> <th>FOOD (PROPORTION)</th> <th>FOOD (DOLLARS)</th>\n",
       "        </tr>\n",
       "    </thead>\n",
       "    <tbody>\n",
       "        <tr>\n",
       "            <td>100-200      </td> <td>POOR       </td> <td>0.43             </td> <td>59.813        </td>\n",
       "        </tr>\n",
       "        <tr>\n",
       "            <td>200-300      </td> <td>POOR       </td> <td>0.47             </td> <td>117.241       </td>\n",
       "        </tr>\n",
       "        <tr>\n",
       "            <td>300-400      </td> <td>FAIR       </td> <td>0.43             </td> <td>144.334       </td>\n",
       "        </tr>\n",
       "        <tr>\n",
       "            <td>400-500      </td> <td>FAIR       </td> <td>0.37             </td> <td>160.513       </td>\n",
       "        </tr>\n",
       "        <tr>\n",
       "            <td>500-750      </td> <td>COMFORTABLE</td> <td>0.31             </td> <td>169.57        </td>\n",
       "        </tr>\n",
       "        <tr>\n",
       "            <td>750-1000     </td> <td>COMFORTABLE</td> <td>0.37             </td> <td>325.6         </td>\n",
       "        </tr>\n",
       "        <tr>\n",
       "            <td>1000 and over</td> <td>WELL-TO-DO </td> <td>0.29             </td> <td>326.25        </td>\n",
       "        </tr>\n",
       "    </tbody>\n",
       "</table>"
      ],
      "text/plain": [
       "CLASS         | STATUS      | FOOD (PROPORTION) | FOOD (DOLLARS)\n",
       "100-200       | POOR        | 0.43              | 59.813\n",
       "200-300       | POOR        | 0.47              | 117.241\n",
       "300-400       | FAIR        | 0.43              | 144.334\n",
       "400-500       | FAIR        | 0.37              | 160.513\n",
       "500-750       | COMFORTABLE | 0.31              | 169.57\n",
       "750-1000      | COMFORTABLE | 0.37              | 325.6\n",
       "1000 and over | WELL-TO-DO  | 0.29              | 326.25"
      ]
     },
     "execution_count": 10,
     "metadata": {},
     "output_type": "execute_result"
    }
   ],
   "source": [
    "# swap the second and third columns\n",
    "du_bois_3 = du_bois_2.select(0, 2, 1, 3)\n",
    "du_bois_3"
   ]
  },
  {
   "cell_type": "code",
   "execution_count": 11,
   "id": "24f26cc0",
   "metadata": {},
   "outputs": [
    {
     "data": {
      "text/html": [
       "<table border=\"1\" class=\"dataframe\">\n",
       "    <thead>\n",
       "        <tr>\n",
       "            <th>CLASS</th> <th>STATUS</th> <th>FOOD (PROPORTION)</th> <th>FOOD (DOLLARS)</th>\n",
       "        </tr>\n",
       "    </thead>\n",
       "    <tbody>\n",
       "        <tr>\n",
       "            <td>1000 and over</td> <td>WELL-TO-DO </td> <td>0.29             </td> <td>326.25        </td>\n",
       "        </tr>\n",
       "        <tr>\n",
       "            <td>750-1000     </td> <td>COMFORTABLE</td> <td>0.37             </td> <td>325.6         </td>\n",
       "        </tr>\n",
       "        <tr>\n",
       "            <td>500-750      </td> <td>COMFORTABLE</td> <td>0.31             </td> <td>169.57        </td>\n",
       "        </tr>\n",
       "        <tr>\n",
       "            <td>400-500      </td> <td>FAIR       </td> <td>0.37             </td> <td>160.513       </td>\n",
       "        </tr>\n",
       "        <tr>\n",
       "            <td>300-400      </td> <td>FAIR       </td> <td>0.43             </td> <td>144.334       </td>\n",
       "        </tr>\n",
       "        <tr>\n",
       "            <td>200-300      </td> <td>POOR       </td> <td>0.47             </td> <td>117.241       </td>\n",
       "        </tr>\n",
       "        <tr>\n",
       "            <td>100-200      </td> <td>POOR       </td> <td>0.43             </td> <td>59.813        </td>\n",
       "        </tr>\n",
       "    </tbody>\n",
       "</table>"
      ],
      "text/plain": [
       "CLASS         | STATUS      | FOOD (PROPORTION) | FOOD (DOLLARS)\n",
       "1000 and over | WELL-TO-DO  | 0.29              | 326.25\n",
       "750-1000      | COMFORTABLE | 0.37              | 325.6\n",
       "500-750       | COMFORTABLE | 0.31              | 169.57\n",
       "400-500       | FAIR        | 0.37              | 160.513\n",
       "300-400       | FAIR        | 0.43              | 144.334\n",
       "200-300       | POOR        | 0.47              | 117.241\n",
       "100-200       | POOR        | 0.43              | 59.813"
      ]
     },
     "execution_count": 11,
     "metadata": {},
     "output_type": "execute_result"
    }
   ],
   "source": [
    "# sort in descending order by 'FOOD (DOLLARS)'\n",
    "du_bois_3.sort('FOOD (DOLLARS)', descending = True)"
   ]
  },
  {
   "cell_type": "code",
   "execution_count": 12,
   "id": "0d34eff8-5264-4f49-b1ed-96c4750f734c",
   "metadata": {},
   "outputs": [
    {
     "data": {
      "text/html": [
       "<table border=\"1\" class=\"dataframe\">\n",
       "    <thead>\n",
       "        <tr>\n",
       "            <th>CLASS</th> <th>STATUS</th> <th>FOOD (PROPORTION)</th> <th>FOOD (DOLLARS)</th>\n",
       "        </tr>\n",
       "    </thead>\n",
       "    <tbody>\n",
       "        <tr>\n",
       "            <td>200-300      </td> <td>POOR       </td> <td>0.47             </td> <td>117.241       </td>\n",
       "        </tr>\n",
       "        <tr>\n",
       "            <td>100-200      </td> <td>POOR       </td> <td>0.43             </td> <td>59.813        </td>\n",
       "        </tr>\n",
       "        <tr>\n",
       "            <td>300-400      </td> <td>FAIR       </td> <td>0.43             </td> <td>144.334       </td>\n",
       "        </tr>\n",
       "        <tr>\n",
       "            <td>400-500      </td> <td>FAIR       </td> <td>0.37             </td> <td>160.513       </td>\n",
       "        </tr>\n",
       "        <tr>\n",
       "            <td>750-1000     </td> <td>COMFORTABLE</td> <td>0.37             </td> <td>325.6         </td>\n",
       "        </tr>\n",
       "        <tr>\n",
       "            <td>500-750      </td> <td>COMFORTABLE</td> <td>0.31             </td> <td>169.57        </td>\n",
       "        </tr>\n",
       "        <tr>\n",
       "            <td>1000 and over</td> <td>WELL-TO-DO </td> <td>0.29             </td> <td>326.25        </td>\n",
       "        </tr>\n",
       "    </tbody>\n",
       "</table>"
      ],
      "text/plain": [
       "CLASS         | STATUS      | FOOD (PROPORTION) | FOOD (DOLLARS)\n",
       "200-300       | POOR        | 0.47              | 117.241\n",
       "100-200       | POOR        | 0.43              | 59.813\n",
       "300-400       | FAIR        | 0.43              | 144.334\n",
       "400-500       | FAIR        | 0.37              | 160.513\n",
       "750-1000      | COMFORTABLE | 0.37              | 325.6\n",
       "500-750       | COMFORTABLE | 0.31              | 169.57\n",
       "1000 and over | WELL-TO-DO  | 0.29              | 326.25"
      ]
     },
     "execution_count": 12,
     "metadata": {},
     "output_type": "execute_result"
    }
   ],
   "source": [
    "# Now sort on FOOD (PROPORTION):\n",
    "du_bois_3.sort('FOOD (PROPORTION)', descending = True)"
   ]
  },
  {
   "cell_type": "markdown",
   "id": "333b5329",
   "metadata": {},
   "source": [
    "In 1900, well-to-do Black Americans spent \\\\$326.25 on food, per year, on average (about \\\\$27 per month). Those with the lowest incomes spent about \\\\$60 on food, per year, on average (about \\\\$5 per month).\n",
    "\n",
    "Even though they spent the most on food (in terms of dollars), those with the highest incomes spent the smallest *proportion* of their income on food (29%)."
   ]
  },
  {
   "cell_type": "code",
   "execution_count": null,
   "id": "243ed19c",
   "metadata": {},
   "outputs": [],
   "source": []
  },
  {
   "cell_type": "code",
   "execution_count": null,
   "id": "43762f1d-3a23-4714-a8f7-6e099e0b40c1",
   "metadata": {},
   "outputs": [],
   "source": []
  }
 ],
 "metadata": {
  "kernelspec": {
   "display_name": "Python 3 (ipykernel)",
   "language": "python",
   "name": "python3"
  },
  "language_info": {
   "codemirror_mode": {
    "name": "ipython",
    "version": 3
   },
   "file_extension": ".py",
   "mimetype": "text/x-python",
   "name": "python",
   "nbconvert_exporter": "python",
   "pygments_lexer": "ipython3",
   "version": "3.12.1"
  }
 },
 "nbformat": 4,
 "nbformat_minor": 5
}
