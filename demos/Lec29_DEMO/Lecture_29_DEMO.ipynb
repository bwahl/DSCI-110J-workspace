{
 "cells": [
  {
   "cell_type": "code",
   "execution_count": null,
   "metadata": {},
   "outputs": [],
   "source": [
    "import matplotlib\n",
    "from datascience import *\n",
    "%matplotlib inline\n",
    "import matplotlib.pyplot as plots\n",
    "import numpy as np\n",
    "plots.style.use('fivethirtyeight')"
   ]
  },
  {
   "cell_type": "code",
   "execution_count": null,
   "metadata": {},
   "outputs": [],
   "source": [
    "def r_scatter(r):\n",
    "    plots.figure(figsize=(5,5))\n",
    "    \"Generate a scatter plot with a correlation approximately r\"\n",
    "    x = np.random.normal(0, 1, 1000)\n",
    "    z = np.random.normal(0, 1, 1000)\n",
    "    y = r*x + (np.sqrt(1-r**2))*z\n",
    "    plots.scatter(x, y, color='darkblue', s=20)\n",
    "    plots.xlim(-4, 4)\n",
    "    plots.ylim(-4, 4)"
   ]
  },
  {
   "cell_type": "code",
   "execution_count": null,
   "metadata": {},
   "outputs": [],
   "source": [
    "r_scatter(-.5)"
   ]
  },
  {
   "cell_type": "markdown",
   "metadata": {},
   "source": [
    "# Lecture 29"
   ]
  },
  {
   "cell_type": "markdown",
   "metadata": {},
   "source": [
    "## A. Approach to Prediction"
   ]
  },
  {
   "cell_type": "code",
   "execution_count": null,
   "metadata": {},
   "outputs": [],
   "source": [
    "# Recall the data on family heights\n",
    "# Note: Child heights are the **adult** heights of children in a family\n",
    "families = Table.read_table('family_heights.csv')\n",
    "families"
   ]
  },
  {
   "cell_type": "code",
   "execution_count": null,
   "metadata": {},
   "outputs": [],
   "source": [
    "# Based on parent average, can we predict the child height?\n",
    "# Average two arrays to get the array of parent averages\n",
    "parent_avgs = (families.column('father') + families.column('mother'))/2"
   ]
  },
  {
   "cell_type": "code",
   "execution_count": null,
   "metadata": {},
   "outputs": [],
   "source": [
    "# Make a 2-column table\n",
    "heights = Table().with_columns(\n",
    "    'Parent Average', parent_avgs,\n",
    "    'Child', families.column('child'),\n",
    ")\n",
    "heights"
   ]
  },
  {
   "cell_type": "code",
   "execution_count": null,
   "metadata": {},
   "outputs": [],
   "source": [
    "# visualize the data in a scatter plot -- is there an association?\n",
    "# do the data \"move together\"?\n",
    "heights.scatter('Parent Average', 'Child')"
   ]
  },
  {
   "cell_type": "markdown",
   "metadata": {},
   "source": [
    "Say a new baby is born and their parents' average height is 68 inches. Try to predict the adult height of the baby."
   ]
  },
  {
   "cell_type": "code",
   "execution_count": null,
   "metadata": {},
   "outputs": [],
   "source": [
    "# Suppose a person's parents have average height 68\n",
    "# Show vertical red lines at x = 67.5 and x = 28.5 to identify \n",
    "# data points with similar parental average\n",
    "heights.scatter('Parent Average', 'Child')\n",
    "plots.plot([67.5, 67.5], [50, 85], color='red', lw=2)\n",
    "plots.plot([68.5, 68.5], [50, 85], color='red', lw=2);"
   ]
  },
  {
   "cell_type": "code",
   "execution_count": null,
   "metadata": {},
   "outputs": [],
   "source": [
    "# Focus on parents of a similar height to our baby's parents.\n",
    "\n",
    "# To predict a baby's adult height based on their parental average height being 68,\n",
    "# we average all the child heights for data points in the strip of \"nearby\" data\n",
    "\n",
    "# nearby data points have parental average within 0.5 inches of 68\n",
    "nearby = heights.where('Parent Average', are.between(67.5, 68.5))\n",
    "nearby_mean = np.average(nearby.column('Child'))\n",
    "nearby_mean"
   ]
  },
  {
   "cell_type": "markdown",
   "metadata": {},
   "source": [
    "The average outcome for similar parents is a child of height 67.62 inches. So, that's an estimate. But of course there's a huge amount of variability in the data, so it's not likely to be a good estimate. Still, it's a reasonable method and this about the best we can do."
   ]
  },
  {
   "cell_type": "code",
   "execution_count": null,
   "metadata": {},
   "outputs": [],
   "source": [
    "# To the previous plot, add a big red dot at x = 68, y = nearby_mean\n",
    "heights.scatter('Parent Average', 'Child')\n",
    "plots.plot([67.5, 67.5], [50, 85], color='red', lw=2)\n",
    "plots.plot([68.5, 68.5], [50, 85], color='red', lw=2)\n",
    "plots.scatter(68, nearby_mean, color='red', s=50);"
   ]
  },
  {
   "cell_type": "code",
   "execution_count": null,
   "metadata": {},
   "outputs": [],
   "source": [
    "# Define a function to make this prediction for any parental average \n",
    "def predict_child(h):\n",
    "    \"\"\"Predict the height of a child whose parents have an average height of h.\n",
    "    \n",
    "    The prediction is the average height of the children whose parent average height is\n",
    "    within 0.5 inches of h.\n",
    "    \"\"\"\n",
    "    nearby = heights.where('Parent Average', are.between(h - 1/2, h + 1/2))\n",
    "    return np.average(nearby.column('Child'))\n",
    "\n",
    "# Test by calling the function with h = 68\n",
    "predict_child(68)"
   ]
  },
  {
   "cell_type": "code",
   "execution_count": null,
   "metadata": {},
   "outputs": [],
   "source": [
    "# Compute all the predicted child heights for rows of the heights table\n",
    "predictions = heights.apply(predict_child, 'Parent Average')\n",
    "\n",
    "# Make a new table which includes the predictions\n",
    "heights_with_predictions = heights.with_column('Prediction', predictions)\n",
    "heights_with_predictions"
   ]
  },
  {
   "cell_type": "code",
   "execution_count": null,
   "metadata": {},
   "outputs": [],
   "source": [
    "# Visualize with a scatter plot\n",
    "heights_with_predictions.scatter('Parent Average')"
   ]
  },
  {
   "cell_type": "markdown",
   "metadata": {},
   "source": [
    "Cool, we have built a roughly-linear prediction model.\n",
    "\n",
    "Questions about this old example from Lecture 10?"
   ]
  },
  {
   "cell_type": "code",
   "execution_count": null,
   "metadata": {},
   "outputs": [],
   "source": []
  },
  {
   "cell_type": "code",
   "execution_count": null,
   "metadata": {},
   "outputs": [],
   "source": []
  },
  {
   "cell_type": "code",
   "execution_count": null,
   "metadata": {},
   "outputs": [],
   "source": []
  },
  {
   "cell_type": "code",
   "execution_count": null,
   "metadata": {},
   "outputs": [],
   "source": []
  },
  {
   "cell_type": "markdown",
   "metadata": {},
   "source": [
    "## B. Association\n",
    "We have some new data here for hybrid cars. Well, new to us (it dates to 2015)."
   ]
  },
  {
   "cell_type": "code",
   "execution_count": null,
   "metadata": {},
   "outputs": [],
   "source": [
    "# Read the data on hybrid cars\n",
    "hybrid = Table.read_table('hybrid.csv')"
   ]
  },
  {
   "cell_type": "code",
   "execution_count": null,
   "metadata": {},
   "outputs": [],
   "source": [
    "hybrid"
   ]
  },
  {
   "cell_type": "markdown",
   "metadata": {},
   "source": [
    " - `msrp` is the \"suggested retail price\" of the vehicle, with all prices normalized to 2013 dollars (to adjust for inflation).\n",
    "  - `acceleration` is measured in km per hour per second; higher is better if you're trying to pass on a 2-lane highway\n",
    "  - `mpg` is measuring fuel efficiency in miles per gallon. The whole point of hybrid vehicles is to burn less gas.\n",
    "  - `class` indicates the type of car (SUV, Minivan, Compact, etc.)"
   ]
  },
  {
   "cell_type": "code",
   "execution_count": null,
   "metadata": {},
   "outputs": [],
   "source": [
    "# The data are for 153 hybrid vehicles produced from 1997 through 2013\n",
    "hybrid.group('year').show()"
   ]
  },
  {
   "cell_type": "code",
   "execution_count": null,
   "metadata": {},
   "outputs": [],
   "source": [
    "# Sort to put the most expensive vehicles at the top\n",
    "hybrid.sort('msrp', descending=True)"
   ]
  },
  {
   "cell_type": "code",
   "execution_count": null,
   "metadata": {},
   "outputs": [],
   "source": [
    "# Discuss the trend: The whole point of hybrid vehicles is to burn less gas. Why is \n",
    "# it that if you want the best mileage you should buy the cheapest hybrid?\n",
    "\n",
    "# Is there a linear association here?\n",
    "hybrid.scatter('mpg', 'msrp')"
   ]
  },
  {
   "cell_type": "code",
   "execution_count": null,
   "metadata": {},
   "outputs": [],
   "source": [
    "# Discuss the association (if any) between acceleration and msrp for these cars\n",
    "hybrid.scatter('acceleration', 'msrp')"
   ]
  },
  {
   "cell_type": "code",
   "execution_count": null,
   "metadata": {},
   "outputs": [],
   "source": [
    "# It might be important to compare similar vehicles. Let's look at SUVs only.\n",
    "# What do you observe?\n",
    "# Is there an overall trend? A linear association?\n",
    "suv = hybrid.where('class', 'SUV')\n",
    "suv.num_rows"
   ]
  },
  {
   "cell_type": "code",
   "execution_count": null,
   "metadata": {},
   "outputs": [],
   "source": [
    "suv.scatter('acceleration', 'msrp')"
   ]
  },
  {
   "cell_type": "code",
   "execution_count": null,
   "metadata": {},
   "outputs": [],
   "source": [
    "suv.scatter('mpg', 'msrp')"
   ]
  },
  {
   "cell_type": "markdown",
   "metadata": {},
   "source": [
    "Notice that when discussing association in general, it tends to be independent of the units. We really just care about the shape of the plot.\n",
    "\n",
    "Therefore, its reasonable to use **standard units** when trying to quanitify association."
   ]
  },
  {
   "cell_type": "code",
   "execution_count": null,
   "metadata": {},
   "outputs": [],
   "source": [
    "def standard_units(x):\n",
    "    \"Convert an array x of numbers to standard units.\"\n",
    "    return (x - np.average(x)) / np.std(x)"
   ]
  },
  {
   "cell_type": "code",
   "execution_count": null,
   "metadata": {},
   "outputs": [],
   "source": [
    "# For SUVs, make a scatterplot of msrp versus mpg in standard units\n",
    "# Notice that only the scales have changed; the pattern of the dots is the same\n",
    "Table().with_columns(\n",
    "    'mpg (standard units)',  standard_units(suv.column('mpg')), \n",
    "    'msrp (standard units)', standard_units(suv.column('msrp'))\n",
    ").scatter(0, 1)\n",
    "plots.xlim(-3, 3)\n",
    "plots.ylim(-3, 3);"
   ]
  },
  {
   "cell_type": "markdown",
   "metadata": {},
   "source": [
    "Question: Where do we find the most \"average\" data point for the previous scatterplot?"
   ]
  },
  {
   "cell_type": "code",
   "execution_count": null,
   "metadata": {},
   "outputs": [],
   "source": [
    "suv.scatter('acceleration', 'msrp')"
   ]
  },
  {
   "cell_type": "code",
   "execution_count": null,
   "metadata": {},
   "outputs": [],
   "source": [
    "Table().with_columns(\n",
    "    'acceleration (standard units)', standard_units(suv.column('acceleration')), \n",
    "    'msrp (standard units)',         standard_units(suv.column('msrp'))\n",
    ").scatter(0, 1)\n",
    "plots.xlim(-3, 3)\n",
    "plots.ylim(-3, 3);"
   ]
  },
  {
   "cell_type": "code",
   "execution_count": null,
   "metadata": {},
   "outputs": [],
   "source": []
  },
  {
   "cell_type": "code",
   "execution_count": null,
   "metadata": {},
   "outputs": [],
   "source": []
  },
  {
   "cell_type": "code",
   "execution_count": null,
   "metadata": {},
   "outputs": [],
   "source": []
  },
  {
   "cell_type": "markdown",
   "metadata": {},
   "source": [
    "## C. Correlation"
   ]
  },
  {
   "cell_type": "code",
   "execution_count": null,
   "metadata": {},
   "outputs": [],
   "source": [
    "# Here's a scatterplot with a specific correlation\n",
    "r_scatter(.25)\n",
    "\n",
    "# Re-run for r = -1, r = 0, etc."
   ]
  },
  {
   "cell_type": "markdown",
   "metadata": {},
   "source": [
    "We use the **correlation coefficient** (r) to describe a linear association."
   ]
  },
  {
   "cell_type": "code",
   "execution_count": null,
   "metadata": {},
   "outputs": [],
   "source": [
    "# Here are six made-up data points in a table `t`\n",
    "x = make_array(1, 2, 3, 4, 5, 6)\n",
    "y = make_array(2, 3, 1, 5, 2, 7)\n",
    "t = Table().with_columns(\n",
    "        'x', x,\n",
    "        'y', y\n",
    "    )\n",
    "t"
   ]
  },
  {
   "cell_type": "code",
   "execution_count": null,
   "metadata": {},
   "outputs": [],
   "source": [
    "t.scatter('x', 'y', s=30, color='red')"
   ]
  },
  {
   "cell_type": "code",
   "execution_count": null,
   "metadata": {},
   "outputs": [],
   "source": [
    "# Convert both columns to standard units\n",
    "t = t.with_columns(\n",
    "        'x (standard units)', standard_units(x),\n",
    "        'y (standard units)', standard_units(y)\n",
    "    )\n",
    "t"
   ]
  },
  {
   "cell_type": "code",
   "execution_count": null,
   "metadata": {},
   "outputs": [],
   "source": [
    "# Scatterplot in Standard Units\n",
    "t.scatter(2, 3, s=30, color='red')"
   ]
  },
  {
   "cell_type": "markdown",
   "metadata": {},
   "source": [
    "Correlation is the **average** of the **product of standard units** for each data point."
   ]
  },
  {
   "cell_type": "code",
   "execution_count": null,
   "metadata": {},
   "outputs": [],
   "source": [
    "# Add a column showing product of standard units\n",
    "t = ...\n",
    "t"
   ]
  },
  {
   "cell_type": "code",
   "execution_count": null,
   "metadata": {},
   "outputs": [],
   "source": [
    "# By definition, r is the average of the products of the standard units\n",
    "\n",
    "r = ...\n",
    "r"
   ]
  },
  {
   "cell_type": "markdown",
   "metadata": {},
   "source": [
    "Remember, r only measures **linear** association.\n",
    "\n",
    "Why do we multiply?\n",
    "  - In the lower-left and upper-right quadrant of our plot, the product is positive.\n",
    "  - In the lower-right and upper-left quadrant of our plot, the product is negative.\n",
    "  - The size of the product is larger when the point is \"farther into the corner\"\n",
    "  - The average product tells us about the linear association."
   ]
  },
  {
   "cell_type": "code",
   "execution_count": null,
   "metadata": {},
   "outputs": [],
   "source": [
    "# For any two-column table of numerical data, find the correlation coefficient (r)\n",
    "def correlation(t, x, y):\n",
    "    \"\"\"t is a table; x and y are strings (column labels in t)\"\"\"\n",
    "    x_in_standard_units = ...\n",
    "    y_in_standard_units = ...\n",
    "    r = ...\n",
    "    return r"
   ]
  },
  {
   "cell_type": "code",
   "execution_count": null,
   "metadata": {},
   "outputs": [],
   "source": [
    "# Test the function on our existing two-column table `t`\n",
    "correlation(t, 'x', 'y')"
   ]
  },
  {
   "cell_type": "code",
   "execution_count": null,
   "metadata": {},
   "outputs": [],
   "source": [
    "suv.scatter('mpg', 'msrp')"
   ]
  },
  {
   "cell_type": "code",
   "execution_count": null,
   "metadata": {},
   "outputs": [],
   "source": [
    "correlation(suv, 'mpg', 'msrp')"
   ]
  },
  {
   "cell_type": "code",
   "execution_count": null,
   "metadata": {},
   "outputs": [],
   "source": [
    "suv.scatter('acceleration', 'msrp')"
   ]
  },
  {
   "cell_type": "code",
   "execution_count": null,
   "metadata": {},
   "outputs": [],
   "source": [
    "correlation(suv, 'acceleration', 'msrp')"
   ]
  },
  {
   "cell_type": "code",
   "execution_count": null,
   "metadata": {},
   "outputs": [],
   "source": [
    "# Back to slides...\n",
    "\n",
    "\n",
    "\n",
    "\n"
   ]
  },
  {
   "cell_type": "markdown",
   "metadata": {},
   "source": [
    "## D. Wrap-up"
   ]
  },
  {
   "cell_type": "markdown",
   "metadata": {},
   "source": [
    "### Switching Axes"
   ]
  },
  {
   "cell_type": "code",
   "execution_count": null,
   "metadata": {},
   "outputs": [],
   "source": [
    "# Does correlation change if we swap the roles of x and y?\n",
    "correlation(t, 'x', 'y')"
   ]
  },
  {
   "cell_type": "code",
   "execution_count": null,
   "metadata": {},
   "outputs": [],
   "source": [
    "t.scatter('x', 'y', s=30, color='red')"
   ]
  },
  {
   "cell_type": "code",
   "execution_count": null,
   "metadata": {},
   "outputs": [],
   "source": [
    "t.scatter('y', 'x', s=30, color='red')"
   ]
  },
  {
   "cell_type": "code",
   "execution_count": null,
   "metadata": {},
   "outputs": [],
   "source": [
    "correlation(t, 'y', 'x')"
   ]
  },
  {
   "cell_type": "markdown",
   "metadata": {},
   "source": [
    "### Nonlinearity"
   ]
  },
  {
   "cell_type": "code",
   "execution_count": null,
   "metadata": {},
   "outputs": [],
   "source": [
    "# What is the correlation if we have a strong nonlinear pattern, like a parabola?\n",
    "\n",
    "# Make a table where y is just x squared\n",
    "new_x = np.arange(-4, 4.1, 0.5)\n",
    "parabola = Table().with_columns(\n",
    "        'x', new_x,\n",
    "        'y', new_x**2\n",
    "    )\n",
    "parabola.scatter('x', 'y', s=30, color='r')"
   ]
  },
  {
   "cell_type": "code",
   "execution_count": null,
   "metadata": {},
   "outputs": [],
   "source": [
    "correlation(parabola, 'x', 'y')"
   ]
  },
  {
   "cell_type": "markdown",
   "metadata": {},
   "source": [
    "Note: There IS an *association* between x and y in the scatterplot above. But r = 0 indicates that there is no **linear** association."
   ]
  },
  {
   "cell_type": "markdown",
   "metadata": {},
   "source": [
    "### Outliers"
   ]
  },
  {
   "cell_type": "code",
   "execution_count": null,
   "metadata": {},
   "outputs": [],
   "source": [
    "# These made-up data lie on the line y = x\n",
    "# There are no outliers: all the points fit the same pattern\n",
    "line = Table().with_columns(\n",
    "        'x', make_array(1, 2, 3, 4),\n",
    "        'y', make_array(1, 2, 3, 4)\n",
    "    )\n",
    "line.scatter('x', 'y', s=30, color='r')"
   ]
  },
  {
   "cell_type": "code",
   "execution_count": null,
   "metadata": {},
   "outputs": [],
   "source": [
    "# They have a \"perfect positive association\"\n",
    "correlation(line, 'x', 'y')"
   ]
  },
  {
   "cell_type": "code",
   "execution_count": null,
   "metadata": {},
   "outputs": [],
   "source": [
    "# What if we introduce an outlier; how will that affect the correlation?\n",
    "\n",
    "# Add a fifth point which is an extreme outlier: (x, y) = (5, 0)\n",
    "line_with_outlier = Table().with_columns(\n",
    "        'x', make_array(1, 2, 3, 4, 5),\n",
    "        'y', make_array(1, 2, 3, 4, 0)\n",
    "    )\n",
    "line_with_outlier.scatter('x', 'y', s=30, color='r')"
   ]
  },
  {
   "cell_type": "code",
   "execution_count": null,
   "metadata": {},
   "outputs": [],
   "source": [
    "correlation(line_with_outlier, 'x', 'y')"
   ]
  },
  {
   "cell_type": "markdown",
   "metadata": {},
   "source": [
    "Takeaways:\n",
    "  - Correlation is unaffected by which variable is \"x\" and which is \"y\"\n",
    "  - Correlation is unaffected by the units\n",
    "  - Correlation does not measure a nonlinear association. Always plot the data first and don't use correlation to learn about that data if it has a strongly nonlinear pattern.\n",
    "  - Correlation is sensitive to extreme outliers. If extreme outliers are present in the data, the correlation may not be an accurate measure of the overall association."
   ]
  },
  {
   "cell_type": "code",
   "execution_count": null,
   "metadata": {},
   "outputs": [],
   "source": []
  }
 ],
 "metadata": {
  "kernelspec": {
   "display_name": "Python 3 (ipykernel)",
   "language": "python",
   "name": "python3"
  },
  "language_info": {
   "codemirror_mode": {
    "name": "ipython",
    "version": 3
   },
   "file_extension": ".py",
   "mimetype": "text/x-python",
   "name": "python",
   "nbconvert_exporter": "python",
   "pygments_lexer": "ipython3",
   "version": "3.12.1"
  }
 },
 "nbformat": 4,
 "nbformat_minor": 4
}
