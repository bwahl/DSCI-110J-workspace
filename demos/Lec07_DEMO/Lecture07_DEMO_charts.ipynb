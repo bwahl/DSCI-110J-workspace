{
 "cells": [
  {
   "cell_type": "markdown",
   "id": "cf692f06",
   "metadata": {},
   "source": [
    "# Lecture 7: Charts"
   ]
  },
  {
   "cell_type": "code",
   "execution_count": null,
   "id": "1e6e8085",
   "metadata": {
    "scrolled": true
   },
   "outputs": [],
   "source": [
    "from datascience import *\n",
    "import numpy as np\n",
    "\n",
    "%matplotlib inline\n",
    "import matplotlib.pyplot as plots\n",
    "plots.style.use('fivethirtyeight')"
   ]
  },
  {
   "cell_type": "markdown",
   "id": "cc418985",
   "metadata": {},
   "source": [
    "## Census"
   ]
  },
  {
   "cell_type": "code",
   "execution_count": null,
   "id": "4ca27696",
   "metadata": {
    "scrolled": true
   },
   "outputs": [],
   "source": [
    "full = Table.read_table('nc-est2019-agesex-res.csv')\n",
    "full.show(3)"
   ]
  },
  {
   "cell_type": "markdown",
   "id": "12c98d70",
   "metadata": {},
   "source": [
    "Each SEX-AGE combination is represented in a row. \n",
    "\n",
    "  - Remember, SEX is coded (0 = all, 1 = male, 2 = female).\n",
    "\n",
    "  - The AGE values are ages in years, except 100 is interpreted as \"100 or older\" and 999 is interpreted as \"all ages\"."
   ]
  },
  {
   "cell_type": "code",
   "execution_count": null,
   "id": "d5a61339",
   "metadata": {
    "scrolled": true
   },
   "outputs": [],
   "source": [
    "partial = full.select(0, 1, 8, 13)\n",
    "partial"
   ]
  },
  {
   "cell_type": "code",
   "execution_count": null,
   "id": "3430888a",
   "metadata": {
    "scrolled": true
   },
   "outputs": [],
   "source": [
    "# We can shorten up annoyingly-long column names\n",
    "us_pop = partial.relabeled(2, '2014').relabeled(3, '2019')\n",
    "us_pop.show(4)"
   ]
  },
  {
   "cell_type": "markdown",
   "id": "adaa2c18",
   "metadata": {},
   "source": [
    "### Line Plots"
   ]
  },
  {
   "cell_type": "markdown",
   "id": "3793c607",
   "metadata": {},
   "source": [
    "The 999 value in the AGE column indicates \"all ages\". We won't be using those rows in our line plot examples, so we need to make a new table without the AGE = 999 rows."
   ]
  },
  {
   "cell_type": "code",
   "execution_count": null,
   "id": "0dc758fa",
   "metadata": {
    "scrolled": true
   },
   "outputs": [],
   "source": [
    "# Make a new table, assigned to the variable `no_999`, without those rows\n",
    "no_999 = ...\n",
    "no_999"
   ]
  },
  {
   "cell_type": "markdown",
   "id": "ce1ebae2",
   "metadata": {},
   "source": [
    "**Explain**: Why did the number of rows decrease by 9 when we omitted the AGE = 999 rows?"
   ]
  },
  {
   "cell_type": "code",
   "execution_count": null,
   "id": "757a0d5a",
   "metadata": {
    "scrolled": true
   },
   "outputs": [],
   "source": [
    "# Make a new table from no_999, assigned to the variable `overall`,\n",
    "# which only keeps the SEX = 0 (both sexes combined) rows;\n",
    "# then eliminate the 'SEX' column since all the values are identical.\n",
    "overall = ...\n",
    "overall"
   ]
  },
  {
   "cell_type": "code",
   "execution_count": null,
   "id": "e2afd4cd",
   "metadata": {},
   "outputs": [],
   "source": [
    "# Plot of US Population in 2019 (in millions) versus Age\n",
    "overall.plot('AGE', '2019')"
   ]
  },
  {
   "cell_type": "markdown",
   "id": "7ed4953e",
   "metadata": {},
   "source": [
    "It's important to **document** the meaning of each plot as it's generated, so that when you come back later, or share the notebook with team members etc., there's no question as to the meaning of the plot. There are three standard ways to do this:\n",
    "\n",
    "  1. Put the title in a **comment** immediately above the line of code which makes the plot. (See previous cell for an example of this.)\n",
    "  2. **Print** the title before generating the plot. (See next cell for an example of this.)\n",
    "  3. **Add a title element** to the plot itself. On the code line right after making the plot, use the syntax `plots.title(...);` where a string literal is put in the parentheses and there's a semicolon after the closing parenthesis. (See the cell after the next one!)"
   ]
  },
  {
   "cell_type": "code",
   "execution_count": null,
   "id": "57f9fef7",
   "metadata": {},
   "outputs": [],
   "source": [
    "print('US Population in 2019 (in millions) versus Age')\n",
    "overall.plot('AGE', '2019')"
   ]
  },
  {
   "cell_type": "code",
   "execution_count": null,
   "id": "c7f6984d",
   "metadata": {},
   "outputs": [],
   "source": [
    "overall.plot('AGE', '2019')\n",
    "\n",
    "# plots.title(...); adds a title to the \"current\" plot\n",
    "plots.title('US Population in 2019 (in millions) versus Age');  "
   ]
  },
  {
   "cell_type": "markdown",
   "id": "2048cef7",
   "metadata": {},
   "source": [
    "**Questions**: \n",
    "  - Why is there an uptick in the graph for AGE = 100?\n",
    "  - Do you see evidence in this plot that the US birthrate decreased from 1999 to 2019, or increased from 1999 to 2019?"
   ]
  },
  {
   "cell_type": "markdown",
   "id": "99a7d115",
   "metadata": {},
   "source": [
    "### Males vs. Females"
   ]
  },
  {
   "cell_type": "markdown",
   "id": "dc0b0296",
   "metadata": {},
   "source": [
    "Make a table, assigned to the name `males`, for the rows of the `no_999` table corresponding to the male population numbers. Make a second table, assigned to the name `females`, in a similar way."
   ]
  },
  {
   "cell_type": "code",
   "execution_count": null,
   "id": "9a239f37",
   "metadata": {},
   "outputs": [],
   "source": [
    "males = ...\n",
    "females = ..."
   ]
  },
  {
   "cell_type": "markdown",
   "id": "2633eaf9",
   "metadata": {},
   "source": [
    "Now we'll make a new 3-column table with column labels 'AGE', 'MALE_POP', and 'FEMALE_POP'."
   ]
  },
  {
   "cell_type": "code",
   "execution_count": null,
   "id": "64b527bf",
   "metadata": {},
   "outputs": [],
   "source": [
    "pop_2019 = Table().with_columns(\n",
    "    'AGE', males.column('AGE'),\n",
    "    'MALE_POP', males.column('2019'),\n",
    "    'FEMALE_POP', females.column('2019')\n",
    ")\n",
    "pop_2019"
   ]
  },
  {
   "cell_type": "markdown",
   "id": "9b9c3d71",
   "metadata": {},
   "source": [
    "This new table makes it really simple to plot the male and female population numbers versus age on the same graph."
   ]
  },
  {
   "cell_type": "code",
   "execution_count": null,
   "id": "21373053",
   "metadata": {},
   "outputs": [],
   "source": [
    "pop_2019.plot('AGE')\n",
    "plots.title('US Population in 2019 (in millions), by Sex');"
   ]
  },
  {
   "cell_type": "markdown",
   "id": "ed29bc7d",
   "metadata": {},
   "source": [
    "What do you notice?"
   ]
  },
  {
   "cell_type": "markdown",
   "id": "1e17adcf",
   "metadata": {},
   "source": [
    "Now let's try focusing in on a single number versus age: What is the percent of the 2019 population that's female?"
   ]
  },
  {
   "cell_type": "code",
   "execution_count": null,
   "id": "69092ed5",
   "metadata": {},
   "outputs": [],
   "source": [
    "# Make an array showing total population at each age in 2019\n",
    "total = pop_2019.column('MALE_POP') + pop_2019.column('FEMALE_POP')\n",
    "\n",
    "# Make an array showing percent female at each age\n",
    "pct_female = pop_2019.column('FEMALE_POP') / total * 100\n",
    "pct_female"
   ]
  },
  {
   "cell_type": "code",
   "execution_count": null,
   "id": "29450239",
   "metadata": {},
   "outputs": [],
   "source": [
    "# We don't really need all those decimal places\n",
    "pct_female = np.round(pct_female, 3)\n",
    "pct_female"
   ]
  },
  {
   "cell_type": "code",
   "execution_count": null,
   "id": "bf84142d",
   "metadata": {},
   "outputs": [],
   "source": [
    "# Now we add these percentages to our table pop_2019 in a new column\n",
    "pop_2019 = pop_2019.with_columns(\n",
    "    'PCT_FEMALE', pct_female\n",
    ")\n",
    "pop_2019"
   ]
  },
  {
   "cell_type": "code",
   "execution_count": null,
   "id": "58b40952",
   "metadata": {},
   "outputs": [],
   "source": [
    "# Percent Female vs. Age for the US Population in 2019\n",
    "pop_2019.plot('AGE', 'PCT_FEMALE')"
   ]
  },
  {
   "cell_type": "markdown",
   "id": "e4805116",
   "metadata": {},
   "source": [
    "Because the y axis is contrained to the range 45 to 80 (roughly), instead of ranging 0 to 100 (the true set of possible values for a percentage), the steepness of the curve is an exaggeration. It might be better to show the entire y range from 0 to 100, like so:"
   ]
  },
  {
   "cell_type": "code",
   "execution_count": null,
   "id": "c038df65",
   "metadata": {},
   "outputs": [],
   "source": [
    "# Percent Female vs. Age for the US Population in 2019\n",
    "pop_2019.plot('AGE', 'PCT_FEMALE')\n",
    "plots.ylim(0,100);"
   ]
  },
  {
   "cell_type": "markdown",
   "id": "c7d1b8b6",
   "metadata": {},
   "source": [
    "**TAKEAWAY**: When you are looking at a visualization, always inspect the y axis carefully. If it doesn't start at 0, ask yourself if it's giving a misleading picture of reality. (The y axis shouldn't **always** start at 0, but if it doesn't there should be a valid reason for that.)"
   ]
  },
  {
   "cell_type": "markdown",
   "id": "02a6e332",
   "metadata": {},
   "source": [
    "## Scatter Plots"
   ]
  },
  {
   "cell_type": "markdown",
   "id": "cf029b0f",
   "metadata": {},
   "source": [
    "According to [The-Numbers.com](https://www.the-numbers.com/box-office-star-records/domestic/lifetime-acting/top-grossing-leading-stars), the total gross for movies in which Samuel L. Jackson has appeared is currently \\\\$5,803,143,777. That's 5803 million dollars. The `actors.csv` table we're about to read in is a bit out of date, it shows Samuel L. Jackson's Total Gross as 4772.8 (million dollars)."
   ]
  },
  {
   "cell_type": "code",
   "execution_count": null,
   "id": "bc1e86c9",
   "metadata": {},
   "outputs": [],
   "source": [
    "# Here we have a slightly out-of-date table with data on 50 actors from high-grossing movies\n",
    "actors = Table.read_table('actors.csv')\n",
    "actors"
   ]
  },
  {
   "cell_type": "markdown",
   "id": "b16bc38c",
   "metadata": {},
   "source": [
    "**Question**: For actors in this table, is there an association between Number of Movies and Total Gross? \n",
    "\n",
    "To check for a possible association between two numerical variables, a scatter plot is a good choice."
   ]
  },
  {
   "cell_type": "code",
   "execution_count": null,
   "id": "a90446c9",
   "metadata": {},
   "outputs": [],
   "source": [
    "# Total Gross (in millions of dollars) versus Number of Movies\n",
    "actors.scatter('Number of Movies', 'Total Gross')\n",
    "plots.ylabel('Total Gross (millions)');  # to include the unit label (millions) on the y axis"
   ]
  },
  {
   "cell_type": "markdown",
   "id": "c9013af0",
   "metadata": {},
   "source": [
    "  - What do you see in this plot? \n",
    "  - Does it show a positive association? If yes, what does that mean?\n",
    "  - Are there any outliers (unusual points which don't seem to fit the overall trend)?"
   ]
  },
  {
   "cell_type": "markdown",
   "id": "8a43f0e6",
   "metadata": {},
   "source": [
    "Of course, an actor who has been in lots of movies should be expected to have a higher total gross. Let's compare 'Average per Movie' with 'Number of Movies':"
   ]
  },
  {
   "cell_type": "code",
   "execution_count": null,
   "id": "c670ba99",
   "metadata": {},
   "outputs": [],
   "source": [
    "# Average per Movie (in millions of dollars) versus Number of Movies\n",
    "actors.scatter('Number of Movies', 'Average per Movie')\n",
    "plots.ylabel('Average per Movie (millions)');  "
   ]
  },
  {
   "cell_type": "markdown",
   "id": "c58444e6",
   "metadata": {},
   "source": [
    "  - What do you see in this plot? \n",
    "  - Does it show a positive, or a negative, association? What does that tell us?\n",
    "  - Are there any outliers which buck the overall trend, or outliers which are simply extreme?"
   ]
  },
  {
   "cell_type": "code",
   "execution_count": null,
   "id": "fbc1fc87",
   "metadata": {},
   "outputs": [],
   "source": [
    "# Use table manipulations to discover the actor whose 'Average per Movie' is over 400 million\n",
    "actors.sort('Average per Movie', descending=True).column('Actor').item(0)"
   ]
  },
  {
   "cell_type": "code",
   "execution_count": null,
   "id": "40654bc3",
   "metadata": {},
   "outputs": [],
   "source": [
    "actors.sort('Average per Movie', descending=True)"
   ]
  },
  {
   "cell_type": "code",
   "execution_count": null,
   "id": "20012e6d",
   "metadata": {},
   "outputs": [],
   "source": [
    "# We could also have used `where`\n",
    "actors.where('Average per Movie', are.above(400))"
   ]
  },
  {
   "cell_type": "markdown",
   "id": "ac650800",
   "metadata": {},
   "source": [
    "Any idea who Anthony Daniels is? (back to lecture slides...)"
   ]
  },
  {
   "cell_type": "markdown",
   "id": "3be3a0f1",
   "metadata": {},
   "source": [
    "## Bar Charts (for Categorical & Nominal Data)"
   ]
  },
  {
   "cell_type": "code",
   "execution_count": null,
   "id": "87427972",
   "metadata": {},
   "outputs": [],
   "source": [
    "# Read a table about 200 top-grossing movies of all time (as of 2017)\n",
    "# The fourth column has gross revenue adjusted for inflation\n",
    "top_movies = Table.read_table('top_movies_2017.csv')\n",
    "top_movies"
   ]
  },
  {
   "cell_type": "code",
   "execution_count": null,
   "id": "9c35bbe7-91bd-47b4-a271-418f2ac1e35f",
   "metadata": {},
   "outputs": [],
   "source": [
    "# Is each movie title unique (only occurs on one row of the table)?\n",
    "# Hint: .group & .sort\n",
    "..."
   ]
  },
  {
   "cell_type": "markdown",
   "id": "d5fe190d",
   "metadata": {},
   "source": [
    "**Question**: Which attributes are numerical (aka quantitative)? Which are categorical? Which are nominal?"
   ]
  },
  {
   "cell_type": "markdown",
   "id": "45e6d89d-ae71-4349-aeed-cd7f243ed10d",
   "metadata": {},
   "source": [
    "**Answer**: ..."
   ]
  },
  {
   "cell_type": "code",
   "execution_count": null,
   "id": "076e572b",
   "metadata": {},
   "outputs": [],
   "source": [
    "# Make a new table for just the top 10 movies, based on 'Gross (Adjusted)'\n",
    "# Notice the table is already sorted according to \n",
    "top10_adjusted = top_movies.take(np.arange(10))\n",
    "top10_adjusted"
   ]
  },
  {
   "cell_type": "markdown",
   "id": "e96708c1",
   "metadata": {},
   "source": [
    "The 'Gross (Adjusted)' values are a bit hard to look at, they are so huge. What would they look like if we scaled them down by a factor of 1 million?"
   ]
  },
  {
   "cell_type": "code",
   "execution_count": null,
   "id": "cd88016e",
   "metadata": {},
   "outputs": [],
   "source": [
    "top10_adjusted.column('Gross (Adjusted)') / 1000000"
   ]
  },
  {
   "cell_type": "code",
   "execution_count": null,
   "id": "d97a8226",
   "metadata": {},
   "outputs": [],
   "source": [
    "# Looks good! Let's also round them to three places after the decimal\n",
    "millions = np.round(top10_adjusted.column('Gross (Adjusted)') / 1000000, 3)\n",
    "millions"
   ]
  },
  {
   "cell_type": "code",
   "execution_count": null,
   "id": "e78942cc",
   "metadata": {},
   "outputs": [],
   "source": [
    "# Now add those numbers to the table in a new last column labeled 'Millions'\n",
    "top10_adjusted = top10_adjusted.with_column('Millions', millions)\n",
    "top10_adjusted"
   ]
  },
  {
   "cell_type": "code",
   "execution_count": null,
   "id": "d2be14dd",
   "metadata": {},
   "outputs": [],
   "source": [
    "# Notice we CAN make a line plot using the last 2 columns, but it's not very informative\n",
    "top10_adjusted.plot('Year', 'Millions')\n",
    "print(\"Adjusted Gross (Millions) vs. Year\")"
   ]
  },
  {
   "cell_type": "code",
   "execution_count": null,
   "id": "6fb8d38a",
   "metadata": {},
   "outputs": [],
   "source": [
    "# Try a horizontal bar graph (`barh`) for showing AGR for top 10 movies\n",
    "# Notice the non-quantitative variable goes FIRST in the list of arguments\n",
    "top10_adjusted.barh('Title', 'Millions')\n",
    "plots.title('Adjusted Gross Revenue (Millions), by Title');"
   ]
  },
  {
   "cell_type": "markdown",
   "id": "35be8403",
   "metadata": {},
   "source": [
    "Questions about `barh`?"
   ]
  },
  {
   "cell_type": "code",
   "execution_count": null,
   "id": "321dd3c3",
   "metadata": {},
   "outputs": [],
   "source": [
    "# What happens if we try to do a similar thing with the \"Studio\" attribute?\n",
    "top10_adjusted.barh('Studio', 'Millions')\n",
    "plots.title('Adjusted Gross Revenue (Millions), by Studio');"
   ]
  },
  {
   "cell_type": "markdown",
   "id": "d20f3864",
   "metadata": {},
   "source": [
    "Is this an informative visualization?"
   ]
  },
  {
   "cell_type": "markdown",
   "id": "189a65fe",
   "metadata": {},
   "source": [
    "BACK TO LECTURE SLIDES for our next challenge..."
   ]
  },
  {
   "cell_type": "code",
   "execution_count": null,
   "id": "d3fa325d",
   "metadata": {},
   "outputs": [],
   "source": [
    "# Calculate values for the 'Age' column (difference between 2024 and 'Year')"
   ]
  },
  {
   "cell_type": "code",
   "execution_count": null,
   "id": "162118ef",
   "metadata": {},
   "outputs": [],
   "source": [
    "# Add the new 'Age' column to the top10_adjusted table"
   ]
  },
  {
   "cell_type": "code",
   "execution_count": null,
   "id": "7033756c",
   "metadata": {},
   "outputs": [],
   "source": [
    "# Sort in descending order by 'Age'"
   ]
  },
  {
   "cell_type": "code",
   "execution_count": null,
   "id": "60cba115",
   "metadata": {},
   "outputs": [],
   "source": [
    "# Draw the horizontal barchart, showing 'Title' and 'Age'"
   ]
  }
 ],
 "metadata": {
  "kernelspec": {
   "display_name": "Python 3 (ipykernel)",
   "language": "python",
   "name": "python3"
  },
  "language_info": {
   "codemirror_mode": {
    "name": "ipython",
    "version": 3
   },
   "file_extension": ".py",
   "mimetype": "text/x-python",
   "name": "python",
   "nbconvert_exporter": "python",
   "pygments_lexer": "ipython3",
   "version": "3.12.1"
  }
 },
 "nbformat": 4,
 "nbformat_minor": 5
}
