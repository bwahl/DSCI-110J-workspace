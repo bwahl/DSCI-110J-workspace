{
 "cells": [
  {
   "cell_type": "markdown",
   "id": "b558f796",
   "metadata": {},
   "source": [
    "# Lecture 06 Demo: Census"
   ]
  },
  {
   "cell_type": "code",
   "execution_count": null,
   "id": "043e496f",
   "metadata": {},
   "outputs": [],
   "source": [
    "from datascience import *\n",
    "import numpy as np\n",
    "\n",
    "%matplotlib inline\n",
    "import matplotlib.pyplot as plots\n",
    "plots.style.use('fivethirtyeight')"
   ]
  },
  {
   "cell_type": "markdown",
   "id": "dd26c7ad",
   "metadata": {},
   "source": [
    "## Table Review: Pokemon Data"
   ]
  },
  {
   "cell_type": "markdown",
   "id": "ae576ea6",
   "metadata": {},
   "source": [
    "From the [Kaggle.com website](https://www.kaggle.com/datasets/rounakbanik/pokemon), I downloaded a CSV file with data about Pokemon characters. The website includes metadata, such as descriptions of the various columns in the table. I saved the `pokemon.csv` file to my local directory (where the file for this notebook resides), so now I can bring that data to life in my notebook using `Table.read_table(filename)`:"
   ]
  },
  {
   "cell_type": "code",
   "execution_count": null,
   "id": "9d0f7d8b",
   "metadata": {},
   "outputs": [],
   "source": [
    "pokemon = Table.read_table('pokemon.csv')\n",
    "pokemon.show(3)"
   ]
  },
  {
   "cell_type": "code",
   "execution_count": null,
   "id": "491a7de2",
   "metadata": {},
   "outputs": [],
   "source": [
    "# How many columns in the table?\n",
    "pokemon.num_columns"
   ]
  },
  {
   "cell_type": "code",
   "execution_count": null,
   "id": "67092dce",
   "metadata": {},
   "outputs": [],
   "source": [
    "# How many rows? Should be 3 + 798:\n",
    "pokemon.num_rows"
   ]
  },
  {
   "cell_type": "markdown",
   "id": "997fcd52",
   "metadata": {},
   "source": [
    "Notice that some columns hold text data (strings), and other columns hold numerical data. But there's no column that has a mixture of text and numbers. Each column is a Numpy array, and so it's actually impossible to have different data types mixed together in a single column.\n",
    "\n",
    "The first column (index 0) looks a little unusual; let's double-check its data type by looking at the type of the first item in the first column."
   ]
  },
  {
   "cell_type": "code",
   "execution_count": null,
   "id": "abcf2e5a",
   "metadata": {},
   "outputs": [],
   "source": [
    "first_item = pokemon.column(0).item(0)\n",
    "type(first_item)\n",
    "first_item\n"
   ]
  },
  {
   "cell_type": "markdown",
   "id": "d5316b04",
   "metadata": {},
   "source": [
    "41 columns is a lot of data. Let's focus in on a handful of columns. `t.select()` is useful here."
   ]
  },
  {
   "cell_type": "code",
   "execution_count": null,
   "id": "d10ce20a",
   "metadata": {},
   "outputs": [],
   "source": [
    "pokemon_subset = pokemon.select('name', 'type1', 'attack')\n",
    "pokemon_subset"
   ]
  },
  {
   "cell_type": "markdown",
   "id": "e5a6766a",
   "metadata": {},
   "source": [
    "What is the average attack rating for Pokemon where the primary type (`type1`) is **fire**?"
   ]
  },
  {
   "cell_type": "code",
   "execution_count": null,
   "id": "6d7087dd",
   "metadata": {},
   "outputs": [],
   "source": [
    "# Make a table showing only 'fire' type (type1)\n",
    "firetype = pokemon_subset.where('type1', 'fire')\n",
    "firetype"
   ]
  },
  {
   "cell_type": "code",
   "execution_count": null,
   "id": "8698992e",
   "metadata": {},
   "outputs": [],
   "source": [
    "# Calculate the mean of the attack column\n",
    "firetype.column('attack').mean()"
   ]
  },
  {
   "cell_type": "code",
   "execution_count": null,
   "id": "a89ad7e4",
   "metadata": {},
   "outputs": [],
   "source": [
    "# Eyeball the various abilities\n",
    "pokemon.column('abilities')"
   ]
  },
  {
   "cell_type": "code",
   "execution_count": null,
   "id": "1f0127b9",
   "metadata": {},
   "outputs": [],
   "source": [
    "# Which Pokemon have the `Super Luck` ability?\n",
    "pokemon.where('abilities', are.containing('Super Luck')).column('name')"
   ]
  },
  {
   "cell_type": "markdown",
   "id": "28f733d2",
   "metadata": {},
   "source": [
    "Notice that we can keep all the columns and just focus in on the rows for Pokemon with the `Super Luck` ability:"
   ]
  },
  {
   "cell_type": "code",
   "execution_count": null,
   "id": "f0eab246",
   "metadata": {},
   "outputs": [],
   "source": [
    "pokemon.where('abilities', are.containing('Super Luck'))"
   ]
  },
  {
   "cell_type": "code",
   "execution_count": null,
   "id": "1257b6ea",
   "metadata": {},
   "outputs": [],
   "source": [
    "# What are the various classifications?\n",
    "pokemon.select('classification')"
   ]
  },
  {
   "cell_type": "markdown",
   "id": "ab94a76a",
   "metadata": {},
   "source": [
    "Oh, snap! Whoever created the CSV file introduced a typo. \"classification\" is misspelled as \"classfication\". Can we fix that?\n",
    "\n",
    "Of course we can, using the `relabeled` method."
   ]
  },
  {
   "cell_type": "code",
   "execution_count": null,
   "id": "903ead69",
   "metadata": {},
   "outputs": [],
   "source": [
    "pokemon = pokemon.relabeled('classfication', 'classification')\n",
    "pokemon.labels"
   ]
  },
  {
   "cell_type": "code",
   "execution_count": null,
   "id": "5d87d940",
   "metadata": {},
   "outputs": [],
   "source": [
    "# What are the various classifications?\n",
    "pokemon.column('classification')"
   ]
  },
  {
   "cell_type": "markdown",
   "id": "bf9cae97",
   "metadata": {},
   "source": [
    "That's really hard to look at. Maybe we should sort the table by classification first."
   ]
  },
  {
   "cell_type": "code",
   "execution_count": null,
   "id": "a9521227",
   "metadata": {},
   "outputs": [],
   "source": [
    "pokemon.sort('classification').column('classification')"
   ]
  },
  {
   "cell_type": "code",
   "execution_count": null,
   "id": "2665993a",
   "metadata": {},
   "outputs": [],
   "source": [
    "# Find the maximum height of a Mushroom Pokemon\n",
    "mushrooms = pokemon.where('classification', are.containing('Mushroom'))\n",
    "mushrooms.select('name', 'height_m')"
   ]
  },
  {
   "cell_type": "code",
   "execution_count": null,
   "id": "a5734053",
   "metadata": {},
   "outputs": [],
   "source": [
    "avg_mushroom_height = mushrooms.column('height_m').max()\n",
    "avg_mushroom_height"
   ]
  },
  {
   "cell_type": "code",
   "execution_count": null,
   "id": "aacb1d67",
   "metadata": {},
   "outputs": [],
   "source": [
    "# Suppose we are interested in all the Mushroom Pokemon who are\n",
    "# at least 60 cm in height. \n",
    "mushrooms.where('height_m', are.above_or_equal_to(.6))"
   ]
  },
  {
   "cell_type": "code",
   "execution_count": null,
   "id": "85906946",
   "metadata": {},
   "outputs": [],
   "source": [
    "# Notice we can now use num_rows to count the number of mushrooms with\n",
    "# height at least 60 cm\n",
    "mushrooms.where('height_m', are.above_or_equal_to(.6)).num_rows"
   ]
  },
  {
   "cell_type": "code",
   "execution_count": null,
   "id": "7af0e365",
   "metadata": {},
   "outputs": [],
   "source": [
    "# Another way to get this same result:\n",
    "mushrooms.column('height_m') >= 0.6"
   ]
  },
  {
   "cell_type": "code",
   "execution_count": null,
   "id": "362aee1b",
   "metadata": {},
   "outputs": [],
   "source": [
    "# The np.count_nonzero function will count the number of True values\n",
    "np.count_nonzero(mushrooms.column('height_m') >= 0.6)"
   ]
  },
  {
   "cell_type": "code",
   "execution_count": null,
   "id": "bb5a5b8c",
   "metadata": {},
   "outputs": [],
   "source": [
    "# The total number of all Pokemon with height at least 60 cm:\n",
    "np.count_nonzero(pokemon.column('height_m') >= 0.6)"
   ]
  },
  {
   "cell_type": "code",
   "execution_count": null,
   "id": "45835de2",
   "metadata": {},
   "outputs": [],
   "source": [
    "# Option 3 for counting: just sum up the Trues (1s) and Falses (0s)\n",
    "np.sum(mushrooms.column('height_m') >= 0.6)"
   ]
  },
  {
   "cell_type": "code",
   "execution_count": null,
   "id": "e1b4de49",
   "metadata": {},
   "outputs": [],
   "source": [
    "np.sum(pokemon.column('height_m') >= 0.6)"
   ]
  },
  {
   "cell_type": "markdown",
   "id": "b9c2f0c1",
   "metadata": {},
   "source": [
    "Anything else you'd like to review?"
   ]
  },
  {
   "cell_type": "code",
   "execution_count": null,
   "id": "76c57be9",
   "metadata": {},
   "outputs": [],
   "source": []
  },
  {
   "cell_type": "code",
   "execution_count": null,
   "id": "a46a7ad3",
   "metadata": {},
   "outputs": [],
   "source": []
  },
  {
   "cell_type": "markdown",
   "id": "27e903d6",
   "metadata": {},
   "source": [
    "## Census Data"
   ]
  },
  {
   "cell_type": "code",
   "execution_count": null,
   "id": "f8e98f11",
   "metadata": {},
   "outputs": [],
   "source": [
    "full = Table.read_table('nc-est2019-agesex-res.csv')\n",
    "full.show(3)"
   ]
  },
  {
   "cell_type": "markdown",
   "id": "fab24e28",
   "metadata": {},
   "source": [
    "Each SEX-AGE combination is represented in a row. \n",
    "\n",
    "  - Remember, SEX is coded (0 = all, 1 = male, 2 = female).\n",
    "\n",
    "  - The AGE values are ages in years, except 100 is interpreted as \"100 or older\" and 999 is interpreted as \"all ages\".\n",
    "\n",
    "Let's look at the rows with AGE equaling 0 (all the people who are less than 1 year old) and, separately, AGE equaling 100 (all the people who are at least 100)."
   ]
  },
  {
   "cell_type": "code",
   "execution_count": null,
   "id": "78b1ee91",
   "metadata": {},
   "outputs": [],
   "source": [
    "full.where('AGE', 0)"
   ]
  },
  {
   "cell_type": "code",
   "execution_count": null,
   "id": "e2eda653",
   "metadata": {},
   "outputs": [],
   "source": [
    "full.where('AGE', 100)"
   ]
  },
  {
   "cell_type": "markdown",
   "id": "274610cd",
   "metadata": {},
   "source": [
    "Compare the previous two tables. What do you notice?\n",
    "\n",
    "Next, build a new table with four columns; call it `partial`. We are interested in the population estimates for 2014 and 2019:"
   ]
  },
  {
   "cell_type": "code",
   "execution_count": null,
   "id": "da232aad",
   "metadata": {},
   "outputs": [],
   "source": [
    "partial = full.select(0, 1, 8, 13)\n",
    "partial"
   ]
  },
  {
   "cell_type": "code",
   "execution_count": null,
   "id": "29e86cb3",
   "metadata": {},
   "outputs": [],
   "source": [
    "# We can shorten up annoyingly-long column names\n",
    "us_pop = partial.relabeled(2, '2014').relabeled(3, '2019')\n",
    "us_pop.show(4)"
   ]
  },
  {
   "cell_type": "code",
   "execution_count": null,
   "id": "5a21abbb",
   "metadata": {},
   "outputs": [],
   "source": [
    "us_pop.where('AGE', are.above_or_equal_to(80))"
   ]
  },
  {
   "cell_type": "code",
   "execution_count": null,
   "id": "e19f5ce8",
   "metadata": {},
   "outputs": [],
   "source": [
    "# we could sort by AGE\n",
    "us_pop.where('AGE', are.above_or_equal_to(80)).sort('AGE')"
   ]
  },
  {
   "cell_type": "markdown",
   "id": "430e2ee4",
   "metadata": {},
   "source": [
    "Looking at this last result, what patterns do you notice?"
   ]
  },
  {
   "cell_type": "code",
   "execution_count": null,
   "id": "027b01fb",
   "metadata": {},
   "outputs": [],
   "source": []
  }
 ],
 "metadata": {
  "kernelspec": {
   "display_name": "Python 3 (ipykernel)",
   "language": "python",
   "name": "python3"
  },
  "language_info": {
   "codemirror_mode": {
    "name": "ipython",
    "version": 3
   },
   "file_extension": ".py",
   "mimetype": "text/x-python",
   "name": "python",
   "nbconvert_exporter": "python",
   "pygments_lexer": "ipython3",
   "version": "3.12.1"
  }
 },
 "nbformat": 4,
 "nbformat_minor": 5
}
