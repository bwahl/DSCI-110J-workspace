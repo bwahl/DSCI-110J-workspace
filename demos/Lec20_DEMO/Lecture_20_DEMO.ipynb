{
 "cells": [
  {
   "cell_type": "code",
   "execution_count": null,
   "metadata": {},
   "outputs": [],
   "source": [
    "from datascience import *\n",
    "import numpy as np\n",
    "\n",
    "%matplotlib inline\n",
    "import matplotlib.pyplot as plots\n",
    "plots.style.use('fivethirtyeight')"
   ]
  },
  {
   "cell_type": "markdown",
   "metadata": {},
   "source": [
    "## Review: Comparing Two Samples\n",
    "\n",
    "Here are two functions we wrote in Lecture 19 for A/B testing. Let's review what we did.\n",
    "\n",
    "We wanted to simulate many values of our test statistic under the assumptions of the null hypothesis: there is no association between the numerical variable (baby birth weight) and the grouping variable (maternal smoking). This gives us a context for understanding the **observed** difference of means in the actual data.\n",
    "\n",
    "Step 1: Write a function to calculate one value of the test statistic, `mean(smokers) - mean(non-smokers)`"
   ]
  },
  {
   "cell_type": "code",
   "execution_count": null,
   "metadata": {},
   "outputs": [],
   "source": [
    "def difference_of_means(table, numeric_label, group_label):\n",
    "    \"\"\"\n",
    "    Takes: name of table, column label of numerical variable,\n",
    "    column label of group-label variable (must be just two groups)\n",
    "    \n",
    "    Returns: Difference of means of the two groups\n",
    "    \"\"\"\n",
    "    \n",
    "    #table with the two relevant columns\n",
    "    reduced = table.select(numeric_label, group_label)  \n",
    "    \n",
    "    # table containing group means for the numerical variable\n",
    "    means_table = reduced.group(group_label, np.average)\n",
    "    \n",
    "    # array of group means\n",
    "    means = means_table.column(1)\n",
    "    \n",
    "    return means.item(1) - means.item(0)"
   ]
  },
  {
   "cell_type": "markdown",
   "metadata": {},
   "source": [
    "Step 2: Write a function which creates the shuffled data table and returns one simulated value of the test statistic. This lets us carry out the \"permutation test\" that underlies A/B testing."
   ]
  },
  {
   "cell_type": "code",
   "execution_count": null,
   "metadata": {},
   "outputs": [],
   "source": [
    "def one_simulated_difference(table, numeric_label, group_label):\n",
    "    \"\"\"\n",
    "    Takes: name of table, column label of numerical variable,\n",
    "    column label of group-label variable (with 2 levels)\n",
    "    \n",
    "    Returns: Difference of means of the two groups after shuffling labels\n",
    "    \"\"\"\n",
    "    \n",
    "    # array of shuffled labels\n",
    "    shuffled_labels = table.sample(\n",
    "        with_replacement = False).column(group_label)\n",
    "    \n",
    "    # table of numerical variable and shuffled labels\n",
    "    shuffled_table = table.select(numeric_label).with_column(\n",
    "        'Shuffled Label', shuffled_labels)\n",
    "    \n",
    "    return difference_of_means(\n",
    "        shuffled_table, numeric_label, 'Shuffled Label')   "
   ]
  },
  {
   "cell_type": "code",
   "execution_count": null,
   "metadata": {},
   "outputs": [],
   "source": [
    "births = Table.read_table('baby.csv')"
   ]
  },
  {
   "cell_type": "code",
   "execution_count": null,
   "metadata": {},
   "outputs": [],
   "source": [
    "births.group('Maternal Smoker', np.average).select('Maternal Smoker', 'Birth Weight average')"
   ]
  },
  {
   "cell_type": "markdown",
   "metadata": {},
   "source": [
    "Even though our result (`P-value is: 0.0`) showed extremely convincing evidence to support the alternative hypothesis (Group B -- smokers -- tend to have lower birthweight babies), we could NOT conclude from these data that smoking **causes** lower birthweight. The reason is, these data are observational; there is no \"controlled experiment\" being conducted here, which would randomly assign some women to smoke during pregnancy and others to not smoke. Such an experiment would be problematic and highly unethhical."
   ]
  },
  {
   "cell_type": "markdown",
   "metadata": {},
   "source": [
    "**Back to slides...**"
   ]
  },
  {
   "cell_type": "code",
   "execution_count": null,
   "metadata": {},
   "outputs": [],
   "source": []
  },
  {
   "cell_type": "code",
   "execution_count": null,
   "metadata": {},
   "outputs": [],
   "source": []
  },
  {
   "cell_type": "code",
   "execution_count": null,
   "metadata": {},
   "outputs": [],
   "source": []
  },
  {
   "cell_type": "markdown",
   "metadata": {},
   "source": [
    "# Randomized Controlled Experiment\n",
    "\n",
    "Today's example relates to botox treatments and their use to reduce pain in various parts of the body."
   ]
  },
  {
   "cell_type": "code",
   "execution_count": null,
   "metadata": {},
   "outputs": [],
   "source": [
    "# We have a single grouping column and a single numerical variable\n",
    "# Group indicates \"control\" versus \"treatment\"\n",
    "# Result is 0 (did not reduce pain) or 1 (did reduce pain) for each subject in the study\n",
    "botox = Table.read_table('bta.csv')\n",
    "print(\"We have\", botox.num_rows, \"subjects in this study\")\n",
    "botox.show()"
   ]
  },
  {
   "cell_type": "markdown",
   "metadata": {},
   "source": [
    "What table method should we use to summarize the experiment results in a 2 x 2 grid, showing (for each group) how many subjects had a certain value for the numerical variable?"
   ]
  },
  {
   "cell_type": "code",
   "execution_count": null,
   "metadata": {},
   "outputs": [],
   "source": [
    "# using group\n",
    "botox.group('Result')"
   ]
  },
  {
   "cell_type": "code",
   "execution_count": null,
   "metadata": {},
   "outputs": [],
   "source": [
    "# using pivot\n",
    "botox.pivot('Result', 'Group')"
   ]
  },
  {
   "cell_type": "markdown",
   "metadata": {},
   "source": [
    "Does it seem like the botox treatment is generally more effective than the placebo which was given to the control group? How can we tell if these data are statistically significant?"
   ]
  },
  {
   "cell_type": "markdown",
   "metadata": {},
   "source": [
    "As a first step toward carrying out a hypothesis test with these data, let's show the `Result average` for each group in a 2-row table:"
   ]
  },
  {
   "cell_type": "code",
   "execution_count": null,
   "metadata": {},
   "outputs": [],
   "source": [
    "botox.group('Group', np.average)"
   ]
  },
  {
   "cell_type": "markdown",
   "metadata": {},
   "source": [
    "**Back to slides...**"
   ]
  },
  {
   "cell_type": "code",
   "execution_count": null,
   "metadata": {},
   "outputs": [],
   "source": []
  },
  {
   "cell_type": "code",
   "execution_count": null,
   "metadata": {},
   "outputs": [],
   "source": []
  },
  {
   "cell_type": "code",
   "execution_count": null,
   "metadata": {},
   "outputs": [],
   "source": []
  },
  {
   "cell_type": "markdown",
   "metadata": {},
   "source": [
    "# Testing the Hypotheses\n",
    "\n",
    "  - Null: Treatment has no effect\n",
    "  - Alternative: In the population, more of the potential treatment scores are 1 (pain improves) than the potential control scores. In short, the treatment is generally more effective than a placebo.\n",
    "  - Test statistic: mean(treament_group) - mean(control_group)\n",
    "  - What values of the test statistic will support the alternative hypothesis?"
   ]
  },
  {
   "cell_type": "code",
   "execution_count": null,
   "metadata": {},
   "outputs": [],
   "source": [
    "# Use our handy difference_of_means function from Lecture 19 in the current context\n",
    "\n",
    "# Record, by defining a function, the process for computing the difference of means\n",
    "# ONLY USE THIS ON A TWO-COLUMN TABLE\n",
    "def difference_of_means(table, numer_label, group_label):\n",
    "    \"\"\"\n",
    "    Parameters: name of table, column label of numerical variable,\n",
    "                column label of group-label variable\n",
    "    Returns:    Difference of means for the two groups \n",
    "                (2nd group mean minus 1st group mean)\n",
    "    \"\"\"\n",
    "    #table with just the two relevant columns\n",
    "    reduced = table.select(group_label, numer_label)\n",
    "    \n",
    "    # table containing the two group means \n",
    "    means_table = reduced.group(group_label, np.mean)\n",
    "    \n",
    "    # array holding the two means\n",
    "    means = means_table.column(1)\n",
    "    \n",
    "    # return the computed test statistic, 2nd mean minus 1st mean\n",
    "    return means.item(1) - means.item(0)\n",
    "\n",
    "observed_difference = difference_of_means(botox, 'Result', 'Group')\n",
    "observed_difference"
   ]
  },
  {
   "cell_type": "code",
   "execution_count": null,
   "metadata": {},
   "outputs": [],
   "source": [
    "# And our handy one_simulated_difference function\n",
    "# As usual, we begin by defining a function to simulate one value of the test statistic\n",
    "# WE WILL USE A TWO-COLUMN TABLE\n",
    "def one_simulated_difference(table, numer_label, group_label):\n",
    "    \"\"\"Takes: name of table, column label of numerical variable, column label of group-label variable\n",
    "    Returns: Difference of means of the two groups after shuffling labels\"\"\"\n",
    "\n",
    "    # array of shuffled labels\n",
    "    shuffled_labels = ...\n",
    "    \n",
    "    # table of numerical variable (second column) and shuffled labels (first column)\n",
    "    shuffled_table = (Table().with_columns(\n",
    "        group_label, shuffled_labels,             # labels are shuffled\n",
    "        numer_label, table.column(numer_label)))  # birth weights are unshuffled\n",
    "    \n",
    "    stat = ...\n",
    "    return stat\n",
    "    "
   ]
  },
  {
   "cell_type": "code",
   "execution_count": null,
   "metadata": {},
   "outputs": [],
   "source": [
    "# Notice how it jumps around when we run it repeatedly\n",
    "one_simulated_difference(botox, 'Result', 'Group')"
   ]
  },
  {
   "cell_type": "code",
   "execution_count": null,
   "metadata": {},
   "outputs": [],
   "source": [
    "repetitions = 10000\n",
    "simulated_diffs = make_array()  # initialize with an empty array\n",
    "\n",
    "# Make an array of 10000 simulated values of our test statistic\n",
    "for i in range(repetitions):\n",
    "    ...\n",
    "    ...\n",
    "\n",
    "print(len(simulated_diffs))\n",
    "simulated_diffs"
   ]
  },
  {
   "cell_type": "code",
   "execution_count": null,
   "metadata": {},
   "outputs": [],
   "source": [
    "# Make a visualization\n",
    "# Histogram shows the expected values of the test statistic if the null hypothesis is true\n",
    "# Red dot shows the observed value of the test statistic from actual data (controlled exper.)\n",
    "col_name = 'Difference of Means'\n",
    "Table().with_column(col_name, simulated_diffs).hist(col_name)\n",
    "plots.scatter(observed_difference, -.01, color='red', s=40);"
   ]
  },
  {
   "cell_type": "markdown",
   "metadata": {},
   "source": [
    "What is your instinct? Is this observed value for the statistic significant? Or could it be explained away as \"random variation\"?\n",
    "\n",
    "The p-value is a popular way to quantify the level of significance. Remember, SMALLER p-values are (LESS? MORE?) significant in terms of supporting the alternative hypothesis.\n",
    "\n",
    "Also, we mentioned on Friday that the \"context\" of the data should determine an appropriate p-value cutoff BEFORE we actually calculate the p-value. Here we have a medical context, and that often leads to more stringent standards. \n",
    "\n",
    "Let's decide we will only favor the alternative hypothesis if the p-value is HIGHLY significant (less than 1%)."
   ]
  },
  {
   "cell_type": "code",
   "execution_count": null,
   "metadata": {},
   "outputs": [],
   "source": [
    "# p-value calculation\n",
    "p_value = ...\n",
    "p_value"
   ]
  },
  {
   "cell_type": "markdown",
   "metadata": {},
   "source": [
    "Conclusion: We have highly significant evidence (p ~ .0009) that this botox treatment is generally associated with decreased pain for people in the population from which the subjects in this study were drawn. \n",
    "\n",
    "In addition, because the data come from a randomized controlled experiment, we conclude that botox treatments actually CAUSE lower pain levels. "
   ]
  },
  {
   "cell_type": "code",
   "execution_count": null,
   "metadata": {},
   "outputs": [],
   "source": []
  }
 ],
 "metadata": {
  "kernelspec": {
   "display_name": "Python 3 (ipykernel)",
   "language": "python",
   "name": "python3"
  },
  "language_info": {
   "codemirror_mode": {
    "name": "ipython",
    "version": 3
   },
   "file_extension": ".py",
   "mimetype": "text/x-python",
   "name": "python",
   "nbconvert_exporter": "python",
   "pygments_lexer": "ipython3",
   "version": "3.12.1"
  }
 },
 "nbformat": 4,
 "nbformat_minor": 4
}
