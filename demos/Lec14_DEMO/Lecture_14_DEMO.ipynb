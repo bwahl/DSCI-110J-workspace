{
 "cells": [
  {
   "cell_type": "code",
   "execution_count": null,
   "metadata": {},
   "outputs": [],
   "source": [
    "from datascience import *\n",
    "%matplotlib inline\n",
    "path_data = '../../../assets/data/'\n",
    "import matplotlib.pyplot as plt\n",
    "plt.style.use('fivethirtyeight')\n",
    "import numpy as np"
   ]
  },
  {
   "cell_type": "markdown",
   "metadata": {},
   "source": [
    "## for Statements"
   ]
  },
  {
   "cell_type": "code",
   "execution_count": null,
   "metadata": {},
   "outputs": [],
   "source": [
    "# for each item in a sequence, we execute the block of code following the colon\n",
    "for pet in make_array('cat', 'dog', 'rabbit'):\n",
    "    print('I love my ' + pet)"
   ]
  },
  {
   "cell_type": "code",
   "execution_count": null,
   "metadata": {},
   "outputs": [],
   "source": [
    "# Notice that we can \"add\" two strings\n",
    "'I love my ' + 'cat'"
   ]
  },
  {
   "cell_type": "code",
   "execution_count": null,
   "metadata": {},
   "outputs": [],
   "source": [
    "# Could have created the same output without using a for loop -- but it's tedious\n",
    "pets = make_array('cat', 'dog', 'rabbit')\n",
    "\n",
    "pet = pets.item(0)\n",
    "print('I love my ' + pet)\n",
    "\n",
    "pet = pets.item(1)\n",
    "print('I love my ' + pet)\n",
    "\n",
    "pet = pets.item(2)\n",
    "print('I love my ' + pet)"
   ]
  },
  {
   "cell_type": "code",
   "execution_count": null,
   "metadata": {},
   "outputs": [],
   "source": [
    "# Our for loop can iterate over an array of numbers\n",
    "# Notice the loop variable `i` loops over the values 0, 1, 2, 3, 4\n",
    "for i in np.arange(5):\n",
    "    print(i)"
   ]
  },
  {
   "cell_type": "code",
   "execution_count": null,
   "metadata": {},
   "outputs": [],
   "source": [
    "# If we want to do exactly the same thing 5 times in a row, we just \n",
    "# ignore the loop variable `i` and do what we want\n",
    "for i in np.arange(5):\n",
    "    print('Go Panthers')"
   ]
  },
  {
   "cell_type": "code",
   "execution_count": null,
   "metadata": {},
   "outputs": [],
   "source": [
    "# Sometimes we use the variable name `_` for a value that we don't care about\n",
    "for _ in np.arange(5):\n",
    "    print('Go Panthers')"
   ]
  },
  {
   "cell_type": "code",
   "execution_count": null,
   "metadata": {},
   "outputs": [],
   "source": [
    "# We saw `np.append()` last time, here's a refresher\n",
    "s = make_array(2, 3)\n",
    "\n",
    "# `np.append(array, new_value)` DOES NOT MODIFY the array; it returns a NEW array\n",
    "np.append(s, 4)\n",
    "s"
   ]
  },
  {
   "cell_type": "markdown",
   "metadata": {},
   "source": [
    "Question:\n",
    "  - Why doesn't the new array `[2, 3, 4]` appear in the output?\n",
    "  - How can we verify the result of appending 4 to s?\n",
    "  - How can we use `.append()` to modify s?"
   ]
  },
  {
   "cell_type": "code",
   "execution_count": null,
   "metadata": {},
   "outputs": [],
   "source": [
    "# Similarly, we can add 3 to each alement of an array using the addition operator\n",
    "s + 3\n",
    "s"
   ]
  },
  {
   "cell_type": "code",
   "execution_count": null,
   "metadata": {},
   "outputs": [],
   "source": [
    "# But unless we assign a name to the result of adding 3, that result is lost"
   ]
  },
  {
   "cell_type": "code",
   "execution_count": null,
   "metadata": {},
   "outputs": [],
   "source": [
    "s = s + 3\n",
    "s"
   ]
  },
  {
   "cell_type": "code",
   "execution_count": null,
   "metadata": {},
   "outputs": [],
   "source": [
    "s = np.append(s, 4)\n",
    "s"
   ]
  },
  {
   "cell_type": "code",
   "execution_count": null,
   "metadata": {},
   "outputs": [],
   "source": [
    "# A common use of for loops is for accumulating the values of a new array\n",
    "\n",
    "result = make_array()\n",
    "\n",
    "for i in np.arange(5):     \n",
    "    result = np.append(result, i**2 + 1)\n",
    "    \n",
    "result"
   ]
  },
  {
   "cell_type": "markdown",
   "metadata": {},
   "source": [
    "**Back to Slides...**"
   ]
  },
  {
   "cell_type": "code",
   "execution_count": null,
   "metadata": {},
   "outputs": [],
   "source": []
  },
  {
   "cell_type": "code",
   "execution_count": null,
   "metadata": {},
   "outputs": [],
   "source": []
  },
  {
   "cell_type": "markdown",
   "metadata": {
    "collapsed": true,
    "jupyter": {
     "outputs_hidden": true
    }
   },
   "source": [
    "## Simulating heads in 100 coin tosses"
   ]
  },
  {
   "cell_type": "code",
   "execution_count": null,
   "metadata": {},
   "outputs": [],
   "source": [
    "# How would we simulate flipping 100 coins to figure out how many came up \"heads\"?\n",
    "coin = make_array('heads', 'tails')\n",
    "coin"
   ]
  },
  {
   "cell_type": "code",
   "execution_count": null,
   "metadata": {},
   "outputs": [],
   "source": [
    "flips = np.random.choice(coin, 100) == 'heads'  # don't need a for loop for this\n",
    "flips"
   ]
  },
  {
   "cell_type": "code",
   "execution_count": null,
   "metadata": {},
   "outputs": [],
   "source": [
    "sum(flips)"
   ]
  },
  {
   "cell_type": "markdown",
   "metadata": {},
   "source": [
    "A for loop would be interesting here to repeat the \"hundred flips\" experiment thousands of times, collect up the number of heads in 100 tosses for each iteration, accumulate those numbers in an array, and visualize the results."
   ]
  },
  {
   "cell_type": "code",
   "execution_count": null,
   "metadata": {},
   "outputs": [],
   "source": [
    "# A function to simulate one outcome of the experiment\n",
    "\n",
    "def num_heads(n):\n",
    "    return sum(np.random.choice(coin, n) == 'heads')"
   ]
  },
  {
   "cell_type": "code",
   "execution_count": null,
   "metadata": {},
   "outputs": [],
   "source": [
    "# Try calling the function to verify it seems to work\n",
    "num_heads(100)"
   ]
  },
  {
   "cell_type": "markdown",
   "metadata": {},
   "source": [
    "Run the previous cell multiple times. Do we always get the same answer? What's going on?\n",
    "\n",
    "To investigate the amount of \"random variation\" when flipping a coin 100 times, we repeat the experiment 10,000 times and visualize the results."
   ]
  },
  {
   "cell_type": "code",
   "execution_count": null,
   "metadata": {},
   "outputs": [],
   "source": [
    "# Decide how many times you want to repeat the experiment\n",
    "repetitions = 10000"
   ]
  },
  {
   "cell_type": "code",
   "execution_count": null,
   "metadata": {},
   "outputs": [],
   "source": [
    "# Simulate that many outcomes with a for loop\n",
    "# Use an initially-empty array, `outcomes`, to accumulate the results\n",
    "outcomes = make_array()\n",
    "for ...:\n",
    "    ..."
   ]
  },
  {
   "cell_type": "markdown",
   "metadata": {},
   "source": [
    "Discuss:\n",
    "\n",
    "  - What kind of object is `outcomes`? \n",
    "\n",
    "  - How long is `outcomes`?\n",
    "\n",
    "  - What kind of elements are in `outcomes`?\n",
    "\n",
    "  - What's a reasonable way to visualize `outcomes`?"
   ]
  },
  {
   "cell_type": "code",
   "execution_count": null,
   "metadata": {},
   "outputs": [],
   "source": []
  },
  {
   "cell_type": "code",
   "execution_count": null,
   "metadata": {},
   "outputs": [],
   "source": [
    "# Make a table\n",
    "heads = Table().with_column('Heads', outcomes)\n",
    "heads.show(3)\n",
    "\n",
    "# Draw the histogram, centering the bins at integers 30, 31, ..., 69, 70\n",
    "heads.hist(bins = np.arange(29.5, 70.6, 1))"
   ]
  },
  {
   "cell_type": "markdown",
   "metadata": {},
   "source": [
    "Questions:\n",
    "\n",
    "  - How often did the value 50 appear in `outcomes`? Is this surprising?\n",
    "  \n",
    "  - Redraw the histogram several times after re-running the experiment. Is 50 always the most frequent outcome?\n",
    "\n",
    "  - What is the shape of the distribution?"
   ]
  },
  {
   "cell_type": "markdown",
   "metadata": {},
   "source": [
    "Sometimes we can study random variation by having the computer run a simulation; that's what we've done here. We didn't use any rules of probabilty or fancy mathematics. We just had the computer do 1 million coin tosses for us and visualized the results.\n",
    "\n",
    "Other times we may want to have a theoretical model which captures the pattern of a certain distribution mathematically. Knowing some probability theory can let us calculate probabilities without a lot of computation. Math and Computing are both fundamental tools for Data Science. \n",
    "\n",
    "We will use both simulations and analytical tools (probability theory) to investigate random variation in this course. So, let's get started learning the basics of probability."
   ]
  },
  {
   "cell_type": "markdown",
   "metadata": {},
   "source": [
    "**Back to Slides...**"
   ]
  },
  {
   "cell_type": "code",
   "execution_count": null,
   "metadata": {},
   "outputs": [],
   "source": []
  },
  {
   "cell_type": "code",
   "execution_count": null,
   "metadata": {},
   "outputs": [],
   "source": []
  },
  {
   "cell_type": "markdown",
   "metadata": {},
   "source": [
    "## Chance"
   ]
  },
  {
   "cell_type": "code",
   "execution_count": null,
   "metadata": {},
   "outputs": [],
   "source": [
    "# Looking for at least one 6 in 4 rolls of a die\n",
    "prob_no_sixes_4_rolls = (5/6)**4\n",
    "prob_no_sixes_4_rolls"
   ]
  },
  {
   "cell_type": "code",
   "execution_count": null,
   "metadata": {},
   "outputs": [],
   "source": [
    "# Probability of at least one 6 in 4 rolls\n",
    "1 - prob_no_sixes_4_rolls"
   ]
  },
  {
   "cell_type": "code",
   "execution_count": null,
   "metadata": {},
   "outputs": [],
   "source": [
    "# Generalize: probability of at least one 6 in n rolls? \n",
    "# Show in a 2-column table\n",
    "rolls = np.arange(1,41)\n",
    "results = Table().with_columns(\n",
    "    'Rolls', rolls,\n",
    "    'Chance of at Least One 6', 1 - (5/6)**rolls\n",
    ")\n",
    "results "
   ]
  },
  {
   "cell_type": "code",
   "execution_count": null,
   "metadata": {},
   "outputs": [],
   "source": [
    "# Visualize results in a scatter plot\n",
    "results.scatter('Rolls')\n",
    "plt.ylim(0, 1.1)    # start the y axis at 0"
   ]
  },
  {
   "cell_type": "markdown",
   "metadata": {},
   "source": [
    "**Back to Slides...**"
   ]
  },
  {
   "cell_type": "code",
   "execution_count": null,
   "metadata": {},
   "outputs": [],
   "source": []
  },
  {
   "cell_type": "code",
   "execution_count": null,
   "metadata": {},
   "outputs": [],
   "source": []
  },
  {
   "cell_type": "code",
   "execution_count": null,
   "metadata": {},
   "outputs": [],
   "source": []
  },
  {
   "cell_type": "markdown",
   "metadata": {},
   "source": [
    "### The Monty Hall Problem ###"
   ]
  },
  {
   "cell_type": "code",
   "execution_count": null,
   "metadata": {},
   "outputs": [],
   "source": [
    "# If contestant chooses a goat, there are two possibilities\n",
    "goats = make_array('first goat', 'second goat')\n",
    "goats"
   ]
  },
  {
   "cell_type": "code",
   "execution_count": null,
   "metadata": {},
   "outputs": [],
   "source": [
    "# If contestant chooses a goat, Monty will reveal the \"other\" goat\n",
    "def other_goat(x):\n",
    "    if x == 'first goat':\n",
    "        return 'second goat'\n",
    "    elif x == 'second goat':\n",
    "        return 'first goat'"
   ]
  },
  {
   "cell_type": "code",
   "execution_count": null,
   "metadata": {},
   "outputs": [],
   "source": [
    "other_goat('first goat')"
   ]
  },
  {
   "cell_type": "code",
   "execution_count": null,
   "metadata": {},
   "outputs": [],
   "source": [
    "other_goat('second goat')"
   ]
  },
  {
   "cell_type": "code",
   "execution_count": null,
   "metadata": {},
   "outputs": [],
   "source": [
    "# Make an array with the three options\n",
    "hidden_behind_doors = np.append(goats, 'car')\n",
    "hidden_behind_doors"
   ]
  },
  {
   "cell_type": "code",
   "execution_count": null,
   "metadata": {},
   "outputs": [],
   "source": [
    "# Write a function that makes a random choice for the contestant and\n",
    "# returns a list of length 3 showing the contestant's guess, what is revealed\n",
    "# by Monty, and what remains hidden behind the other door.\n",
    "\n",
    "def monty_hall_game():\n",
    "    \"\"\"Return \n",
    "    [contestant's guess, what Monty reveals, what remains behind the other door]\"\"\"\n",
    "    \n",
    "    contestant_guess = np.random.choice(hidden_behind_doors)  # Notice E.L.O.\n",
    "    \n",
    "    # If contestant's guess is a goat, Monty will show the other goat\n",
    "    \n",
    "    if contestant_guess == 'first goat':\n",
    "        return [contestant_guess, 'second goat', 'car']\n",
    "    \n",
    "    if contestant_guess == 'second goat':\n",
    "        return [contestant_guess, 'first goat', 'car']\n",
    "    \n",
    "    # If contestant's guess is the car, Monty will randomly show one of the goats\n",
    "    \n",
    "    if contestant_guess == 'car':\n",
    "        revealed = np.random.choice(goats)\n",
    "        return [contestant_guess, revealed, other_goat(revealed)]"
   ]
  },
  {
   "cell_type": "code",
   "execution_count": null,
   "metadata": {},
   "outputs": [],
   "source": [
    "# One round of the Monty Hall game\n",
    "monty_hall_game()"
   ]
  },
  {
   "cell_type": "code",
   "execution_count": null,
   "metadata": {},
   "outputs": [],
   "source": [
    "# Make a table: 10000 calls to append will simulate 10000 rounds of the game\n",
    "\n",
    "games = Table(['Guess', 'Revealed', 'Remaining']) # empty table, 3 column labels\n",
    "\n",
    "for i in np.arange(10000):\n",
    "    games.append(monty_hall_game())   # accumulate by appending table rows\n"
   ]
  },
  {
   "cell_type": "code",
   "execution_count": null,
   "metadata": {},
   "outputs": [],
   "source": [
    "games.show(6)"
   ]
  },
  {
   "cell_type": "code",
   "execution_count": null,
   "metadata": {},
   "outputs": [],
   "source": [
    "# Show the distribution of the contestant's guess\n",
    "original_choice = games.group('Guess')\n",
    "original_choice"
   ]
  },
  {
   "cell_type": "code",
   "execution_count": null,
   "metadata": {},
   "outputs": [],
   "source": [
    "# Show the distribution of the remaining door, the one they can switch to\n",
    "remaining_door = games.group('Remaining')\n",
    "remaining_door"
   ]
  },
  {
   "cell_type": "code",
   "execution_count": null,
   "metadata": {},
   "outputs": [],
   "source": [
    "# Join the two tables on the 'Guess' and 'Remaining' columns\n",
    "joined = original_choice.join('Guess', remaining_door, 'Remaining')\n",
    "print(\"joined result\")\n",
    "joined.show()\n",
    "\n",
    "# Relabel the columns for clarity\n",
    "combined = joined.relabeled(0, 'Item').relabeled(1, 'Original Door').relabeled(2, 'Remaining Door')\n",
    "print(\"combined result\")\n",
    "combined"
   ]
  },
  {
   "cell_type": "code",
   "execution_count": null,
   "metadata": {},
   "outputs": [],
   "source": [
    "# Make a bar chart to visualize\n",
    "combined.barh('Item')"
   ]
  },
  {
   "cell_type": "markdown",
   "metadata": {},
   "source": [
    "If the contestant stays with her original door choice, she has a clear 1/3 chance of winning the car. But, if she switches to the remaining door, she has a 2/3 chance of winning the car."
   ]
  },
  {
   "cell_type": "code",
   "execution_count": null,
   "metadata": {},
   "outputs": [],
   "source": []
  }
 ],
 "metadata": {
  "kernelspec": {
   "display_name": "Python 3 (ipykernel)",
   "language": "python",
   "name": "python3"
  },
  "language_info": {
   "codemirror_mode": {
    "name": "ipython",
    "version": 3
   },
   "file_extension": ".py",
   "mimetype": "text/x-python",
   "name": "python",
   "nbconvert_exporter": "python",
   "pygments_lexer": "ipython3",
   "version": "3.12.1"
  }
 },
 "nbformat": 4,
 "nbformat_minor": 4
}
