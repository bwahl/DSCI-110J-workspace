{
 "cells": [
  {
   "cell_type": "markdown",
   "id": "9400545a",
   "metadata": {},
   "source": [
    "# This is a Jupyter Notebook\n",
    "\n",
    "A Jupyter Notebook is a data-science coding environment that combines three types of content:\n",
    "\n",
    "  - Narrative: The text describing your analysis\n",
    "  - Code: The program that does the analysis\n",
    "  - Results: The output of the program\n",
    "    \n",
    "The Jupyter environment was created by Fernando Perez at the University of California, Berkeley. \n",
    "These ideas are now used in a lot of different technologies (e.g., Google Collab)."
   ]
  },
  {
   "cell_type": "markdown",
   "id": "126b5c1a",
   "metadata": {},
   "source": [
    "## Example for Day 1\n",
    "\n",
    "Note: In this lecture there is a lot of code. You are not expected to know any of this yet, so don't worry. This is just a preview of the things you will see in the next few weeks.\n",
    "\n",
    "We can use the tools of data science to study text. For example, here we will do some basic analysis of \"Adventures of Huckleberry Finn\" (by Mark Twain) and \"Little Women\" (by Louisa May Alcott).\n",
    "\n",
    "Often the first step in data sciences is getting the data. The following block suppresses some annoying warnings and defines a function, `read_url`, for downloading text from the web."
   ]
  },
  {
   "cell_type": "code",
   "execution_count": null,
   "id": "33030f8c",
   "metadata": {},
   "outputs": [],
   "source": [
    "# Supresses annoying warnings\n",
    "import warnings\n",
    "warnings.simplefilter('ignore', FutureWarning)\n",
    "\n",
    "# Defines a function to download text from the web based on a given URL\n",
    "def read_url(url): \n",
    "    from urllib.request import urlopen \n",
    "    import re\n",
    "    return re.sub('\\\\s+', ' ', urlopen(url).read().decode())"
   ]
  },
  {
   "cell_type": "markdown",
   "id": "c2ae53fe",
   "metadata": {},
   "source": [
    "Now we download the content of the two novels from the [Inferential Thinking](https://inferentialthinking.com/chapters/intro.html) textbook website."
   ]
  },
  {
   "cell_type": "code",
   "execution_count": null,
   "id": "00b025c6",
   "metadata": {},
   "outputs": [],
   "source": [
    "# This block gets the text of Huckleberry Finn and splits it into its chapters\n",
    "huck_finn_url = 'https://www.inferentialthinking.com/data/huck_finn.txt'\n",
    "huck_finn_text = read_url(huck_finn_url)\n",
    "huck_finn_chapters = huck_finn_text.split('CHAPTER ')[44:]"
   ]
  },
  {
   "cell_type": "code",
   "execution_count": null,
   "id": "4278e545",
   "metadata": {},
   "outputs": [],
   "source": [
    "# This block gets the text of Little Women and splits it into its chapters\n",
    "little_women_url = 'https://www.inferentialthinking.com/data/little_women.txt'\n",
    "little_women_text = read_url(little_women_url)\n",
    "little_women_chapters = little_women_text.split('CHAPTER ')[1:]"
   ]
  },
  {
   "cell_type": "markdown",
   "id": "b911b916",
   "metadata": {},
   "source": [
    "The `string.split()` method has converted each novel's text into a list of strings, one long string of\n",
    "characters for each chapter. So the data type of `huck_finn_chapters` is `list`."
   ]
  },
  {
   "cell_type": "code",
   "execution_count": null,
   "id": "78361905",
   "metadata": {},
   "outputs": [],
   "source": [
    "type(huck_finn_chapters)"
   ]
  },
  {
   "cell_type": "code",
   "execution_count": null,
   "id": "687ca6a9",
   "metadata": {},
   "outputs": [],
   "source": [
    "# For example, we can look at the first chapter, which is at index 0\n",
    "huck_finn_chapters[0]"
   ]
  },
  {
   "cell_type": "code",
   "execution_count": null,
   "id": "7fdb0c35",
   "metadata": {},
   "outputs": [],
   "source": [
    "# Here is the second chapter.\n",
    "huck_finn_chapters[1]"
   ]
  },
  {
   "cell_type": "markdown",
   "id": "304c4cb2",
   "metadata": {},
   "source": [
    "## Working with Tables\n",
    "\n",
    "A lot of data science is about transforming data, often producing tables that we can more easily analyze. In this class you will use the Berkeley `datascience` module (a Python library) to manipulate and visualize data. In Python, `import *` means \"import everything\"."
   ]
  },
  {
   "cell_type": "code",
   "execution_count": null,
   "id": "2cb7824e",
   "metadata": {},
   "outputs": [],
   "source": [
    "from datascience import *"
   ]
  },
  {
   "cell_type": "code",
   "execution_count": null,
   "id": "629fddfa",
   "metadata": {},
   "outputs": [],
   "source": [
    "# Create a 1-column table of the Huck Finn chapters\n",
    "t = Table().with_column('Chapters', huck_finn_chapters)\n",
    "t"
   ]
  },
  {
   "cell_type": "markdown",
   "id": "c1d67912",
   "metadata": {},
   "source": [
    "We will explore data by extracting summaries. For example, we might ask, **how often did the names of the main characters of the novel appear in each chapter**. We can use snippets of code to answer these questions."
   ]
  },
  {
   "cell_type": "code",
   "execution_count": null,
   "id": "e844b01b",
   "metadata": {},
   "outputs": [],
   "source": [
    "# We will use the Numpy module for Numerical Python computing\n",
    "import numpy as np"
   ]
  },
  {
   "cell_type": "code",
   "execution_count": null,
   "id": "ffc2c11a",
   "metadata": {},
   "outputs": [],
   "source": [
    "# Numpy lets us easily count the occurrences of 'Tom' in each chapter\n",
    "np.char.count(huck_finn_chapters, 'Tom')"
   ]
  },
  {
   "cell_type": "code",
   "execution_count": null,
   "id": "c3506515",
   "metadata": {},
   "outputs": [],
   "source": [
    "np.char.count(huck_finn_chapters, 'Jim')"
   ]
  },
  {
   "cell_type": "code",
   "execution_count": null,
   "id": "d9d4af88",
   "metadata": {},
   "outputs": [],
   "source": [
    "np.char.count(huck_finn_chapters, 'Huck')"
   ]
  },
  {
   "cell_type": "markdown",
   "id": "c24f91e4",
   "metadata": {},
   "source": [
    "We can collect the results of our analysis in a new table, `counts`:"
   ]
  },
  {
   "cell_type": "code",
   "execution_count": null,
   "id": "ecd730de",
   "metadata": {},
   "outputs": [],
   "source": [
    "counts = Table().with_columns([\n",
    "    'Tom', np.char.count(huck_finn_chapters, 'Tom'),\n",
    "    'Jim', np.char.count(huck_finn_chapters, 'Jim'),\n",
    "    'Huck', np.char.count(huck_finn_chapters, 'Huck'),\n",
    "])\n",
    "counts"
   ]
  },
  {
   "cell_type": "markdown",
   "id": "623bcc7a",
   "metadata": {},
   "source": [
    "## We will Learn to Visualize Data\n",
    "\n",
    "Let's make a plot of the cumulative counts: How many times in Chapter 1, how many times in Chapters 1 and 2, and so on, was each of the main characters mentioned by name?"
   ]
  },
  {
   "cell_type": "code",
   "execution_count": null,
   "id": "6b0cb0e1",
   "metadata": {},
   "outputs": [],
   "source": [
    "# matplotlib is a comprehensive library for creating visualizations in Python\n",
    "%matplotlib inline\n",
    "import matplotlib.pyplot as plt\n",
    "plt.style.use('fivethirtyeight')"
   ]
  },
  {
   "cell_type": "code",
   "execution_count": null,
   "id": "93af63fc",
   "metadata": {},
   "outputs": [],
   "source": [
    "cum_counts = counts.cumsum().with_column('Chapter', np.arange(1, 44, 1))\n",
    "cum_counts.plot(column_for_xticks=\"Chapter\")\n",
    "plt.title('Cumulative Number of Times Name Appears');"
   ]
  },
  {
   "cell_type": "markdown",
   "id": "bc5790fd",
   "metadata": {},
   "source": [
    "What can we tell from this visualization? What questions does this raise?"
   ]
  },
  {
   "cell_type": "markdown",
   "id": "0b191df6",
   "metadata": {},
   "source": [
    "We can explore the characters in Little Women using the same kind of analysis."
   ]
  },
  {
   "cell_type": "code",
   "execution_count": null,
   "id": "1be07f57",
   "metadata": {},
   "outputs": [],
   "source": [
    "# Counts of names in the chapters of Little Women\n",
    "names = ['Amy', 'Beth', 'Jo', 'Laurie', 'Meg']\n",
    "mentions = {name: np.char.count(little_women_chapters, name) for name in names}  # makes a dictionary\n",
    "counts = Table().with_columns([\n",
    "        'Amy', mentions['Amy'],\n",
    "        'Beth', mentions['Beth'],\n",
    "        'Jo', mentions['Jo'],\n",
    "        'Laurie', mentions['Laurie'],\n",
    "        'Meg', mentions['Meg']\n",
    "    ])\n",
    "counts"
   ]
  },
  {
   "cell_type": "code",
   "execution_count": null,
   "id": "f2b07c75",
   "metadata": {},
   "outputs": [],
   "source": [
    "Table.static_plots()\n",
    "cum_counts = counts.cumsum().with_column('Chapter', np.arange(1, 48, 1))\n",
    "cum_counts.plot(column_for_xticks=5)\n",
    "plt.title('Cumulative Number of Times Name Appears');"
   ]
  },
  {
   "cell_type": "markdown",
   "id": "9added99",
   "metadata": {},
   "source": [
    "  - What can we learn from the Little Women visualization?\n",
    "\n",
    "Let's consider another angle on these novels, using the built-in `len()` function."
   ]
  },
  {
   "cell_type": "code",
   "execution_count": null,
   "id": "d57bcdf2",
   "metadata": {},
   "outputs": [],
   "source": [
    "len('January 8th!')"
   ]
  },
  {
   "cell_type": "markdown",
   "id": "1b90af8e",
   "metadata": {},
   "source": [
    "`len` is for finding the length of something using Python, counting the letters, digits, spaces, etc."
   ]
  },
  {
   "cell_type": "code",
   "execution_count": null,
   "id": "16ca7477",
   "metadata": {},
   "outputs": [],
   "source": [
    "len('abc 123')"
   ]
  },
  {
   "cell_type": "code",
   "execution_count": null,
   "id": "68d19dce",
   "metadata": {},
   "outputs": [],
   "source": [
    "# In each chapter, count the number of characters (letters, digits, etc.) and the number of periods\n",
    "# A period typically ends a sentence\n",
    "\n",
    "# Counts for Huck Finn:\n",
    "length_hf = Table().with_columns([\n",
    "    'length', [len(s) for s in huck_finn_chapters], \n",
    "    'periods', np.char.count(huck_finn_chapters, '.')\n",
    "])\n",
    "length_hf"
   ]
  },
  {
   "cell_type": "code",
   "execution_count": null,
   "id": "1c58c798",
   "metadata": {},
   "outputs": [],
   "source": [
    "# Counts for Little Women:\n",
    "length_lw = Table().with_columns([\n",
    "    'length', [len(s) for s in little_women_chapters], \n",
    "    'periods', np.char.count(little_women_chapters, '.')\n",
    "])\n",
    "length_lw"
   ]
  },
  {
   "cell_type": "markdown",
   "id": "0f68e300",
   "metadata": {},
   "source": [
    "What do you notice when you compare the two tables?"
   ]
  },
  {
   "cell_type": "code",
   "execution_count": null,
   "id": "9c5a01a8",
   "metadata": {},
   "outputs": [],
   "source": [
    "# Build a visualization (scatterplot)\n",
    "plt.figure(figsize=(10,10))\n",
    "plt.scatter(length_hf[1], length_hf[0], color='darkblue')\n",
    "plt.scatter(length_lw[1], length_lw[0], color='gold')\n",
    "plt.xlabel('Number of periods in chapter')\n",
    "plt.ylabel('Number of characters in chapter');"
   ]
  }
 ],
 "metadata": {
  "kernelspec": {
   "display_name": "Python 3 (ipykernel)",
   "language": "python",
   "name": "python3"
  },
  "language_info": {
   "codemirror_mode": {
    "name": "ipython",
    "version": 3
   },
   "file_extension": ".py",
   "mimetype": "text/x-python",
   "name": "python",
   "nbconvert_exporter": "python",
   "pygments_lexer": "ipython3",
   "version": "3.11.5"
  }
 },
 "nbformat": 4,
 "nbformat_minor": 5
}
