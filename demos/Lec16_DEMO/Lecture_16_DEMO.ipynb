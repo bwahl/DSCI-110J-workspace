{
 "cells": [
  {
   "cell_type": "code",
   "execution_count": null,
   "metadata": {},
   "outputs": [],
   "source": [
    "from datascience import *\n",
    "import numpy as np\n",
    "\n",
    "%matplotlib inline\n",
    "import matplotlib.pyplot as plots\n",
    "plots.style.use('fivethirtyeight')"
   ]
  },
  {
   "cell_type": "markdown",
   "metadata": {},
   "source": [
    "## Statistics\n",
    "\n",
    "For this first example, our population is the United Airlines flights (national, not international) out of San Francisco airport from 6/1/15 to 8/9/15. `united.csv` stores information on our population, including each flight's destination and how late it departed (minutes)."
   ]
  },
  {
   "cell_type": "code",
   "execution_count": null,
   "metadata": {},
   "outputs": [],
   "source": [
    "united = Table.read_table('united.csv')\n",
    "united = united.with_column('Row', np.arange(united.num_rows)).move_to_start('Row')\n",
    "united.show(3)"
   ]
  },
  {
   "cell_type": "code",
   "execution_count": null,
   "metadata": {},
   "outputs": [],
   "source": [
    "# In this example, we have all the data on the entire population (this is unusual)\n",
    "# So it's easy to calculate a (Population) parameter such as the median delay\n",
    "..."
   ]
  },
  {
   "cell_type": "code",
   "execution_count": null,
   "metadata": {},
   "outputs": [],
   "source": [
    "# Imagine we only had partial information about our population.\n",
    "# We could use a (sample) statistic to estimate the unknown parameter\n",
    "# Use Table.sample(5) to draw a random sample of size 5\n",
    "...\n",
    "united.sample(5)"
   ]
  },
  {
   "cell_type": "code",
   "execution_count": null,
   "metadata": {},
   "outputs": [],
   "source": [
    "# Use Table.sample(5) to estimate the median delay for the whole population\n",
    "# Run this cell MULTIPLE times to get a feeling for the sampling variability\n",
    "size = 5\n",
    "sample = united.sample(size).column('Delay')\n",
    "..."
   ]
  },
  {
   "cell_type": "code",
   "execution_count": null,
   "metadata": {},
   "outputs": [],
   "source": [
    "# Use Table.sample(100) to estimate the median delay\n",
    "# What do you notice about the amount of variability now?\n",
    "size = 100\n",
    "...\n",
    "..."
   ]
  },
  {
   "cell_type": "markdown",
   "metadata": {},
   "source": [
    "While every random sample has a chance of being a poor estimate, by the Law of Averages we feel more confident in an estimate based on a **large** random sample."
   ]
  },
  {
   "cell_type": "markdown",
   "metadata": {},
   "source": [
    "**Back to Slides...**"
   ]
  },
  {
   "cell_type": "code",
   "execution_count": null,
   "metadata": {},
   "outputs": [],
   "source": []
  },
  {
   "cell_type": "code",
   "execution_count": null,
   "metadata": {},
   "outputs": [],
   "source": []
  },
  {
   "cell_type": "code",
   "execution_count": null,
   "metadata": {},
   "outputs": [],
   "source": []
  },
  {
   "cell_type": "markdown",
   "metadata": {},
   "source": [
    "### Probability & Empirical Distributions of a Statistic"
   ]
  },
  {
   "cell_type": "code",
   "execution_count": null,
   "metadata": {},
   "outputs": [],
   "source": [
    "# We want to make an empirical distribution for the 'Delay' variable's sample median.\n",
    "# Based on repeated sampling (with a fixed sample size), what values do we observe\n",
    "# for the statistic?\n",
    "\n",
    "# As usual, we begin coding our simulation by writing a function for one iteration\n",
    "\n",
    "def sample_median(size):\n",
    "    '''\n",
    "    Uses a random sample of size `size` to compute and return a sample median\n",
    "    from the United flights 'Delay' distribution\n",
    "    '''\n",
    "    ..."
   ]
  },
  {
   "cell_type": "code",
   "execution_count": null,
   "metadata": {},
   "outputs": [],
   "source": [
    "# Do a quick test: call the function with size = 5\n",
    "sample_median(5)"
   ]
  },
  {
   "cell_type": "code",
   "execution_count": null,
   "metadata": {},
   "outputs": [],
   "source": [
    "# Choose a number of iterations for creating our empirical distribution\n",
    "num_simulations = 2000"
   ]
  },
  {
   "cell_type": "code",
   "execution_count": null,
   "metadata": {},
   "outputs": [],
   "source": [
    "# Based on num_simulations (2000) random samples of size 5, compute an array of sample medians\n",
    "\n",
    "sample_size = 5\n",
    "\n",
    "...\n",
    "...\n",
    "...\n",
    "\n",
    "sample_medians  # displays the 2000 sample medians"
   ]
  },
  {
   "cell_type": "code",
   "execution_count": null,
   "metadata": {},
   "outputs": [],
   "source": [
    "# Make a 1-column table showing the sample medians\n",
    "Table().with_column('Sample medians (size=5)', sample_medians)"
   ]
  },
  {
   "cell_type": "code",
   "execution_count": null,
   "metadata": {},
   "outputs": [],
   "source": [
    "##### Use the table to make a histogram\n",
    "mybins = np.arange(-10.5, 40.6, 1)\n",
    "Table().with_column('Sample medians (size=5)', sample_medians).hist(bins=mybins)\n",
    "plots.title(\"Empirical Distribution of the Sample Median (n=5)\")"
   ]
  },
  {
   "cell_type": "markdown",
   "metadata": {},
   "source": [
    "Because we used a large number of samples to create the histogram (`num_simulations = 2000`), this is a good estimate for the probability distribution of the sample median (size=5) over ALL samples of size 5 from the United population."
   ]
  },
  {
   "cell_type": "code",
   "execution_count": null,
   "metadata": {},
   "outputs": [],
   "source": [
    "# Draw a histogram for the empirical distribution of the sample mean with \n",
    "# sample size 500\n",
    "\n",
    "sample_medians = make_array()\n",
    "sample_size = 500\n",
    "\n",
    "for i in np.arange(num_simulations):\n",
    "    new_median = sample_median(sample_size)\n",
    "    sample_medians = np.append(sample_medians, new_median)"
   ]
  },
  {
   "cell_type": "code",
   "execution_count": null,
   "metadata": {},
   "outputs": [],
   "source": [
    "mybins = np.arange(-10.5, 40.6, 1)  # same bins as before\n",
    "Table().with_column('Sample medians (size=500)', sample_medians).hist(bins=mybins)"
   ]
  },
  {
   "cell_type": "markdown",
   "metadata": {},
   "source": [
    "Discuss: Compare the empirical sampling distributions for the sample mean delay, size=5 versus size=500. Can you explain why they are so different?"
   ]
  },
  {
   "cell_type": "markdown",
   "metadata": {},
   "source": [
    "#### Empirical Distributions of a Statistic (Overlayed)"
   ]
  },
  {
   "cell_type": "code",
   "execution_count": null,
   "metadata": {},
   "outputs": [],
   "source": [
    "# Here's a more ambitious visualization\n",
    "# We show the empirical distributions for sample sizes 10, 100, and 1000\n",
    "sample_medians_10 = make_array()\n",
    "sample_medians_100 = make_array()\n",
    "sample_medians_1000 = make_array()\n",
    "\n",
    "num_simulations = 2000\n",
    "\n",
    "for i in np.arange(num_simulations):\n",
    "    new_median_10 = sample_median(10)\n",
    "    sample_medians_10 = np.append(sample_medians_10, new_median_10)\n",
    "    new_median_100 = sample_median(100)\n",
    "    sample_medians_100 = np.append(sample_medians_100, new_median_100)\n",
    "    new_median_1000 = sample_median(1000)\n",
    "    sample_medians_1000 = np.append(sample_medians_1000, new_median_1000)"
   ]
  },
  {
   "cell_type": "code",
   "execution_count": null,
   "metadata": {},
   "outputs": [],
   "source": [
    "sample_medians = Table().with_columns('Size 10', sample_medians_10, \n",
    "                                      'Size 100', sample_medians_100,\n",
    "                                      'Size 1000', sample_medians_1000)"
   ]
  },
  {
   "cell_type": "code",
   "execution_count": null,
   "metadata": {},
   "outputs": [],
   "source": [
    "sample_medians.hist(bins = np.arange(-5, 30))"
   ]
  },
  {
   "cell_type": "markdown",
   "metadata": {},
   "source": [
    "Questions?"
   ]
  },
  {
   "cell_type": "markdown",
   "metadata": {},
   "source": [
    "**Back to Slides...**"
   ]
  },
  {
   "cell_type": "code",
   "execution_count": null,
   "metadata": {},
   "outputs": [],
   "source": []
  },
  {
   "cell_type": "code",
   "execution_count": null,
   "metadata": {},
   "outputs": [],
   "source": []
  },
  {
   "cell_type": "code",
   "execution_count": null,
   "metadata": {},
   "outputs": [],
   "source": []
  },
  {
   "cell_type": "markdown",
   "metadata": {},
   "source": [
    "## Swain vs. Alabama ##"
   ]
  },
  {
   "cell_type": "code",
   "execution_count": null,
   "metadata": {},
   "outputs": [],
   "source": [
    "# The population here is the eligible jurors\n",
    "# Recall, they were 26% Black and 74% White\n",
    "# Make an array reflecting the population proportions\n",
    "population_proportions = make_array(.26, .74)\n",
    "population_proportions"
   ]
  },
  {
   "cell_type": "code",
   "execution_count": null,
   "metadata": {},
   "outputs": [],
   "source": [
    "# Now we simulate drawing a sample of size 100 from a population\n",
    "# where 26% are Black and 74% are White\n",
    "\n",
    "# Run this several times to observe sampling variability\n",
    "sample_proportions(100, population_proportions)"
   ]
  },
  {
   "cell_type": "code",
   "execution_count": null,
   "metadata": {},
   "outputs": [],
   "source": [
    "# Make a function we can call to simulate one sample proportion\n",
    "def panel_proportion():\n",
    "    '''\n",
    "    draws a random sample of size 100 from population_proportions\n",
    "    returns the sample proportion for Black\n",
    "    '''\n",
    "    ...\n",
    "    "
   ]
  },
  {
   "cell_type": "code",
   "execution_count": null,
   "metadata": {},
   "outputs": [],
   "source": [
    "# Try calling the function several times\n",
    "..."
   ]
  },
  {
   "cell_type": "code",
   "execution_count": null,
   "metadata": {},
   "outputs": [],
   "source": [
    "# Now that we can simulate one iteration, a for loop will let\n",
    "# accumulate 10,000 simulated sample proportions for sample size 100\n",
    "# in an array named `panels`\n",
    "panels = make_array()\n",
    "\n",
    "num_iters = 10000\n",
    "\n",
    "...\n",
    "for i in range(num_iters):\n",
    "    b_prop = panel_proportion()\n",
    "    panels = np.append(panels, b_prop)"
   ]
  },
  {
   "cell_type": "code",
   "execution_count": null,
   "metadata": {},
   "outputs": [],
   "source": [
    "# Make a a-column table holding the panels array\n",
    "# Use the column label 'Number of Black Men on Panel of 100' \n",
    "# Be sure the values in the column are whole numbers, not proportions\n",
    "panel_tbl = Table().with_column(\n",
    "    'Number of Black Men on Panel of 100', panels*100\n",
    ")\n",
    "panel_tbl.show(3)"
   ]
  },
  {
   "cell_type": "code",
   "execution_count": null,
   "metadata": {},
   "outputs": [],
   "source": [
    "# visualize the simulated counts in a histogram\n",
    "panel_tbl.hist(bins=np.arange(5.5,40.))\n",
    "\n",
    "# Plotting details\n",
    "plots.ylim(-0.002, 0.09)\n",
    "plots.scatter(8, 0, color='red', s=30);  # makes a RED dot at (8, 0), the observed value"
   ]
  },
  {
   "cell_type": "markdown",
   "metadata": {},
   "source": [
    "**Back to Slides...**"
   ]
  },
  {
   "cell_type": "code",
   "execution_count": null,
   "metadata": {},
   "outputs": [],
   "source": []
  },
  {
   "cell_type": "code",
   "execution_count": null,
   "metadata": {},
   "outputs": [],
   "source": []
  },
  {
   "cell_type": "code",
   "execution_count": null,
   "metadata": {},
   "outputs": [],
   "source": []
  },
  {
   "cell_type": "markdown",
   "metadata": {},
   "source": [
    "## Mendel and Pea Flowers ##"
   ]
  },
  {
   "cell_type": "code",
   "execution_count": null,
   "metadata": {},
   "outputs": [],
   "source": [
    "# Actual Data: Mendel had 929 plants, of which 709 had purple flowers\n",
    "observed_purples = 709 / 929\n",
    "observed_purples"
   ]
  },
  {
   "cell_type": "markdown",
   "metadata": {},
   "source": [
    "We don't know that 0.7632 is statistically close to 0.75 in the current context. With such a large sample size, maybe it would be extremely rare for 76% of the plants in a sample of size 929 to be purple-flowering when the population is actually 75% purple-flowering. We need a histogram to help us assess the model."
   ]
  },
  {
   "cell_type": "code",
   "execution_count": null,
   "metadata": {},
   "outputs": [],
   "source": [
    "# Make one simulated sample proportion when population proportion is 75%\n",
    "predicted_proportions = make_array(.75, .25)\n",
    "sample_proportions(929, predicted_proportions)"
   ]
  },
  {
   "cell_type": "code",
   "execution_count": null,
   "metadata": {},
   "outputs": [],
   "source": [
    "def purple_flowers():\n",
    "    '''\n",
    "    generates our statistic for one random sample of size 929\n",
    "    returns a percentage (instead of a proportion)\n",
    "    '''\n",
    "    return sample_proportions(929, predicted_proportions).item(0) * 100"
   ]
  },
  {
   "cell_type": "code",
   "execution_count": null,
   "metadata": {},
   "outputs": [],
   "source": [
    "# Test run\n",
    "purple_flowers()"
   ]
  },
  {
   "cell_type": "code",
   "execution_count": null,
   "metadata": {},
   "outputs": [],
   "source": [
    "# Use a for loop to accumulate an array of 10000 simulated sample proportions\n",
    "purples = make_array()\n",
    "\n",
    "..."
   ]
  },
  {
   "cell_type": "code",
   "execution_count": null,
   "metadata": {},
   "outputs": [],
   "source": [
    "purples_tbl = Table().with_column('Percent of purple flowers in sample of 929', purples)\n",
    "purples_tbl"
   ]
  },
  {
   "cell_type": "code",
   "execution_count": null,
   "metadata": {
    "scrolled": true
   },
   "outputs": [],
   "source": [
    "# Under the assumption of the model, here's an estimate for the\n",
    "# sample proportion distribution\n",
    "purples_tbl.hist(bins=20)\n",
    "plots.title(\"Empirical Distribution of the Sample Proportion for Purple\");"
   ]
  },
  {
   "cell_type": "code",
   "execution_count": null,
   "metadata": {},
   "outputs": [],
   "source": []
  },
  {
   "cell_type": "code",
   "execution_count": null,
   "metadata": {},
   "outputs": [],
   "source": []
  },
  {
   "cell_type": "code",
   "execution_count": null,
   "metadata": {},
   "outputs": [],
   "source": []
  },
  {
   "cell_type": "code",
   "execution_count": null,
   "metadata": {},
   "outputs": [],
   "source": []
  },
  {
   "cell_type": "code",
   "execution_count": null,
   "metadata": {},
   "outputs": [],
   "source": []
  },
  {
   "cell_type": "markdown",
   "metadata": {},
   "source": [
    "Now we need to show the distribution of our \"test statistic\", the absolute deviaton of the purple proportion from 75. Make a 1-column table showing those absolute deviations, then draw a histogram."
   ]
  },
  {
   "cell_type": "code",
   "execution_count": null,
   "metadata": {
    "scrolled": true
   },
   "outputs": [],
   "source": [
    "abs_devs = Table().with_column('Discrepancy in sample of 929 if the model is true', abs(purples-75))\n",
    "abs_devs.hist(bins=20)"
   ]
  },
  {
   "cell_type": "code",
   "execution_count": null,
   "metadata": {},
   "outputs": [],
   "source": [
    "# Recall that we know the observed proportion of purples from the actual data.\n",
    "# We can convert that to a percentage and get its absolute deviation from 75\n",
    "actual = abs(observed_purples * 100 - 75)"
   ]
  },
  {
   "cell_type": "code",
   "execution_count": null,
   "metadata": {},
   "outputs": [],
   "source": [
    "# Like we did in the previous example, we can add a red dot for the observed \n",
    "# proportion, to help us assess the believability of the model\n",
    "abs_devs.hist(bins=20)\n",
    "plots.scatter(actual, 0, color='red', s=80);  "
   ]
  },
  {
   "cell_type": "markdown",
   "metadata": {},
   "source": [
    "**Back to Slides...**"
   ]
  },
  {
   "cell_type": "code",
   "execution_count": null,
   "metadata": {},
   "outputs": [],
   "source": []
  }
 ],
 "metadata": {
  "anaconda-cloud": {},
  "kernelspec": {
   "display_name": "Python 3 (ipykernel)",
   "language": "python",
   "name": "python3"
  },
  "language_info": {
   "codemirror_mode": {
    "name": "ipython",
    "version": 3
   },
   "file_extension": ".py",
   "mimetype": "text/x-python",
   "name": "python",
   "nbconvert_exporter": "python",
   "pygments_lexer": "ipython3",
   "version": "3.12.1"
  }
 },
 "nbformat": 4,
 "nbformat_minor": 4
}
