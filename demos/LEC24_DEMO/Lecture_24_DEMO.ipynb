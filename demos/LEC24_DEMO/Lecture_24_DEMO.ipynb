{
 "cells": [
  {
   "cell_type": "code",
   "execution_count": null,
   "metadata": {},
   "outputs": [],
   "source": [
    "from datascience import *\n",
    "%matplotlib inline\n",
    "path_data = '../../../assets/data/'\n",
    "import matplotlib.pyplot as plots\n",
    "plots.style.use('fivethirtyeight')\n",
    "import numpy as np"
   ]
  },
  {
   "cell_type": "markdown",
   "metadata": {},
   "source": [
    "# Lecture 24 : Confidence Intervals"
   ]
  },
  {
   "cell_type": "markdown",
   "metadata": {},
   "source": [
    "## Review: Bootstrap \n",
    "We have developed a method for estimating a parameter by using random sampling and the bootstrap. Our method produces an interval of estimates, to account for chance variability in the random sample. By providing an interval of estimates instead of just one estimate, we give ourselves some wiggle room.\n",
    "\n",
    "In the previous example we saw that our process of estimation produced a good interval about 95% of the time, a “good” interval being one that contains the parameter. We say that we are 95% confident that the process results in a good interval. Our interval of estimates is called a **95% confidence interval** for the parameter, and 95% is called the **confidence level** of the interval.\n",
    "\n",
    "The method is called the **bootstrap percentile method** because the interval is formed by picking off two percentiles of the bootstrapped estimates."
   ]
  },
  {
   "cell_type": "code",
   "execution_count": null,
   "metadata": {},
   "outputs": [],
   "source": [
    "# Read the data -- City of San Francisco Employees\n",
    "sf = Table.read_table('san_francisco_2019.csv')\n",
    "\n",
    "# Eliminiate rows with very low salary figures\n",
    "min_salary = 15 * 20 * 50\n",
    "sf = sf.where('Salary', are.above(min_salary))"
   ]
  },
  {
   "cell_type": "code",
   "execution_count": null,
   "metadata": {},
   "outputs": [],
   "source": [
    "# Our population has 37103 individuals\n",
    "sf.num_rows"
   ]
  },
  {
   "cell_type": "code",
   "execution_count": null,
   "metadata": {},
   "outputs": [],
   "source": [
    "# Visualize the population distribution for Total Compenation\n",
    "sf_bins = np.arange(0, 726000, 25000)\n",
    "sf.hist('Total Compensation', bins=sf_bins)"
   ]
  },
  {
   "cell_type": "markdown",
   "metadata": {},
   "source": [
    "Make a function `median_comp()` that takes a table `t` which includes a column labeled 'Total Compensation'; the function returns the **median** for the 'Total Compensation' column."
   ]
  },
  {
   "cell_type": "code",
   "execution_count": null,
   "metadata": {},
   "outputs": [],
   "source": [
    "def median_comp(t):\n",
    "    return ...   # return the appropriate percentile\n",
    "\n",
    "# call the function to find the population median for our current example\n",
    "pop_median = median_comp(sf)\n",
    "pop_median"
   ]
  },
  {
   "cell_type": "markdown",
   "metadata": {},
   "source": [
    "## Bootstrap Estimates of the Parameter (Pretend it is Unknown) \n",
    "We don't need to estimate the population median in this case -- we just computed it exactly! But the idea is to pretend we don't know it, make a confidence interval estimate, and then compare that estimate with the actual computed value. This lets us practice the Bootstrap Percentile Method for finding a confidence interval, in a context where we actually know the right answer."
   ]
  },
  {
   "cell_type": "code",
   "execution_count": null,
   "metadata": {},
   "outputs": [],
   "source": [
    "# Warm up: collect a random sample of size 100 (without replacement) and find the \n",
    "# sample median\n",
    "our_sample = ...\n",
    "print(\"Sample median is:\", ...)\n",
    "\n",
    "\n",
    "# run the cell several times -- you should see random variation in the results"
   ]
  },
  {
   "cell_type": "markdown",
   "metadata": {},
   "source": [
    "Define a function, `confidence_interval_95`, which uses the Bootstrap Percentile Method with 1000 bootstrap resamples to find the 95% confidence interval for the population median based on a given sample size."
   ]
  },
  {
   "cell_type": "code",
   "execution_count": null,
   "metadata": {},
   "outputs": [],
   "source": [
    "def confidence_interval_95(sample_size):\n",
    "    # Collect one random sample from the population (without replacement)\n",
    "    our_sample = ...\n",
    "    \n",
    "    # Generate the medians of 1000 bootstrap samples\n",
    "    num_repetitions = 1000\n",
    "    bstrap_medians = make_array()\n",
    "    for ...\n",
    "        # Resample the same number of rows, with replacement\n",
    "        resample = ...\n",
    "        bstrap_medians = ...\n",
    "\n",
    "    # Find the middle 95% of the medians; that's a confidence interval\n",
    "    left = percentile(..., bstrap_medians)\n",
    "    right = percentile(..., bstrap_medians)\n",
    "    return make_array(left, right)\n",
    "\n",
    "# Run this cell several times and notice the random variation\n",
    "confidence_interval_95(100)"
   ]
  },
  {
   "cell_type": "code",
   "execution_count": null,
   "metadata": {},
   "outputs": [],
   "source": [
    "# Multiple times, compute a 95% confidence interval with sample size 40\n",
    "# Keep an array of lower bounds and another array of upper bounds\n",
    "lower = make_array()\n",
    "upper = make_array()\n",
    "reps = 50\n",
    "for ...\n",
    "    ci = ...\n",
    "    lower = ...\n",
    "    upper = ...\n",
    "\n",
    "print(lower)\n",
    "print(upper)"
   ]
  },
  {
   "cell_type": "code",
   "execution_count": null,
   "metadata": {},
   "outputs": [],
   "source": [
    "# A confidence interval is \"correct\" if it captures the population parameter. Here is\n",
    "# a helper function for determining the correctness of an entire array of lower bounds\n",
    "# and upper bounds\n",
    "def is_correct(L, U, A):\n",
    "    '''\n",
    "    Parameters: L, U, A are numbers\n",
    "    Returns:    True if A is between L and U, otherwise False\n",
    "    '''\n",
    "    return ...\n",
    "\n",
    "is_correct(3, 5, 9)"
   ]
  },
  {
   "cell_type": "code",
   "execution_count": null,
   "metadata": {},
   "outputs": [],
   "source": [
    "# Numpy syntax: np.ones() is helpful for making a an array of 1's\n",
    "np.ones(5)"
   ]
  },
  {
   "cell_type": "code",
   "execution_count": null,
   "metadata": {},
   "outputs": [],
   "source": [
    "# We can use it to make an array of length `reps`, all the same value\n",
    "np.ones(reps) * 17"
   ]
  },
  {
   "cell_type": "code",
   "execution_count": null,
   "metadata": {},
   "outputs": [],
   "source": [
    "# Make a table showing the population parameter, each interval's bounds, and \n",
    "# whether the interval is \"correct\"\n",
    "# A correct interval contains the parameter (pop_median) within its bounds\n",
    "actual_parameter = np.ones(reps) * pop_median\n",
    "intervals_tbl = (Table().with_column('Lower', lower)\n",
    "                 .with_column('Parameter', actual_parameter)\n",
    "                 .with_column('Upper', upper))\n",
    "intervals_tbl"
   ]
  },
  {
   "cell_type": "code",
   "execution_count": null,
   "metadata": {},
   "outputs": [],
   "source": [
    "# Make a boolean array for the 'Correct' column and add it to the intervals_tbl\n",
    "correct = ...\n",
    "intervals_tbl = intervals_tbl.with_column('Correct', correct)\n",
    "intervals_tbl"
   ]
  },
  {
   "cell_type": "markdown",
   "metadata": {},
   "source": [
    "**Claim**: This process of estimation captures the parameter about 95% of the time.\n",
    "\n",
    "To do: Use `tbl.group()` to check on the success rate we achieved in practice:"
   ]
  },
  {
   "cell_type": "code",
   "execution_count": null,
   "metadata": {},
   "outputs": [],
   "source": [
    "intervals_tbl.group('Correct')"
   ]
  },
  {
   "cell_type": "markdown",
   "metadata": {},
   "source": [
    "Is our actual success rate compatible with \"about 95%\"?"
   ]
  },
  {
   "cell_type": "markdown",
   "metadata": {},
   "source": [
    "## Confidence Interval for an Unknown Population Mean\n",
    "The whole point of statistics is to estimate **unknown** population parameters. If we already know the parameter, we don't need to estimate it. \n",
    "\n",
    "Let's try an example of estimating an unknown population mean. Start by loading the `baby.csv` data:"
   ]
  },
  {
   "cell_type": "code",
   "execution_count": null,
   "metadata": {},
   "outputs": [],
   "source": [
    "# Treat this as a random sample of mother-newborn pairs\n",
    "births = Table.read_table('baby.csv')"
   ]
  },
  {
   "cell_type": "code",
   "execution_count": null,
   "metadata": {},
   "outputs": [],
   "source": [
    "# Visualize the sample \n",
    "births.hist('Maternal Age')"
   ]
  },
  {
   "cell_type": "code",
   "execution_count": null,
   "metadata": {},
   "outputs": [],
   "source": [
    "# Calculate the sample mean maternal age\n",
    "..."
   ]
  },
  {
   "cell_type": "markdown",
   "metadata": {},
   "source": [
    "This is a single-number estimate of the unknown population mean."
   ]
  },
  {
   "cell_type": "markdown",
   "metadata": {},
   "source": [
    "### Question\n",
    "What is the average age of ALL the mothers in the population? Let's use the Boostrap Percentile Method, just as we did previously for a population median. We can calculate a 95% confidence interval for population mean by resampling from our sample many times and computing percentiles.\n",
    "\n",
    "Start by making a function for a single bootstrap mean (resample from the sample, WITH replacement, then return the average maternal age from the resample)."
   ]
  },
  {
   "cell_type": "code",
   "execution_count": null,
   "metadata": {},
   "outputs": [],
   "source": [
    "def one_bootstrap_mean():\n",
    "    resample = ...\n",
    "    resample_mean = ...\n",
    "    return resample_mean"
   ]
  },
  {
   "cell_type": "code",
   "execution_count": null,
   "metadata": {},
   "outputs": [],
   "source": [
    "# Try calling the function several times; there should be random variation\n",
    "one_bootstrap_mean()"
   ]
  },
  {
   "cell_type": "code",
   "execution_count": null,
   "metadata": {},
   "outputs": [],
   "source": [
    "# Generate means from 3000 bootstrap samples\n",
    "repetitions = 3000\n",
    "bstrap_means = make_array()\n",
    "for ...\n",
    "    bstrap_means = ..."
   ]
  },
  {
   "cell_type": "markdown",
   "metadata": {},
   "source": [
    "### Bootstrap Percentile Method for Confidence Interval\n",
    "\n",
    "The interval of estimates is the \"middle 95%\" of the bootstrap estimates.\n",
    "\n",
    "This is called a *95% confidence interval* for the mean age in the population."
   ]
  },
  {
   "cell_type": "code",
   "execution_count": null,
   "metadata": {},
   "outputs": [],
   "source": [
    "# Use `percentile()` to get the endpoints of the 95% confidence interval\n",
    "left = ...\n",
    "right = ...\n",
    "\n",
    "make_array(left, right)"
   ]
  },
  {
   "cell_type": "code",
   "execution_count": null,
   "metadata": {},
   "outputs": [],
   "source": [
    "# Visualize the means in a histogram\n",
    "resampled_means = Table().with_columns(\n",
    "    'Bootstrap Sample Mean', bstrap_means\n",
    ")\n",
    "resampled_means.hist(bins=15)\n",
    "\n",
    "# Use a bold yellow line to show the confidence interval (central 95% of the distribution)\n",
    "plots.plot([left, right], [0, 0], color='yellow', lw=8);"
   ]
  },
  {
   "cell_type": "code",
   "execution_count": null,
   "metadata": {},
   "outputs": [],
   "source": [
    "# Visualize the confidence interval for the population mean below\n",
    "# the distribution of the sample (instead of the distribution of the bootstrap means)\n",
    "births.hist('Maternal Age')\n",
    "plots.plot([left, right], [0, 0], color='yellow', lw=8);"
   ]
  },
  {
   "cell_type": "markdown",
   "metadata": {},
   "source": [
    "## Using Confidence Intervals for Testing Hypotheses\n",
    "When the alternative hypothesis is two-sided, we can use a confidence interval to decide a hypothesis test. \n",
    "  - If we are looking for a p-value below 5% in order to reject the null, we use a 95% confidence interval to decide the question.\n",
    "  - What confidence level would we use for our interval if we were looking for a p-value below 1%?\n",
    "  \n",
    "For example, consider these hypotheses in the context of mothers and babies:\n",
    "\n",
    "  - **Null:** The average age of mothers in the population is 25 years; the random sample average is different from 25 just due to chance.\n",
    "\n",
    "  - **Alternative:** The average age of the mothers in the population is not 25 years.\n",
    "\n",
    "Suppose you use the 5% cutoff for the p-value.\n",
    "\n",
    "Based on the confidence interval, which hypothesis would you pick? What would be a reasonable conclusion?"
   ]
  },
  {
   "cell_type": "markdown",
   "metadata": {},
   "source": [
    "## Estimating a Population Proportion\n",
    "In the sample, 39% of the mothers smoked during pregnancy:"
   ]
  },
  {
   "cell_type": "code",
   "execution_count": null,
   "metadata": {},
   "outputs": [],
   "source": [
    "births.where('Maternal Smoker', are.equal_to(True)).num_rows / births.num_rows"
   ]
  },
  {
   "cell_type": "markdown",
   "metadata": {},
   "source": [
    "Remember that a proportion is an average of zeros and ones. So the proportion of mothers who smoked could also be calculated using array operations as follows."
   ]
  },
  {
   "cell_type": "code",
   "execution_count": null,
   "metadata": {},
   "outputs": [],
   "source": [
    "np.average(...)"
   ]
  },
  {
   "cell_type": "markdown",
   "metadata": {},
   "source": [
    "Let's use the Bootstrap Percentile Method to estimate the proportion of mothers in the population who smoked during pregnancy. As usual, we start with a function to find one bootstrap proportion."
   ]
  },
  {
   "cell_type": "code",
   "execution_count": null,
   "metadata": {},
   "outputs": [],
   "source": [
    "def one_bootstrap_proportion():\n",
    "    resample = births.sample(...)\n",
    "    smoking = resample.column('Maternal Smoker')\n",
    "    return ..."
   ]
  },
  {
   "cell_type": "code",
   "execution_count": null,
   "metadata": {},
   "outputs": [],
   "source": [
    "# Test the new function -- there should be random variation\n",
    "one_bootstrap_proportion()"
   ]
  },
  {
   "cell_type": "code",
   "execution_count": null,
   "metadata": {},
   "outputs": [],
   "source": [
    "# Generate proportions from 5000 bootstrap samples\n",
    "bstrap_proportions = make_array()\n",
    "num_repetitions = 5000\n",
    "for ...\n",
    "    bstrap_proportions = ..."
   ]
  },
  {
   "cell_type": "code",
   "execution_count": null,
   "metadata": {},
   "outputs": [],
   "source": [
    "# Get the endpoints of the 95% confidence interval\n",
    "left = ...\n",
    "right = ...\n",
    "\n",
    "make_array(left, right)"
   ]
  },
  {
   "cell_type": "markdown",
   "metadata": {},
   "source": [
    "We estimate that somewhere between ___ and ___ percent of mothers in the population smoked during pregnancy.\n",
    "\n",
    "Visualize the interval relative to the bootstrap proportions:"
   ]
  },
  {
   "cell_type": "code",
   "execution_count": null,
   "metadata": {},
   "outputs": [],
   "source": [
    "resampled_proportions = Table().with_columns(\n",
    "    'Bootstrap Sample Proportion', bstrap_proportions\n",
    ")\n",
    "resampled_proportions.hist(bins=15)\n",
    "plots.plot([left, right], [0, 0], color='yellow', lw=8);"
   ]
  },
  {
   "cell_type": "markdown",
   "metadata": {},
   "source": [
    "## Take Care in Using the Bootstrap Percentile Method\n",
    "The bootstrap is an elegant and powerful method. But before using it, it is important to keep some points in mind."
   ]
  },
  {
   "cell_type": "markdown",
   "metadata": {},
   "source": [
    "### Point 1\n",
    "Use a **large random sample**. If you don't use a large sample, your results will be unreliable."
   ]
  },
  {
   "cell_type": "markdown",
   "metadata": {},
   "source": [
    "### Point 2\n",
    "To get an accurage estimate for the probability distribution of a statistic, it is a good idea to replicate the resampling procedure **as many times as possible**. "
   ]
  },
  {
   "cell_type": "markdown",
   "metadata": {},
   "source": [
    "### Point 3\n",
    "Check that the probability distribution of the bootstrap statistics is roughly **bell-shaped**. If it's not, use a different method."
   ]
  },
  {
   "cell_type": "markdown",
   "metadata": {},
   "source": [
    "### Point 4\n",
    "The bootstrap should not be used to try to estimate:\n",
    "\n",
    "  - Maximum value or minimum value in the population\n",
    "  - Any population parameter which is greatly influenced by \"rare\" elements in the population"
   ]
  },
  {
   "cell_type": "markdown",
   "metadata": {},
   "source": [
    "### Point 5\n",
    "Do not misinterpret the interval. For example, suppose a 95% c.i. for the height (in inches) of an average Hanover College student, based on a random sample, is reported to be (68.3, 70.1).\n",
    "\n",
    "  - Correct interpretation: We are 95% confident that the mean height of an HC student is in the range from 68.3 inches to 70.1 inches.\n",
    "  - **Incorrect interpretation: About 95% of all HC students are between 68.3 and 70.1 inches tall.**"
   ]
  },
  {
   "cell_type": "code",
   "execution_count": null,
   "metadata": {},
   "outputs": [],
   "source": []
  }
 ],
 "metadata": {
  "kernelspec": {
   "display_name": "Python 3 (ipykernel)",
   "language": "python",
   "name": "python3"
  },
  "language_info": {
   "codemirror_mode": {
    "name": "ipython",
    "version": 3
   },
   "file_extension": ".py",
   "mimetype": "text/x-python",
   "name": "python",
   "nbconvert_exporter": "python",
   "pygments_lexer": "ipython3",
   "version": "3.12.1"
  }
 },
 "nbformat": 4,
 "nbformat_minor": 4
}
