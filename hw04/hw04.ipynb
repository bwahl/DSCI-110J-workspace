{
 "cells": [
  {
   "cell_type": "markdown",
   "id": "f2518565",
   "metadata": {},
   "source": [
    "# Homework 4: Functions, Tables, and Groups\n",
    "\n",
    "Please complete this notebook by filling in the cells provided. "
   ]
  },
  {
   "cell_type": "markdown",
   "id": "f8b8da59",
   "metadata": {},
   "source": [
    "**Helpful Resource:**\n",
    "- [Python Reference](http://data8.org/sp22/python-reference.html): Cheat sheet of helpful array & table methods used in Data 8!\n",
    "\n",
    "**Recommended Readings**: \n",
    "\n",
    "* [Visualizing Numerical Distributions](https://www.inferentialthinking.com/chapters/07/2/Visualizing_Numerical_Distributions.html)\n",
    "* [Functions and Tables](https://www.inferentialthinking.com/chapters/08/Functions_and_Tables.html)"
   ]
  },
  {
   "cell_type": "markdown",
   "id": "af4c5297",
   "metadata": {},
   "source": [
    "## Instructions\n",
    "\n",
    "  - For all problems that you must write explanations and sentences for, you **must** provide your answer in the designated space. \n",
    "\n",
    "  - Directly sharing answers is not okay, but discussing problems with your instructor or with other students is encouraged. \n",
    "\n",
    "  - You should start early so that you have time to get help if you're stuck."
   ]
  },
  {
   "cell_type": "markdown",
   "id": "877c624b",
   "metadata": {},
   "source": [
    "## 1. Burrito-ful San Diego"
   ]
  },
  {
   "cell_type": "code",
   "execution_count": null,
   "id": "732457a8",
   "metadata": {},
   "outputs": [],
   "source": [
    "# Run this cell to set up the notebook, but please don't change it.\n",
    "\n",
    "# These lines import the Numpy and Datascience modules.\n",
    "import numpy as np\n",
    "from datascience import *\n",
    "\n",
    "# These lines do some fancy plotting magic.\n",
    "import matplotlib\n",
    "%matplotlib inline\n",
    "import matplotlib.pyplot as plt\n",
    "plt.style.use('fivethirtyeight')\n",
    "\n",
    "import warnings\n",
    "warnings.simplefilter('ignore', FutureWarning)\n",
    "warnings.filterwarnings(\"ignore\")"
   ]
  },
  {
   "cell_type": "markdown",
   "id": "bcf16c7e",
   "metadata": {},
   "source": [
    "Mira, Sofia, and Sara are trying to use Data Science to find the best burritos in San Diego! Their friends Jessica and Sonya provided them with two comprehensive datasets on many burrito establishments in the San Diego area taken from (and cleaned from): https://www.kaggle.com/srcole/burritos-in-san-diego/data"
   ]
  },
  {
   "cell_type": "markdown",
   "id": "093a6555",
   "metadata": {},
   "source": [
    "The following cell loads a table called `ratings` which contains names of burrito restaurants, their Yelp rating, Google rating, and their overall rating. The `Overall` rating is not an average of the `Yelp` and `Google` ratings, but rather it is the overall rating of the customers that were surveyed in the study above.\n",
    "\n",
    "It also loads a table called `burritos_types` which contains names of burrito restaurants, their menu items, and the cost of the respective menu item at the restaurant."
   ]
  },
  {
   "cell_type": "code",
   "execution_count": null,
   "id": "e4ff5a8f",
   "metadata": {},
   "outputs": [],
   "source": [
    "# Just run this cell\n",
    "ratings = Table.read_table(\"ratings.csv\")\n",
    "print(\"Table #1: ratings\")\n",
    "ratings.show(5)\n",
    "burritos_types = Table.read_table(\"burritos_types.csv\").drop(0)\n",
    "print(\"Table #2: burritos_types\")\n",
    "burritos_types.show(5)"
   ]
  },
  {
   "cell_type": "markdown",
   "id": "1e7a973e",
   "metadata": {},
   "source": [
    "**Question 1.** It would be easier if we could combine the information in both tables. Assign `burritos` to the result of joining the two tables together, so that we have a table with the ratings for every corresponding menu item from every restaurant. Each menu item has the same rating as the restaurant from which it is from. **(4 Points)**\n",
    "\n",
    "*Note:* It doesn't matter which table you put in as the argument to the table method.\n",
    "\n",
    "*Hint:* If you need help on using the `join` method, refer to the [Python Reference Sheet](http://data8.org/sp22/python-reference.html) or [Section 8.4](https://www.inferentialthinking.com/chapters/08/4/Joining_Tables_by_Columns.html) in the textbook.\n"
   ]
  },
  {
   "cell_type": "code",
   "execution_count": null,
   "id": "09288f77",
   "metadata": {
    "scrolled": true,
    "tags": []
   },
   "outputs": [],
   "source": [
    "burritos = ...\n",
    "print(\"Table #3: burritos\")\n",
    "burritos.show(5)"
   ]
  },
  {
   "cell_type": "markdown",
   "id": "1964304b",
   "metadata": {},
   "source": [
    "<!-- BEGIN QUESTION -->\n",
    "\n",
    "**Question 2.** Let's look at how the Yelp scores compare to the Google scores in the `burritos` table. \n",
    "\n",
    "  - First, assign `yelp_and_google` to a table only containing the columns `Yelp` and `Google`. \n",
    "  - Then, make a scatter plot with Yelp scores on the x-axis and the Google scores on the y-axis. \n",
    "  \n",
    "**(8 Points)**\n"
   ]
  },
  {
   "cell_type": "code",
   "execution_count": null,
   "id": "61ab2c3c",
   "metadata": {
    "tags": []
   },
   "outputs": [],
   "source": [
    "yelp_and_google = ...\n",
    "...\n",
    "\n",
    "# Don't change/edit/remove the following line.\n",
    "# To help you make conclusions, we have added the y=x line on the scatterplot\n",
    "plt.plot(np.arange(2.5,5,.5), np.arange(2.5,5,.5));"
   ]
  },
  {
   "cell_type": "markdown",
   "id": "7906e014",
   "metadata": {},
   "source": [
    "<!-- END QUESTION -->\n",
    "\n",
    "<!-- BEGIN QUESTION -->\n",
    "\n",
    "**Question 3.** Looking at the scatter plot you just made in Question 1.2, do you notice any pattern(s) (e.g., is one of the two types of scores consistently higher than the other one)? If so, describe those patterns **briefly** in the cell below. **(4 Points)**\n"
   ]
  },
  {
   "cell_type": "markdown",
   "id": "264f2a27",
   "metadata": {},
   "source": [
    "_Type your answer here, replacing this text._"
   ]
  },
  {
   "cell_type": "markdown",
   "id": "d2a95a85",
   "metadata": {},
   "source": [
    "<!-- END QUESTION -->\n",
    "\n",
    "To prepare for the next question, review how `.group` works. \n",
    "\n",
    "1. Here's a link to the relevant [textbook](https://www.inferentialthinking.com/chapters/08/2/Classifying_by_One_Variable.html) section. \n",
    "2. You can also refer to the [Python Reference](https://www.data8.org/sp22/python-reference.html). Use Ctrl-F to find occurrences of `tbl.group` on that webpage.\n",
    "\n",
    "You might also want to keep in mind Section 6.2.5 of the textbook, which lists the various conditions available for use with calls to the `where` method: `original_table_name.where(column_label_string, are.condition)`"
   ]
  },
  {
   "cell_type": "markdown",
   "id": "be051e53",
   "metadata": {},
   "source": [
    "**Question 4.** There are so many types of California burritos in the `burritos` table! Sara wants to know which type is the highest rated across all restaurants. Since we do not have the ratings of individual menu items at these restaurants, we will substitue the `Overall` restaurant rating. For example, the California burrito at Albertacos will be considered to have a rating of 3.45 (refer to Table \\#3: burritos, printed previously).\n",
    "\n",
    "Create a table with two columns: the first column should include the distinct names of the \"California\" burritos and the second column should contain the average overall ratings of those burrito (averaged across the various restaurants). **In your calculations, you should only compare burritos that contain the word \"California\".** For example, there are \"California\" burritos, \"California Breakfast\" burritos, \"California Surf And Turf\" burritos, etc. **(8 Points)**\n",
    "\n",
    "*Hint:* If multiple restaurants serve the \"California - Chicken\" burrito, what table method can we use to aggregate those together and find the average overall rating?\n",
    "\n",
    "*Note:* Feel free to break up the solution into multiple lines and steps, if you find that helpful; just make sure you assign the final output table to `california_burritos`! \n"
   ]
  },
  {
   "cell_type": "code",
   "execution_count": null,
   "id": "f1467c34",
   "metadata": {
    "tags": []
   },
   "outputs": [],
   "source": [
    "california_burritos = ...\n",
    "print(\"Final output table contains\", california_burritos.num_rows, \"rows.\")\n",
    "california_burritos.show()"
   ]
  },
  {
   "cell_type": "markdown",
   "id": "92d80394",
   "metadata": {},
   "source": [
    "If all went well in your work for Question 4, you should have found that the final output table has 18 rows and the \"California - Chicken\" burrito has an Overall mean of 3.48831"
   ]
  },
  {
   "cell_type": "markdown",
   "id": "9493fb0a",
   "metadata": {},
   "source": [
    "**Question 5.** Given this new table `california_burritos`, Sara can figure out the name of the California burrito with the highest overall average rating! Assign `best_california_burrito` to a line of code that outputs the string that represents the name of the California burrito with the highest overall average rating. (In case of a tie for highest-rated, you can output any one of them.) **(4 Points)**\n"
   ]
  },
  {
   "cell_type": "code",
   "execution_count": null,
   "id": "5ff53465",
   "metadata": {
    "tags": []
   },
   "outputs": [],
   "source": [
    "best_california_burrito = ...\n",
    "best_california_burrito"
   ]
  },
  {
   "cell_type": "markdown",
   "id": "90a11f6e",
   "metadata": {},
   "source": [
    "<!-- BEGIN QUESTION -->\n",
    "\n",
    "**Question 6.** Mira thinks that burritos in San Diego are cheaper (and taste better) than the burritos where she lives. Plot a histogram that visualizes the distribution of the costs of the burritos from San Diego using the `burritos` table. Also use the provided `my_bins` variable (in the cell below) when making your histogram, so that the histogram is more visually informative. **(4 Points)**\n"
   ]
  },
  {
   "cell_type": "code",
   "execution_count": null,
   "id": "5beadbac",
   "metadata": {
    "tags": []
   },
   "outputs": [],
   "source": [
    "my_bins = np.arange(0, 15, 1)\n",
    "\n",
    "# draw a histogram for burrito ; use my_bins for the bins\n",
    "..."
   ]
  },
  {
   "cell_type": "markdown",
   "id": "76f750b6",
   "metadata": {},
   "source": [
    "#### <!-- END QUESTION -->\n",
    "\n",
    "**Question 7.** What percentage of burritos in San Diego (according to the `burritos` table) cost less than $6? Assign `burritos_less_than_6` to your answer, which should be an integer between 0 and 100. **You should only use the histogram above to answer the question.** Do not use code on the table to find the answer, just eyeball the bar heights! **(4 Points)**\n",
    "\n",
    "*Note*: Your answer does not have to be exact, but it should be within a couple percentage points of the exact answer. This is the sort of question you might see on the midterm exam.\n"
   ]
  },
  {
   "cell_type": "code",
   "execution_count": null,
   "id": "0247e351",
   "metadata": {
    "tags": []
   },
   "outputs": [],
   "source": [
    "burritos_less_than_6 = ..."
   ]
  },
  {
   "cell_type": "markdown",
   "id": "95f3a2bb",
   "metadata": {},
   "source": [
    "## 2. San Francisco City Employee Salaries"
   ]
  },
  {
   "cell_type": "markdown",
   "id": "b6a1cd6f",
   "metadata": {},
   "source": [
    "This exercise is designed to give you practice with using the Table methods `.pivot` and `.group`. Here is a link to the [Python Reference Sheet](http://data8.org/sp22/python-reference.html) in case you need a quick refresher. "
   ]
  },
  {
   "cell_type": "markdown",
   "id": "aec833ff",
   "metadata": {},
   "source": [
    "The data source we will use within this portion of the homework is [publicly provided](https://data.sfgov.org/City-Management-and-Ethics/Employee-Compensation/88g8-5mnd/data) by the City of San Francisco. We have filtered it to retain just the relevant columns and restricted the data to the calendar year 2019. Run the following cell to load our data into a table called `full_sf`."
   ]
  },
  {
   "cell_type": "code",
   "execution_count": null,
   "id": "f5ce6736",
   "metadata": {},
   "outputs": [],
   "source": [
    "full_sf = Table.read_table(\"sf2019.csv\")\n",
    "full_sf.show(10)"
   ]
  },
  {
   "cell_type": "markdown",
   "id": "59af1337",
   "metadata": {},
   "source": [
    "The table has one row for each of the 44,525 San Francisco government employees in 2019.\n",
    "\n",
    "The first four columns describe the employee's job. For example, the employee in the third row of the table had a job called \"IS Business Analyst-Senior\". We will call this the employee's *position* or *job title*. The job was in a Job Family called Information Systems (hence the IS in the job title), and was in the Adult Probation Department that is part of the Public Protection Organization Group of the government. You will mostly be working with the `Job` column.\n",
    "\n",
    "The next three columns contain the dollar amounts paid to the employee in the calendar year 2019 for salary, overtime, and benefits. Note that an employee’s salary does not include their overtime earnings.\n",
    "\n",
    "The last column contains the total compensation paid to the employee. It is the sum of the previous three columns:\n",
    "\n",
    "$$\\text{Total Compensation} = \\text{Salary} + \\text{Overtime} + \\text{Benefits}$$\n",
    "\n",
    "For this homework, we will be using the following columns:\n",
    "1. `Organization Group`: A group of departments. For example, the **Public Protection** Org. Group includes departments such as the Police, Fire, Adult Protection, District Attorney, etc.\n",
    "2. `Department`: The primary organizational unit used by the City and County of San Francisco.\n",
    "3. `Job`: The specific position that a given worker fills.\n",
    "4. `Total Compensation`: The sum of a worker's salary, overtime, and benefits in 2019.\n",
    "\n",
    "\n",
    "Run the following cell to select the relevant columns and create a new table named `sf`."
   ]
  },
  {
   "cell_type": "code",
   "execution_count": null,
   "id": "bb1d4bc9",
   "metadata": {},
   "outputs": [],
   "source": [
    "sf = full_sf.select(\"Job\", \"Department\", \"Organization Group\",  \"Total Compensation\")\n",
    "sf.show(10)"
   ]
  },
  {
   "cell_type": "markdown",
   "id": "b67e356e",
   "metadata": {},
   "source": [
    "We want to use this table to generate arrays with the job titles of the members of each **Organization Group**."
   ]
  },
  {
   "cell_type": "markdown",
   "id": "502a193b",
   "metadata": {},
   "source": [
    "**Question 1.** Set `job_titles` to a table with two columns. The first column should be called `Organization Group` and have the name of every \"Organization Group\" once, and the second column should be called `Jobs` with each row in that second column containing an *array* of the names of all the job titles within that \"Organization Group\". Don't worry if there are multiple of the same job titles. **(4 Points)**\n",
    "\n",
    "*Hint:* Think about how `group` works: it collects values into an array and then applies a function to that array. We have defined two functions below for you, and you will need to use one of them in your call to `group`. \n"
   ]
  },
  {
   "cell_type": "code",
   "execution_count": null,
   "id": "47776228",
   "metadata": {
    "tags": []
   },
   "outputs": [],
   "source": [
    "# Use ONE of the two functions defined below in your call to group.\n",
    "def first_item(array):\n",
    "    '''Returns the first item'''\n",
    "    return array.item(0)\n",
    "\n",
    "def full_array(array):\n",
    "    '''Returns the array that is passed through'''\n",
    "    return array \n",
    "\n",
    "# Make a call to group using ONE of the functions above when you define job_titles\n",
    "job_titles = ...\n",
    "job_titles"
   ]
  },
  {
   "cell_type": "markdown",
   "id": "03744988",
   "metadata": {},
   "source": [
    "**Understanding the code you just wrote in 2.1 is important for moving forward with the class! If you made a lucky guess, take some time to look at the code, step by step. Office hours is always a great resource!**"
   ]
  },
  {
   "cell_type": "markdown",
   "id": "9734d122",
   "metadata": {},
   "source": [
    "**Question 2.** Set `department_ranges` to a table containing departments as the rows, and the organization groups as the columns. The values in each row should correspond to a total compensation range, where range is defined as the **difference between the highest total compensation and the lowest total compensation** in the department for that organization group. **(8 Points)**\n",
    "\n",
    "*Hint 1:* First you'll need to define a new function `compensation_range` which takes in an array of compensations and returns the range of compensations in that array.\n",
    "\n",
    "*Hint 2:* Which table function allows you to specify the rows and columns of a new table? \n"
   ]
  },
  {
   "cell_type": "code",
   "execution_count": null,
   "id": "c4aadf01",
   "metadata": {
    "tags": []
   },
   "outputs": [],
   "source": [
    "# Define compensation_range first\n",
    "def compensation_range(array):\n",
    "    \"\"\"Returns the range (difference between max and min) of the given array\"\"\"\n",
    "    ...\n",
    "\n",
    "# A Small Test\n",
    "rng = compensation_range(make_array(7, 3, 1, 9, 15, 2))\n",
    "print(\"rng should be 14:\", rng)\n",
    "\n",
    "department_ranges = ...\n",
    "department_ranges.show()"
   ]
  },
  {
   "cell_type": "markdown",
   "id": "9be57301",
   "metadata": {},
   "source": [
    "<!-- BEGIN QUESTION -->\n",
    "\n",
    "**Question 3.** Give an explanation as to why some of the row values are `0` in the `department_ranges` table from the previous question. **(4 Points)**\n"
   ]
  },
  {
   "cell_type": "markdown",
   "id": "671960c9",
   "metadata": {},
   "source": [
    "_Type your answer here, replacing this text._"
   ]
  },
  {
   "cell_type": "markdown",
   "id": "aad00772",
   "metadata": {},
   "source": [
    "<!-- END QUESTION -->\n",
    "\n",
    "**Question 4.** Write code to find the number of departments appearing in the `sf` table that have an average total compensation of greater than 125,000 dollars; assign this value to the variable `num_over_125k`. **(8 Points)**\n",
    "\n",
    "*Hint:* The variable names provided are meant to help guide the intermediate steps and general thought process. Feel free to delete them if you'd prefer to start from scratch, but make sure your final answer is assigned to `num_over_125k`.\n"
   ]
  },
  {
   "cell_type": "code",
   "execution_count": null,
   "id": "70a1eceb",
   "metadata": {
    "tags": []
   },
   "outputs": [],
   "source": [
    "depts_and_comp_tbl = ...\n",
    "depts_avg_comp_tbl = ...\n",
    "num_over_125k = ...\n",
    "num_over_125k"
   ]
  },
  {
   "cell_type": "markdown",
   "id": "2dfb9c4a",
   "metadata": {},
   "source": [
    "## 3. Finish Line\n",
    "\n",
    "Congratulations, you're done with Homework 4!  \n",
    "\n",
    "1. Make sure you have run all the cells in your notebook in order, so that all images/graphs appear in the output. \n",
    "2. Save and Checkpoint your file (Ctrl-S).\n",
    "3. Download a copy as HTML.\n",
    "4. Upload your HTML file to the assignment activity on Moodle."
   ]
  }
 ],
 "metadata": {
  "kernelspec": {
   "display_name": "Python 3 (ipykernel)",
   "language": "python",
   "name": "python3"
  },
  "language_info": {
   "codemirror_mode": {
    "name": "ipython",
    "version": 3
   },
   "file_extension": ".py",
   "mimetype": "text/x-python",
   "name": "python",
   "nbconvert_exporter": "python",
   "pygments_lexer": "ipython3",
   "version": "3.11.5"
  },
  "otter": {
   "OK_FORMAT": true,
   "tests": {
    "q1_1": {
     "name": "q1_1",
     "points": [
      0,
      0
     ],
     "suites": [
      {
       "cases": [
        {
         "code": ">>> # Make sure you have all the columns from both tables\n>>> set([\"Name\", \"Menu_Item\", \"Yelp\", \"Google\", \"Overall\", \"Cost\"]) == set(burritos.labels)\nTrue",
         "hidden": false,
         "locked": false
        },
        {
         "code": ">>> burritos.num_rows == 212\nTrue",
         "hidden": false,
         "locked": false
        }
       ],
       "scored": true,
       "setup": "",
       "teardown": "",
       "type": "doctest"
      }
     ]
    },
    "q1_2": {
     "name": "q1_2",
     "points": null,
     "suites": [
      {
       "cases": [
        {
         "code": ">>> # Make sure you are using the correct table! \n>>> yelp_and_google.num_rows == 212\nTrue",
         "hidden": false,
         "locked": false
        }
       ],
       "scored": true,
       "setup": "",
       "teardown": "",
       "type": "doctest"
      }
     ]
    },
    "q1_4": {
     "name": "q1_4",
     "points": [
      1,
      1
     ],
     "suites": [
      {
       "cases": [
        {
         "code": ">>> # Number of columns should be 2\n>>> california_burritos.num_columns == 2\nTrue",
         "hidden": false,
         "locked": false
        },
        {
         "code": ">>> # Number of rows should be 19\n>>> california_burritos.num_rows == 19\nTrue",
         "hidden": false,
         "locked": false
        }
       ],
       "scored": true,
       "setup": "",
       "teardown": "",
       "type": "doctest"
      }
     ]
    },
    "q1_5": {
     "name": "q1_5",
     "points": [
      0
     ],
     "suites": [
      {
       "cases": [
        {
         "code": ">>> # Your answer should be a string\n>>> type(best_california_burrito) == str\nTrue",
         "hidden": false,
         "locked": false
        }
       ],
       "scored": true,
       "setup": "",
       "teardown": "",
       "type": "doctest"
      }
     ]
    },
    "q1_7": {
     "name": "q1_7",
     "points": [
      0
     ],
     "suites": [
      {
       "cases": [
        {
         "code": ">>> # Your answer should be between 0 and 100.\n>>> 0 <= burritos_less_than_6 <= 100\nTrue",
         "hidden": false,
         "locked": false
        }
       ],
       "scored": true,
       "setup": "",
       "teardown": "",
       "type": "doctest"
      }
     ]
    },
    "q2_1": {
     "name": "q2_1",
     "points": [
      0,
      0,
      0,
      0
     ],
     "suites": [
      {
       "cases": [
        {
         "code": ">>> job_titles.num_columns\n2",
         "hidden": false,
         "locked": false
        },
        {
         "code": ">>> job_titles.num_rows\n6",
         "hidden": false,
         "locked": false
        },
        {
         "code": ">>> # Make sure that you have the correct column labels!\n>>> np.asarray(job_titles.labels).item(1) != \"Job full_array\"\nTrue",
         "hidden": false,
         "locked": false
        },
        {
         "code": ">>> # Make sure that you have the correct column labels!\n>>> np.asarray(job_titles.labels).item(1) == \"Jobs\"\nTrue",
         "hidden": false,
         "locked": false
        }
       ],
       "scored": true,
       "setup": "",
       "teardown": "",
       "type": "doctest"
      }
     ]
    },
    "q2_3": {
     "name": "q2_3",
     "points": [
      0,
      0,
      2
     ],
     "suites": [
      {
       "cases": [
        {
         "code": ">>> # Double check that your salary_range function is correct\n>>> compensation_range(make_array(5, 1, 20, 1000)) == 999\nTrue",
         "hidden": false,
         "locked": false
        },
        {
         "code": ">>> # Make sure that the table has departments as the rows and organization groups as the columns.\n>>> set([\"Department\", \"Community Health\", \"Culture & Recreation\", \"General Administration & Finance\", \"Human Welfare & Neighborhood Development\", \"Public Protection\", \"Public Works, Transportation & Commerce\"]) == set(department_ranges.labels)\nTrue",
         "hidden": false,
         "locked": false
        },
        {
         "code": ">>> sum(department_ranges.column(1))\n554179.0",
         "hidden": false,
         "locked": false
        }
       ],
       "scored": true,
       "setup": "",
       "teardown": "",
       "type": "doctest"
      }
     ]
    },
    "q2_5": {
     "name": "q2_5",
     "points": [
      2,
      2
     ],
     "suites": [
      {
       "cases": [
        {
         "code": ">>> # Make sure that your final answer is a number\n>>> isinstance(num_over_125k, int)\nTrue",
         "hidden": false,
         "locked": false
        },
        {
         "code": ">>> # Make sure that your answer makes sense given the sf table\n>>> 0 <= num_over_125k <= 51\nTrue",
         "hidden": false,
         "locked": false
        }
       ],
       "scored": true,
       "setup": "",
       "teardown": "",
       "type": "doctest"
      }
     ]
    }
   }
  }
 },
 "nbformat": 4,
 "nbformat_minor": 5
}
