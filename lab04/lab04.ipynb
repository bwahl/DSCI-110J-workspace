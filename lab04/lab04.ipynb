{
 "cells": [
  {
   "cell_type": "markdown",
   "id": "edba0602",
   "metadata": {},
   "source": [
    "# Lab 4: Functions and Visualizations"
   ]
  },
  {
   "cell_type": "markdown",
   "id": "af334720",
   "metadata": {},
   "source": [
    "Welcome to Lab 4! This week, we'll learn about functions, table methods such as `apply`, and how to generate a histogram! \n",
    "\n",
    "Recommended Reading:\n",
    "\n",
    "* [Applying a Function to a Column](https://inferentialthinking.com/chapters/08/1/Applying_a_Function_to_a_Column.html)\n",
    "* [Visualizations](https://inferentialthinking.com/chapters/07/Visualization.html)\n",
    "* [Python Reference](http://data8.org/sp22/python-reference.html)"
   ]
  },
  {
   "cell_type": "markdown",
   "id": "ae1a9a80",
   "metadata": {},
   "source": [
    "First, set up the notebook by running the cell below."
   ]
  },
  {
   "cell_type": "code",
   "execution_count": null,
   "id": "1221a259",
   "metadata": {},
   "outputs": [],
   "source": [
    "import numpy as np\n",
    "from datascience import *\n",
    "\n",
    "# These lines set up graphing capabilities.\n",
    "import matplotlib\n",
    "%matplotlib inline\n",
    "import matplotlib.pyplot as plt\n",
    "plt.style.use('fivethirtyeight')\n",
    "import warnings\n",
    "warnings.simplefilter('ignore', FutureWarning)\n",
    "\n",
    "from ipywidgets import interact, interactive, fixed, interact_manual\n",
    "import ipywidgets as widgets"
   ]
  },
  {
   "cell_type": "markdown",
   "id": "8188b594",
   "metadata": {},
   "source": [
    "## 1. Defining functions\n",
    "\n",
    "Let's write a very simple function that converts a proportion to a percentage by multiplying it by 100.  For example, the value of `to_percentage(.5)` should be the number 50 (no percent sign).\n",
    "\n",
    "A function definition has a few parts."
   ]
  },
  {
   "cell_type": "markdown",
   "id": "30078fb9",
   "metadata": {},
   "source": [
    "##### `def`\n",
    "It always starts with `def` (short for **def**ine):\n",
    "\n",
    "    def"
   ]
  },
  {
   "cell_type": "markdown",
   "id": "41ed587c",
   "metadata": {},
   "source": [
    "##### Name\n",
    "Next comes the name of the function.  Like other names we've defined, it can't start with a number or contain spaces. Let's call our function `to_percentage`:\n",
    "    \n",
    "    def to_percentage"
   ]
  },
  {
   "cell_type": "markdown",
   "id": "0e7269dc",
   "metadata": {},
   "source": [
    "##### Signature\n",
    "Next comes something called the *signature* of the function.  This tells Python how many parameters your function should have, and what names you'll use to refer to those parameters in the function's body.  A function can have any number of parameters (including 0). \n",
    "\n",
    "`to_percentage` should have one parameter, and we'll call that parameter `proportion` to indicate its meaning.\n",
    "\n",
    "    def to_percentage(proportion)\n",
    "    \n",
    "If we want our function to take more than one argument, we add a comma between each pair of parameter names. Note that to define a function with no parameters, we'd still place parentheses () after the function name to indicate its signature. \n",
    "\n",
    "We put a **colon** after the signature to tell Python that the next indented lines are the body of the function. If you're getting a syntax error after defining a function, check to make sure you remembered the colon!\n",
    "\n",
    "    def to_percentage(proportion):"
   ]
  },
  {
   "cell_type": "markdown",
   "id": "207b6895",
   "metadata": {},
   "source": [
    "##### Documentation\n",
    "Functions can do complicated things, so you should write an explanation of what your function does.  For small functions, this is less important, but it's a good habit to learn from the start.  Conventionally, Python functions are documented by writing an **indented** triple-quoted string after the `def` line:\n",
    "\n",
    "    def to_percentage(proportion):\n",
    "        \"\"\"Converts a proportion to a percentage.\"\"\""
   ]
  },
  {
   "cell_type": "markdown",
   "id": "259f027d",
   "metadata": {},
   "source": [
    "##### Body\n",
    "Now we start writing code that will run when the function is called.  This is called the *body* of the function and every body line **must be indented with a tab**.  Any lines that are *not* indented are considered to be outside the function. \n",
    "\n",
    "Some notes about the body of the function:\n",
    "- We can write any code that we would write anywhere else.  \n",
    "- We use the parameters (names for the arguments) in the function signature. We can do this because we assume that when we call the function, values are already assigned to those arguments.\n",
    "- We generally avoid referencing variables that are defined *outside* the function. If you would like to reference variables outside of the function, pass them into the function as arguments!\n",
    "\n",
    "Now, let's give a name to the number we multiply a proportion by to get a percentage:\n",
    "\n",
    "    def to_percentage(proportion):\n",
    "        \"\"\"Converts a proportion to a percentage.\"\"\"\n",
    "        factor = 100"
   ]
  },
  {
   "cell_type": "markdown",
   "id": "1c77978a",
   "metadata": {},
   "source": [
    "##### `return`\n",
    "The special instruction `return` is part of the function's body and tells Python to make the value of the function call equal to whatever comes right after `return`.  We want the value of `to_percentage(.5)` to be the proportion .5 times the factor 100, so we write:\n",
    "\n",
    "    def to_percentage(proportion):\n",
    "        \"\"\"Converts a proportion to a percentage.\"\"\"\n",
    "        factor = 100\n",
    "        return proportion * factor\n",
    "        \n",
    "`return` only makes sense in the context of a function, and **can never be used outside of a function**. `return` is always the last line of the function because Python stops executing the body of a function once it hits a `return` statement. If a function does not have a return statement, it will not return anything; if you expect a value back from the function, make sure to include a return statement. \n",
    "\n",
    "*Note:*  `return` inside a function tells Python what value the function evaluates to. However, there are other functions, like `print`, that have no `return` value. For example, `print` simply prints a certain value out to the console. \n",
    "\n",
    "In short, `return` is used when you want to tell the *computer* what the value of some expression is, while `print` is used to report a value to the outside world."
   ]
  },
  {
   "cell_type": "markdown",
   "id": "1f35c8c1",
   "metadata": {},
   "source": [
    "**Question 1.1.** Following the plan outlined above, define `to_percentage` in the cell below.  After the function definition, call the new function to convert the proportion 0.2 to a percentage.  Assign the name `twenty_percent` to the value of the function call.\n"
   ]
  },
  {
   "cell_type": "code",
   "execution_count": null,
   "id": "c9861c9b",
   "metadata": {
    "tags": []
   },
   "outputs": [],
   "source": [
    "def to_percentage(proportion):\n",
    "    ''' Converts a proportion to a percentage. '''\n",
    "    ...\n",
    "    ...\n",
    "\n",
    "twenty_percent = ...  # call the function with argument 0.2\n",
    "twenty_percent"
   ]
  },
  {
   "cell_type": "markdown",
   "id": "c0a83d04",
   "metadata": {},
   "source": [
    "Here's something important about functions: the names assigned *within* a function body are only accessible within the function body. Once the function has returned, those names are gone.  So even if you created a variable called `factor` and defined `factor = 100` inside of the body of the `to_percentage` function and then called `to_percentage`, `factor` would not have a value assigned to it outside of the body of `to_percentage`:\n",
   ]
  },
  {
   "cell_type": "code",
   "execution_count": null,
   "id": "b74dd0e8",
   "metadata": {
    "tags": [
     "raises-exception"
    ]
   },
   "outputs": [],
   "source": [
    "# You should get an error when you run this, because `factor` is \n",
    "# undefined outside the body of the function\n",
    "factor"
   ]
  },
  {
   "cell_type": "markdown",
   "id": "c87a4363",
   "metadata": {},
   "source": [
    "Like you’ve done with built-in functions in previous labs (max, abs, etc.), you can pass in named values or more complex expressions as arguments to a function.\n",
    "\n",
    "**Question 1.2.** Use `to_percentage` again to convert the proportion named `a_proportion` (defined below) to a percentage called `a_percentage`.\n",
    "\n",
    "*Note:* You don't need to define `to_percentage` again!  Like other named values, functions stick around after you define them. The name `to_percentage` is still bound to the function definition you created above.\n"
   ]
  },
  {
   "cell_type": "code",
   "execution_count": null,
   "id": "ae14437a",
   "metadata": {
    "tags": []
   },
   "outputs": [],
   "source": [
    "a_proportion = 2**(0.5) / 2\n",
    "a_percentage = ...\n",
    "a_percentage"
   ]
  },
  {
   "cell_type": "markdown",
   "id": "527576c6",
   "metadata": {},
   "source": [
    "##### A Function with a String Argument\n",
    "As we've seen with built-in functions, functions can also take strings (or arrays, or tables, etc.) as arguments, and they can return different data types, too.\n",
    "\n",
    "In the following cell, we define a function called `disemvowel`.  It takes in a single string as its argument. It returns a copy of that string, but with all the vowel characters removed.  (In English, the vowels are \"a\", \"e\", \"i\", \"o\", and \"u\".) \n",
    "\n",
    "To remove all the \"a\"s from a string, we used `a_string.replace(\"a\", \"\")`.  The `replace` method for strings returns a new string, so we can call `replace` multiple times, one after the other. (This is called \"chaining\" of function calls.)"
   ]
  },
  {
   "cell_type": "code",
   "execution_count": null,
   "id": "5ea2a881",
   "metadata": {},
   "outputs": [],
   "source": [
    "# Just run this cell\n",
    "\n",
    "def disemvowel(a_string):\n",
    "    \"\"\"Removes all vowels from a string.\"\"\"\n",
    "    return a_string.replace(\"a\", \"\").replace(\"e\", \"\").replace(\"i\", \"\").replace(\"o\", \"\").replace(\"u\", \"\")\n",
    "\n",
    "# An example call to the function.  \n",
    "# It's often helpful to run an example call or two while we're writing a function,\n",
    "# to see how it's currently working.\n",
    "disemvowel(\"Can you read this without vowels?\")"
   ]
  },
  {
   "cell_type": "markdown",
   "id": "f28a5af4",
   "metadata": {},
   "source": [
    "Just as you write a series of lines to build up a complex computation, it's often useful to define a series of small functions that build on each other and work together.  \n",
    "\n",
    "If a function is a like a recipe, defining a function in terms of other functions is like having a recipe for cake telling you to follow another recipe to make the frosting, and another to make the jam filling.  This makes the cake recipe shorter and clearer, and it avoids having a bunch of duplicated frosting recipes.  Solving a problem with a series of small functions that work together is called *functional decomposition*; it's a foundation of productive programming.\n",
    "\n",
    "For example, suppose you want to count the number of characters *that are not vowels* in a piece of text.  One way to do that is to remove all the vowels and find the length of the remainder.\n",
    "\n",
    "**Question 1.3.** Write a function called `num_non_vowels`.  It should take a string as its argument and return a number.  That number should be the number of characters in the argument string that aren't vowels. You should use a call to the `disemvowel` function (defined above) inside the `num_non_vowels` function.\n",
    "\n",
    "*Hint:* The function `len` takes a string (or other sequence) as its argument and returns the number of characters in the string.\n"
   ]
  },
  {
   "cell_type": "code",
   "execution_count": null,
   "id": "95e313fa",
   "metadata": {
    "tags": []
   },
   "outputs": [],
   "source": [
    "def num_non_vowels(a_string):\n",
    "    \"\"\"Returns the number of characters in a string, minus the vowels.\"\"\"\n",
    "    ...\n",
    "\n",
    "# Add a function call below, to informally test the function\n",
    "..."
   ]
  },
  {
   "cell_type": "markdown",
   "id": "ac2c1339",
   "metadata": {},
   "source": [
    "Functions can also encapsulate code that *displays output* instead of computing a value. For example, if you call `print` from inside a function, and then call that function, something will get printed.\n",
    "\n",
    "The `movies_by_year` dataset in the textbook has information about movie sales in recent years.  Suppose you'd like to display the year with the 5th-highest total gross movie sales, printed within a sentence.  "
   ]
  },
  {
   "cell_type": "code",
   "execution_count": null,
   "id": "2ebf7e17",
   "metadata": {},
   "outputs": [],
   "source": [
    "movies_by_year = Table.read_table(\"movies_by_year.csv\")\n",
    "movies_by_year"
   ]
  },
  {
   "cell_type": "code",
   "execution_count": null,
   "id": "f54f5d17",
   "metadata": {},
   "outputs": [],
   "source": [
    "# display the year with the 5th-highest total gross movie sales, printed within a sentence\n",
    "rank = 5\n",
    "index = rank - 1\n",
    "fifth_top_movie_year = movies_by_year.sort(\"Total Gross\", descending=True).column(\"Year\").item(index)\n",
    "\n",
    "print(\"Year number\", rank, \"for total gross movie sales was:\", fifth_top_movie_year)"
   ]
  },
  {
   "cell_type": "markdown",
   "id": "c0db2488",
   "metadata": {},
   "source": [
    "After writing this, you realize you also wanted to print out the 2nd and 3rd-highest years. Instead of repeating similar code three times, you decide to encapsulate the necessary code in a function.  \n",
    "\n",
    "Since the rank varies, you decide to use rank as the argument to the function. The one function can be called multiple times with different argument values (2, 3, and 5). But you name the parameter `k` so that the function name can use the phrase \"kth_top_movie\" in place of \"fifth_top_movie\".\n",
    "\n",
    "**Question 1.4.** Write a function called `print_kth_top_movie_year`.  It should take a single argument `k`, the rank of the year (like 2, 3, or 5 in the above examples) and should use the 'Total Gross' and 'Year' columns of the table `movies_by_year`. It should print out a message like the one above.  \n",
    "\n",
    "*Note:* Your function should NOT have a `return` statement. It will \"return nothing\" by default.\n"
   ]
  },
  {
   "cell_type": "code",
   "execution_count": null,
   "id": "016f80af",
   "metadata": {
    "tags": []
   },
   "outputs": [],
   "source": [
    "def print_kth_top_movie_year(k):\n",
    "    ...\n",
    "    ...\n",
    "    print(...)\n",
    "\n",
    "# Example calls to your function:\n",
    "print_kth_top_movie_year(2)\n",
    "print_kth_top_movie_year(3)"
   ]
  },
  {
   "cell_type": "code",
   "execution_count": null,
   "id": "39758d71",
   "metadata": {},
   "outputs": [],
   "source": [
    "# Read, think, run, try the pulldown...\n",
    "\n",
    "# `interact` allows you to pass in an array for a function argument. It will\n",
    "# then present a dropdown menu of options, populated with the array values.\n",
    "_ = interact(print_kth_top_movie_year, k=np.arange(1, 10))"
   ]
  },
  {
   "cell_type": "markdown",
   "id": "10037b39",
   "metadata": {},
   "source": [
    "### `print` is not the same as `return`\n",
    "The `print_kth_top_movie_year(k)` function prints the total gross movie sales for the rank that was provided. However, since we did not return a year value from this function, we can not use that year value programmatically. \n",
    "\n",
    "Here's another function that prints a value but does not return it."
   ]
  },
  {
   "cell_type": "code",
   "execution_count": null,
   "id": "7fa76241",
   "metadata": {},
   "outputs": [],
   "source": [
    "# Just run this code\n",
    "\n",
    "def print_number_five():\n",
    "    print(5)"
   ]
  },
  {
   "cell_type": "code",
   "execution_count": null,
   "id": "c631311f",
   "metadata": {},
   "outputs": [],
   "source": [
    "print_number_five()"
   ]
  },
  {
   "cell_type": "markdown",
   "id": "6c007a65",
   "metadata": {},
   "source": [
    "However, if we try to use the output of `print_number_five()`, we see that the value `5` is printed but we get a TypeError when we try to add the number 2 to it!"
   ]
  },
  {
   "cell_type": "code",
   "execution_count": null,
   "id": "f2f54336",
   "metadata": {
    "tags": [
     "raises-exception"
    ]
   },
   "outputs": [],
   "source": [
    "print_number_five_output = print_number_five()\n",
    "print_number_five_output + 2"
   ]
  },
  {
   "cell_type": "markdown",
   "id": "a75a009f",
   "metadata": {},
   "source": [
    "It may seem that `print_number_five()` is returning a value, 5. In reality, it just displays the number 5 to you without giving you the actual value. If your function prints out a value **without returning it** and you try to use the function call in place of the value, you will run into errors, so be careful!\n",
    "\n",
    "Discuss with your neighbor how you might add a line of code to the `print_number_five` function (after `print(5)`) so that the code `print_number_five_output + 2` would result in the value `7`, rather than an error."
   ]
  },
  {
   "cell_type": "markdown",
   "id": "6c02c839",
   "metadata": {},
   "source": [
    "## 2. Functions and CEO Incomes\n",
    "\n",
    "In this question, we'll look at the 2015 compensation of CEOs (i.e., Chief Executive Officers) at the 99 largest publicly-traded companies in California. The data was compiled from a [Los Angeles Times analysis](http://spreadsheets.latimes.com/california-ceo-compensation/), and ultimately came from [filings](https://www.sec.gov/answers/proxyhtf.htm) mandated by the SEC from all publicly-traded companies. Two of the 99 largest companies each have two CEOs, so there are 101 CEOs in the dataset.\n",
    "\n",
    "We've copied the raw data from the LA Times page into a file called `raw_compensation.csv`. (The page notes that all dollar amounts are in **millions of dollars**.)"
   ]
  },
  {
   "cell_type": "code",
   "execution_count": null,
   "id": "decdaec1",
   "metadata": {},
   "outputs": [],
   "source": [
    "raw_compensation = Table.read_table('raw_compensation.csv')\n",
    "raw_compensation"
   ]
  },
  {
   "cell_type": "markdown",
   "id": "11f6f937",
   "metadata": {},
   "source": [
    "We want to compute the average of the CEOs' pay. Try running the cell below; you should get a `TypeError`."
   ]
  },
  {
   "cell_type": "code",
   "execution_count": null,
   "id": "8c1f6894",
   "metadata": {
    "tags": [
     "raises-exception"
    ]
   },
   "outputs": [],
   "source": [
    "# Try to average the values in the \"Total Pay\" column\n",
    "np.average(raw_compensation.column(\"Total Pay\"))"
   ]
  },
  {
   "cell_type": "markdown",
   "id": "e3748f5c",
   "metadata": {},
   "source": [
    "Let's examine why this error occurred by investigating the values in the `Total Pay` column. To do so, we can use the `type` function. This function tells us the data type of its argument. \n",
    "\n",
    "Run the following cell to see what happens when we pass in `23` to the `type` function. Does the result make sense to you? If not, please ask!"
   ]
  },
  {
   "cell_type": "code",
   "execution_count": null,
   "id": "261aab0c",
   "metadata": {},
   "outputs": [],
   "source": [
    "# Check the type of 23\n",
    "type(23)"
   ]
  },
  {
   "cell_type": "markdown",
   "id": "15aebedb",
   "metadata": {},
   "source": [
    "**Question 2.1.** Use the `type` function and set `total_pay_type` to the type of the first item in the \"Total Pay\" column.\n"
   ]
  },
  {
   "cell_type": "code",
   "execution_count": null,
   "id": "bd7a7fd3",
   "metadata": {
    "tags": []
   },
   "outputs": [],
   "source": [
    "total_pay_type = ...\n",
    "total_pay_type"
   ]
  },
  {
   "cell_type": "markdown",
   "id": "c30ebac4",
   "metadata": {},
   "source": [
    "**Question 2.2.** You should have found that the values in the `Total Pay` column are strings. It doesn't make sense to take the average of string values, so we need to convert the values to numbers before averaging. \n",
    "\n",
    "Use table and array methods to extract the first value in `Total Pay`.  It's Mark Hurd's pay in 2015, in *millions* of dollars.  Call it `mark_hurd_pay_string`.\n"
   ]
  },
  {
   "cell_type": "code",
   "execution_count": null,
   "id": "050e2b48",
   "metadata": {
    "tags": []
   },
   "outputs": [],
   "source": [
    "mark_hurd_pay_string = ...\n",
    "mark_hurd_pay_string"
   ]
  },
  {
   "cell_type": "markdown",
   "id": "d1f598c4",
   "metadata": {},
   "source": [
    "**Question 2.3.** Convert `mark_hurd_pay_string` to a number of *dollars*. \n",
    "\n",
    "Some hints, as this question requires multiple steps:\n",
    "- The string method `strip` will be useful for removing the dollar sign; it removes a specified character from the start or end of a string.  For example, the value of `\"100%\".strip(\"%\")` is the string `\"100\"`.  \n",
    "- You'll also need the function `float`, which converts a string that looks like a number to an actual number. Don't worry about the whitespace at the end of the string; the `float` function will ignore this.\n",
    "- Finally, remember that the answer should be a float number of dollars, not *millions* of dollars. \n"
   ]
  },
  {
   "cell_type": "code",
   "execution_count": null,
   "id": "fb6c3ec7",
   "metadata": {
    "tags": []
   },
   "outputs": [],
   "source": [
    "mark_hurd_pay = ...\n",
    "mark_hurd_pay\n"
   ]
  },
  {
   "cell_type": "markdown",
   "id": "88d8d5fd",
   "metadata": {},
   "source": [
    "To compute the average pay, we would first need to do this conversion from string to float for every CEO's total pay.  But we don't want to literally repeat this line of code 101 times; this is where functions come in:\n",
    "\n",
    "1. First, we'll define a new function, giving a name to the expression that converts \"total pay\" strings to their correct numeric (float) values.  \n",
    "2. Later in this lab, we'll see the payoff: we can call that function on every pay string in the dataset at once using the Table method `apply`.\n",
    "\n",
    "The next section of this lab will provide more practice on defining functions. For now, just write a line of code to replace the ellipsis in the cell below.\n",
    "\n",
    "**Question 2.4.** Copy the expression you used to compute `mark_hurd_pay`, and use it as the return expression of the function below. But make sure you replace the specific `mark_hurd_pay_string` with the generic `pay_string` name specified in the first line in the `def` statement.\n",
    "\n",
    "*Hint*: When dealing with functions, you should generally not be referencing any variable outside of the function. Usually, you want to be working with the arguments that are passed into it, such as `pay_string` for this function. If you're using `mark_hurd_pay_string` within your function, you're referencing an outside variable!\n"
   ]
  },
  {
   "cell_type": "code",
   "execution_count": null,
   "id": "d8887a08",
   "metadata": {
    "tags": []
   },
   "outputs": [],
   "source": [
    "def convert_pay_string_to_number(pay_string):\n",
    "    \"\"\"\n",
    "    Takes a pay string like '$100' (in millions) and converts it \n",
    "       to a float number of dollars\n",
    "    \"\"\"\n",
    "    return ..."
   ]
  },
  {
   "cell_type": "markdown",
   "id": "9416bcba",
   "metadata": {},
   "source": [
    "Running that cell doesn't convert any particular pay string. Instead, it creates a function called `convert_pay_string_to_number` that can convert *any* string with the right format to a number representing a dollar amount.\n",
    "\n",
    "We can call our function just like we call the built-in functions we've seen. It takes one argument, *a string*, and it returns a float."
   ]
  },
  {
   "cell_type": "code",
   "execution_count": null,
   "id": "8eae62db",
   "metadata": {},
   "outputs": [],
   "source": [
    "convert_pay_string_to_number('$42')"
   ]
  },
  {
   "cell_type": "code",
   "execution_count": null,
   "id": "b3d126e2",
   "metadata": {},
   "outputs": [],
   "source": [
    "convert_pay_string_to_number(mark_hurd_pay_string)"
   ]
  },
  {
   "cell_type": "code",
   "execution_count": null,
   "id": "447ba55a",
   "metadata": {},
   "outputs": [],
   "source": [
    "# We can also compute Safra Catz's pay in the same way:\n",
    "safra_pay_string = raw_compensation.where(\"Name\", are.containing(\"Safra\")).column(\"Total Pay\").item(0)\n",
    "convert_pay_string_to_number(safra_pay_string)"
   ]
  },
  {
   "cell_type": "markdown",
   "id": "0aafc54a",
   "metadata": {},
   "source": [
    "So, what have we gained by defining the `convert_pay_string_to_number` function? \n",
    "Well, without it, we'd have to copy the code `10**6 * float(some_pay_string.strip(\"$\"))` each time we wanted to convert a pay string.  Now we just call a function whose name says exactly what it's doing."
   ]
  },
  {
   "cell_type": "markdown",
   "id": "b267c5f0",
   "metadata": {},
   "source": [
    "## 3. `apply`ing functions\n",
    "\n",
    "Defining a function is a lot like giving a name to a value with `=`.  In fact, a function is a *value*, just like the number 1 or the text \"data\". \n",
    "\n",
    "For example, we can make a new name for the built-in function `max` if we want:"
   ]
  },
  {
   "cell_type": "code",
   "execution_count": null,
   "id": "0ebf32aa",
   "metadata": {},
   "outputs": [],
   "source": [
    "our_name_for_max = max\n",
    "our_name_for_max(2, 6)"
   ]
  },
  {
   "cell_type": "markdown",
   "id": "ab02627c",
   "metadata": {},
   "source": [
    "The old name for `max` is still around:"
   ]
  },
  {
   "cell_type": "code",
   "execution_count": null,
   "id": "a2f3aae5",
   "metadata": {},
   "outputs": [],
   "source": [
    "max(2, 6)"
   ]
  },
  {
   "cell_type": "markdown",
   "id": "1c784926",
   "metadata": {},
   "source": [
    "Try just writing `max` or `our_name_for_max` (or the name of any other function) in a cell, and run that cell.  Python will print out a (very brief) description of the function."
   ]
  },
  {
   "cell_type": "code",
   "execution_count": null,
   "id": "562abb61",
   "metadata": {},
   "outputs": [],
   "source": [
    "max"
   ]
  },
  {
   "cell_type": "markdown",
   "id": "78af974c",
   "metadata": {},
   "source": [
    "Now try writing `max?` or `our_name_for_max?` (or the name of any other function) in a cell, and run that cell.  A information box should show up at the bottom of your screen a longer description of the function\n",
    "\n",
    "*Note: You can also press Shift+Tab after clicking on a name to see similar information!*"
   ]
  },
  {
   "cell_type": "code",
   "execution_count": null,
   "id": "2c9ad1a4",
   "metadata": {},
   "outputs": [],
   "source": [
    "our_name_for_max?"
   ]
  },
  {
   "cell_type": "markdown",
   "id": "2698c6ba",
   "metadata": {},
   "source": [
    "Let's look at what happens when we set `max`to a non-function value. You'll notice that a TypeError will occur when you try calling `max`. Things like integers and strings are not callable like this: `\"hello\"(2)`, which is calling a string and will error. Look out for any functions that might have been renamed when you encounter this type of error"
   ]
  },
  {
   "cell_type": "code",
   "execution_count": null,
   "id": "a3e01a96",
   "metadata": {
    "tags": [
     "raises-exception"
    ]
   },
   "outputs": [],
   "source": [
    "max = 6\n",
    "max(2, 6)"
   ]
  },
  {
   "cell_type": "code",
   "execution_count": null,
   "id": "726ad032",
   "metadata": {},
   "outputs": [],
   "source": [
    "# This cell resets max to the built-in function. Just run this cell, don't change its contents\n",
    "import builtins\n",
    "max = builtins.max"
   ]
  },
  {
   "cell_type": "markdown",
   "id": "03ab27b6",
   "metadata": {},
   "source": [
    "Why is this useful?  Since functions are just values, it's possible to pass them as arguments to other functions.  Here's a simple but not-so-practical example: we can make an array of functions."
   ]
  },
  {
   "cell_type": "code",
   "execution_count": null,
   "id": "fb754d05",
   "metadata": {},
   "outputs": [],
   "source": [
    "make_array(max, np.average, are.equal_to)"
   ]
  },
  {
   "cell_type": "markdown",
   "id": "91d419c2",
   "metadata": {},
   "source": [
    "**Question 3.1.** Make an array containing any 3 other functions you've seen.  Call it `some_functions`.\n"
   ]
  },
  {
   "cell_type": "code",
   "execution_count": null,
   "id": "d246ce1d",
   "metadata": {
    "tags": []
   },
   "outputs": [],
   "source": [
    "some_functions = ...\n",
    "some_functions"
   ]
  },
  {
   "cell_type": "markdown",
   "id": "38190f3a",
   "metadata": {},
   "source": [
    "Working with functions as values can lead to some funny-looking code. For example, see if you can figure out why the following code works. Check your explanation with a neighbor."
   ]
  },
  {
   "cell_type": "code",
   "execution_count": null,
   "id": "30709401",
   "metadata": {},
   "outputs": [],
   "source": [
    "make_array(max, np.average, are.equal_to).item(0)(4, -2, 7)"
   ]
  },
  {
   "cell_type": "markdown",
   "id": "86635aa9",
   "metadata": {},
   "source": [
    "A more useful example of passing functions to other functions as arguments is the table method `apply`.\n",
    "\n",
    "`apply` calls a function many times, once on *each* element in a column of a table.  It produces an *array* of the results.  Here we use `apply` to convert every CEO's pay to a number, using the function you defined:\n",
    "\n",
    "*Note:* You'll see an array of numbers like `5.325e+07`. This is Python's way of representing **scientific notation**. We interpret `5.325e+07` as `5.325 * 10**7`, or `53,250,000`."
   ]
  },
  {
   "cell_type": "code",
   "execution_count": null,
   "id": "190045ca",
   "metadata": {},
   "outputs": [],
   "source": [
    "raw_compensation.apply(convert_pay_string_to_number, \"Total Pay\")"
   ]
  },
  {
   "cell_type": "markdown",
   "id": "d3b92b5a",
   "metadata": {},
   "source": [
    "Here's an illustration of what that did:\n",
    "\n",
    "<img src=\"apply.png\"/>\n",
    "\n",
    "Note that we didn’t write `raw_compensation.apply(convert_pay_string_to_number(), “Total Pay”)` or `raw_compensation.apply(convert_pay_string_to_number(“Total Pay”))`. We just passed the name of the function, with no parentheses, to `apply`, because all we want to do is let `apply` know the name of the function we’d like to use and the name of the column we’d like to use it on. `apply` will then call the function `convert_pay_string_to_number` on each value in the column for us!"
   ]
  },
  {
   "cell_type": "markdown",
   "id": "bf41fc1b",
   "metadata": {},
   "source": [
    "**Question 3.2.** Using `apply`, make a table that's a copy of `raw_compensation` with one additional column called `Total Pay ($)`.  That column should contain the result of applying `convert_pay_string_to_number` to the `Total Pay` column (as we did above).  Call the new table `compensation`."
   ]
  },
  {
   "cell_type": "code",
   "execution_count": null,
   "id": "eb5faa07",
   "metadata": {
    "tags": []
   },
   "outputs": [],
   "source": [
    "compensation = ...\n",
    "compensation"
   ]
  },
  {
   "cell_type": "markdown",
   "id": "4c3085c4",
   "metadata": {},
   "source": [
    "Now that we have all the pays as numbers, we can learn more about them through computation."
   ]
  },
  {
   "cell_type": "markdown",
   "id": "bd119fb1",
   "metadata": {},
   "source": [
    "**Question 3.3.** Use the `compensation` table, and the column `Total Pay ($)', to compute the average total pay of the CEOs in the dataset.\n"
   ]
  },
  {
   "cell_type": "code",
   "execution_count": null,
   "id": "fb72400a",
   "metadata": {
    "tags": []
   },
   "outputs": [],
   "source": [
    "average_total_pay = ...\n",
    "round(average_total_pay)"
   ]
  },
  {
   "cell_type": "markdown",
   "id": "c836fc3e",
   "metadata": {},
   "source": [
    "**Question 3.4** Companies pay executives in a variety of ways: in cash, by granting stock or other equity in the company, or with ancillary benefits (like private jets).  Compute the proportion of each CEO's pay that was cash.  (Your answer should be an array of numbers, one for each CEO in the dataset.)\n",
    "\n",
    "*Hint:* What function have you defined that can convert a string to a number?\n"
   ]
  },
  {
   "cell_type": "code",
   "execution_count": null,
   "id": "867a0bef",
   "metadata": {
    "tags": []
   },
   "outputs": [],
   "source": [
    "cash_proportion = ...\n",
    "cash_proportion"
   ]
  },
  {
   "cell_type": "markdown",
   "id": "927ebc18",
   "metadata": {
    "for_assignment_type": "solution"
   },
   "source": [
    "**Why is `apply` useful?**\n",
    "\n",
    "For operations like arithmetic, or the functions in the NumPy library, you don't need to use `apply`, because they automatically work on each element of an array.  But there are many things that don't.  The string manipulation we did in today's lab is one example.  Since you can write any code you want in a function, `apply` gives you total control over how you operate on data."
   ]
  },
  {
   "cell_type": "markdown",
   "id": "2975c465",
   "metadata": {},
   "source": [
    "Check out the `% Change` column in `compensation`.  It shows the percentage increase in the CEO's pay from the previous year.  For CEOs with no previous year on record, it instead says \"(No previous year)\".  The values in this column are *strings*, not numbers, so like the `Total Pay` column, it's not usable without a bit of extra work.\n",
    "\n",
    "Given your current pay and the percentage increase from the previous year, you can compute your previous year's pay.  For example, if your pay is $\\$120$ this year, and that's a 50% increase over your previous year's pay, then $\\$120 = 1.5$ times `prev`; so `prev` $= \\frac{\\$120}{1.5} = \\$80$. Notice we can find the denominator, $1.5$, as $1 + \\frac{50}{100}$.\n",
    "\n",
    "**Question 3.5** Create a new table called `with_previous_compensation`.  It should be a copy of `compensation`, but with the \"(No previous year)\" CEOs filtered out, and with an extra column called `2014 Total Pay ($)`.  That column should have each CEO's pay in 2014.\n",
    "\n",
    "*Hint 1:* You can print out your results after each step to make sure you're on the right track.\n",
    "\n",
    "*Hint 2:* We've provided a structure that you can use to get to the answer. However, if it's confusing, feel free to delete the current structure and approach the problem your own way!\n"
   ]
  },
  {
   "cell_type": "code",
   "execution_count": null,
   "id": "701dd589",
   "metadata": {},
   "outputs": [],
   "source": [
    "# First, extract the string value for '% Change' for a CEO with no \"previous year\", like Mark Hurd\n",
    "no_prev_str = compensation.column('% Change').item(0)\n",
    "no_prev_str"
   ]
  },
  {
   "cell_type": "code",
   "execution_count": null,
   "id": "fd03a2c3",
   "metadata": {
    "tags": []
   },
   "outputs": [],
   "source": [
    "# Definition to turn percent string to number\n",
    "def percent_string_to_num(percent_string):\n",
    "    \"\"\"Converts a percentage string to a float number.\n",
    "       For example, if percent_string = '-15%' then the function\n",
    "       will return -15.0\n",
    "    \"\"\"\n",
    "    return ...\n",
    "\n",
    "# Compensation table for CEOs where there IS a previous year\n",
    "having_previous_year = ...\n",
    "\n",
    "# Get the percent changes as numbers instead of strings\n",
    "# We're still working off the table `having_previous_year`\n",
    "percent_changes = \n",
    "\n",
    "# Calculate the previous year's pay as an array, combining values from two arrays:\n",
    "# The 'Total Pay ($)' column and the `percent_changes` array\n",
    "# We're still working off the table having_previous_year:\n",
    "previous_pay = ...\n",
    "\n",
    "# Add a previous pay column to the `having_previous_year` table\n",
    "# Use the suggested column label: '2014 Total Pay ($)'\n",
    "with_previous_compensation = ...\n",
    "\n",
    "with_previous_compensation"
   ]
  },
  {
   "cell_type": "markdown",
   "id": "adf05a5b",
   "metadata": {},
   "source": [
    "**Question 3.6** Determine the average pay in 2014 of the CEOs that appear in the `with_previous_compensation` table. Assign this value to the variable `average_pay_2014`.\n"
   ]
  },
  {
   "cell_type": "code",
   "execution_count": null,
   "id": "5948ecf1",
   "metadata": {
    "tags": []
   },
   "outputs": [],
   "source": [
    "average_pay_2014 = ...\n",
    "round(average_pay_2014)"
   ]
  },
  {
   "cell_type": "markdown",
   "id": "8032d1fb",
   "metadata": {},
   "source": [
    "## 4. Histograms\n",
    "Earlier, we computed the average pay among the CEOs in our `compensation` table.  The average doesn't tell us everything about the amounts CEOs are paid, though.  Maybe just a few CEOs make the bulk of the money, even among these 101.\n",
    "\n",
    "We can use a *histogram* method to display the *distribution* of a set of numbers.  The table method `hist` takes a single argument, the name of a column of numbers.  It produces a histogram of the numbers in that column.\n",
    "\n",
    "**Question 4.1.** Make a histogram of the total pay of the CEOs in `compensation`. Check with a peer or instructor to make sure you have the right plot. *If you get a warning, but the plot seems reasonable, ignore the warning.*\n",
    "\n",
    "*Hint:* If you aren't sure how to create a histogram, refer to the textbook or the [Python Reference sheet](http://data8.org/fa21/python-reference.html)."
   ]
  },
  {
   "cell_type": "code",
   "execution_count": null,
   "id": "0726b614",
   "metadata": {
    "tags": []
   },
   "outputs": [],
   "source": [
    "..."
   ]
  },
  {
   "cell_type": "markdown",
   "id": "734e5ad7",
   "metadata": {},
   "source": [
    "**Question 4.2.** How many CEOs made more than $30 million in total pay? Find the value using code, then check that the value you found is consistent with what you see in the histogram.\n",
    "\n",
    "*Hint:* Use the table method `where` and the property `num_rows`.\n"
   ]
  },
  {
   "cell_type": "code",
   "execution_count": null,
   "id": "3deb8426",
   "metadata": {
    "tags": []
   },
   "outputs": [],
   "source": [
    "num_ceos_more_than_30_million_2 = ...\n",
    "num_ceos_more_than_30_million_2"
   ]
  },
  {
   "cell_type": "markdown",
   "id": "f732ef43",
   "metadata": {
    "tags": []
   },
   "source": [
    "## 5. Submission\n",
    "\n",
    "<img src='data:image/jpeg;base64,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'>\n",
    "Great job! You're finished with Lab 4!\n",
    "\n",
    "## Submission\n",
    "\n",
    "Time to submit your work:\n",
    "\n",
    "  1. From the `File` menu select **Save and Export Notebook As HTML** to download an HTML version of your work.\n",
    "  2. From the `File` menu select **Download** to download the code for your notebook.\n",
    "  3. Submit your work to the lab assignment on Moodle:\n",
    "      - Open the lab assignment activity.\n",
    "      - Upload the code file (file extension .ipynb) \n",
    "      - Upload the HTML file (file extension .html)\n",
    "      - Submit!\n"
   ]
  },
  {
   "cell_type": "code",
   "execution_count": null,
   "id": "0b361ddd",
   "metadata": {},
   "outputs": [],
   "source": []
  }
 ],
 "metadata": {
  "kernelspec": {
   "display_name": "Python 3 (ipykernel)",
   "language": "python",
   "name": "python3"
  },
  "language_info": {
   "codemirror_mode": {
    "name": "ipython",
    "version": 3
   },
   "file_extension": ".py",
   "mimetype": "text/x-python",
   "name": "python",
   "nbconvert_exporter": "python",
   "pygments_lexer": "ipython3",
   "version": "3.11.5"
  },
  "otter": {
   "OK_FORMAT": true,
   "tests": {
    "q11": {
     "name": "q11",
     "points": null,
     "suites": [
      {
       "cases": [
        {
         "code": ">>> # Make sure your function has the proper syntax!\n>>> to_percentage(.35) == 35.0\nTrue",
         "hidden": false,
         "locked": false
        },
        {
         "code": ">>> # Make sure you are passing in the proper argument!\n>>> twenty_percent == 20.0\nTrue",
         "hidden": false,
         "locked": false
        }
       ],
       "scored": true,
       "setup": "",
       "teardown": "",
       "type": "doctest"
      }
     ]
    },
    "q13": {
     "name": "q13",
     "points": null,
     "suites": [
      {
       "cases": [
        {
         "code": ">>> num_non_vowels(\"Go bears!\") == 6\nTrue",
         "hidden": false,
         "locked": false
        }
       ],
       "scored": true,
       "setup": "",
       "teardown": "",
       "type": "doctest"
      }
     ]
    },
    "q14": {
     "name": "q14",
     "points": null,
     "suites": [
      {
       "cases": [
        {
         "code": ">>> print_kth_top_movie_year(4)\nYear number 4 for total gross movie sales was: 2009\n",
         "hidden": false,
         "locked": false
        }
       ],
       "scored": true,
       "setup": "",
       "teardown": "",
       "type": "doctest"
      }
     ]
    },
    "q21": {
     "name": "q21",
     "points": null,
     "suites": [
      {
       "cases": [
        {
         "code": ">>> # Make sure you are examining the values in the column, not the column itself\n>>> import numpy\n>>> total_pay_type != numpy.ndarray\nTrue",
         "hidden": false,
         "locked": false
        },
        {
         "code": ">>> 'str' in str(total_pay_type)\nTrue",
         "hidden": false,
         "locked": false
        },
        {
         "code": ">>> isinstance(total_pay_type, type)\nTrue",
         "hidden": false,
         "locked": false
        },
        {
         "code": ">>> # Make sure to call the type function on a value in the column\n>>> total_pay_type != int\nTrue",
         "hidden": false,
         "locked": false
        }
       ],
       "scored": true,
       "setup": "",
       "teardown": "",
       "type": "doctest"
      }
     ]
    },
    "q22": {
     "name": "q22",
     "points": null,
     "suites": [
      {
       "cases": [
        {
         "code": ">>> str(mark_hurd_pay_string)\n'$53.25 '",
         "hidden": false,
         "locked": false
        }
       ],
       "scored": true,
       "setup": "",
       "teardown": "",
       "type": "doctest"
      }
     ]
    },
    "q23": {
     "name": "q23",
     "points": null,
     "suites": [
      {
       "cases": [
        {
         "code": ">>> # Your answer should be a number\n>>> type(mark_hurd_pay) != str\nTrue",
         "hidden": false,
         "locked": false
        },
        {
         "code": ">>> # Don't forget to give your answer in dollars, not millions of \n>>> # Dollars! \n>>> mark_hurd_pay != 5325\nTrue",
         "hidden": false,
         "locked": false
        },
        {
         "code": ">>> # Don't forget to give your answer in dollars, not millions of \n>>> # Dollars! \n>>> mark_hurd_pay == 53250000\nTrue",
         "hidden": false,
         "locked": false
        }
       ],
       "scored": true,
       "setup": "",
       "teardown": "",
       "type": "doctest"
      }
     ]
    },
    "q24": {
     "name": "q24",
     "points": null,
     "suites": [
      {
       "cases": [
        {
         "code": ">>> convert_pay_string_to_number(\"$100 \") == 100000000.0\nTrue",
         "hidden": false,
         "locked": false
        },
        {
         "code": ">>> convert_pay_string_to_number(\"$23 \") == 23000000.0\nTrue",
         "hidden": false,
         "locked": false
        }
       ],
       "scored": true,
       "setup": "",
       "teardown": "",
       "type": "doctest"
      }
     ]
    },
    "q31": {
     "name": "q31",
     "points": null,
     "suites": [
      {
       "cases": [
        {
         "code": ">>> len(some_functions)\n3",
         "hidden": false,
         "locked": false
        },
        {
         "code": ">>> # The first thing in your array may not be a function\n>>> callable(some_functions.item(0))\nTrue",
         "hidden": false,
         "locked": false
        },
        {
         "code": ">>> # The second thing in your array may not be a function\n>>> callable(some_functions.item(1))\nTrue",
         "hidden": false,
         "locked": false
        },
        {
         "code": ">>> # The third thing in your array may not be a function\n>>> callable(some_functions.item(2))\nTrue",
         "hidden": false,
         "locked": false
        }
       ],
       "scored": true,
       "setup": "",
       "teardown": "",
       "type": "doctest"
      }
     ]
    },
    "q32": {
     "name": "q32",
     "points": null,
     "suites": [
      {
       "cases": [
        {
         "code": ">>> # You either didn't add the 'Total Pay ($)' column, \n>>> # or you mislabeled it\n>>> 'Total Pay ($)' in compensation.column_labels\nTrue",
         "hidden": false,
         "locked": false
        },
        {
         "code": ">>> # You have the column in your table, but the values may be wrong\n>>> t = compensation.sort('Total Pay ($)', descending = True)\n>>> np.isclose(t.column('Total Pay ($)').item(0), 53250000.0)\nTrue",
         "hidden": false,
         "locked": false
        }
       ],
       "scored": true,
       "setup": "",
       "teardown": "",
       "type": "doctest"
      }
     ]
    },
    "q33": {
     "name": "q33",
     "points": null,
     "suites": [
      {
       "cases": [
        {
         "code": ">>> import math\n>>> math.isclose(average_total_pay, 11558613.861386139, rel_tol = 0.1)\nTrue",
         "hidden": false,
         "locked": false
        }
       ],
       "scored": true,
       "setup": "",
       "teardown": "",
       "type": "doctest"
      }
     ]
    },
    "q34": {
     "name": "q34",
     "points": null,
     "suites": [
      {
       "cases": [
        {
         "code": ">>> len(cash_proportion) == 101\nTrue",
         "hidden": false,
         "locked": false
        },
        {
         "code": ">>> import math\n>>> math.isclose(cash_proportion.item(0), 0.01784038, rel_tol = .001)\nTrue",
         "hidden": false,
         "locked": false
        }
       ],
       "scored": true,
       "setup": "",
       "teardown": "",
       "type": "doctest"
      }
     ]
    },
    "q35": {
     "name": "q35",
     "points": null,
     "suites": [
      {
       "cases": [
        {
         "code": ">>> # Make sure to remove the \"(No previous year)\" CEOs \n>>> \"(No previous year)\" not in with_previous_compensation.column(\"% Change\")\nTrue",
         "hidden": false,
         "locked": false
        },
        {
         "code": ">>> import math\n>>> # You have the column, but some of your values may be wrong\n>>> t = with_previous_compensation.sort(\"2014 Total Pay ($)\", descending = True)\n>>> value = t.column(\"2014 Total Pay ($)\").item(0)\n>>> math.isclose(value, 67700000.0, rel_tol = 0.01)\nTrue",
         "hidden": false,
         "locked": false
        },
        {
         "code": ">>> # You have the column, but your number of rows is off\n>>> with_previous_compensation.num_rows == 80\nTrue",
         "hidden": false,
         "locked": false
        }
       ],
       "scored": true,
       "setup": "",
       "teardown": "",
       "type": "doctest"
      }
     ]
    },
    "q36": {
     "name": "q36",
     "points": null,
     "suites": [
      {
       "cases": [
        {
         "code": ">>> import math\n>>> math.isclose(average_pay_2014, 11794790.817048479, rel_tol = 0.01)\nTrue",
         "hidden": false,
         "locked": false
        }
       ],
       "scored": true,
       "setup": "",
       "teardown": "",
       "type": "doctest"
      }
     ]
    },
    "q42": {
     "name": "q42",
     "points": null,
     "suites": [
      {
       "cases": [
        {
         "code": ">>> num_ceos_more_than_30_million_2 == 5\nTrue",
         "hidden": false,
         "locked": false
        }
       ],
       "scored": true,
       "setup": "",
       "teardown": "",
       "type": "doctest"
      }
     ]
    }
   }
  }
 },
 "nbformat": 4,
 "nbformat_minor": 5
}
