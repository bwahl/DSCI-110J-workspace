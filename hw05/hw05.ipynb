{
 "cells": [
  {
   "cell_type": "markdown",
   "id": "abcbe6d2",
   "metadata": {},
   "source": [
    "# Homework 5: Applying Functions and Iteration\n",
    "\n",
    "Please complete this notebook by filling in the cells provided. "
   ]
  },
  {
   "cell_type": "markdown",
   "id": "d7833b90",
   "metadata": {},
   "source": [
    "**Helpful Resource:**\n",
    "- [Python Reference](http://data8.org/sp22/python-reference.html): Cheat sheet of helpful array & table methods used in Data 8!\n",
    "\n",
    "**Recommended Readings**: \n",
    "\n",
    "* [Applying Functions](https://www.inferentialthinking.com/chapters/08/1/Applying_a_Function_to_a_Column.html)\n",
    "* [Conditionals](https://www.inferentialthinking.com/chapters/09/1/Conditional_Statements.html)\n",
    "* [Iteration](https://www.inferentialthinking.com/chapters/09/2/Iteration.html)"
   ]
  },
  {
   "cell_type": "markdown",
   "id": "52cf6763",
   "metadata": {},
   "source": [
    "**Instructions**\n",
    "\n",
    "Please complete this notebook by filling in the cells provided. \n",
    "\n",
    "  - Before you begin, execute the following cell to setup the notebook by importing some helpful libraries. Each time you start your server, you will need to execute this cell again.\n",
    "\n",
    "  - For all problems that you must write explanations and sentences for, you **must** provide your answer in the designated space. \n",
    "\n",
    "  - Directly sharing answers is not okay, but discussing problems with your instructor or with other students is encouraged. \n",
    "\n",
    "  - You should start early so that you have time to get help if you're stuck."
   ]
  },
  {
   "cell_type": "markdown",
   "id": "75587656",
   "metadata": {},
   "source": [
    "## 1. The 2021 University of California Football Season"
   ]
  },
  {
   "cell_type": "code",
   "execution_count": null,
   "id": "e4697fb1",
   "metadata": {},
   "outputs": [],
   "source": [
    "# Run this cell to set up the notebook, but please don't change it.\n",
    "\n",
    "# These lines import the numpy and datascience modules.\n",
    "import numpy as np\n",
    "from datascience import *\n",
    "import warnings\n",
    "warnings.simplefilter('ignore', FutureWarning)"
   ]
  },
  {
   "cell_type": "markdown",
   "id": "e69a02c8",
   "metadata": {},
   "source": [
    "James is trying to analyze how well the Cal football team performed in the 2021 season. An American football game is divided into four periods, called quarters. The number of points Cal scored in each quarter and the number of points their opponent scored in each quarter are stored in a table called `cal_fb.csv`."
   ]
  },
  {
   "cell_type": "code",
   "execution_count": null,
   "id": "ba6569e4",
   "metadata": {},
   "outputs": [],
   "source": [
    "# Just run this cell to read in the cal_fb csv file\n",
    "\n",
    "games = Table().read_table(\"cal_fb.csv\")\n",
    "games.show()"
   ]
  },
  {
   "cell_type": "markdown",
   "id": "4f076ef0",
   "metadata": {},
   "source": [
    "#### Let's start by finding the total points each team scored in a game.\n",
    "\n",
    "**Question 1.** Write a function called `sum_scores`.  It should take four arguments, where each argument represents integers corresponding to the team's score for each quarter. It should return the team's total score for that game. **(8 Points)**\n",
    "\n",
    "*Note:* Don't overthink this question!\n",
    "\n"
   ]
  },
  {
   "cell_type": "code",
   "execution_count": null,
   "id": "cbb116ac",
   "metadata": {
    "tags": []
   },
   "outputs": [],
   "source": [
    "def sum_scores(...):\n",
    "    '''Returns the total score, the sum of the scores for each quarter'''\n",
    "    ...\n",
    "\n",
    "sum_scores(14, 7, 3, 0)   # Should return 24 "
   ]
  },
  {
   "cell_type": "markdown",
   "id": "0e8ed7f9",
   "metadata": {},
   "source": [
    "**Question 2.** Create a new table `final_scores` with three columns, in this *specific* order: `Opponent`, `Cal Score`, `Opponent Score`. You will have to create the `Cal Score` and `Opponent Score` columns. Use the function `sum_scores` you just defined in the previous question for this problem. **(12 Points)**\n",
    "\n",
    "*Hint:* If you want to apply a function that takes in multiple arguments, you can pass multiple column names as arguments in `tbl.apply()`. The column values will be passed into the corresponding arguments of the function. Take a look at the Python Reference Sheet and [Lecture 13's demo](https://youtu.be/-UhcNhNFln0?list=PL3juAj0fqNsLLBRFnTAby0VjByHoFb0qQ) for syntax.\n",
    "\n",
    "*Note:* If you’re running into issues creating `final_scores`, check that `cal_scores` and `opponent_scores` have been created correctly. Break the problem down and think it through, step by step."
   ]
  },
  {
   "cell_type": "code",
   "execution_count": null,
   "id": "c7408909",
   "metadata": {
    "tags": []
   },
   "outputs": [],
   "source": [
    "cal_scores_arr = ...\n",
    "opponent_scores_arr = ...\n",
    "final_scores = ...\n",
    "\n",
    "final_scores"
   ]
  },
  {
   "cell_type": "markdown",
   "id": "da72a4a0",
   "metadata": {},
   "source": [
    "We can extract individual row objects from a table. Use `tbl.row(ind)` to get the row at index `ind`. If `my_row` is a row of a table, then the syntax: `my_row.item('column_name')` will return the element that corresponds to `column_name` in a particular row. Here's an example:"
   ]
  },
  {
   "cell_type": "code",
   "execution_count": null,
   "id": "d579ab14",
   "metadata": {},
   "outputs": [],
   "source": [
    "# Just run this cell; compare with tenth row of games table, printed earlier\n",
    "games.row(9)"
   ]
  },
  {
   "cell_type": "code",
   "execution_count": null,
   "id": "947b7a14",
   "metadata": {},
   "outputs": [],
   "source": [
    "# Just run this cell; compare with tenth row of games table\n",
    "games.row(9).item(\"Cal 3Q\")"
   ]
  },
  {
   "cell_type": "markdown",
   "id": "dc7f63e1",
   "metadata": {},
   "source": [
    "**Question 3.** We want to see for a particular game whether or not Cal lost. Write a function called `did_cal_lose`.  It should take one argument, a **row object** from the `final_scores` table. It should return either `True` if Cal's score was less than the Opponent's score, and `False` otherwise. **(8 Points)**\n",
    "\n",
    "*Note 1*: \"Row object\" means a row from the table that contains all the data for that specific row. It is **not** the index of a row. Do not try and call `final_scores.row(row)` inside of the function.\n",
    "\n",
    "*Note 2*: If you're still confused by row objects, try printing out `final_scores.row(1)` in a new cell to visually see what it looks like! This piece of code is pulling out the row object located at index 1 of the `final_scores` table and returning it. When you display it in a cell, you'll see that it is not located within a table, but is instead a standalone row object!\n"
   ]
  },
  {
   "cell_type": "code",
   "execution_count": null,
   "id": "372578ef",
   "metadata": {
    "tags": []
   },
   "outputs": [],
   "source": [
    "def did_cal_lose(my_row):\n",
    "    ...\n",
    "\n",
    "did_cal_lose(final_scores.row(1)) #DO NOT CHANGE THIS LINE"
   ]
  },
  {
   "cell_type": "markdown",
   "id": "2f7c65a2",
   "metadata": {},
   "source": [
    "**Question 4.** James wants to see how Cal did against every opponent during the 2021 season. Using the `final_scores` table:\n",
    "\n",
    "1. Assign `results` to an array of `True` and `False` values that correspond to whether or not Cal lost.\n",
    "2. Add the `results` array to the `final_scores` table in a column named `Results`, and assign this to `final_scores_with_results`.\n",
    "3. Then, respectively assign the number of wins and losses Cal had to `cal_wins` and `cal_losses`.\n",
    "\n",
    "**(20 Points)**\n",
    "\n",
    "*Hint 1*: `True` and `False` are **not** strings. What data type are they?\n",
    "\n",
    "*Hint 2*: `tbl.num_rows` might be helpful too.\n",
    "\n",
    "*Hint 3*: When you only pass a function name and no column labels through `tbl.apply()`, the function gets applied to every row in `tbl`.\n",
    "\n"
   ]
  },
  {
   "cell_type": "code",
   "execution_count": null,
   "id": "52ceceef",
   "metadata": {
    "tags": []
   },
   "outputs": [],
   "source": [
    "results = ...\n",
    "final_scores_with_results = ...\n",
    "cal_losses = ...\n",
    "cal_wins = ...\n",
    "\n",
    "# Don't delete or edit the following line:\n",
    "print(f\"In the 2021 Season, Cal Football won {cal_wins} games and lost {cal_losses} games. Go Bears! 🐻\")"
   ]
  },
  {
   "cell_type": "markdown",
   "id": "734a290a",
   "metadata": {},
   "source": [
    "**Question 5:** Sometimes in football the two teams are equally matched and the game is quite close. Other times, it is a blowout, where the winning team wins by a large margin of victory. Let's define a **big win** to be a game in which the winning team won by more than 10 points.\n",
    "\n",
    "Use your `final_scores` table to assign `big_wins` to an array of team names that Cal had big wins against during the 2021 football season. You may find the `is_big_win` function defined below helpful to you! **(12 Points)**\n"
   ]
  },
  {
   "cell_type": "code",
   "execution_count": null,
   "id": "d7f1337b",
   "metadata": {
    "tags": []
   },
   "outputs": [],
   "source": [
    "def is_big_win(my_row):\n",
    "    '''Return a boolean to describe whether or not a game (my_row) is a big win'''\n",
    "    score_diff = ...\n",
    "    \n",
    "    if score_diff > 10:\n",
    "        return True\n",
    "    else:\n",
    "        return False\n",
    "\n",
    "big_wins = make_array()  # Do not change this line; creates an empty array\n",
    "\n",
    "for my_row in final_scores.rows: # This will let us iterate through rows of the final_scores table\n",
    "    opponent = ...  # name of the opposing team, a string value\n",
    "    if ... :    # Use the is_big_win function defined above!\n",
    "        big_wins = np.append(big_wins, opponent) # Do not change this line; updates the big_wins array\n",
    "\n",
    "big_wins"
   ]
  },
  {
   "cell_type": "markdown",
   "id": "5578d080",
   "metadata": {},
   "source": [
    "## 2. Unrolling Loops"
   ]
  },
  {
   "cell_type": "markdown",
   "id": "e52b2d40",
   "metadata": {},
   "source": [
    "\"Unrolling\" a `for` loop means to write out all the code that it executes, eliminating the for loop syntax. The result is code that does the same thing as the loop, but without the syntactical structure of the loop. \n",
    "\n",
    "For example, consider the following loop:\n",
    "\n",
    "    for num in np.arange(3):\n",
    "        print(\"The number is\", num)\n",
    "\n",
    "The **unrolled version** would look like this:\n",
    "\n",
    "    print(\"The number is\", 0)\n",
    "    print(\"The number is\", 1)\n",
    "    print(\"The number is\", 2)\n",
    "\n",
    "\n",
    "Unrolling a `for` loop is a great way to ensure that you understand what the loop is doing during each iteration. \n",
    "\n",
    "In the question below, write code that does the same thing as the given code, but with any `for` loops unrolled.  It's a good idea to run both your answer and the original code to verify that they do exactly the same thing."
   ]
  },
  {
   "cell_type": "markdown",
   "id": "1197753d",
   "metadata": {},
   "source": [
    "**Question 1.** Unroll the code below. **(4 points)**"
   ]
  },
  {
   "cell_type": "code",
   "execution_count": null,
   "id": "9e99d6fb",
   "metadata": {},
   "outputs": [],
   "source": [
    "for joke_iteration in np.arange(3):\n",
    "    print(\"Knock, knock.\")\n",
    "    print(\"Who's there?\")\n",
    "    print(\"Banana.\")\n",
    "    print(\"Banana who?\")\n",
    "print(\"Knock, knock.\")\n",
    "print(\"Who's there?\")\n",
    "print(\"Orange.\")\n",
    "print(\"Orange who?\")\n",
    "print(\"Orange you glad I didn't say banana?\")"
   ]
  },
  {
   "cell_type": "code",
   "execution_count": null,
   "id": "c603c17d",
   "metadata": {
    "for_assignment_type": "solution",
    "tags": []
   },
   "outputs": [],
   "source": [
    "# YOUR ANSWER GOES HERE\n",
    "..."
   ]
  },
  {
   "cell_type": "markdown",
   "id": "ad70c90d",
   "metadata": {},
   "source": [
    "**Question 2.** Unroll the code below. **(4 points)**"
   ]
  },
  {
   "cell_type": "code",
   "execution_count": null,
   "id": "9b31a451",
   "metadata": {},
   "outputs": [],
   "source": [
    "for num in np.arange(10, 0, -1):\n",
    "    print(num)\n",
    "print(\"Blastoff!\")"
   ]
  },
  {
   "cell_type": "code",
   "execution_count": null,
   "id": "f2f948c5",
   "metadata": {},
   "outputs": [],
   "source": [
    "# YOUR ANSWER GOES HERE\n",
    "..."
   ]
  },
  {
   "cell_type": "markdown",
   "id": "337dd885",
   "metadata": {},
   "source": [
    "## 3. Finish Line\n",
    "\n",
    "Congratulations, you're done with Homework 5!  \n",
    "\n",
    "1. Make sure you have run all the cells in your notebook in order, so that all images/graphs appear in the output. \n",
    "2. Save and Checkpoint your file (Ctrl-S).\n",
    "3. Download a copy as HTML.\n",
    "4. Upload your HTML file to the assignment activity on Moodle."
   ]
  }
 ],
 "metadata": {
  "kernelspec": {
   "display_name": "Python 3 (ipykernel)",
   "language": "python",
   "name": "python3"
  },
  "language_info": {
   "codemirror_mode": {
    "name": "ipython",
    "version": 3
   },
   "file_extension": ".py",
   "mimetype": "text/x-python",
   "name": "python",
   "nbconvert_exporter": "python",
   "pygments_lexer": "ipython3",
   "version": "3.11.5"
  },
  "otter": {
   "OK_FORMAT": true,
   "tests": {
    "q1_1": {
     "name": "q1_1",
     "points": [
      10,
      10
     ],
     "suites": [
      {
       "cases": [
        {
         "code": ">>> sum_scores(2, 3, 6, 1)\n12",
         "hidden": false,
         "locked": false
        },
        {
         "code": ">>> sum_scores(-2,3,5,-10)\n-4",
         "hidden": false,
         "locked": false
        }
       ],
       "scored": true,
       "setup": "",
       "teardown": "",
       "type": "doctest"
      }
     ]
    },
    "q1_2": {
     "name": "q1_2",
     "points": [
      0,
      0
     ],
     "suites": [
      {
       "cases": [
        {
         "code": ">>> final_scores.num_columns\n3",
         "hidden": false,
         "locked": false
        },
        {
         "code": ">>> set(['Opponent', 'Cal Score', 'Opponent Score']) == set(final_scores.labels)\nTrue",
         "hidden": false,
         "locked": false
        }
       ],
       "scored": true,
       "setup": "",
       "teardown": "",
       "type": "doctest"
      }
     ]
    },
    "q1_3": {
     "name": "q1_3",
     "points": [
      0,
      10
     ],
     "suites": [
      {
       "cases": [
        {
         "code": ">>> 'did_cal_lose' in globals()\nTrue",
         "hidden": false,
         "locked": false
        },
        {
         "code": ">>> did_cal_lose(final_scores.row(1))\nTrue",
         "hidden": false,
         "locked": false
        }
       ],
       "scored": true,
       "setup": "",
       "teardown": "",
       "type": "doctest"
      }
     ]
    },
    "q1_4": {
     "name": "q1_4",
     "points": [
      0,
      0
     ],
     "suites": [
      {
       "cases": [
        {
         "code": ">>> 0 <= cal_wins <= 10\nTrue",
         "hidden": false,
         "locked": false
        },
        {
         "code": ">>> 0 <= cal_losses <= 10\nTrue",
         "hidden": false,
         "locked": false
        }
       ],
       "scored": true,
       "setup": "",
       "teardown": "",
       "type": "doctest"
      }
     ]
    },
    "q1_5": {
     "name": "q1_5",
     "points": [
      5,
      5
     ],
     "suites": [
      {
       "cases": [
        {
         "code": ">>> is_big_win(final_scores.row(2)) is True\nTrue",
         "hidden": false,
         "locked": false
        },
        {
         "code": ">>> # Make sure big_wins is an array.\n>>> import numpy as np\n>>> type(big_wins) == np.ndarray\nTrue",
         "hidden": false,
         "locked": false
        }
       ],
       "scored": true,
       "setup": "",
       "teardown": "",
       "type": "doctest"
      }
     ]
    }
   }
  }
 },
 "nbformat": 4,
 "nbformat_minor": 5
}
