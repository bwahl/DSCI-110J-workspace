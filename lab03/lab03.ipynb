{
 "cells": [
  {
   "cell_type": "markdown",
   "id": "c1219ceb",
   "metadata": {},
   "source": [
    "# Lab 3: Data Types and Arrays\n",
    "Welcome to Lab 3!\n",
    "\n",
    "So far, we've used Python to manipulate numbers and work with tables. But we need to discuss data types to deepen our understanding of how to work with data in Python.\n",
    "\n",
    "In this lab, you'll first see how to represent and manipulate another fundamental type of data: text.  A piece of text is called a *string* in Python. You'll also see how to work with *arrays* of data. An array could contain all the integers between 0 and 100 or all the words in the chapter of a book. Lastly, you'll create tables and practice analyzing them with your knowledge of table operations. The [Python Reference](http://data8.org/sp22/python-reference.html) has information that will be useful for this lab."
   ]
  },
  {
   "cell_type": "markdown",
   "id": "f262dee7",
   "metadata": {},
   "source": [
    "Set up the imports by running the cell below."
   ]
  },
  {
   "cell_type": "code",
   "execution_count": null,
   "id": "d37e9b44",
   "metadata": {},
   "outputs": [],
   "source": [
    "# Just run this cell\n",
    "import numpy as np\n",
    "import math\n",
    "from datascience import *"
   ]
  },
  {
   "cell_type": "markdown",
   "id": "49f8ac2c",
   "metadata": {},
   "source": [
    "# 1. Text\n",
    "Programming doesn't just concern numbers. Text is one of the most common data types used in programs. \n",
    "\n",
    "Text is represented by a **string value** in Python. The word \"string\" is a programming term for a sequence of characters. A string might contain a single character, a word, a sentence, or a whole book.\n",
    "\n",
    "To distinguish text data from other kinds of code, we demarcate strings by putting quotation marks around them. Single quotes (`'`) and double quotes (`\"`) are both valid, but the types of opening and closing quotation marks must match. The contents can be any sequence of characters, including numbers and symbols. \n",
    "\n",
    "We've seen strings before in `print` statements.  Below, two different strings are passed as arguments to the `print` function."
   ]
  },
  {
   "cell_type": "code",
   "execution_count": null,
   "id": "e3019233",
   "metadata": {},
   "outputs": [],
   "source": [
    "print(\"I \\N{SPARKLING HEART}\", \"Data Science\")"
   ]
  },
  {
   "cell_type": "markdown",
   "id": "93769b61",
   "metadata": {},
   "source": [
    "Just as names can be given to numbers, names can be given to string values.  The names and strings aren't required to be similar in any way. Any name can be assigned to any string."
   ]
  },
  {
   "cell_type": "code",
   "execution_count": null,
   "id": "443f9de2",
   "metadata": {},
   "outputs": [],
   "source": [
    "one = 'two'\n",
    "plus = '*'\n",
    "print(one, plus, one)"
   ]
  },
  {
   "cell_type": "markdown",
   "id": "ceb38e13",
   "metadata": {},
   "source": [
    "**Question 1.1.** Yuri Gagarin was the first person to travel through outer space.  When he emerged from his capsule upon landing on Earth, he [reportedly](https://en.wikiquote.org/wiki/Yuri_Gagarin) had the following conversation with a woman and girl who saw the landing:\n",
    "\n",
    "    The woman asked: \"Can it be that you have come from outer space?\"\n",
    "    Gagarin replied: \"As a matter of fact, I have!\"\n",
    "\n",
    "The cell below contains unfinished code.  Fill in the `...`s so that it prints out this conversation *exactly* as it appears above.\n"
   ]
  },
  {
   "cell_type": "code",
   "execution_count": null,
   "id": "747caaed",
   "metadata": {
    "tags": []
   },
   "outputs": [],
   "source": [
    "woman_asking = ...\n",
    "woman_quote = '\"Can it be that you have come from outer space?\"'\n",
    "gagarin_reply = 'Gagarin replied:'\n",
    "gagarin_quote = ...\n",
    "\n",
    "print(woman_asking, woman_quote)\n",
    "print(gagarin_reply, gagarin_quote)"
   ]
  },
  {
   "cell_type": "markdown",
   "id": "b33ebc35",
   "metadata": {},
   "source": [
    "## 1.1. String Methods"
   ]
  },
  {
   "cell_type": "markdown",
   "id": "21c8703f",
   "metadata": {},
   "source": [
    "Strings can be manipulated using **methods**. Here is the textbook section on string methods: [4.2.1 String Methods](https://inferentialthinking.com/chapters/04/2/1/String_Methods.html?highlight=methods). \n",
    "\n",
    "Here's a sketch of how to call a method on a string:\n",
    "\n",
    "    <expression that evaluates to a string>.<method name>(<argument>, <argument>, ...)\n",
    "    \n",
    "One example of a string method is `replace`, which replaces all instances of some part of the original string (i.e., a *substring*) with a new string. \n",
    "\n",
    "    <original string>.replace(<old substring>, <new substring>)\n",
    "    \n",
    "`replace` returns (evaluates to) a new string, leaving the original string unchanged.\n",
    "    \n",
    "Try to predict the output of this example, then run the cell!"
   ]
  },
  {
   "cell_type": "code",
   "execution_count": null,
   "id": "e577692f",
   "metadata": {},
   "outputs": [],
   "source": [
    "# Example: replace one letter\n",
    "bag = 'bag'\n",
    "print(bag.replace('g', 't'), bag)"
   ]
  },
  {
   "cell_type": "markdown",
   "id": "6d7dc664",
   "metadata": {},
   "source": [
    "You can call functions on the results of other functions.  For example, `max(abs(-5), abs(3))` evaluates to 5.  Similarly, you can call methods on the results of other method or function calls.\n",
    "\n",
    "You may have already noticed one difference between functions and methods - a function like `max` does not require a `.` before it's called, but a string method like `replace` does. Here's a handy [Python reference](http://data8.org/fa21/python-reference.html) on the Data 8 website. It's a good idea to refer to this whenever you're unsure of how to call a function or method."
   ]
  },
  {
   "cell_type": "code",
   "execution_count": null,
   "id": "ca86e1ce",
   "metadata": {
    "scrolled": true
   },
   "outputs": [],
   "source": [
    "# Example: chained method call\n",
    "'train'.replace('t', 'ing').replace('in', 'de')"
   ]
  },
  {
   "cell_type": "markdown",
   "id": "9fbce8b5",
   "metadata": {},
   "source": [
    "Here's a diagram showing how Python evaluates a \"chained\" method call:\n",
    "\n",
    "<img src=\"chaining_method_calls.png\"/>"
   ]
  },
  {
   "cell_type": "markdown",
   "id": "e961dac8",
   "metadata": {},
   "source": [
    "**Question 1.1.1.** Use `replace` to transform the string `'hitchhiker'` into `'matchmaker'`. Assign your result to `new_word`.\n"
   ]
  },
  {
   "cell_type": "code",
   "execution_count": null,
   "id": "6041e6f9",
   "metadata": {
    "tags": []
   },
   "outputs": [],
   "source": [
    "new_word = ...\n",
    "new_word"
   ]
  },
  {
   "cell_type": "markdown",
   "id": "3f8abf1d",
   "metadata": {},
   "source": [
    "There are many more string methods in Python, but most programmers don't memorize their names or how to use them.  In the \"real world,\" people usually just search the internet for documentation and examples. A complete [list of string methods](https://docs.python.org/3/library/stdtypes.html#string-methods) appears in the Python language documentation. [Stack Overflow](http://stackoverflow.com) has a huge database of answered questions that often demonstrate how to use these methods to achieve various ends. Material covered in these resources that haven't already been introduced in this class will be out of scope. "
   ]
  },
  {
   "cell_type": "markdown",
   "id": "9d67ddef",
   "metadata": {},
   "source": [
    "## 1.2. Converting to and from Strings"
   ]
  },
  {
   "cell_type": "markdown",
   "id": "262029ad",
   "metadata": {},
   "source": [
    "Strings and numbers are different *types* of values, even when a string contains the digits of a number. For example, evaluating the following cell causes an error because an integer cannot be added to a string."
   ]
  },
  {
   "cell_type": "code",
   "execution_count": null,
   "id": "60b84b31",
   "metadata": {
    "tags": [
     "raises-exception"
    ]
   },
   "outputs": [],
   "source": [
    "8 + \"8\""
   ]
  },
  {
   "cell_type": "markdown",
   "id": "3c8394b8",
   "metadata": {},
   "source": [
    "However, there are built-in functions to convert numbers to strings and strings to numbers. Some of these built-in functions have restrictions on the type of argument they take:\n",
    "\n",
    "|Function |Description|\n",
    "|-|-|\n",
    "|`int`|Converts a string of digits or a float to an integer (\"int\") value|\n",
    "|`float`|Converts a string of digits (perhaps with a decimal point) or an int to a decimal (\"float\") value|\n",
    "|`str`|Converts any value to a string|"
   ]
  },
  {
   "cell_type": "markdown",
   "id": "36f1f875",
   "metadata": {},
   "source": [
    "Try to predict what data type and value `example` evaluates to, then run the cell."
   ]
  },
  {
   "cell_type": "code",
   "execution_count": null,
   "id": "1ee2cb14",
   "metadata": {},
   "outputs": [],
   "source": [
    "example = 8 + int(\"10\") + float(\"8\")\n",
    "\n",
    "print(example)\n",
    "print(\"This example returned a \" + str(type(example)) + \"!\")"
   ]
  },
  {
   "cell_type": "markdown",
   "id": "6de757b3",
   "metadata": {},
   "source": [
    "Suppose you're writing a program that looks for dates in a text, and you want your program to find the amount of time that elapsed between two years it has identified.  It doesn't make sense to subtract two texts, but you can first convert the text containing the years into numbers.\n",
    "\n",
    "**Question 1.2.1.** Finish the code below to compute the number of years that elapsed between `one_year` and `another_year`.  Don't just write the numbers `1618` and `1648` (or `30`); use a conversion function to turn the given text data into numbers.\n"
   ]
  },
  {
   "cell_type": "code",
   "execution_count": null,
   "id": "ea0ac433",
   "metadata": {
    "tags": []
   },
   "outputs": [],
   "source": [
    "# Some text data:\n",
    "one_year = \"1618\"\n",
    "another_year = \"1648\"\n",
    "\n",
    "# Complete the next line.  Note that we can't just write:\n",
    "#   another_year - one_year\n",
    "# If you don't see why, try seeing what happens when you\n",
    "# write that here.\n",
    "difference = ...\n",
    "difference"
   ]
  },
  {
   "cell_type": "markdown",
   "id": "0374453c",
   "metadata": {},
   "source": [
    "## 1.3. Passing strings to functions\n",
    "\n",
    "String values, like numbers, can be arguments to functions and can be returned by functions. \n",
    "\n",
    "The function `len` (derived from the word \"length\") takes a single string (or other sequence type) as its argument and returns the number of characters (including spaces) in the string.\n",
    "\n",
    "Note that it doesn't count *words*. `len(\"one small step for a man\")` evaluates to 24 characters, not 6 words.\n",
    "\n",
    "**Question 1.3.1.**  Use `len` to find the number of characters in the long string in the next cell.  Characters include things like spaces and punctuation. Assign `sentence_length` to that number.\n",
    "\n",
    "(The string is the first sentence of the English translation of the French [Declaration of the Rights of Man](http://avalon.law.yale.edu/18th_century/rightsof.asp).)  \n"
   ]
  },
  {
   "cell_type": "code",
   "execution_count": null,
   "id": "ceb3dca8",
   "metadata": {
    "tags": []
   },
   "outputs": [],
   "source": [
    "a_very_long_sentence = \"The representatives of the French people, organized as a National Assembly, believing that the ignorance, neglect, or contempt of the rights of man are the sole cause of public calamities and of the corruption of governments, have determined to set forth in a solemn declaration the natural, unalienable, and sacred rights of man, in order that this declaration, being constantly before all the members of the Social body, shall remind them continually of their rights and duties; in order that the acts of the legislative power, as well as those of the executive power, may be compared at any moment with the objects and purposes of all political institutions and may thus be more respected, and, lastly, in order that the grievances of the citizens, based hereafter upon simple and incontestable principles, shall tend to the maintenance of the constitution and redound to the happiness of all.\"\n",
    "sentence_length = ...\n",
    "sentence_length"
   ]
  },
  {
   "cell_type": "markdown",
   "id": "1e1fc09e",
   "metadata": {},
   "source": [
    "# 2. Arrays\n",
    "\n",
    "Computers are most useful when you can use a small amount of code to *do the same action* to *many different things*.\n",
    "\n",
    "For example, in the time it takes you to calculate the 18% tip on a restaurant bill, a laptop can calculate 18% tips for every restaurant bill paid by every human on Earth that day.  (That's if you're pretty fast at doing arithmetic in your head!)\n",
    "\n",
    "**Arrays** are how we put many values in one place so that we can operate on them as a group. For example, if `billions_of_numbers` is an array of numbers, the expression\n",
    "\n",
    "    .18 * billions_of_numbers\n",
    "\n",
    "gives a new array of numbers that contains the result of multiplying **each number** in `billions_of_numbers` by .18.  Arrays are not limited to numbers; we can also put all the words in a book into an array of strings.\n",
    "\n",
    "Concretely, an array is a **collection of values of the same type**. "
   ]
  },
  {
   "cell_type": "markdown",
   "id": "20a76c63",
   "metadata": {},
   "source": [
    "## 2.1. Making arrays\n",
    "\n",
    "First, let's learn how to manually input values into an array. This typically isn't how programs work. Normally, we create arrays by loading them from an external source, like a data file.\n",
    "\n",
    "To create an array by hand, call the function `make_array`.  Each argument you pass to `make_array` will be in the array that's returned.  Run this cell to see an example:"
   ]
  },
  {
   "cell_type": "code",
   "execution_count": null,
   "id": "7a35264e",
   "metadata": {
    "scrolled": true
   },
   "outputs": [],
   "source": [
    "# Example: manually making an array of numbers\n",
    "make_array(0.125, 4.75, -1.3)"
   ]
  },
  {
   "cell_type": "markdown",
   "id": "0d5d6dfc",
   "metadata": {},
   "source": [
    "Each value in an array (in the above case, the numbers 0.125, 4.75, and -1.3) is called an *element* of that array.\n",
    "\n",
    "Arrays themselves are also values, just like numbers and strings.  That means you can assign them to names or use them as arguments to functions. For example, `len(some_array)` returns the number of elements in `some_array`."
   ]
  },
  {
   "cell_type": "markdown",
   "id": "4d6adb4f",
   "metadata": {},
   "source": [
    "**Question 2.1.1.** Make an array containing the numbers 0, 1, -1, and $\\pi$, in that order.  Name it `interesting_numbers`.  \n",
    "\n",
    "*Hint:* How did you get the value $\\pi$ in lab 2?  You can refer to it the same way here. The `math` module has been imported at the top of this notebook.\n"
   ]
  },
  {
   "cell_type": "code",
   "execution_count": null,
   "id": "35bb2f27",
   "metadata": {
    "tags": []
   },
   "outputs": [],
   "source": [
    "interesting_numbers = ...\n",
    "interesting_numbers"
   ]
  },
  {
   "cell_type": "markdown",
   "id": "ebb06a0a",
   "metadata": {},
   "source": [
    "**Question 2.1.2.** Make an array containing the five strings `\"Hello\"`, `\",\"`, `\" \"`, `\"world\"`, and `\"!\"`.  (The third one is a single space inside quotes.)  Name it `hello_world_components`.\n",
    "\n",
    "*Note:* If you evaluate `hello_world_components`, you'll notice some extra information in addition to its contents: `dtype='<U5'`.  That's just NumPy's extremely cryptic way of saying that the data types in the array are strings.\n"
   ]
  },
  {
   "cell_type": "code",
   "execution_count": null,
   "id": "e280154b",
   "metadata": {
    "tags": []
   },
   "outputs": [],
   "source": [
    "hello_world_components = ...\n",
    "hello_world_components"
   ]
  },
  {
   "cell_type": "markdown",
   "id": "fac81e23",
   "metadata": {},
   "source": [
    "###  `np.arange`\n",
    "Arrays are provided by a package called [NumPy](http://www.numpy.org/) (pronounced \"NUM-pie\"). The package is called `numpy`, but it's standard to rename it `np` for brevity.  You can do that with:\n",
    "\n",
    "    import numpy as np\n",
    "\n",
    "Very often in data science, we want to work with many numbers that are evenly spaced within some range.  NumPy provides a special function for this called `arange`.  The line of code `np.arange(start, stop, step)` evaluates to an array with all the numbers starting at `start` and counting up by `step`, stopping **before** `stop` is reached.\n",
    "\n",
    "Run the following cells to see some examples!"
   ]
  },
  {
   "cell_type": "code",
   "execution_count": null,
   "id": "e37691af",
   "metadata": {},
   "outputs": [],
   "source": [
    "# This array starts at 1 and counts up by 2\n",
    "# and then stops before 6\n",
    "np.arange(1, 6, 2)"
   ]
  },
  {
   "cell_type": "code",
   "execution_count": null,
   "id": "14b268b7",
   "metadata": {},
   "outputs": [],
   "source": [
    "# This array doesn't contain 9\n",
    "# because np.arange stops *before* the stop value is reached\n",
    "np.arange(4, 9, 1)"
   ]
  },
  {
   "cell_type": "markdown",
   "id": "58286e1d",
   "metadata": {},
   "source": [
    "**Question 2.1.3.** Use `np.arange` to create an array with the multiples of 99 from 0 up to (**and including**) 9999.  (So its elements are 0, 99, 198, 297, etc.)\n"
   ]
  },
  {
   "cell_type": "code",
   "execution_count": null,
   "id": "494e070c",
   "metadata": {
    "tags": []
   },
   "outputs": [],
   "source": [
    "# Make a call to np.arange\n",
    "multiples_of_99 = ...\n",
    "multiples_of_99"
   ]
  },
  {
   "cell_type": "markdown",
   "id": "0a2a8f05",
   "metadata": {},
   "source": [
    "## 2.2. Working with single elements of arrays (\"indexing\")\n",
    "Let's work with a more interesting dataset.  The next cell creates an array called `population_amounts` that includes estimated world populations of every year from **1950** to roughly the present.  (The estimates come from the US Census Bureau website.)\n",
    "\n",
    "Rather than type in the data manually, we've loaded them from a file on your computer called `world_population.csv`.  You'll learn how to do that later in this lab!"
   ]
  },
  {
   "cell_type": "code",
   "execution_count": null,
   "id": "e8ff710c",
   "metadata": {},
   "outputs": [],
   "source": [
    "population_amounts = Table.read_table(\"world_population.csv\").column(\"Population\")\n",
    "print(\"Length of array:\", len(population_amounts))\n",
    "population_amounts"
   ]
  },
  {
   "cell_type": "markdown",
   "id": "70030e65",
   "metadata": {},
   "source": [
    "Here's how we get the first element of `population_amounts`, which is the world population in the first year in the dataset, 1950."
   ]
  },
  {
   "cell_type": "code",
   "execution_count": null,
   "id": "1a7c410d",
   "metadata": {},
   "outputs": [],
   "source": [
    "population_amounts.item(0)"
   ]
  },
  {
   "cell_type": "markdown",
   "id": "c6445835",
   "metadata": {},
   "source": [
    "The value of that expression is the number 2,557,628,654 (around 2.5 billion), because that's the first thing in the array `population_amounts`.\n",
    "\n",
    "Notice that we wrote `.item(0)`, not `.item(1)`, to get the first element.  This is a convention in computer science that's often confusing to new programmers.  **0 is called the *index* of the first item.**  It's the number of elements that appear *before* that item, i.e., the *offset* from the beginning.  So 3 is the index of the 4th item.\n",
    "\n",
    "Here are more examples.  We've given names to the things we get out of `population_amounts`.  Read, think, and run each cell."
   ]
  },
  {
   "cell_type": "code",
   "execution_count": null,
   "id": "869b6a9c",
   "metadata": {},
   "outputs": [],
   "source": [
    "# The 13th element is the population in 1962, index 12,\n",
    "# since\n",
    "population_1962 = population_amounts.item(12)\n",
    "population_1962"
   ]
  },
  {
   "cell_type": "code",
   "execution_count": null,
   "id": "9c7e3b22",
   "metadata": {},
   "outputs": [],
   "source": [
    "# The 66th element is the population in 2015, index 65,\n",
    "# since 1950 + 65 = 2015\n",
    "population_2015 = population_amounts.item(65)\n",
    "population_2015"
   ]
  },
  {
   "cell_type": "code",
   "execution_count": null,
   "id": "8ef44b2e",
   "metadata": {
    "tags": [
     "raises-exception"
    ]
   },
   "outputs": [],
   "source": [
    "# The array has only 66 elements, so this doesn't work.\n",
    "# (There's no element with 66 other elements before it.)\n",
    "population_2016 = population_amounts.item(66)\n",
    "population_2016"
   ]
  },
  {
   "cell_type": "markdown",
   "id": "a4b2fefc",
   "metadata": {},
   "source": [
    "Here's another indexing example. Since `make_array` returns an array, we can call `.item(3)` on its output to get its 4th element, just like we \"chained\" together calls to the method `replace` earlier."
   ]
  },
  {
   "cell_type": "code",
   "execution_count": null,
   "id": "c7867bd9",
   "metadata": {},
   "outputs": [],
   "source": [
    "# Read, think, run...\n",
    "make_array(-1, -3, 4, -2).item(3)"
   ]
  },
  {
   "cell_type": "markdown",
   "id": "bd15fd5a",
   "metadata": {},
   "source": [
    "**Question 2.2.1.** Set `population_1973` to the world population in 1973, by getting the appropriate element from `population_amounts` using `item`.\n"
   ]
  },
  {
   "cell_type": "code",
   "execution_count": null,
   "id": "c839079e",
   "metadata": {
    "tags": []
   },
   "outputs": [],
   "source": [
    "population_1973 = ...\n",
    "population_1973"
   ]
  },
  {
   "cell_type": "markdown",
   "id": "8a9862ab",
   "metadata": {},
   "source": [
    "## 2.3. Doing something to every element of an array\n",
    "Arrays are primarily useful for doing the same operation many times, so we don't often have to use `.item` and work with single elements.\n",
    "\n",
    "##### Rounding\n",
    "Here is one simple question we might ask about world population:\n",
    "\n",
    "> How big was the population in each year, rounded to the nearest million?\n",
    "\n",
    "Rounding is often used with large numbers when we don't need as much precision in our numbers. One example of this is when we present data in tables and visualizations. \n",
    "\n",
    "We could try to answer our question using the `round` function that is built into Python and the `item` method you just saw. \n",
    "\n",
    "**Note:** the `round` function takes in two arguments: the number to be rounded, and the number of decimal places to round to. The second argument can be thought of as how many steps right or left you move from the decimal point. Negative numbers tell us to move left, and positive numbers tell us to move right. So, if we have `round(1234.5, -2)`, it means that we should move two places left, and then make all numbers to the right of this place zeroes. This would output the number 1200.0. On the other hand, if we have `round(6.789, 1)`, we should move one place right, and then make all numbers to the right of this place zeroes. This would output the number 6.8."
   ]
  },
  {
   "cell_type": "code",
   "execution_count": null,
   "id": "08b405b4",
   "metadata": {
    "scrolled": true
   },
   "outputs": [],
   "source": [
    "population_1950_magnitude = round(population_amounts.item(0), -6)\n",
    "print(population_1950_magnitude)\n",
    "population_1951_magnitude = round(population_amounts.item(1), -6)\n",
    "print(population_1951_magnitude)\n",
    "population_1952_magnitude = round(population_amounts.item(2), -6)\n",
    "print(population_1952_magnitude)\n",
    "population_1953_magnitude = round(population_amounts.item(3), -6)\n",
    "print(population_1953_magnitude)"
   ]
  },
  {
   "cell_type": "markdown",
   "id": "be5796b1",
   "metadata": {},
   "source": [
    "But this is tedious and doesn't take full advantage of the fact that we are using a computer.\n",
    "\n",
    "Instead, NumPy provides its own version of `round` that rounds each element of an array.  It takes in two arguments: a single array of numbers, and the number of decimal places to round to.  It returns an array of the same length, where the first element of the result is the first element of the argument rounded, and so on.\n",
    "\n",
    "**Question 2.3.1.** Use `np.round` to compute the world population in every year, rounded to the nearest million (6 zeroes).  Give the result (an array of 66 numbers) the name `population_rounded`.  Your code should be very short.\n"
   ]
  },
  {
   "cell_type": "code",
   "execution_count": null,
   "id": "8f043d0d",
   "metadata": {
    "tags": []
   },
   "outputs": [],
   "source": [
    "population_rounded = ...\n",
    "population_rounded"
   ]
  },
  {
   "cell_type": "markdown",
   "id": "0b195b65",
   "metadata": {},
   "source": [
    "What you just did is called **elementwise** application of `np.round`, since `np.round` operates separately on each element of the array that it's called on. Here's a picture of what's going on:"
   ]
  },
  {
   "cell_type": "markdown",
   "id": "5438ba10",
   "metadata": {},
   "source": [
    "<img src=\"array_round.jpg\">\n",
    "\n",
    "The textbook's [section](https://www.inferentialthinking.com/chapters/05/1/Arrays)  on arrays has a useful list of NumPy functions that are designed to work elementwise, like `np.round`."
   ]
  },
  {
   "cell_type": "markdown",
   "id": "87a6b095",
   "metadata": {},
   "source": [
    "##### Arithmetic\n",
    "Arithmetic also works elementwise on arrays, meaning that if you perform an arithmetic operation (like subtraction, division, etc) on an array, Python will do the operation to every element of the array individually and return an array of all of the results. For example, you can divide all the population numbers by 1 billion to get numbers in billions:"
   ]
  },
  {
   "cell_type": "code",
   "execution_count": null,
   "id": "4a07f644",
   "metadata": {},
   "outputs": [],
   "source": [
    "# Just run this cell\n",
    "population_in_billions = population_amounts / 1e9\n",
    "population_in_billions"
   ]
  },
  {
   "cell_type": "markdown",
   "id": "65389c55",
   "metadata": {},
   "source": [
    "You can do the same with addition, subtraction, multiplication, and exponentiation (`**`).\n"
   ]
  },
  {
   "cell_type": "markdown",
   "id": "e90c2d9a",
   "metadata": {},
   "source": [
    "## 3. Creating Tables\n",
    "\n",
    "An array is useful for describing a single attribute of each element in a collection. For example, let's say our collection is all US States. Then an array could describe the land area of each state. \n",
    "\n",
    "Tables extend this idea by containing multiple columns stored and represented as arrays, each one describing a different attribute for every element of a collection. In this way, tables allow us to not only store data about many entities but to also contain several kinds of data about each entity. \n",
    "\n",
    "For example, in the cell below we have two arrays. The first one, `population_amounts`, was defined above in section 2.2 and contains the world population in each year (estimated by the US Census Bureau). The second array, `years`, contains the years themselves. These elements are in order, so the year and the world population for that year have the same index in their corresponding arrays."
   ]
  },
  {
   "cell_type": "code",
   "execution_count": null,
   "id": "eef3668e",
   "metadata": {
    "scrolled": true
   },
   "outputs": [],
   "source": [
    "# Just run this cell\n",
    "\n",
    "years = np.arange(1950, 2015+1)\n",
    "print(\"Population column:\", population_amounts)\n",
    "print(\"Years column:\", years)"
   ]
  },
  {
   "cell_type": "markdown",
   "id": "73e71d51",
   "metadata": {},
   "source": [
    "Suppose we want to answer this question:\n",
    "\n",
    "> In which year did the world's population first exceed 6 billion?\n",
    "\n",
    "You could technically answer this question just from staring at the arrays, but it's a bit convoluted, since you would have to count the position where the population first crossed 6 billion, then find the corresponding element in the years array. In cases like these, it might be easier to put the data into a *`Table`*, a 2-dimensional type of dataset. \n",
    "\n",
    "The expression below:\n",
    "\n",
    "- creates an empty table using the expression `Table()`,\n",
    "- adds two columns by calling `with_columns` with four arguments,\n",
    "- assigns the result to the name `population`, and finally\n",
    "- evaluates `population` so that we can see the table.\n",
    "\n",
    "The strings `\"Year\"` and `\"Population\"` are column labels that we have chosen. The names `population_amounts` and `years` were assigned above to two arrays of the **same length**. The Table method `with_columns` (you can find the documentation [here](http://data8.org/fa21/python-reference.html)) takes in alternating strings (to represent column labels) and arrays (representing the data in those columns). As usual, the arguments are separated by commas."
   ]
  },
  {
   "cell_type": "code",
   "execution_count": null,
   "id": "d4738706",
   "metadata": {},
   "outputs": [],
   "source": [
    "# Just run this cell\n",
    "\n",
    "population = Table().with_columns(\n",
    "    \"Population\", population_amounts,\n",
    "    \"Year\", years\n",
    ")\n",
    "population"
   ]
  },
  {
   "cell_type": "markdown",
   "id": "56ff44f1",
   "metadata": {},
   "source": [
    "Now the data is combined into a single table! It's much easier to parse this data. If you need to know what the population was in 1959, for example, you can tell from a single glance."
   ]
  },
  {
   "cell_type": "markdown",
   "id": "0a50f67d",
   "metadata": {},
   "source": [
    "**Question 3.1.** In the cell below, we've created 2 arrays. Using the steps from the example above, assign `top_10_movies` to a table that has two columns called \"Name\" and \"Rating\", which hold `top_10_movie_names` and `top_10_movie_ratings`, respectively.\n"
   ]
  },
  {
   "cell_type": "code",
   "execution_count": null,
   "id": "55fc91cd",
   "metadata": {
    "tags": []
   },
   "outputs": [],
   "source": [
    "top_10_movie_names = make_array(\n",
    "        'The Shawshank Redemption (1994)',\n",
    "        'The Godfather (1972)',\n",
    "        'The Godfather: Part II (1974)',\n",
    "        'Pulp Fiction (1994)',\n",
    "        \"Schindler's List (1993)\",\n",
    "        'The Lord of the Rings: The Return of the King (2003)',\n",
    "        '12 Angry Men (1957)',\n",
    "        'The Dark Knight (2008)',\n",
    "        'Il buono, il brutto, il cattivo (1966)',\n",
    "        'The Lord of the Rings: The Fellowship of the Ring (2001)')\n",
    "top_10_movie_ratings = make_array(9.2, 9.2, 9., 8.9, 8.9, 8.9, 8.9, 8.9, 8.9, 8.8)\n",
    "\n",
    "top_10_movies = ...\n",
    "\n",
    "# We've put this next line here so your table will get printed out \n",
    "# when you run this cell.\n",
    "top_10_movies"
   ]
  },
  {
   "cell_type": "markdown",
   "id": "3c48f438",
   "metadata": {},
   "source": [
    "#### Loading a table from a file\n",
    "\n",
    "In most cases, we aren't going to go through the trouble of typing in all the data manually. Instead, we load them in from an external source, like a data file. There are many formats for data files, but CSV (\"comma-separated values\") is the most common.\n",
    "\n",
    "`Table.read_table(...)` takes one argument (a path to a data file in **string** format) and returns a table.  \n",
    "\n",
    "**Question 3.2.** `imdb.csv` contains a table of information about the 250 highest-rated movies on IMDb.  Load it as a table called `imdb`.\n",
    "\n",
    "(You may remember working with this table in Lab 2!)\n"
   ]
  },
  {
   "cell_type": "code",
   "execution_count": null,
   "id": "dc9ab594",
   "metadata": {
    "tags": []
   },
   "outputs": [],
   "source": [
    "imdb = ...\n",
    "imdb"
   ]
  },
  {
   "cell_type": "markdown",
   "id": "28fdac9c",
   "metadata": {},
   "source": [
    "Where did `imdb.csv` come from? Take a look at the directory where you downloaded all the files for this lab. You should see a file called `imdb.csv`.\n",
    "\n",
    "Open up the `imdb.csv` file in that folder and look at the format. What do you notice? The `.csv` filename ending says that this file is in the [CSV (comma-separated value) format](http://edoceo.com/utilitas/csv-file-format)."
   ]
  },
  {
   "cell_type": "markdown",
   "id": "7c638f2d",
   "metadata": {},
   "source": [
    "## 4. More Table Operations!\n",
    "\n",
    "Now that you've worked with arrays, let's add a few more methods to the list of table operations that you saw in Lab 2.\n",
    "\n",
    "### `column`\n",
    "\n",
    "The Table method `column` takes the column label of a table as its argument and returns the values in that column as an **array**. "
   ]
  },
  {
   "cell_type": "code",
   "execution_count": null,
   "id": "f8918a2e",
   "metadata": {
    "scrolled": true
   },
   "outputs": [],
   "source": [
    "# Returns an array of movie names\n",
    "top_10_movies.column('Name')"
   ]
  },
  {
   "cell_type": "markdown",
   "id": "47752262",
   "metadata": {},
   "source": [
    "### `take`\n",
    "The Table method `take` takes as its argument an array of numbers.  Each number should be the index of a row in the table.  It returns a **new table** with only those rows. \n",
    "\n",
    "You'll usually want to use `take` in conjunction with `np.arange` to take the first few rows of a table."
   ]
  },
  {
   "cell_type": "code",
   "execution_count": null,
   "id": "e9fa1cc8",
   "metadata": {
    "scrolled": true
   },
   "outputs": [],
   "source": [
    "# Take first 5 movies of top_10_movies\n",
    "top_10_movies.take(np.arange(0, 5, 1))"
   ]
  },
  {
   "cell_type": "markdown",
   "id": "ab220584",
   "metadata": {},
   "source": [
    "The next three questions will give you practice with combining the operations you've learned in this lab and the previous one to answer questions about the `population` and `imdb` tables. First, check out the `population` table from section 2."
   ]
  },
  {
   "cell_type": "code",
   "execution_count": null,
   "id": "e170ede7",
   "metadata": {},
   "outputs": [],
   "source": [
    "# Run this cell to display the population table.\n",
    "population"
   ]
  },
  {
   "cell_type": "markdown",
   "id": "6836965c",
   "metadata": {},
   "source": [
    "**Question 4.1.** Check out the `population` table from section 2 of this lab.  Compute the year when the world population first went above 6 billion. Assign the year to `year_population_crossed_6_billion`.\n"
   ]
  },
  {
   "cell_type": "markdown",
   "id": "05c9cbec",
   "metadata": {},
   "source": [
    "%===================================%\n",
    "\n",
    "*EDIT this cell to describe your plan in words; how will you solve this puzzle?*\n",
    "\n",
    "%===================================%"
   ]
  },
  {
   "cell_type": "code",
   "execution_count": null,
   "id": "2a4a459d",
   "metadata": {
    "tags": []
   },
   "outputs": [],
   "source": [
    "# Use Table methods and array methods to solve this puzzle\n",
    "year_population_crossed_6_billion = ...\n",
    "year_population_crossed_6_billion"
   ]
  },
  {
   "cell_type": "code",
   "execution_count": null,
   "id": "0aa24c24",
   "metadata": {},
   "outputs": [],
   "source": [
    "# Run this cell to show the imdb table\n",
    "imdb"
   ]
  },
  {
   "cell_type": "markdown",
   "id": "7c19aae0",
   "metadata": {},
   "source": [
    "**Question 4.2.** Find the average rating for movies released before the year 2000 and the average rating for movies released in the year 2000 or after (for the movies in `imdb`).\n",
    "\n",
    "*Hint*: Think of the steps you need to do (take the average, find the ratings, find movies released in 20th/21st centuries), and try to put them in an order that makes sense.\n"
   ]
  },
  {
   "cell_type": "markdown",
   "id": "db93348a",
   "metadata": {},
   "source": [
    "%===================================%\n",
    "\n",
    "EDIT this cell to describe your plan in words; how will you solve this puzzle?\n",
    "\n",
    "%===================================%"
   ]
  },
  {
   "cell_type": "code",
   "execution_count": null,
   "id": "624663ac",
   "metadata": {
    "tags": []
   },
   "outputs": [],
   "source": [
    "avg_before_2000 = ...\n",
    "avg_after_or_in_2000 = ...\n",
    "print(\"Average before 2000 rating:\", avg_before_2000)\n",
    "print(\"Average after or in 2000 rating:\", avg_after_or_in_2000)"
   ]
  },
  {
   "cell_type": "markdown",
   "id": "1d5fb787",
   "metadata": {},
   "source": [
    "**Question 4.3.** Here's a challenge: Find the number of movies that came out in *even* years.\n",
    "\n",
    "*Hint:* The operator `%` computes the remainder when dividing by a number.  So `5 % 2` is 1 and `6 % 2` is 0.  A number is even if the remainder is 0 when you divide by 2.\n",
    "\n",
    "*Hint 2:* `%` can be used on arrays, operating elementwise like `+` or `*`.  So `make_array(5, 6, 7) % 2` is `array([1, 0, 1])`.\n",
    "\n",
    "*Hint 3:* Add a new column called \"Year Remainder\" that's the remainder when each movie's release year is divided by 2. To do this, you can use `tbl.with_column(col_name, col_values)`: a table method that takes in the name of the new column and an array of values and returns a copy of the original `tbl` with the new column.  Then, use `where` to find rows where that new column is equal to 0.  Finally, use `num_rows` to count the number of such rows.\n",
    "\n",
    "*Note:* These steps can be chained in one single statement, or broken up across several lines with intermediate names assigned. You’re always welcome to break down problems however you wish!\n"
   ]
  },
  {
   "cell_type": "code",
   "execution_count": null,
   "id": "de3c7df2",
   "metadata": {
    "tags": []
   },
   "outputs": [],
   "source": [
    "num_even_year_movies = ...\n",
    "num_even_year_movies"
   ]
  },
  {
   "cell_type": "markdown",
   "id": "79bc0ebe",
   "metadata": {},
   "source": [
    "## 5. More Array Practice\n",
    "\n",
    "The following questions will be great practice for learning how to generate arrays in different ways, as well as executing different methods of array arithmetic!"
   ]
  },
  {
   "cell_type": "markdown",
   "id": "bb932b43",
   "metadata": {},
   "source": [
    "###  5.1 `np.arange` (cont.)"
   ]
  },
  {
   "cell_type": "markdown",
   "id": "6405a8b1",
   "metadata": {},
   "source": [
    "##### Temperature readings\n",
    "NOAA (the US National Oceanic and Atmospheric Administration) operates weather stations that measure surface temperatures at different sites around the United States.  The hourly readings are [publicly available](http://www.ncdc.noaa.gov/qclcd/QCLCD?prior=N).\n",
    "\n",
    "Suppose we download all the hourly data from the Oakland, California site for the month of December 2015.  To analyze the data, we want to know when each reading was taken, but we find that the data don't include the timestamps of the readings (the time at which each one was taken).\n",
    "\n",
    "However, we know the first reading was taken at the first instant of December 2015 (midnight on December 1st) and each subsequent reading was taken exactly 1 hour after the last.\n",
    "\n",
    "**Question 5.1.1.** Create an array of the *time, in seconds, since the start of the month* at which **each hourly reading** was taken.  Name it `collection_times`.\n",
    "\n",
    "*Hint 1:* There were 31 days in December, which is equivalent to ($31 \\times 24$) hours or ($31 \\times 24 \\times 60 \\times 60$) seconds.  So your array should have $31 \\times 24$ elements in it.\n",
    "\n",
    "*Hint 2:* The `len` function works on arrays, too!  If your `collection_times` isn't passing the tests, check its length and make sure it has $31 \\times 24$ elements.\n"
   ]
  },
  {
   "cell_type": "code",
   "execution_count": null,
   "id": "c2a08efb",
   "metadata": {
    "tags": []
   },
   "outputs": [],
   "source": [
    "collection_times = ...\n",
    "collection_times"
   ]
  },
  {
   "cell_type": "markdown",
   "id": "c874c129",
   "metadata": {},
   "source": [
    "### 5.2 Doing something to every element of an array (cont.)\n",
    "\n",
    "Calculate a tip on several restaurant bills at once (in this case just 3):"
   ]
  },
  {
   "cell_type": "code",
   "execution_count": null,
   "id": "d25df99c",
   "metadata": {},
   "outputs": [],
   "source": [
    "restaurant_bills = make_array(20.12, 39.90, 31.01)\n",
    "print(\"Restaurant bills:\\t\", restaurant_bills)\n",
    "\n",
    "# Array multiplication\n",
    "tips = .2 * restaurant_bills\n",
    "print(\"Tips:\\t\\t\\t\", tips)"
   ]
  },
  {
   "cell_type": "markdown",
   "id": "78de06e4",
   "metadata": {},
   "source": [
    "<img src=\"array_multiplication.jpg\">\n",
    "\n",
    "**Question 5.2.1** Suppose the total charge at a restaurant is the original bill plus the tip. If the tip is 20%, that means we can multiply the original bill by 1.2 to get the total charge.  Compute the total charge for each bill in `restaurant_bills`, and assign the resulting array to `total_charges`.\n"
   ]
  },
  {
   "cell_type": "code",
   "execution_count": null,
   "id": "3f617984",
   "metadata": {
    "tags": []
   },
   "outputs": [],
   "source": [
    "total_charges = ...\n",
    "total_charges"
   ]
  },
  {
   "cell_type": "markdown",
   "id": "6fcb936b",
   "metadata": {},
   "source": [
    "**Question 5.2.2.** The array `more_restaurant_bills` contains 100,000 bills!  Compute the total charge for each one in `more_restaurant_bills`.  How is your code different?\n"
   ]
  },
  {
   "cell_type": "code",
   "execution_count": null,
   "id": "39b3e84d",
   "metadata": {
    "tags": []
   },
   "outputs": [],
   "source": [
    "more_restaurant_bills = Table.read_table(\"more_restaurant_bills.csv\").column(\"Bill\")\n",
    "more_total_charges = ...\n",
    "more_total_charges"
   ]
  },
  {
   "cell_type": "markdown",
   "id": "bd3a7c0d",
   "metadata": {},
   "source": [
    "The function `sum` takes a single array of numbers as its argument.  It returns the sum of all the numbers in that array (so it returns a single number, not an array).\n",
    "\n",
    "**Question 5.2.3.** What was the sum of all the bills in `more_restaurant_bills`, *including tips*?\n"
   ]
  },
  {
   "cell_type": "code",
   "execution_count": null,
   "id": "3b1e5fa8",
   "metadata": {
    "tags": []
   },
   "outputs": [],
   "source": [
    "sum_of_bills = ...\n",
    "sum_of_bills"
   ]
  },
  {
   "cell_type": "markdown",
   "id": "6bd6c429",
   "metadata": {},
   "source": [
    "**Question 5.2.4.** The powers of 2 ($2^0 = 1$, $2^1 = 2$, $2^2 = 4$, etc) arise frequently in computer science.  (For example, you may have noticed that storage on smartphones or USBs come in powers of 2, like 16 GB, 32 GB, or 64 GB.)  Use `np.arange` and the exponentiation operator `**` to compute the first 30 powers of 2, starting from `2^0`.\n",
    "\n",
    "*Hint 1:* `np.arange(1, 2**30, 1)` creates an array with $2^{30}$ elements and **will crash your kernel**.\n",
    "\n",
    "*Hint 2:* Part of your solution will involve `np.arange`, but your array shouldn't have more than 30 elements.\n"
   ]
  },
  {
   "cell_type": "code",
   "execution_count": null,
   "id": "6e2c833c",
   "metadata": {
    "tags": []
   },
   "outputs": [],
   "source": [
    "powers_of_2 = ...\n",
    "powers_of_2"
   ]
  },
  {
   "cell_type": "markdown",
   "id": "0e6f7a6b",
   "metadata": {},
   "source": [
    "## Congratulations, you have finished the lab!\n",
    "\n",
    "<img src=\"data:image/jpeg;base64,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\">"
   ]
  },
  {
   "cell_type": "markdown",
   "id": "e7309b13",
   "metadata": {},
   "source": [
    "## Submission\n",
    "\n",
    "Time to submit your work:\n",
    "\n",
    "  - Select **Save and Checkpoint** from the `File` menu below the Jupyter logo to save your work.\n",
    "  - Select **Download as HTML** from the `File` menu to download an HTML version of your work.\n",
    "  - Submit your work to the lab assignment on Moodle:\n",
    "      - Upload the code file itself (file extension .ipynb) \n",
    "      - Upload the HTML version of your notebook (file extension .html)"
   ]
  }
 ],
 "metadata": {
  "kernelspec": {
   "display_name": "Python 3 (ipykernel)",
   "language": "python",
   "name": "python3"
  },
  "language_info": {
   "codemirror_mode": {
    "name": "ipython",
    "version": 3
   },
   "file_extension": ".py",
   "mimetype": "text/x-python",
   "name": "python",
   "nbconvert_exporter": "python",
   "pygments_lexer": "ipython3",
   "version": "3.11.5"
  },
  "otter": {
   "OK_FORMAT": true,
   "tests": {
    "q11": {
     "name": "q11",
     "points": null,
     "suites": [
      {
       "cases": [
        {
         "code": ">>> woman_asking\n'The woman asked:'",
         "hidden": false,
         "locked": false
        },
        {
         "code": ">>> gagarin_quote\n'\"As a matter of fact, I have!\"'",
         "hidden": false,
         "locked": false
        }
       ],
       "scored": true,
       "setup": "",
       "teardown": "",
       "type": "doctest"
      }
     ]
    },
    "q111": {
     "name": "q111",
     "points": null,
     "suites": [
      {
       "cases": [
        {
         "code": ">>> new_word\n'matchmaker'",
         "hidden": false,
         "locked": false
        }
       ],
       "scored": true,
       "setup": "",
       "teardown": "",
       "type": "doctest"
      }
     ]
    },
    "q121": {
     "name": "q121",
     "points": null,
     "suites": [
      {
       "cases": [
        {
         "code": ">>> abs(difference) == 30 or abs(difference) == 30.0\nTrue",
         "hidden": false,
         "locked": false
        }
       ],
       "scored": true,
       "setup": "",
       "teardown": "",
       "type": "doctest"
      }
     ]
    },
    "q131": {
     "name": "q131",
     "points": null,
     "suites": [
      {
       "cases": [
        {
         "code": ">>> sentence_length\n896",
         "hidden": false,
         "locked": false
        }
       ],
       "scored": true,
       "setup": "",
       "teardown": "",
       "type": "doctest"
      }
     ]
    },
    "q211": {
     "name": "q211",
     "points": null,
     "suites": [
      {
       "cases": [
        {
         "code": ">>> import numpy as np\n>>> type(interesting_numbers) == np.ndarray\nTrue",
         "hidden": false,
         "locked": false
        },
        {
         "code": ">>> len(interesting_numbers)\n4",
         "hidden": false,
         "locked": false
        },
        {
         "code": ">>> import numpy as np\n>>> all(interesting_numbers == np.array([0, 1, -1, math.pi]))\nTrue",
         "hidden": false,
         "locked": false
        }
       ],
       "scored": true,
       "setup": "",
       "teardown": "",
       "type": "doctest"
      }
     ]
    },
    "q212": {
     "name": "q212",
     "points": null,
     "suites": [
      {
       "cases": [
        {
         "code": ">>> import numpy as np\n>>> type(hello_world_components) == np.ndarray\nTrue",
         "hidden": false,
         "locked": false
        },
        {
         "code": ">>> len(hello_world_components)\n5",
         "hidden": false,
         "locked": false
        },
        {
         "code": ">>> import numpy as np\n>>> all(hello_world_components == np.array([\"Hello\", \",\", \" \", \"world\", \"!\"]))\nTrue",
         "hidden": false,
         "locked": false
        }
       ],
       "scored": true,
       "setup": "",
       "teardown": "",
       "type": "doctest"
      }
     ]
    },
    "q213": {
     "name": "q213",
     "points": null,
     "suites": [
      {
       "cases": [
        {
         "code": ">>> type(multiples_of_99) == np.ndarray\nTrue",
         "hidden": false,
         "locked": false
        },
        {
         "code": ">>> len(multiples_of_99)\n102",
         "hidden": false,
         "locked": false
        },
        {
         "code": ">>> all(multiples_of_99 == np.arange(0, 9999+99, 99))\nTrue",
         "hidden": false,
         "locked": false
        }
       ],
       "scored": true,
       "setup": "",
       "teardown": "",
       "type": "doctest"
      }
     ]
    },
    "q221": {
     "name": "q221",
     "points": null,
     "suites": [
      {
       "cases": [
        {
         "code": ">>> population_1973\n3942096442",
         "hidden": false,
         "locked": false
        }
       ],
       "scored": true,
       "setup": "",
       "teardown": "",
       "type": "doctest"
      }
     ]
    },
    "q231": {
     "name": "q231",
     "points": null,
     "suites": [
      {
       "cases": [
        {
         "code": ">>> # It looks like you're not making an array.  You shouldn't need to\n>>> # use .item anywhere in your solution.\n>>> import numpy as np\n>>> type(population_rounded) == np.ndarray\nTrue",
         "hidden": false,
         "locked": false
        },
        {
         "code": ">>> # You made an array, but it doesn't have the right numbers in it.\n>>> import numpy as np\n>>> sum(population_rounded) == 312868000000\nTrue",
         "hidden": false,
         "locked": false
        }
       ],
       "scored": true,
       "setup": "",
       "teardown": "",
       "type": "doctest"
      }
     ]
    },
    "q31": {
     "name": "q31",
     "points": null,
     "suites": [
      {
       "cases": [
        {
         "code": ">>> type(top_10_movies) == tables.Table\nTrue",
         "hidden": false,
         "locked": false
        },
        {
         "code": ">>> top_10_movies.select('Name', 'Rating')\nName                                                     | Rating\nThe Shawshank Redemption (1994)                          | 9.2\nThe Godfather (1972)                                     | 9.2\nThe Godfather: Part II (1974)                            | 9\nPulp Fiction (1994)                                      | 8.9\nSchindler's List (1993)                                  | 8.9\nThe Lord of the Rings: The Return of the King (2003)     | 8.9\n12 Angry Men (1957)                                      | 8.9\nThe Dark Knight (2008)                                   | 8.9\nIl buono, il brutto, il cattivo (1966)                   | 8.9\nThe Lord of the Rings: The Fellowship of the Ring (2001) | 8.8",
         "hidden": false,
         "locked": false
        }
       ],
       "scored": true,
       "setup": "",
       "teardown": "",
       "type": "doctest"
      }
     ]
    },
    "q32": {
     "name": "q32",
     "points": null,
     "suites": [
      {
       "cases": [
        {
         "code": ">>> type(imdb) == tables.Table\nTrue",
         "hidden": false,
         "locked": false
        },
        {
         "code": ">>> imdb.num_rows == 250\nTrue",
         "hidden": false,
         "locked": false
        },
        {
         "code": ">>> imdb.select('Votes', 'Rating', 'Title', 'Year', 'Decade').sort(0).take(range(2,5))\nVotes | Rating | Title                       | Year | Decade\n31003 | 8.1    | Le salaire de la peur       | 1953 | 1950\n32385 | 8      | La battaglia di Algeri      | 1966 | 1960\n35983 | 8.1    | The Best Years of Our Lives | 1946 | 1940",
         "hidden": false,
         "locked": false
        }
       ],
       "scored": true,
       "setup": "",
       "teardown": "",
       "type": "doctest"
      }
     ]
    },
    "q41": {
     "name": "q41",
     "points": null,
     "suites": [
      {
       "cases": [
        {
         "code": ">>> # Oops, your name is assigned to the wrong data type!\n>>> import numpy as np\n>>> type(year_population_crossed_6_billion) == int or type(year_population_crossed_6_billion) == np.int64\nTrue",
         "hidden": false,
         "locked": false
        },
        {
         "code": ">>> year_population_crossed_6_billion == 1999\nTrue",
         "hidden": false,
         "locked": false
        }
       ],
       "scored": true,
       "setup": "",
       "teardown": "",
       "type": "doctest"
      }
     ]
    },
    "q42": {
     "name": "q42",
     "points": null,
     "suites": [
      {
       "cases": [
        {
         "code": ">>> abs(before_2000 - 8.2783625730994146) < 1e-5\nTrue",
         "hidden": false,
         "locked": false
        },
        {
         "code": ">>> abs(after_or_in_2000 - 8.2379746835443033) < 1e-5\nTrue",
         "hidden": false,
         "locked": false
        }
       ],
       "scored": true,
       "setup": "",
       "teardown": "",
       "type": "doctest"
      }
     ]
    },
    "q43": {
     "name": "q43",
     "points": null,
     "suites": [
      {
       "cases": [
        {
         "code": ">>> num_even_year_movies == 127\nTrue",
         "hidden": false,
         "locked": false
        }
       ],
       "scored": true,
       "setup": "",
       "teardown": "",
       "type": "doctest"
      }
     ]
    },
    "q511": {
     "name": "q511",
     "points": null,
     "suites": [
      {
       "cases": [
        {
         "code": ">>> type(collection_times) == np.ndarray\nTrue",
         "hidden": false,
         "locked": false
        },
        {
         "code": ">>> len(collection_times)\n744",
         "hidden": false,
         "locked": false
        },
        {
         "code": ">>> collection_times.item(12) == 43200\nTrue",
         "hidden": false,
         "locked": false
        },
        {
         "code": ">>> collection_times.item(37) == 133200\nTrue",
         "hidden": false,
         "locked": false
        }
       ],
       "scored": true,
       "setup": "",
       "teardown": "",
       "type": "doctest"
      }
     ]
    },
    "q521": {
     "name": "q521",
     "points": null,
     "suites": [
      {
       "cases": [
        {
         "code": ">>> # It looks like you're not making an array.  You shouldn't need to\n>>> # use .item anywhere in your solution.\n>>> import numpy as np\n>>> type(total_charges) == np.ndarray\nTrue",
         "hidden": false,
         "locked": false
        },
        {
         "code": ">>> # You made an array, but it doesn't have the right numbers in it.\n>>> import numpy as np\n>>> sum(abs(total_charges - np.array([24.144, 47.88, 37.212]))) < 1e-6\nTrue",
         "hidden": false,
         "locked": false
        }
       ],
       "scored": true,
       "setup": "",
       "teardown": "",
       "type": "doctest"
      }
     ]
    },
    "q522": {
     "name": "q522",
     "points": null,
     "suites": [
      {
       "cases": [
        {
         "code": ">>> # It looks like you're not making an array.  You shouldn't need to\n>>> # use .item anywhere in your solution.\n>>> import numpy as np\n>>> type(more_total_charges) == np.ndarray\nTrue",
         "hidden": false,
         "locked": false
        },
        {
         "code": ">>> # You made an array, but it doesn't have the right numbers in it.\n>>> import numpy as np\n>>> sum(abs(more_total_charges - 1.2 * more_restaurant_bills)) < 1e-6\nTrue",
         "hidden": false,
         "locked": false
        }
       ],
       "scored": true,
       "setup": "",
       "teardown": "",
       "type": "doctest"
      }
     ]
    },
    "q523": {
     "name": "q523",
     "points": null,
     "suites": [
      {
       "cases": [
        {
         "code": ">>> round(sum_of_bills, 2) == 1795730.06\nTrue",
         "hidden": false,
         "locked": false
        }
       ],
       "scored": true,
       "setup": "",
       "teardown": "",
       "type": "doctest"
      }
     ]
    },
    "q524": {
     "name": "q524",
     "points": null,
     "suites": [
      {
       "cases": [
        {
         "code": ">>> all(powers_of_2 == 2 ** np.arange(30))\nTrue",
         "hidden": false,
         "locked": false
        }
       ],
       "scored": true,
       "setup": "",
       "teardown": "",
       "type": "doctest"
      }
     ]
    }
   }
  }
 },
 "nbformat": 4,
 "nbformat_minor": 5
}
